{
 "cells": [
  {
   "cell_type": "markdown",
   "id": "71ba27b5-b355-46e0-bd6c-66d20f286044",
   "metadata": {},
   "source": [
    "# Retrieving Concepts from Words in NLP\n",
    "\n",
    "Date: 2023-03-13  \n",
    "Author: Jason Beach  \n",
    "Categories: Introduction_Tutorial, Data_Science  \n",
    "Tags: nlp, word_vector, spacy\n",
    "\n",
    "<!--eofm-->"
   ]
  },
  {
   "cell_type": "markdown",
   "id": "fe43c1f9-d02e-4226-b58d-6aaf7d8410d7",
   "metadata": {},
   "source": [
    "<ABSTRACT>\n",
    "    \n",
    "* nouns,  NER\n",
    "* wordnet\n",
    "* concepts\n",
    "  - [concise_concepts](https://github.com/Pandora-Intelligence/concise-concepts)\n",
    "  - ...\n",
    "* word vectors\n",
    "  - word2vec\n",
    "  - vec2word\n",
    "  - similarity, distribution\n",
    "  - algebra\n",
    "  - ...\n",
    "    \n",
    "* training entity classifier, [ref](https://www.kaggle.com/code/curiousprogrammer/entity-extraction-and-classification-using-spacy)"
   ]
  },
  {
   "cell_type": "markdown",
   "id": "d20bffe2-53fb-45e2-9f56-79397b358c2d",
   "metadata": {},
   "source": [
    "## Configure Environment\n",
    "\n",
    "..."
   ]
  },
  {
   "cell_type": "raw",
   "id": "75347afd-169b-47c4-b8dd-9f79b89985d6",
   "metadata": {
    "tags": []
   },
   "source": [
    "! pip install nltk"
   ]
  },
  {
   "cell_type": "raw",
   "id": "102b57f2-0fcb-429f-be1c-fb8eb3e846bf",
   "metadata": {
    "tags": []
   },
   "source": [
    "! pip install spacy"
   ]
  },
  {
   "cell_type": "raw",
   "id": "561f0e1b-9c85-44e8-aa39-a66e5d9d34e6",
   "metadata": {
    "tags": []
   },
   "source": [
    "! pip install concise-concepts"
   ]
  },
  {
   "cell_type": "raw",
   "id": "a381b127-e3ef-46d9-b833-0ea78d73fac9",
   "metadata": {
    "tags": []
   },
   "source": [
    "! python -m spacy download en_core_web_md"
   ]
  },
  {
   "cell_type": "code",
   "execution_count": 81,
   "id": "b162e57f-547a-46b6-9a02-6d19d57236e5",
   "metadata": {
    "tags": []
   },
   "outputs": [],
   "source": [
    "import spacy\n",
    "nlp = spacy.load(\"en_core_web_md\")    #don't use _sm because it is not true embeddings"
   ]
  },
  {
   "cell_type": "code",
   "execution_count": 71,
   "id": "50785c63-2ae6-4ed9-8b0d-b5ee8bbb72ad",
   "metadata": {
    "tags": []
   },
   "outputs": [],
   "source": [
    "import concise_concepts"
   ]
  },
  {
   "cell_type": "code",
   "execution_count": 70,
   "id": "98a909e3-6519-47ff-82e4-07e48cff6678",
   "metadata": {
    "tags": []
   },
   "outputs": [],
   "source": [
    "from nltk.corpus import wordnet as wn"
   ]
  },
  {
   "cell_type": "code",
   "execution_count": 3,
   "id": "77ad89d4-c283-4b51-b1bb-7343f1aa0489",
   "metadata": {
    "tags": []
   },
   "outputs": [],
   "source": [
    "import re"
   ]
  },
  {
   "cell_type": "code",
   "execution_count": 14,
   "id": "6f584b07-c288-49c4-bac0-b7276d3c1836",
   "metadata": {
    "tags": []
   },
   "outputs": [],
   "source": [
    "import math, random"
   ]
  },
  {
   "cell_type": "code",
   "execution_count": 4,
   "id": "7bc609cf-e4c3-41ae-8cc6-9a07ef2a774c",
   "metadata": {
    "tags": []
   },
   "outputs": [
    {
     "data": {
      "text/plain": [
       "['austen-emma.txt', 'austen-persuasion.txt', 'austen-sense.txt']"
      ]
     },
     "execution_count": 4,
     "metadata": {},
     "output_type": "execute_result"
    }
   ],
   "source": [
    "#nltk.download('popular')\n",
    "nltk.corpus.gutenberg.fileids()[:3]"
   ]
  },
  {
   "cell_type": "code",
   "execution_count": 5,
   "id": "431862b1-9ad5-47dc-a80d-ad4f45324daf",
   "metadata": {
    "tags": []
   },
   "outputs": [],
   "source": [
    "raw = nltk.corpus.gutenberg.raw('melville-moby_dick.txt')\n",
    "spaces = raw.replace('\\n\\n',' ').replace('\\n',' ').replace('\\r',' ')"
   ]
  },
  {
   "cell_type": "code",
   "execution_count": 6,
   "id": "680997e2-6039-4365-bb23-1e2bb7760bd5",
   "metadata": {
    "tags": []
   },
   "outputs": [],
   "source": [
    "_RE_COMBINE_WHITESPACE = re.compile(r\"\\s+\")\n",
    "corpus = _RE_COMBINE_WHITESPACE.sub(\" \", spaces).strip()"
   ]
  },
  {
   "cell_type": "code",
   "execution_count": 36,
   "id": "80c6079a-27e1-4a9d-892f-c2f6a806c6f1",
   "metadata": {
    "tags": []
   },
   "outputs": [
    {
     "name": "stdout",
     "output_type": "stream",
     "text": [
      "corpus' characters: 1,211,073\n",
      "random sentence: But I said nothing, only looking round me sharply. Peleg now threw open a chest, and drawing forth the ship's articles, placed pen and ink before him, and seated himself at a little table. I began to \n"
     ]
    }
   ],
   "source": [
    "lcorp = len(corpus)\n",
    "print(f\"corpus' characters: {format(lcorp,',d')}\")\n",
    "\n",
    "rand = 178888   #random.randint(100000, 1000000)\n",
    "rand_sent = corpus[rand : rand+200]\n",
    "print(f\"random sentence: {rand_sent}\")"
   ]
  },
  {
   "cell_type": "code",
   "execution_count": null,
   "id": "fa3f02da-5cd9-4ded-881a-b173726104f9",
   "metadata": {
    "tags": []
   },
   "outputs": [],
   "source": []
  },
  {
   "cell_type": "code",
   "execution_count": null,
   "id": "f03edb6a-08ee-43b7-ab58-ce05fdd9cce7",
   "metadata": {
    "tags": []
   },
   "outputs": [],
   "source": []
  },
  {
   "cell_type": "markdown",
   "id": "821c8bd9-9ec5-49b2-8cd1-678b764a0aab",
   "metadata": {},
   "source": [
    "## Nouns and Entity Recognition\n",
    "\n",
    "..."
   ]
  },
  {
   "cell_type": "markdown",
   "id": "fb21830f-3efc-4bfc-b3ab-d24a42fb87fe",
   "metadata": {},
   "source": [
    "Spacy can recognize the following entity types.  This is more useful for getting text content than it is for understanding terms and concepts."
   ]
  },
  {
   "cell_type": "code",
   "execution_count": 8,
   "id": "ff5fcd66-cc43-4c3c-a5fc-7f49f15adedf",
   "metadata": {
    "tags": []
   },
   "outputs": [
    {
     "data": {
      "text/plain": [
       "('CARDINAL',\n",
       " 'DATE',\n",
       " 'EVENT',\n",
       " 'FAC',\n",
       " 'GPE',\n",
       " 'LANGUAGE',\n",
       " 'LAW',\n",
       " 'LOC',\n",
       " 'MONEY',\n",
       " 'NORP',\n",
       " 'ORDINAL',\n",
       " 'ORG',\n",
       " 'PERCENT',\n",
       " 'PERSON',\n",
       " 'PRODUCT',\n",
       " 'QUANTITY',\n",
       " 'TIME',\n",
       " 'WORK_OF_ART')"
      ]
     },
     "execution_count": 8,
     "metadata": {},
     "output_type": "execute_result"
    }
   ],
   "source": [
    "nlp = spacy.load(\"en_core_web_sm\")\n",
    "nlp.get_pipe(\"ner\").labels, nlp.get_pipe(\"ner\").labels_"
   ]
  },
  {
   "cell_type": "markdown",
   "id": "d194438e-be92-4306-9704-18d04fe5c50b",
   "metadata": {},
   "source": [
    "The amount of information we get from the NER classifier is kinda weak.  The POS seems more useful."
   ]
  },
  {
   "cell_type": "code",
   "execution_count": 55,
   "id": "4f3326eb-5901-453b-9fb9-34e04872b6f0",
   "metadata": {
    "tags": []
   },
   "outputs": [],
   "source": [
    "doc = nlp(rand_sent)"
   ]
  },
  {
   "cell_type": "code",
   "execution_count": 69,
   "id": "dc6706d5-a38c-4abe-add3-f301b791e7b1",
   "metadata": {
    "tags": []
   },
   "outputs": [
    {
     "data": {
      "text/html": [
       "<span class=\"tex2jax_ignore\"><div class=\"entities\" style=\"line-height: 2.5; direction: ltr\">But I said nothing, only looking round me sharply. </div></span>"
      ],
      "text/plain": [
       "<IPython.core.display.HTML object>"
      ]
     },
     "metadata": {},
     "output_type": "display_data"
    },
    {
     "name": "stdout",
     "output_type": "stream",
     "text": [
      "But I said nothing , only looking round me sharply . "
     ]
    },
    {
     "data": {
      "text/html": [
       "<span class=\"tex2jax_ignore\"><div class=\"entities\" style=\"line-height: 2.5; direction: ltr\">\n",
       "<mark class=\"entity\" style=\"background: #aa9cfc; padding: 0.45em 0.6em; margin: 0 0.25em; line-height: 1; border-radius: 0.35em;\">\n",
       "    Peleg\n",
       "    <span style=\"font-size: 0.8em; font-weight: bold; line-height: 1; border-radius: 0.35em; vertical-align: middle; margin-left: 0.5rem\">PERSON</span>\n",
       "</mark>\n",
       " now threw open a chest, and drawing forth the ship's articles, placed pen and ink before him, and seated himself at a little table. </div></span>"
      ],
      "text/plain": [
       "<IPython.core.display.HTML object>"
      ]
     },
     "metadata": {},
     "output_type": "display_data"
    },
    {
     "name": "stdout",
     "output_type": "stream",
     "text": [
      "Peleg now threw open a chest (__NOUN__) , and drawing forth the ship (__NOUN__) 's articles (__NOUN__) , placed pen (__NOUN__) and ink (__NOUN__) before him , and seated himself at a little table (__NOUN__) . "
     ]
    }
   ],
   "source": [
    "for idx,sent in enumerate(doc.sents):\n",
    "    if idx<2:\n",
    "        spacy.displacy.render(sent, style='ent', jupyter=True)\n",
    "        for term in sent:\n",
    "            if term.pos_=='NOUN':\n",
    "                print(f'{term} (__NOUN__)', end=' ')\n",
    "            else:\n",
    "                print(f'{term}', end=' ')"
   ]
  },
  {
   "cell_type": "markdown",
   "id": "a45c2a33-d5f6-45b1-9583-2d095bf7874c",
   "metadata": {},
   "source": [
    "## WordNet database\n",
    "\n",
    "WordNet is a lexical database for the English language that categorizes English words into sets of synonyms.  You can use WordNet alongside the NLTK module to find the meanings of words, synonyms, antonyms, and more.  You can find more information on the [Princeton webpage](https://wordnet.princeton.edu/), which states:\n",
    "\n",
    "> Nouns, verbs, adjectives and adverbs are grouped into sets of cognitive synonyms (synsets), each expressing a distinct concept. Synsets are interlinked by means of conceptual-semantic and lexical relations.\n",
    "\n",
    "A thesaurus also groups words by their meaning, but WordNet does two other aspects:\n",
    "\n",
    "* accounts for words that are used together by semantically separating them\n",
    "* semantically labels relationships among words"
   ]
  },
  {
   "cell_type": "markdown",
   "id": "b7700edf-81a3-4cfe-ad2e-dd64de7a848b",
   "metadata": {},
   "source": [
    "### Synonym set and concepts\n",
    "\n",
    "Every Synset contains a name, a part-of-speech (nouns, verbs, adverbs, and adjectives), and a number, such as `chest.n.02`.  Synsets are used to store synonyms, where each word in the Synset shares the same meaning.  Some words have just one Synset, while others have multiple Synsets.  Every Synset has a definition associated with it.  Synset makes it easier for users to look up words in the WordNet database."
   ]
  },
  {
   "cell_type": "markdown",
   "id": "0d7c964e-396a-48a3-9e79-dc83f7d5429f",
   "metadata": {},
   "source": [
    "The `Synset` (synonym set) class is a set of synonyms that share a common meaning.\n",
    "\n",
    "Let's find the correct type of chest from those available.  The function returns an array containing all the Synsets related to the word passed as the argument.  The `Synset` naming convention includes the name, a part of speech, and how many times the `Synset` has been defined.  It can be obtained using the `synset()` function.  It looks like `chest.n.02` and `chest_of_drawers.n.01` could be where we should be looking."
   ]
  },
  {
   "cell_type": "code",
   "execution_count": 92,
   "id": "19cadb99-3bfb-4e30-8a07-790376d12e47",
   "metadata": {
    "tags": []
   },
   "outputs": [
    {
     "data": {
      "text/plain": [
       "[Synset('thorax.n.02'),\n",
       " Synset('chest.n.02'),\n",
       " Synset('breast.n.01'),\n",
       " Synset('chest_of_drawers.n.01')]"
      ]
     },
     "execution_count": 92,
     "metadata": {},
     "output_type": "execute_result"
    }
   ],
   "source": [
    "wn.synsets('chest', pos=wn.NOUN)"
   ]
  },
  {
   "cell_type": "code",
   "execution_count": 132,
   "id": "f0f4c53e-82ee-4fae-b802-bd7d3b7ac6a0",
   "metadata": {
    "tags": []
   },
   "outputs": [
    {
     "data": {
      "text/plain": [
       "('box with a lid; used for storage; usually large and sturdy',\n",
       " 'furniture with drawers for keeping clothes')"
      ]
     },
     "execution_count": 132,
     "metadata": {},
     "output_type": "execute_result"
    }
   ],
   "source": [
    "wn.synset('chest.n.02').definition(), wn.synset('chest_of_drawers.n.01').definition()"
   ]
  },
  {
   "cell_type": "markdown",
   "id": "5ae74c9b-1431-4437-a93e-efbe86f7b4c0",
   "metadata": {},
   "source": [
    "Iterate over all the noun synsets that are available."
   ]
  },
  {
   "cell_type": "code",
   "execution_count": 115,
   "id": "88f6ffc6-1f82-4225-8a7e-e073d2a04e03",
   "metadata": {
    "tags": []
   },
   "outputs": [
    {
     "name": "stdout",
     "output_type": "stream",
     "text": [
      "Synset('entity.n.01')\n",
      "Synset('physical_entity.n.01')\n",
      "Synset('abstraction.n.06')\n",
      "Synset('thing.n.12')\n",
      "Synset('object.n.01')\n",
      "Synset('whole.n.02')\n",
      "Synset('congener.n.03')\n",
      "Synset('living_thing.n.01')\n",
      "Synset('organism.n.01')\n",
      "Synset('benthos.n.02')\n"
     ]
    }
   ],
   "source": [
    "for synset in list(wn.all_synsets('n'))[:10]:\n",
    "...     print(synset)"
   ]
  },
  {
   "cell_type": "code",
   "execution_count": 94,
   "id": "c477fc43-c11e-43f9-940d-8082e2b1cf93",
   "metadata": {
    "tags": []
   },
   "outputs": [
    {
     "data": {
      "text/plain": [
       "['chest']"
      ]
     },
     "execution_count": 94,
     "metadata": {},
     "output_type": "execute_result"
    }
   ],
   "source": [
    "[str(lemma.name()) for lemma in wn.synset('chest.n.02').lemmas()]"
   ]
  },
  {
   "cell_type": "markdown",
   "id": "a80e7f32-5221-49f7-ad73-fd221f87e712",
   "metadata": {},
   "source": [
    "### Parent-child relationships\n",
    "\n",
    "The most frequently encoded relation among synsets is the super-subordinate relation.  They hypernym is the generic parent of the more specific hyponym children, in this hierarchical data structure.    \n",
    "\n",
    "* Hypernyms exist in several shapes and sizes, but the Synset is the most popular. The terms hyponym and hypernym are opposed. A Synset’s hypernyms are returned in the form of an array of numbers.\n",
    "* A Hyponym is a type of Synset that has been modified for a specific purpose instead of a generic Synset.\n",
    "\n",
    "A synonym is a function returning an array containing all Synsets that form the hyponyms of the Synset passed as an argument to the function.\n",
    "\n",
    "All noun hierarchies ultimately go up the root node {entity}. Hyponymy relation is transitive: if an armchair is a kind of chair, and if a chair is a kind of furniture, then an armchair is a kind of furniture. "
   ]
  },
  {
   "cell_type": "code",
   "execution_count": 98,
   "id": "57498b89-362d-42fc-bbfa-2870ce1b02a4",
   "metadata": {
    "tags": []
   },
   "outputs": [
    {
     "data": {
      "text/plain": [
       "[Synset('box.n.01')]"
      ]
     },
     "execution_count": 98,
     "metadata": {},
     "output_type": "execute_result"
    }
   ],
   "source": [
    "wn.synset('chest.n.02').hypernyms() "
   ]
  },
  {
   "cell_type": "code",
   "execution_count": 99,
   "id": "3d144598-02fc-4013-936c-5031ee892e15",
   "metadata": {
    "tags": []
   },
   "outputs": [
    {
     "data": {
      "text/plain": [
       "[Synset('caisson.n.03'),\n",
       " Synset('cedar_chest.n.01'),\n",
       " Synset('coffer.n.02'),\n",
       " Synset('hope_chest.n.01'),\n",
       " Synset('pyx.n.01'),\n",
       " Synset('sea_chest.n.01'),\n",
       " Synset('tea_chest.n.01'),\n",
       " Synset('toolbox.n.01'),\n",
       " Synset('toy_box.n.01'),\n",
       " Synset('treasure_chest.n.01')]"
      ]
     },
     "execution_count": 99,
     "metadata": {},
     "output_type": "execute_result"
    }
   ],
   "source": [
    "wn.synset('chest.n.02').hyponyms()"
   ]
  },
  {
   "cell_type": "code",
   "execution_count": 100,
   "id": "85baf149-85d8-4fce-be98-bd38d777a0c8",
   "metadata": {
    "tags": []
   },
   "outputs": [
    {
     "data": {
      "text/plain": [
       "[]"
      ]
     },
     "execution_count": 100,
     "metadata": {},
     "output_type": "execute_result"
    }
   ],
   "source": [
    "wn.synset('chest.n.02').member_holonyms()"
   ]
  },
  {
   "cell_type": "code",
   "execution_count": 101,
   "id": "c8a26579-c2cd-4eb0-ba9a-9facd1dbe8cd",
   "metadata": {
    "tags": []
   },
   "outputs": [
    {
     "data": {
      "text/plain": [
       "[Synset('entity.n.01')]"
      ]
     },
     "execution_count": 101,
     "metadata": {},
     "output_type": "execute_result"
    }
   ],
   "source": [
    "wn.synset('chest.n.02').root_hypernyms()"
   ]
  },
  {
   "cell_type": "markdown",
   "id": "b1433d51-d857-425b-9e84-517d89640ad8",
   "metadata": {},
   "source": [
    "Adjectives are organized in terms of antonymy. Pairs of “direct” antonyms like wet-dry and young-old reflect the strong semantic contract of their members.  Here, it makes sense that chest does not have an opposite, but  "
   ]
  },
  {
   "cell_type": "code",
   "execution_count": 103,
   "id": "bcb02a9c-f412-4173-a30f-c74fe71a138a",
   "metadata": {
    "tags": []
   },
   "outputs": [
    {
     "data": {
      "text/plain": [
       "[]"
      ]
     },
     "execution_count": 103,
     "metadata": {},
     "output_type": "execute_result"
    }
   ],
   "source": [
    "wn.synset('chest.n.02').lemmas()[0].antonyms()"
   ]
  },
  {
   "cell_type": "code",
   "execution_count": 151,
   "id": "3125ffd9-1581-4d27-89c5-0e5f01d7b958",
   "metadata": {
    "tags": []
   },
   "outputs": [
    {
     "data": {
      "text/plain": [
       "[Lemma('rear.n.02.rear')]"
      ]
     },
     "execution_count": 151,
     "metadata": {},
     "output_type": "execute_result"
    }
   ],
   "source": [
    "wn.synsets('front', pos=wn.NOUN)[0].lemmas()[0].antonyms()"
   ]
  },
  {
   "cell_type": "markdown",
   "id": "ab2c0e31-0318-4156-bb7f-571c7bfdfd43",
   "metadata": {},
   "source": [
    "### Part-whole relationships\n",
    "\n",
    "Meronyms and Holonyms create a part-to-whole relationship.\n",
    "\n",
    "The Meronym represents the component, whereas the Holonym represents the whole. As you can see, the Meronym and Holonym both refer to the same thing, but in different ways.\n",
    "\n",
    "For example, the word ‘bedroom’ is a Meronym for home. This is because the bedroom is considered a component of the house. Likewise, the nose, eyes, and mouth are Meronyms for the face."
   ]
  },
  {
   "cell_type": "code",
   "execution_count": 138,
   "id": "2a387995-0596-4b62-9f38-3058e2e569aa",
   "metadata": {
    "tags": []
   },
   "outputs": [
    {
     "data": {
      "text/plain": [
       "[Synset('drawer.n.01'), Synset('shelf.n.01')]"
      ]
     },
     "execution_count": 138,
     "metadata": {},
     "output_type": "execute_result"
    }
   ],
   "source": [
    "wn.synset('chest_of_drawers.n.01').part_meronyms()"
   ]
  },
  {
   "cell_type": "code",
   "execution_count": 139,
   "id": "706b293c-210f-4827-985f-5963b60e9369",
   "metadata": {
    "tags": []
   },
   "outputs": [
    {
     "data": {
      "text/plain": [
       "[Synset('lid.n.02')]"
      ]
     },
     "execution_count": 139,
     "metadata": {},
     "output_type": "execute_result"
    }
   ],
   "source": [
    "wn.synset('chest.n.02').part_meronyms()"
   ]
  },
  {
   "cell_type": "code",
   "execution_count": 140,
   "id": "74f97156-8886-4069-849f-fa2570544a93",
   "metadata": {
    "tags": []
   },
   "outputs": [
    {
     "data": {
      "text/plain": [
       "[Synset('box.n.01'), Synset('chest.n.02'), Synset('jar.n.01')]"
      ]
     },
     "execution_count": 140,
     "metadata": {},
     "output_type": "execute_result"
    }
   ],
   "source": [
    "wn.synset('lid.n.02').part_holonyms()"
   ]
  },
  {
   "cell_type": "code",
   "execution_count": 141,
   "id": "5b58d4af-4d72-43b1-886d-554436cb8c22",
   "metadata": {
    "tags": []
   },
   "outputs": [
    {
     "data": {
      "text/plain": [
       "[Synset('bookcase.n.01'),\n",
       " Synset('buffet.n.01'),\n",
       " Synset('cabinet.n.01'),\n",
       " Synset('chest_of_drawers.n.01'),\n",
       " Synset('closet.n.04'),\n",
       " Synset('etagere.n.01'),\n",
       " Synset('grocery_store.n.01')]"
      ]
     },
     "execution_count": 141,
     "metadata": {},
     "output_type": "execute_result"
    }
   ],
   "source": [
    "wn.synset('shelf.n.01').part_holonyms()"
   ]
  },
  {
   "cell_type": "markdown",
   "id": "6e28af4b-7488-4411-891a-285ded40b543",
   "metadata": {},
   "source": [
    "An entailment is similar to an insinuation, a conclusion that can only be derived from something even though it is not specifically expressed."
   ]
  },
  {
   "cell_type": "code",
   "execution_count": 144,
   "id": "8b9d4c30-fab5-4c3b-9916-c7694b5490b7",
   "metadata": {
    "tags": []
   },
   "outputs": [
    {
     "data": {
      "text/plain": [
       "[Synset('chew.v.01'), Synset('swallow.v.01')]"
      ]
     },
     "execution_count": 144,
     "metadata": {},
     "output_type": "execute_result"
    }
   ],
   "source": [
    "wn.synset('eat.v.01').entailments()"
   ]
  },
  {
   "cell_type": "markdown",
   "id": "69580bb9-d70c-4d05-b174-aef9c45c12e4",
   "metadata": {},
   "source": [
    "### Lemmas and similarity\n",
    "\n",
    "Lemmas are all the words that are in a `Synset`. Using the `Lemma_names()` method, the user can get all lemmas of the specified `Synset`. This method can be used in two different ways to get an array of all the: `wn.synsets()` array and `wn.synset()` with the selected set. "
   ]
  },
  {
   "cell_type": "code",
   "execution_count": 121,
   "id": "57a33197-96d1-4708-a9bd-f735b747120b",
   "metadata": {
    "tags": []
   },
   "outputs": [
    {
     "data": {
      "text/plain": [
       "(['chest'], ['chest_of_drawers', 'chest', 'bureau', 'dresser'])"
      ]
     },
     "execution_count": 121,
     "metadata": {},
     "output_type": "execute_result"
    }
   ],
   "source": [
    "wn.synsets('chest')[1].lemma_names(), wn.synsets('chest')[3].lemma_names()"
   ]
  },
  {
   "cell_type": "code",
   "execution_count": 131,
   "id": "6e890c57-51f7-4c16-a5bf-fc1f4326efa4",
   "metadata": {
    "tags": []
   },
   "outputs": [
    {
     "data": {
      "text/plain": [
       "(['chest'], ['chest_of_drawers', 'chest', 'bureau', 'dresser'])"
      ]
     },
     "execution_count": 131,
     "metadata": {},
     "output_type": "execute_result"
    }
   ],
   "source": [
    "wn.synset('chest.n.02').lemma_names(), wn.synset('chest_of_drawers.n.01').lemma_names()"
   ]
  },
  {
   "cell_type": "markdown",
   "id": "0f4c534c-3143-409c-9607-c51de58b99d1",
   "metadata": {},
   "source": [
    "Lemmas can also have relations between them.  These three relations exist only on lemmas, not on synsets."
   ]
  },
  {
   "cell_type": "code",
   "execution_count": 104,
   "id": "172dafee-f504-4049-a498-aa0acc60eecb",
   "metadata": {
    "tags": []
   },
   "outputs": [
    {
     "data": {
      "text/plain": [
       "[Lemma('vocalize.v.02.vocalize')]"
      ]
     },
     "execution_count": 104,
     "metadata": {},
     "output_type": "execute_result"
    }
   ],
   "source": [
    "wn.lemma('vocal.a.01.vocal').derivationally_related_forms()"
   ]
  },
  {
   "cell_type": "code",
   "execution_count": 105,
   "id": "987ebc5f-e4dd-45f6-8134-a2fc4a561c95",
   "metadata": {
    "tags": []
   },
   "outputs": [
    {
     "data": {
      "text/plain": [
       "[Lemma('voice.n.02.voice')]"
      ]
     },
     "execution_count": 105,
     "metadata": {},
     "output_type": "execute_result"
    }
   ],
   "source": [
    "wn.lemma('vocal.a.01.vocal').pertainyms()"
   ]
  },
  {
   "cell_type": "code",
   "execution_count": 106,
   "id": "ebc9dda3-9995-441e-a7d2-3368fd93cf67",
   "metadata": {
    "tags": []
   },
   "outputs": [
    {
     "data": {
      "text/plain": [
       "[Lemma('instrumental.a.01.instrumental')]"
      ]
     },
     "execution_count": 106,
     "metadata": {},
     "output_type": "execute_result"
    }
   ],
   "source": [
    "wn.lemma('vocal.a.01.vocal').antonyms()"
   ]
  },
  {
   "cell_type": "markdown",
   "id": "68908702-62ab-458f-84c4-0596675d2b8b",
   "metadata": {},
   "source": [
    "Similarity is available.  The score denotes how similar two word senses are based on the shortest path that connects the senses in the is-a (hypernym/hypnoym) taxonomy. The score is in the range 0 to 1.  The score, below, does not appear to be a good similarity representation.\n",
    "\n",
    "The Leacock-Chodorow Similarity returns a score denoting how similar two word senses are, based on the shortest path that connects the senses (as above) and the maximum depth of the taxonomy in which the senses occur. The relationship is given as -log(p/2d) where p is the shortest path length and d the taxonomy depth."
   ]
  },
  {
   "cell_type": "code",
   "execution_count": 111,
   "id": "d4a8b967-e60a-4240-be48-98ba5787bba4",
   "metadata": {
    "tags": []
   },
   "outputs": [],
   "source": [
    "hit = wn.synset('hit.v.01')\n",
    "slap = wn.synset('slap.v.01')\n",
    "hug = wn.synset('hug.v.01')"
   ]
  },
  {
   "cell_type": "code",
   "execution_count": 112,
   "id": "2fc73d66-4086-41d5-b36c-7969a56710a5",
   "metadata": {
    "tags": []
   },
   "outputs": [
    {
     "data": {
      "text/plain": [
       "0.14285714285714285"
      ]
     },
     "execution_count": 112,
     "metadata": {},
     "output_type": "execute_result"
    }
   ],
   "source": [
    "hit.path_similarity(slap)"
   ]
  },
  {
   "cell_type": "code",
   "execution_count": 113,
   "id": "251c640b-28b7-44fb-975e-aaac90efd3e5",
   "metadata": {
    "tags": []
   },
   "outputs": [
    {
     "data": {
      "text/plain": [
       "0.125"
      ]
     },
     "execution_count": 113,
     "metadata": {},
     "output_type": "execute_result"
    }
   ],
   "source": [
    "hit.path_similarity(hug)"
   ]
  },
  {
   "cell_type": "code",
   "execution_count": 110,
   "id": "31648381-a828-4abe-b82c-490aa31ae5a0",
   "metadata": {
    "tags": []
   },
   "outputs": [
    {
     "data": {
      "text/plain": [
       "1.3121863889661687"
      ]
     },
     "execution_count": 110,
     "metadata": {},
     "output_type": "execute_result"
    }
   ],
   "source": [
    "hit.lch_similarity(slap)"
   ]
  },
  {
   "cell_type": "code",
   "execution_count": 114,
   "id": "28598b23-ad79-480c-844e-c03317e0a53a",
   "metadata": {
    "tags": []
   },
   "outputs": [
    {
     "data": {
      "text/plain": [
       "1.1786549963416462"
      ]
     },
     "execution_count": 114,
     "metadata": {},
     "output_type": "execute_result"
    }
   ],
   "source": [
    "hit.lch_similarity(hug)"
   ]
  },
  {
   "cell_type": "code",
   "execution_count": null,
   "id": "bb144a87-79cf-4561-97d8-de8c5b32b2ce",
   "metadata": {},
   "outputs": [],
   "source": []
  },
  {
   "cell_type": "code",
   "execution_count": null,
   "id": "78233591-7d7b-4f3d-92a5-1e902b7e4143",
   "metadata": {},
   "outputs": [],
   "source": []
  },
  {
   "cell_type": "markdown",
   "id": "04f747ff-e7d2-46e5-882b-57a83c94e9ea",
   "metadata": {
    "tags": []
   },
   "source": [
    "## Zero-shot classifier\n",
    "\n",
    "When wanting to apply NER to concise concepts, it is really easy to come up with examples, but it takes some effort to train an entire pipeline. Concise Concepts uses few-shot NER based on word embedding similarity to get you going with easy!"
   ]
  },
  {
   "cell_type": "code",
   "execution_count": 82,
   "id": "b570a5d3-1786-47be-9abf-17985e135394",
   "metadata": {
    "tags": []
   },
   "outputs": [
    {
     "data": {
      "text/plain": [
       "<concise_concepts.conceptualizer.Conceptualizer.Conceptualizer at 0x7f1d037e65c0>"
      ]
     },
     "execution_count": 82,
     "metadata": {},
     "output_type": "execute_result"
    }
   ],
   "source": [
    "data = {\n",
    "    \"furniture\": [\"locker\",\"table\",\"chair\",\"cabinet\"],\n",
    "    \"document\": [\"papers\",\"documents\",\"forms\"],\n",
    "    \"tools\": [\"pencil\",\"pen\",\"hammer\",\"nail\",\"screwdriver\"]\n",
    "}\n",
    "options = {\"colors\": {\"furniture\": \"darkorange\", \"document\": \"beige\", \"tools\": \"lightbrown\"},\n",
    "           \"ents\": [\"furniture\", \"document\", \"tools\"]}\n",
    "\n",
    "nlp.add_pipe(\"concise_concepts\", \n",
    "    config={\"data\": data}\n",
    ")"
   ]
  },
  {
   "cell_type": "code",
   "execution_count": 83,
   "id": "2fdeaed3-fb51-456e-baff-ea3c4a55883f",
   "metadata": {
    "tags": []
   },
   "outputs": [
    {
     "data": {
      "text/html": [
       "<span class=\"tex2jax_ignore\"><div class=\"entities\" style=\"line-height: 2.5; direction: ltr\">But I said nothing, only looking round me sharply. Peleg now threw open a chest, and drawing forth the ship's articles, placed \n",
       "<mark class=\"entity\" style=\"background: lightbrown; padding: 0.45em 0.6em; margin: 0 0.25em; line-height: 1; border-radius: 0.35em;\">\n",
       "    pen\n",
       "    <span style=\"font-size: 0.8em; font-weight: bold; line-height: 1; border-radius: 0.35em; vertical-align: middle; margin-left: 0.5rem\">TOOLS</span>\n",
       "</mark>\n",
       " and ink before him, and seated himself at a little \n",
       "<mark class=\"entity\" style=\"background: darkorange; padding: 0.45em 0.6em; margin: 0 0.25em; line-height: 1; border-radius: 0.35em;\">\n",
       "    table\n",
       "    <span style=\"font-size: 0.8em; font-weight: bold; line-height: 1; border-radius: 0.35em; vertical-align: middle; margin-left: 0.5rem\">FURNITURE</span>\n",
       "</mark>\n",
       ". I began to </div></span>"
      ],
      "text/plain": [
       "<IPython.core.display.HTML object>"
      ]
     },
     "metadata": {},
     "output_type": "display_data"
    }
   ],
   "source": [
    "doc = nlp(rand_sent)\n",
    "spacy.displacy.render(doc, style=\"ent\", options=options)"
   ]
  },
  {
   "cell_type": "code",
   "execution_count": null,
   "id": "6d03f98f-8c40-4540-9643-f84b685a9146",
   "metadata": {},
   "outputs": [],
   "source": [
    "ent.s"
   ]
  },
  {
   "cell_type": "code",
   "execution_count": 89,
   "id": "5300cbc1-e9c5-4d2e-b78d-b4f80c02d87e",
   "metadata": {
    "tags": []
   },
   "outputs": [
    {
     "data": {
      "text/html": [
       "<span class=\"tex2jax_ignore\"><div class=\"entities\" style=\"line-height: 2.5; direction: ltr\">But I said nothing, only looking round me sharply. \n",
       "<mark class=\"entity\" style=\"background: None; padding: 0.45em 0.6em; margin: 0 0.25em; line-height: 1; border-radius: 0.35em;\">\n",
       "    Peleg\n",
       "    <span style=\"font-size: 0.8em; font-weight: bold; line-height: 1; border-radius: 0.35em; vertical-align: middle; margin-left: 0.5rem\">PERSON</span>\n",
       "</mark>\n",
       " now threw open a chest, and drawing forth the ship's articles, placed \n",
       "<mark class=\"entity\" style=\"background: lightbrown; padding: 0.45em 0.6em; margin: 0 0.25em; line-height: 1; border-radius: 0.35em;\">\n",
       "    pen\n",
       "    <span style=\"font-size: 0.8em; font-weight: bold; line-height: 1; border-radius: 0.35em; vertical-align: middle; margin-left: 0.5rem\">TOOLS</span>\n",
       "</mark>\n",
       " and ink before him, and seated himself at a little \n",
       "<mark class=\"entity\" style=\"background: darkorange; padding: 0.45em 0.6em; margin: 0 0.25em; line-height: 1; border-radius: 0.35em;\">\n",
       "    table\n",
       "    <span style=\"font-size: 0.8em; font-weight: bold; line-height: 1; border-radius: 0.35em; vertical-align: middle; margin-left: 0.5rem\">FURNITURE</span>\n",
       "</mark>\n",
       ". I began to </div></span>"
      ],
      "text/plain": [
       "<IPython.core.display.HTML object>"
      ]
     },
     "metadata": {},
     "output_type": "display_data"
    }
   ],
   "source": [
    "ents = doc.ents\n",
    "for ent in ents:\n",
    "    new_label = f\"{ent.label_}\"# ({ent._.ent_score:.0%})\"\n",
    "    options[\"colors\"][new_label] = options[\"colors\"].get(ent.label_.lower(), None)\n",
    "    options[\"ents\"].append(new_label)\n",
    "    ent.label_ = new_label\n",
    "doc.ents = ents\n",
    "\n",
    "spacy.displacy.render(doc, style=\"ent\", options=options)"
   ]
  },
  {
   "cell_type": "code",
   "execution_count": 87,
   "id": "ad9efef8-1534-4c7a-8e74-6666419a88a4",
   "metadata": {
    "tags": []
   },
   "outputs": [
    {
     "data": {
      "text/plain": [
       "['get',\n",
       " 'has',\n",
       " 'set',\n",
       " 'spaczz_counts',\n",
       " 'spaczz_details',\n",
       " 'spaczz_ent',\n",
       " 'spaczz_ratio',\n",
       " 'spaczz_span',\n",
       " 'spaczz_type',\n",
       " 'spaczz_types']"
      ]
     },
     "execution_count": 87,
     "metadata": {},
     "output_type": "execute_result"
    }
   ],
   "source": [
    "dir(ents[0]._)"
   ]
  },
  {
   "cell_type": "markdown",
   "id": "dda3a0f6-bee5-4f19-9af6-3eb77a450085",
   "metadata": {},
   "source": [
    "## Word Vectors\n",
    "\n",
    "..."
   ]
  },
  {
   "cell_type": "code",
   "execution_count": null,
   "id": "82d18641-6f51-4cf7-b2ff-f10437d3d223",
   "metadata": {},
   "outputs": [],
   "source": []
  }
 ],
 "metadata": {
  "kernelspec": {
   "display_name": "Python 3 (ipykernel)",
   "language": "python",
   "name": "python3"
  },
  "language_info": {
   "codemirror_mode": {
    "name": "ipython",
    "version": 3
   },
   "file_extension": ".py",
   "mimetype": "text/x-python",
   "name": "python",
   "nbconvert_exporter": "python",
   "pygments_lexer": "ipython3",
   "version": "3.10.9"
  }
 },
 "nbformat": 4,
 "nbformat_minor": 5
}
