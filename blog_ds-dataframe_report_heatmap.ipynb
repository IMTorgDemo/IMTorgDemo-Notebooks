{
 "cells": [
  {
   "cell_type": "markdown",
   "id": "237a8833-be31-4c6a-b1dd-34daf66e67c4",
   "metadata": {},
   "source": [
    "# Formatting a DataFrame into a Heatmap\n",
    "\n",
    "Date: 2023-03-14  \n",
    "Author: Jason Beach  \n",
    "Categories: Introduction_Tutorial, Data_Science \n",
    "Tags: pandas, heatmap \n",
    "\n",
    "<!--eofm-->"
   ]
  },
  {
   "cell_type": "markdown",
   "id": "38712049-fb38-4a4f-92c2-8d8c78616f51",
   "metadata": {},
   "source": [
    "Reports are the primary way for analysts to have their work reach executives and other stakeholders.  Creating reports in a visually succinct, but still usable, style is important for maximizing audience reach.  An important visual tool for many analysts is the heatmap within an excel file.  This post will describe the process of formatting a dataframe into a heatmap for automated generation. "
   ]
  },
  {
   "cell_type": "markdown",
   "id": "83ee3777-e0a8-4f36-b78d-634fbfa9fe82",
   "metadata": {},
   "source": [
    "Lets start by populating our dataframe with the Titanic survival dataset.  We will only use a subset of the data so that it is more manageable."
   ]
  },
  {
   "cell_type": "markdown",
   "id": "7d179bae-e6a2-4548-b045-84fae7264ce2",
   "metadata": {},
   "source": [
    "<ABSTRACT>"
   ]
  },
  {
   "cell_type": "code",
   "execution_count": 1,
   "id": "65312746-96fd-4ce6-8109-f0112cc48994",
   "metadata": {
    "tags": []
   },
   "outputs": [],
   "source": [
    "import pandas as pd"
   ]
  },
  {
   "cell_type": "code",
   "execution_count": 2,
   "id": "d6ec76d8-ea97-4e14-8954-bce23333cd49",
   "metadata": {
    "tags": []
   },
   "outputs": [
    {
     "data": {
      "text/plain": [
       "(1309, 19)"
      ]
     },
     "execution_count": 2,
     "metadata": {},
     "output_type": "execute_result"
    }
   ],
   "source": [
    "table_url = 'https://raw.githubusercontent.com/alexisperrier/packt-aml/master/ch4/extended_titanic.csv'\n",
    "df = pd.read_csv(table_url)\n",
    "df.shape"
   ]
  },
  {
   "cell_type": "code",
   "execution_count": 3,
   "id": "be045d58-251d-4c95-b464-f5a63dcd4349",
   "metadata": {
    "tags": []
   },
   "outputs": [
    {
     "data": {
      "text/plain": [
       "(4, 5)"
      ]
     },
     "execution_count": 3,
     "metadata": {},
     "output_type": "execute_result"
    }
   ],
   "source": [
    "df = df.loc[:3, df.columns[:5]]\n",
    "df.shape"
   ]
  },
  {
   "cell_type": "code",
   "execution_count": 4,
   "id": "754ed3f5-fb1e-4c23-ab52-7831d38a77d0",
   "metadata": {
    "tags": []
   },
   "outputs": [
    {
     "data": {
      "text/html": [
       "<style type=\"text/css\">\n",
       "</style>\n",
       "<table id=\"T_1b1e0\">\n",
       "  <thead>\n",
       "    <tr>\n",
       "      <th class=\"blank level0\" >&nbsp;</th>\n",
       "      <th id=\"T_1b1e0_level0_col0\" class=\"col_heading level0 col0\" >pclass</th>\n",
       "      <th id=\"T_1b1e0_level0_col1\" class=\"col_heading level0 col1\" >survived</th>\n",
       "      <th id=\"T_1b1e0_level0_col2\" class=\"col_heading level0 col2\" >name</th>\n",
       "      <th id=\"T_1b1e0_level0_col3\" class=\"col_heading level0 col3\" >sex</th>\n",
       "      <th id=\"T_1b1e0_level0_col4\" class=\"col_heading level0 col4\" >age</th>\n",
       "    </tr>\n",
       "  </thead>\n",
       "  <tbody>\n",
       "    <tr>\n",
       "      <th id=\"T_1b1e0_level0_row0\" class=\"row_heading level0 row0\" >0</th>\n",
       "      <td id=\"T_1b1e0_row0_col0\" class=\"data row0 col0\" >3</td>\n",
       "      <td id=\"T_1b1e0_row0_col1\" class=\"data row0 col1\" >1</td>\n",
       "      <td id=\"T_1b1e0_row0_col2\" class=\"data row0 col2\" >de Mulder Mr. Theodore</td>\n",
       "      <td id=\"T_1b1e0_row0_col3\" class=\"data row0 col3\" >male</td>\n",
       "      <td id=\"T_1b1e0_row0_col4\" class=\"data row0 col4\" >30.0</td>\n",
       "    </tr>\n",
       "    <tr>\n",
       "      <th id=\"T_1b1e0_level0_row1\" class=\"row_heading level0 row1\" >1</th>\n",
       "      <td id=\"T_1b1e0_row1_col0\" class=\"data row1 col0\" >3</td>\n",
       "      <td id=\"T_1b1e0_row1_col1\" class=\"data row1 col1\" >0</td>\n",
       "      <td id=\"T_1b1e0_row1_col2\" class=\"data row1 col2\" >Edvardsson Mr. Gustaf Hjalmar</td>\n",
       "      <td id=\"T_1b1e0_row1_col3\" class=\"data row1 col3\" >male</td>\n",
       "      <td id=\"T_1b1e0_row1_col4\" class=\"data row1 col4\" >18.0</td>\n",
       "    </tr>\n",
       "    <tr>\n",
       "      <th id=\"T_1b1e0_level0_row2\" class=\"row_heading level0 row2\" >2</th>\n",
       "      <td id=\"T_1b1e0_row2_col0\" class=\"data row2 col0\" >2</td>\n",
       "      <td id=\"T_1b1e0_row2_col1\" class=\"data row2 col1\" >0</td>\n",
       "      <td id=\"T_1b1e0_row2_col2\" class=\"data row2 col2\" >Veal Mr. James</td>\n",
       "      <td id=\"T_1b1e0_row2_col3\" class=\"data row2 col3\" >male</td>\n",
       "      <td id=\"T_1b1e0_row2_col4\" class=\"data row2 col4\" >40.0</td>\n",
       "    </tr>\n",
       "    <tr>\n",
       "      <th id=\"T_1b1e0_level0_row3\" class=\"row_heading level0 row3\" >3</th>\n",
       "      <td id=\"T_1b1e0_row3_col0\" class=\"data row3 col0\" >2</td>\n",
       "      <td id=\"T_1b1e0_row3_col1\" class=\"data row3 col1\" >1</td>\n",
       "      <td id=\"T_1b1e0_row3_col2\" class=\"data row3 col2\" >Wilhelms Mr. Charles</td>\n",
       "      <td id=\"T_1b1e0_row3_col3\" class=\"data row3 col3\" >male</td>\n",
       "      <td id=\"T_1b1e0_row3_col4\" class=\"data row3 col4\" >31.0</td>\n",
       "    </tr>\n",
       "  </tbody>\n",
       "</table>\n"
      ],
      "text/plain": [
       "<pandas.io.formats.style.Styler at 0x7f6511b498d0>"
      ]
     },
     "execution_count": 4,
     "metadata": {},
     "output_type": "execute_result"
    }
   ],
   "source": [
    "df.style.format(formatter={'age':\"{:.1f}\"})"
   ]
  },
  {
   "cell_type": "markdown",
   "id": "40c7ff7d-1282-44c8-96e2-618d5e4f154e",
   "metadata": {},
   "source": [
    "We can start by simply highlighting the cell as we would with a bright yellow pen.  The most direct approach is simply applying a function to the dataframe."
   ]
  },
  {
   "cell_type": "code",
   "execution_count": 5,
   "id": "628106c8-d819-4925-a8c0-19b55891cf08",
   "metadata": {
    "tags": []
   },
   "outputs": [
    {
     "data": {
      "text/html": [
       "<style type=\"text/css\">\n",
       "#T_9284d_row0_col4, #T_9284d_row1_col4, #T_9284d_row3_col4 {\n",
       "  background-color: ;\n",
       "}\n",
       "#T_9284d_row2_col4 {\n",
       "  background-color: yellow;\n",
       "}\n",
       "</style>\n",
       "<table id=\"T_9284d\">\n",
       "  <thead>\n",
       "    <tr>\n",
       "      <th class=\"blank level0\" >&nbsp;</th>\n",
       "      <th id=\"T_9284d_level0_col0\" class=\"col_heading level0 col0\" >pclass</th>\n",
       "      <th id=\"T_9284d_level0_col1\" class=\"col_heading level0 col1\" >survived</th>\n",
       "      <th id=\"T_9284d_level0_col2\" class=\"col_heading level0 col2\" >name</th>\n",
       "      <th id=\"T_9284d_level0_col3\" class=\"col_heading level0 col3\" >sex</th>\n",
       "      <th id=\"T_9284d_level0_col4\" class=\"col_heading level0 col4\" >age</th>\n",
       "    </tr>\n",
       "  </thead>\n",
       "  <tbody>\n",
       "    <tr>\n",
       "      <th id=\"T_9284d_level0_row0\" class=\"row_heading level0 row0\" >0</th>\n",
       "      <td id=\"T_9284d_row0_col0\" class=\"data row0 col0\" >3</td>\n",
       "      <td id=\"T_9284d_row0_col1\" class=\"data row0 col1\" >1</td>\n",
       "      <td id=\"T_9284d_row0_col2\" class=\"data row0 col2\" >de Mulder Mr. Theodore</td>\n",
       "      <td id=\"T_9284d_row0_col3\" class=\"data row0 col3\" >male</td>\n",
       "      <td id=\"T_9284d_row0_col4\" class=\"data row0 col4\" >30.000000</td>\n",
       "    </tr>\n",
       "    <tr>\n",
       "      <th id=\"T_9284d_level0_row1\" class=\"row_heading level0 row1\" >1</th>\n",
       "      <td id=\"T_9284d_row1_col0\" class=\"data row1 col0\" >3</td>\n",
       "      <td id=\"T_9284d_row1_col1\" class=\"data row1 col1\" >0</td>\n",
       "      <td id=\"T_9284d_row1_col2\" class=\"data row1 col2\" >Edvardsson Mr. Gustaf Hjalmar</td>\n",
       "      <td id=\"T_9284d_row1_col3\" class=\"data row1 col3\" >male</td>\n",
       "      <td id=\"T_9284d_row1_col4\" class=\"data row1 col4\" >18.000000</td>\n",
       "    </tr>\n",
       "    <tr>\n",
       "      <th id=\"T_9284d_level0_row2\" class=\"row_heading level0 row2\" >2</th>\n",
       "      <td id=\"T_9284d_row2_col0\" class=\"data row2 col0\" >2</td>\n",
       "      <td id=\"T_9284d_row2_col1\" class=\"data row2 col1\" >0</td>\n",
       "      <td id=\"T_9284d_row2_col2\" class=\"data row2 col2\" >Veal Mr. James</td>\n",
       "      <td id=\"T_9284d_row2_col3\" class=\"data row2 col3\" >male</td>\n",
       "      <td id=\"T_9284d_row2_col4\" class=\"data row2 col4\" >40.000000</td>\n",
       "    </tr>\n",
       "    <tr>\n",
       "      <th id=\"T_9284d_level0_row3\" class=\"row_heading level0 row3\" >3</th>\n",
       "      <td id=\"T_9284d_row3_col0\" class=\"data row3 col0\" >2</td>\n",
       "      <td id=\"T_9284d_row3_col1\" class=\"data row3 col1\" >1</td>\n",
       "      <td id=\"T_9284d_row3_col2\" class=\"data row3 col2\" >Wilhelms Mr. Charles</td>\n",
       "      <td id=\"T_9284d_row3_col3\" class=\"data row3 col3\" >male</td>\n",
       "      <td id=\"T_9284d_row3_col4\" class=\"data row3 col4\" >31.000000</td>\n",
       "    </tr>\n",
       "  </tbody>\n",
       "</table>\n"
      ],
      "text/plain": [
       "<pandas.io.formats.style.Styler at 0x7f64b73c3610>"
      ]
     },
     "execution_count": 5,
     "metadata": {},
     "output_type": "execute_result"
    }
   ],
   "source": [
    "def highlight_age_cells(val):\n",
    "    color = 'yellow' if val>32 else ''\n",
    "    return 'background-color: {}'.format(color)\n",
    "\n",
    "df.style.applymap(highlight_age_cells, subset='age')"
   ]
  },
  {
   "cell_type": "markdown",
   "id": "02a9794f-6c0f-4cdf-ae9d-2e3036afd484",
   "metadata": {},
   "source": [
    "\n",
    "This can easily be expanded to the usual traffic-light colors ubiquitous in the corporate world."
   ]
  },
  {
   "cell_type": "code",
   "execution_count": 6,
   "id": "445d57ee-c9e1-4bbd-958f-45cde41b2c8c",
   "metadata": {
    "tags": []
   },
   "outputs": [
    {
     "data": {
      "text/html": [
       "<style type=\"text/css\">\n",
       "#T_62fb3_row0_col4 {\n",
       "  background-color: #FFEB51;\n",
       "  color: black;\n",
       "}\n",
       "#T_62fb3_row1_col4 {\n",
       "  background-color: #58f931;\n",
       "  color: black;\n",
       "}\n",
       "#T_62fb3_row2_col4, #T_62fb3_row3_col4 {\n",
       "  background-color: #ff2e1b;\n",
       "  color: white;\n",
       "}\n",
       "</style>\n",
       "<table id=\"T_62fb3\">\n",
       "  <thead>\n",
       "    <tr>\n",
       "      <th class=\"blank level0\" >&nbsp;</th>\n",
       "      <th id=\"T_62fb3_level0_col0\" class=\"col_heading level0 col0\" >pclass</th>\n",
       "      <th id=\"T_62fb3_level0_col1\" class=\"col_heading level0 col1\" >survived</th>\n",
       "      <th id=\"T_62fb3_level0_col2\" class=\"col_heading level0 col2\" >name</th>\n",
       "      <th id=\"T_62fb3_level0_col3\" class=\"col_heading level0 col3\" >sex</th>\n",
       "      <th id=\"T_62fb3_level0_col4\" class=\"col_heading level0 col4\" >age</th>\n",
       "    </tr>\n",
       "  </thead>\n",
       "  <tbody>\n",
       "    <tr>\n",
       "      <th id=\"T_62fb3_level0_row0\" class=\"row_heading level0 row0\" >0</th>\n",
       "      <td id=\"T_62fb3_row0_col0\" class=\"data row0 col0\" >3</td>\n",
       "      <td id=\"T_62fb3_row0_col1\" class=\"data row0 col1\" >1</td>\n",
       "      <td id=\"T_62fb3_row0_col2\" class=\"data row0 col2\" >de Mulder Mr. Theodore</td>\n",
       "      <td id=\"T_62fb3_row0_col3\" class=\"data row0 col3\" >male</td>\n",
       "      <td id=\"T_62fb3_row0_col4\" class=\"data row0 col4\" >30.000000</td>\n",
       "    </tr>\n",
       "    <tr>\n",
       "      <th id=\"T_62fb3_level0_row1\" class=\"row_heading level0 row1\" >1</th>\n",
       "      <td id=\"T_62fb3_row1_col0\" class=\"data row1 col0\" >3</td>\n",
       "      <td id=\"T_62fb3_row1_col1\" class=\"data row1 col1\" >0</td>\n",
       "      <td id=\"T_62fb3_row1_col2\" class=\"data row1 col2\" >Edvardsson Mr. Gustaf Hjalmar</td>\n",
       "      <td id=\"T_62fb3_row1_col3\" class=\"data row1 col3\" >male</td>\n",
       "      <td id=\"T_62fb3_row1_col4\" class=\"data row1 col4\" >18.000000</td>\n",
       "    </tr>\n",
       "    <tr>\n",
       "      <th id=\"T_62fb3_level0_row2\" class=\"row_heading level0 row2\" >2</th>\n",
       "      <td id=\"T_62fb3_row2_col0\" class=\"data row2 col0\" >2</td>\n",
       "      <td id=\"T_62fb3_row2_col1\" class=\"data row2 col1\" >0</td>\n",
       "      <td id=\"T_62fb3_row2_col2\" class=\"data row2 col2\" >Veal Mr. James</td>\n",
       "      <td id=\"T_62fb3_row2_col3\" class=\"data row2 col3\" >male</td>\n",
       "      <td id=\"T_62fb3_row2_col4\" class=\"data row2 col4\" >40.000000</td>\n",
       "    </tr>\n",
       "    <tr>\n",
       "      <th id=\"T_62fb3_level0_row3\" class=\"row_heading level0 row3\" >3</th>\n",
       "      <td id=\"T_62fb3_row3_col0\" class=\"data row3 col0\" >2</td>\n",
       "      <td id=\"T_62fb3_row3_col1\" class=\"data row3 col1\" >1</td>\n",
       "      <td id=\"T_62fb3_row3_col2\" class=\"data row3 col2\" >Wilhelms Mr. Charles</td>\n",
       "      <td id=\"T_62fb3_row3_col3\" class=\"data row3 col3\" >male</td>\n",
       "      <td id=\"T_62fb3_row3_col4\" class=\"data row3 col4\" >31.000000</td>\n",
       "    </tr>\n",
       "  </tbody>\n",
       "</table>\n"
      ],
      "text/plain": [
       "<pandas.io.formats.style.Styler at 0x7f64b60b6830>"
      ]
     },
     "execution_count": 6,
     "metadata": {},
     "output_type": "execute_result"
    }
   ],
   "source": [
    "def highlight_age_cells(val):\n",
    "    color = ''\n",
    "    font_color=''\n",
    "    match val:\n",
    "        case val if 0  <= val < 20: bg_color = '#58f931'; font_color='black'\n",
    "        case val if 21 <= val < 31: bg_color = '#FFEB51'; font_color='black'\n",
    "        case val if 31 <= val < 50: bg_color = '#ff2e1b'; font_color='white'\n",
    "    return f'background-color: {bg_color}; color: {font_color}'\n",
    "\n",
    "df.style.applymap(highlight_age_cells, subset='age')"
   ]
  },
  {
   "cell_type": "markdown",
   "id": "f721b808-880b-451f-bebc-b6c4b33123ad",
   "metadata": {},
   "source": [
    "This can also be applied to the entire row.  You can also imagine formatting simply for aesthetic reasons, similar to an accountant's ledger.  \n",
    "\n",
    "Commented-out is the code for exporting the styled data to excel."
   ]
  },
  {
   "cell_type": "code",
   "execution_count": 7,
   "id": "09f15049-9063-4cda-95bb-c0ab33a487f3",
   "metadata": {
    "tags": []
   },
   "outputs": [
    {
     "data": {
      "text/html": [
       "<style type=\"text/css\">\n",
       "#T_20fe7_row0_col0, #T_20fe7_row0_col1, #T_20fe7_row0_col2, #T_20fe7_row0_col3, #T_20fe7_row0_col4, #T_20fe7_row1_col0, #T_20fe7_row1_col1, #T_20fe7_row1_col2, #T_20fe7_row1_col3, #T_20fe7_row1_col4, #T_20fe7_row3_col0, #T_20fe7_row3_col1, #T_20fe7_row3_col2, #T_20fe7_row3_col3, #T_20fe7_row3_col4 {\n",
       "  background-color: ;\n",
       "}\n",
       "#T_20fe7_row2_col0, #T_20fe7_row2_col1, #T_20fe7_row2_col2, #T_20fe7_row2_col3, #T_20fe7_row2_col4 {\n",
       "  background-color: yellow;\n",
       "}\n",
       "</style>\n",
       "<table id=\"T_20fe7\">\n",
       "  <thead>\n",
       "    <tr>\n",
       "      <th class=\"blank level0\" >&nbsp;</th>\n",
       "      <th id=\"T_20fe7_level0_col0\" class=\"col_heading level0 col0\" >pclass</th>\n",
       "      <th id=\"T_20fe7_level0_col1\" class=\"col_heading level0 col1\" >survived</th>\n",
       "      <th id=\"T_20fe7_level0_col2\" class=\"col_heading level0 col2\" >name</th>\n",
       "      <th id=\"T_20fe7_level0_col3\" class=\"col_heading level0 col3\" >sex</th>\n",
       "      <th id=\"T_20fe7_level0_col4\" class=\"col_heading level0 col4\" >age</th>\n",
       "    </tr>\n",
       "  </thead>\n",
       "  <tbody>\n",
       "    <tr>\n",
       "      <th id=\"T_20fe7_level0_row0\" class=\"row_heading level0 row0\" >0</th>\n",
       "      <td id=\"T_20fe7_row0_col0\" class=\"data row0 col0\" >3</td>\n",
       "      <td id=\"T_20fe7_row0_col1\" class=\"data row0 col1\" >1</td>\n",
       "      <td id=\"T_20fe7_row0_col2\" class=\"data row0 col2\" >de Mulder Mr. Theodore</td>\n",
       "      <td id=\"T_20fe7_row0_col3\" class=\"data row0 col3\" >male</td>\n",
       "      <td id=\"T_20fe7_row0_col4\" class=\"data row0 col4\" >30.000000</td>\n",
       "    </tr>\n",
       "    <tr>\n",
       "      <th id=\"T_20fe7_level0_row1\" class=\"row_heading level0 row1\" >1</th>\n",
       "      <td id=\"T_20fe7_row1_col0\" class=\"data row1 col0\" >3</td>\n",
       "      <td id=\"T_20fe7_row1_col1\" class=\"data row1 col1\" >0</td>\n",
       "      <td id=\"T_20fe7_row1_col2\" class=\"data row1 col2\" >Edvardsson Mr. Gustaf Hjalmar</td>\n",
       "      <td id=\"T_20fe7_row1_col3\" class=\"data row1 col3\" >male</td>\n",
       "      <td id=\"T_20fe7_row1_col4\" class=\"data row1 col4\" >18.000000</td>\n",
       "    </tr>\n",
       "    <tr>\n",
       "      <th id=\"T_20fe7_level0_row2\" class=\"row_heading level0 row2\" >2</th>\n",
       "      <td id=\"T_20fe7_row2_col0\" class=\"data row2 col0\" >2</td>\n",
       "      <td id=\"T_20fe7_row2_col1\" class=\"data row2 col1\" >0</td>\n",
       "      <td id=\"T_20fe7_row2_col2\" class=\"data row2 col2\" >Veal Mr. James</td>\n",
       "      <td id=\"T_20fe7_row2_col3\" class=\"data row2 col3\" >male</td>\n",
       "      <td id=\"T_20fe7_row2_col4\" class=\"data row2 col4\" >40.000000</td>\n",
       "    </tr>\n",
       "    <tr>\n",
       "      <th id=\"T_20fe7_level0_row3\" class=\"row_heading level0 row3\" >3</th>\n",
       "      <td id=\"T_20fe7_row3_col0\" class=\"data row3 col0\" >2</td>\n",
       "      <td id=\"T_20fe7_row3_col1\" class=\"data row3 col1\" >1</td>\n",
       "      <td id=\"T_20fe7_row3_col2\" class=\"data row3 col2\" >Wilhelms Mr. Charles</td>\n",
       "      <td id=\"T_20fe7_row3_col3\" class=\"data row3 col3\" >male</td>\n",
       "      <td id=\"T_20fe7_row3_col4\" class=\"data row3 col4\" >31.000000</td>\n",
       "    </tr>\n",
       "  </tbody>\n",
       "</table>\n"
      ],
      "text/plain": [
       "<pandas.io.formats.style.Styler at 0x7f64b60b7b50>"
      ]
     },
     "execution_count": 7,
     "metadata": {},
     "output_type": "execute_result"
    }
   ],
   "source": [
    "def highlight_cells(row):\n",
    "    val=row['age']\n",
    "    color = 'yellow' if val>32 else ''\n",
    "    return ['background-color: {}'.format(color) for r in row]\n",
    "\n",
    "df.style.apply(highlight_cells, axis=1)#.to_excel('styled_df.xlsx', engine='openpyxl')"
   ]
  },
  {
   "cell_type": "markdown",
   "id": "742ff40c-48e3-472f-ad49-29b8f50f55c6",
   "metadata": {},
   "source": [
    "Use multiple routines with the same format mapping to create a more complex heatmap, as would be expected from an analyst."
   ]
  },
  {
   "cell_type": "code",
   "execution_count": 8,
   "id": "78f31345-6d3f-40a8-a53f-9c3a5ef713cc",
   "metadata": {
    "tags": []
   },
   "outputs": [],
   "source": [
    "def task_age(v):\n",
    "    bg_color = ''\n",
    "    if v>30: bg_color = 'yellow'\n",
    "    return f'background-color: {bg_color}'"
   ]
  },
  {
   "cell_type": "code",
   "execution_count": 9,
   "id": "4aaf8c1c-81b6-4a4d-9bca-2348cf04f361",
   "metadata": {
    "tags": []
   },
   "outputs": [],
   "source": [
    "def task_pclass(v):\n",
    "    bg_color = ''\n",
    "    if v>2: bg_color = 'yellow'\n",
    "    return f'background-color: {bg_color}'"
   ]
  },
  {
   "cell_type": "code",
   "execution_count": 10,
   "id": "3ff5057d-1d73-4708-899b-9249f2c5c780",
   "metadata": {
    "tags": []
   },
   "outputs": [],
   "source": [
    "def highlight_cells(row):\n",
    "    formats = []\n",
    "    for key,val in zip(row.index,row):\n",
    "        match key:\n",
    "            case 'pclass': tmp = task_pclass(val)\n",
    "            case 'age': tmp = task_age(val)\n",
    "            case _: tmp = \"background-color:''\"\n",
    "        formats.append( tmp )\n",
    "    return formats"
   ]
  },
  {
   "cell_type": "code",
   "execution_count": 11,
   "id": "cd851095-b732-4a48-9e7a-a2705f1bd18a",
   "metadata": {
    "tags": []
   },
   "outputs": [
    {
     "data": {
      "text/html": [
       "<style type=\"text/css\">\n",
       "#T_78269_row0_col0, #T_78269_row1_col0, #T_78269_row2_col4, #T_78269_row3_col4 {\n",
       "  background-color: yellow;\n",
       "}\n",
       "#T_78269_row0_col1, #T_78269_row0_col2, #T_78269_row0_col3, #T_78269_row1_col1, #T_78269_row1_col2, #T_78269_row1_col3, #T_78269_row2_col1, #T_78269_row2_col2, #T_78269_row2_col3, #T_78269_row3_col1, #T_78269_row3_col2, #T_78269_row3_col3 {\n",
       "  background-color: '';\n",
       "}\n",
       "#T_78269_row0_col4, #T_78269_row1_col4, #T_78269_row2_col0, #T_78269_row3_col0 {\n",
       "  background-color: ;\n",
       "}\n",
       "</style>\n",
       "<table id=\"T_78269\">\n",
       "  <thead>\n",
       "    <tr>\n",
       "      <th class=\"blank level0\" >&nbsp;</th>\n",
       "      <th id=\"T_78269_level0_col0\" class=\"col_heading level0 col0\" >pclass</th>\n",
       "      <th id=\"T_78269_level0_col1\" class=\"col_heading level0 col1\" >survived</th>\n",
       "      <th id=\"T_78269_level0_col2\" class=\"col_heading level0 col2\" >name</th>\n",
       "      <th id=\"T_78269_level0_col3\" class=\"col_heading level0 col3\" >sex</th>\n",
       "      <th id=\"T_78269_level0_col4\" class=\"col_heading level0 col4\" >age</th>\n",
       "    </tr>\n",
       "  </thead>\n",
       "  <tbody>\n",
       "    <tr>\n",
       "      <th id=\"T_78269_level0_row0\" class=\"row_heading level0 row0\" >0</th>\n",
       "      <td id=\"T_78269_row0_col0\" class=\"data row0 col0\" >3</td>\n",
       "      <td id=\"T_78269_row0_col1\" class=\"data row0 col1\" >1</td>\n",
       "      <td id=\"T_78269_row0_col2\" class=\"data row0 col2\" >de Mulder Mr. Theodore</td>\n",
       "      <td id=\"T_78269_row0_col3\" class=\"data row0 col3\" >male</td>\n",
       "      <td id=\"T_78269_row0_col4\" class=\"data row0 col4\" >30.000000</td>\n",
       "    </tr>\n",
       "    <tr>\n",
       "      <th id=\"T_78269_level0_row1\" class=\"row_heading level0 row1\" >1</th>\n",
       "      <td id=\"T_78269_row1_col0\" class=\"data row1 col0\" >3</td>\n",
       "      <td id=\"T_78269_row1_col1\" class=\"data row1 col1\" >0</td>\n",
       "      <td id=\"T_78269_row1_col2\" class=\"data row1 col2\" >Edvardsson Mr. Gustaf Hjalmar</td>\n",
       "      <td id=\"T_78269_row1_col3\" class=\"data row1 col3\" >male</td>\n",
       "      <td id=\"T_78269_row1_col4\" class=\"data row1 col4\" >18.000000</td>\n",
       "    </tr>\n",
       "    <tr>\n",
       "      <th id=\"T_78269_level0_row2\" class=\"row_heading level0 row2\" >2</th>\n",
       "      <td id=\"T_78269_row2_col0\" class=\"data row2 col0\" >2</td>\n",
       "      <td id=\"T_78269_row2_col1\" class=\"data row2 col1\" >0</td>\n",
       "      <td id=\"T_78269_row2_col2\" class=\"data row2 col2\" >Veal Mr. James</td>\n",
       "      <td id=\"T_78269_row2_col3\" class=\"data row2 col3\" >male</td>\n",
       "      <td id=\"T_78269_row2_col4\" class=\"data row2 col4\" >40.000000</td>\n",
       "    </tr>\n",
       "    <tr>\n",
       "      <th id=\"T_78269_level0_row3\" class=\"row_heading level0 row3\" >3</th>\n",
       "      <td id=\"T_78269_row3_col0\" class=\"data row3 col0\" >2</td>\n",
       "      <td id=\"T_78269_row3_col1\" class=\"data row3 col1\" >1</td>\n",
       "      <td id=\"T_78269_row3_col2\" class=\"data row3 col2\" >Wilhelms Mr. Charles</td>\n",
       "      <td id=\"T_78269_row3_col3\" class=\"data row3 col3\" >male</td>\n",
       "      <td id=\"T_78269_row3_col4\" class=\"data row3 col4\" >31.000000</td>\n",
       "    </tr>\n",
       "  </tbody>\n",
       "</table>\n"
      ],
      "text/plain": [
       "<pandas.io.formats.style.Styler at 0x7f64b60b79a0>"
      ]
     },
     "execution_count": 11,
     "metadata": {},
     "output_type": "execute_result"
    }
   ],
   "source": [
    "df.style.apply(highlight_cells, axis=1)#.to_excel('styled_df.xlsx', engine='openpyxl')"
   ]
  },
  {
   "cell_type": "markdown",
   "id": "f91bc817-3f66-48d2-b1ae-e624baa42267",
   "metadata": {
    "tags": []
   },
   "source": [
    "This is a really powerful technique.  However, if the data is much larger, or contains categorical / textual data, such as questionnaires, this kind of heatmap can be unwieldly.  \n",
    "\n",
    "Instead, take a look at the [nlp-heatmap](https://github.com/IMTorgOpenDataTools/nlp-heatmap) which specifically accomodates for more complex situations."
   ]
  }
 ],
 "metadata": {
  "kernelspec": {
   "display_name": "Python 3 (ipykernel)",
   "language": "python",
   "name": "python3"
  },
  "language_info": {
   "codemirror_mode": {
    "name": "ipython",
    "version": 3
   },
   "file_extension": ".py",
   "mimetype": "text/x-python",
   "name": "python",
   "nbconvert_exporter": "python",
   "pygments_lexer": "ipython3",
   "version": "3.10.9"
  }
 },
 "nbformat": 4,
 "nbformat_minor": 5
}
