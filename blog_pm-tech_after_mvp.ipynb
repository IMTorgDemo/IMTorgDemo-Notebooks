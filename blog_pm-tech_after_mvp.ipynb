{
 "cells": [
  {
   "cell_type": "markdown",
   "id": "547d5af0-fc9e-4cf4-affd-2304b5da879c",
   "metadata": {},
   "source": [
    "# What to do after an initial MVP: The 'Throw One Away' Method\n",
    "\n",
    "Date: 2021-10-01  \n",
    "Author: Jason Beach  \n",
    "Categories: Best_Practice, Architecture_and_DevOps\n",
    "Tags: project_management, create_team\n",
    "\n",
    "<!--eofm-->"
   ]
  },
  {
   "cell_type": "markdown",
   "id": "c0d7c7fa-97a4-44a5-b062-2eebf7e5de5a",
   "metadata": {},
   "source": [
    "You built it, it works, but you're far from monetization or even consistent users.  So, how do you proceed?  Below is a list of questions to ask yourself.\n",
    "\n",
    "* Did you solve the problem for which you originally targeted?\n",
    "* Is the original problem that you intended to solve still important?\n",
    "* Oftentimes, you may need to decompose the problem in greater detail: What aspects of the problem are users most concerned?\n",
    "* The greater problem depth will lend to 2-3 detailed solution methodologies: How (by what criteria) should we best solve it?\n",
    "* Solution methodologies and associated tools should be explored (for their utility and practicality) before committing to them: How do we manually perform the steps of this method?  If you can solve it manually, then it may be a good candidate for automation.\n",
    "* Tests can be created from these manual steps which will then be used to prove the automated solution works as intended: Do our result follow from the intended theory?\n",
    "* Selling your product could be difficult because stakeholder scope must be appropriate.  There should be a good Product Owner who can represent the needs of all the intended users.  The Product Owner should validate the problem is decomposed, correctly.  Executives / investors funding the product will want to see proof the solution solves the problem\n",
    "* Explain the solution with diagrams / visuals that describe the methodology(ies) in order to build confidence.  \n",
    "\n",
    "To prove the solution, the application results should match expected output for manually-derived test cases\n",
    "\n",
    "Recommendations for moving forward:\n",
    "\n",
    "* step away from the current product\n",
    "* work through the steps explained, above\n",
    "* determine if future functionality should be integrated with the current application (if so, then how)\n",
    "* create a strong plan with detailed tasks to implement\n",
    "\n",
    "Don't invest or commit too much - you may have to go through this process again!"
   ]
  }
 ],
 "metadata": {
  "kernelspec": {
   "display_name": "Python 3 (ipykernel)",
   "language": "python",
   "name": "python3"
  },
  "language_info": {
   "codemirror_mode": {
    "name": "ipython",
    "version": 3
   },
   "file_extension": ".py",
   "mimetype": "text/x-python",
   "name": "python",
   "nbconvert_exporter": "python",
   "pygments_lexer": "ipython3",
   "version": "3.9.10"
  }
 },
 "nbformat": 4,
 "nbformat_minor": 5
}
