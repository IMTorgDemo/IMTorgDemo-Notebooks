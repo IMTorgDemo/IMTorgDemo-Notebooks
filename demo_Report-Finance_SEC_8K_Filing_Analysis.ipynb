{
 "cells": [
  {
   "cell_type": "markdown",
   "id": "140c7489-532a-4a44-971a-6048f9a817b2",
   "metadata": {
    "tags": []
   },
   "source": [
    "# SEC Report 8-K Analysis of Filing Delays\n",
    "\n",
    "Date: 2022-05-17  \n",
    "Author: Jason Beach  \n",
    "Categories: Data_Science\n",
    "Tags: nlp, finance\n",
    "\n",
    "<!--eofm-->"
   ]
  },
  {
   "cell_type": "markdown",
   "id": "19a8989c-4d0a-4619-aa41-b3a408b7090e",
   "metadata": {},
   "source": [
    "This analysis will investigate when SEC filings are made with respect to differences between earnings calls and associated quarterly filings for holding companies.  Questions analyzed include:\n",
    "\n",
    "* What is the distribution between earnings and quarterly filings?\n",
    "* Does this distribution change based on firm characteristics, such as size?\n",
    "* Has this changed over time?  \n",
    "* Did events such as CECL have an effect?\n",
    "\n",
    "Through careful visual analysis we conclude that the difference (lag) between earnings and quarterly statement is consistent across time.  Some firms appear more consistent than others, also.  One particular bank characteristic is that having more assets under management usually increases the time between these two submissions.\n",
    "\n",
    "One important take-away is that more than half of the earnings will be submitted greater than 100 days before the quarterly statement."
   ]
  },
  {
   "cell_type": "markdown",
   "id": "76b5279b-f098-4ab8-9e0b-acccf0225d73",
   "metadata": {},
   "source": [
    "## Preparation"
   ]
  },
  {
   "cell_type": "markdown",
   "id": "aeb652da-32d1-4307-b953-2f2d4cde9330",
   "metadata": {
    "jp-MarkdownHeadingCollapsed": true,
    "tags": []
   },
   "source": [
    "### Prepare environment\n",
    "\n",
    "Load the appropriate modules.  Using a vm with a kernel can help in managing dependencies."
   ]
  },
  {
   "cell_type": "code",
   "execution_count": 1,
   "id": "0871469d-81a6-40aa-b20e-faeb3fc82fe3",
   "metadata": {
    "tags": []
   },
   "outputs": [],
   "source": [
    "import os\n",
    "from pathlib import Path\n",
    "import pandas as pd\n",
    "import numpy as np\n",
    "import plotnine as p9"
   ]
  },
  {
   "cell_type": "code",
   "execution_count": 2,
   "id": "14204dde-0666-45ad-a5f3-fc34f8865731",
   "metadata": {
    "tags": []
   },
   "outputs": [],
   "source": [
    "import re\n",
    "from rapidfuzz import process, fuzz"
   ]
  },
  {
   "cell_type": "code",
   "execution_count": 3,
   "id": "d12d5cb6-74aa-4e18-b2ce-803061db2f96",
   "metadata": {},
   "outputs": [],
   "source": [
    "import requests\n",
    "from bs4 import BeautifulSoup"
   ]
  },
  {
   "cell_type": "code",
   "execution_count": 4,
   "id": "2d61bc2a-7f24-4e81-aeef-b5dd4bfb4f1d",
   "metadata": {},
   "outputs": [],
   "source": [
    "%load_ext autoreload\n",
    "%autoreload 2"
   ]
  },
  {
   "cell_type": "code",
   "execution_count": 5,
   "id": "58c3004b-fe12-4420-b671-0a07e0772120",
   "metadata": {},
   "outputs": [],
   "source": [
    "root = Path('/home/jovyan/NOTEBOOK_PUBLIC')\n",
    "libs = root / 'python_modules'"
   ]
  },
  {
   "cell_type": "code",
   "execution_count": 6,
   "id": "5d0eac1d-33e6-4c10-a5bc-6cf6a1cc85dd",
   "metadata": {},
   "outputs": [],
   "source": [
    "libs_downloader = libs / 'sec-edgar-downloader'\n",
    "libs_extract = libs / 'sec-edgar-extract'\n",
    "libs_workflow = libs / 'Prj-sec_workflows'"
   ]
  },
  {
   "cell_type": "markdown",
   "id": "530d2b56-1016-4388-8ae3-20a9e1b01cea",
   "metadata": {},
   "source": [
    "<br>\n",
    "\n",
    "Changes to these files can be used, immediately - no need to reload!"
   ]
  },
  {
   "cell_type": "code",
   "execution_count": 7,
   "id": "a0cc3eb2-5f9b-459a-b1e5-4d249c7fd183",
   "metadata": {},
   "outputs": [],
   "source": [
    "os.chdir(libs_downloader)\n",
    "from sec_edgar_downloader import Downloader\n",
    "from sec_edgar_downloader import UrlComponent as uc\n",
    "from sec_edgar_downloader import FilingStorage as fs\n",
    "os.chdir(root)"
   ]
  },
  {
   "cell_type": "code",
   "execution_count": 8,
   "id": "2a233457-c3df-4b23-8464-1e363436037c",
   "metadata": {},
   "outputs": [],
   "source": [
    "os.chdir(libs_extract)\n",
    "from sec_edgar_extractor.extract import Extractor, Doc\n",
    "from sec_edgar_extractor import utils as ex_utils\n",
    "os.chdir(root)"
   ]
  },
  {
   "cell_type": "code",
   "execution_count": 9,
   "id": "91bc16ac-04fc-403b-91ec-d0fc8ad089ae",
   "metadata": {},
   "outputs": [],
   "source": [
    "os.chdir(libs_workflow )\n",
    "from sec_workflows import utils as wf_utils\n",
    "os.chdir(root)"
   ]
  },
  {
   "cell_type": "code",
   "execution_count": null,
   "id": "31b3bc6a-bf11-4044-896b-003f4353a270",
   "metadata": {},
   "outputs": [],
   "source": []
  },
  {
   "cell_type": "markdown",
   "id": "3256edc2-acb9-41e9-882c-c89efede26fc",
   "metadata": {},
   "source": [
    "### Configuration\n",
    "\n",
    "We configure the banks that are In or Out of scope, including their Ticker, CIK, and Assets under management for ease of use."
   ]
  },
  {
   "cell_type": "code",
   "execution_count": 299,
   "id": "fb372d7d-c6a8-43c6-9631-ce68026d9b58",
   "metadata": {},
   "outputs": [],
   "source": [
    "us_banks = [\n",
    "{'Name': 'US Bankcorp', 'Ticker':'USB', 'CIK':'36104', 'Scope':'In', 'Assets': 556810647},\n",
    "{'Name': 'American Express Company' , 'Ticker':'AXP', 'CIK':'4962', 'Scope':'In', 'Assets': 188548000},\n",
    "{'Name': 'Capital One Financial Corporation', 'Ticker':'COF', 'CIK':'927628', 'Scope':'In', 'Assets': 372048692},\n",
    "{'Name': 'Fifth Third Bancorp', 'Ticker':'FITB', 'CIK':'35527', 'Scope':'In', 'Assets': 206377146},\n",
    "{'Name': 'Huntington Bancshares Incorporated', 'Ticker':'HBAN', 'CIK':'49196', 'Scope':'In', 'Assets': 173438393},\n",
    "{'Name': 'Keycorp', 'Ticker':'KEY', 'CIK':'91576', 'Scope':'In', 'Assets': 184659457},\n",
    "{'Name': 'Morgan Stanley', 'Ticker':'MS', 'CIK':'895421', 'Scope':'In', 'Assets': 177797000},\n",
    "{'Name': 'JPMorgan Chase', 'Ticker':'JPM', 'CIK':'19617', 'Scope':'In', 'Assets': 3290398000},\n",
    "{'Name': 'Citigroup Inc', 'Ticker':'C', 'CIK':'831001', 'Scope':'In', 'Assets': 2291413000},\n",
    "{'Name': 'Wells Fargo', 'Ticker':'WFC', 'CIK':'72971', 'Scope':'In', 'Assets': 1786611000},\n",
    "{'Name': 'Bank of America', 'Ticker':'BAC', 'CIK':'70858', 'Scope':'In', 'Assets': 2400819000},\n",
    "{'Name': 'PNC Bank', 'Ticker':'PNC', 'CIK':'713676', 'Scope':'In', 'Assets': 462385600},\n",
    "{'Name': 'Goldman Sachs', 'Ticker':'GS', 'CIK':'886982', 'Scope':'Out', 'Assets': 1349150000},\n",
    "{'Name': 'Truist Financial Corporation', 'Ticker':'TFC', 'CIK':'92230', 'Scope':'Out', 'Assets': 528510000},\n",
    "{'Name': 'Ally Financial Inc', 'Ticker':'ALLY', 'CIK':'40729', 'Scope':'Out', 'Assets': 182200000},\n",
    "{'Name': 'Citizens Financial Group', 'Ticker':'CFG', 'CIK':'759944', 'Scope':'In', 'Assets': 187103189},\n",
    "{'Name': 'BankUnited', 'Ticker':'BKU', 'CIK':'1504008', 'Scope':'Out', 'Assets': 35183055}\n",
    "]"
   ]
  },
  {
   "cell_type": "code",
   "execution_count": 300,
   "id": "66f9cef6-b711-4deb-ad17-8685853b0426",
   "metadata": {
    "jupyter": {
     "source_hidden": true
    }
   },
   "outputs": [],
   "source": [
    "us_banks.sort(key=lambda bank: bank['Assets'], reverse=True)"
   ]
  },
  {
   "cell_type": "code",
   "execution_count": 325,
   "id": "9f8beb65-7109-490d-bcd6-70b4ff01887d",
   "metadata": {
    "jupyter": {
     "source_hidden": true
    }
   },
   "outputs": [],
   "source": [
    "#print(us_banks)"
   ]
  },
  {
   "cell_type": "code",
   "execution_count": 11,
   "id": "6634bbb7-7287-42d7-b26d-245f54806f10",
   "metadata": {
    "jupyter": {
     "source_hidden": true
    }
   },
   "outputs": [],
   "source": [
    "bank_list = [uc.Firm(ticker=bank['Ticker']) for bank in us_banks]"
   ]
  },
  {
   "cell_type": "code",
   "execution_count": 30,
   "id": "95a0df2a-0ab5-49ca-a4c7-a0ec5ba1f0e1",
   "metadata": {
    "jupyter": {
     "source_hidden": true
    },
    "tags": []
   },
   "outputs": [],
   "source": [
    "ciks = [firm.get_info('cik').__str__() for firm in bank_list]"
   ]
  },
  {
   "cell_type": "code",
   "execution_count": 13,
   "id": "2b2481d0-953d-4a6f-ae08-66be3ba2423e",
   "metadata": {},
   "outputs": [
    {
     "name": "stdout",
     "output_type": "stream",
     "text": [
      "log: updated filing storage\n",
      "log: created file for storing Filings list\n"
     ]
    }
   ],
   "source": [
    "dl = Downloader(\"/home/jovyan/NOTEBOOK_PUBLIC/large_dataset/Earnings\")"
   ]
  },
  {
   "cell_type": "code",
   "execution_count": 14,
   "id": "a9ac9b1d-7327-413e-8f70-ae69ebbbc769",
   "metadata": {},
   "outputs": [
    {
     "data": {
      "text/plain": [
       "FilingStorage with 0 filing records"
      ]
     },
     "execution_count": 14,
     "metadata": {},
     "output_type": "execute_result"
    }
   ],
   "source": [
    "dl.filing_storage"
   ]
  },
  {
   "cell_type": "markdown",
   "id": "e89ff29c-971b-4543-8aef-c3df3b1430c2",
   "metadata": {},
   "source": [
    "### Data ingest\n",
    "\n",
    "Only the Filings' metadata is needed for this analysis.  We are concerned with when the filing is submitted and the period it covers."
   ]
  },
  {
   "cell_type": "code",
   "execution_count": null,
   "id": "763039d0-d0f4-46e3-b869-5985455e7d63",
   "metadata": {
    "jupyter": {
     "source_hidden": true
    }
   },
   "outputs": [],
   "source": [
    "#get urls and download the docs\n",
    "for bank in bank_list:\n",
    "    TICKER = bank.get_info()['ticker']\n",
    "    urls_8k = dl.get_metadata(\"8-K\",\n",
    "                       TICKER, \n",
    "                       after=\"2018-01-01\"\n",
    "                      )    "
   ]
  },
  {
   "cell_type": "code",
   "execution_count": null,
   "id": "727be7d4-11da-436d-9d85-bd1d282f5bb7",
   "metadata": {
    "jupyter": {
     "source_hidden": true
    }
   },
   "outputs": [],
   "source": [
    "for bank in bank_list:\n",
    "    TICKER = bank.get_info()['ticker']\n",
    "    urls_10k = dl.get_metadata(\"10-K\",\n",
    "                       TICKER, \n",
    "                       after=\"2018-01-01\"\n",
    "                      )    "
   ]
  },
  {
   "cell_type": "code",
   "execution_count": null,
   "id": "a098bb0a-afbd-43b7-97d6-7ca05bbf2298",
   "metadata": {
    "jupyter": {
     "source_hidden": true
    },
    "tags": []
   },
   "outputs": [],
   "source": [
    "for bank in bank_list:\n",
    "    TICKER = bank.get_info()['ticker']\n",
    "    urls_10q = dl.get_metadata(\"10-Q\",\n",
    "                       TICKER, \n",
    "                       after=\"2018-01-01\"\n",
    "                      )    "
   ]
  },
  {
   "cell_type": "markdown",
   "id": "3fbcd211-b3bf-49b6-80d2-eac1732af78b",
   "metadata": {},
   "source": [
    "There are 3,648 filings for the target banks, within this five year time period.  There are almost 500k documents for these filings, but they will not be needed."
   ]
  },
  {
   "cell_type": "code",
   "execution_count": 237,
   "id": "bb95a696-4a64-49e4-a40f-12e6c8282c83",
   "metadata": {},
   "outputs": [
    {
     "data": {
      "text/plain": [
       "FilingStorage with 3648 filing records"
      ]
     },
     "execution_count": 237,
     "metadata": {},
     "output_type": "execute_result"
    }
   ],
   "source": [
    "dl.filing_storage"
   ]
  },
  {
   "cell_type": "code",
   "execution_count": 238,
   "id": "2b1739ef-cbc4-48a0-96c8-3687f0ddb5d5",
   "metadata": {},
   "outputs": [
    {
     "data": {
      "text/plain": [
       "(49958, 14)"
      ]
     },
     "execution_count": 238,
     "metadata": {},
     "output_type": "execute_result"
    }
   ],
   "source": [
    "df = dl.filing_storage.get_dataframe(mode='document')\n",
    "df.shape"
   ]
  },
  {
   "cell_type": "markdown",
   "id": "3499eea1-08df-4d51-94f8-86124998c5e0",
   "metadata": {},
   "source": [
    "### General distribution of lags\n",
    "\n",
    "8-K earnings releases are not directly associated with 10-K/-Q quarterly reports.  There may be multiple 8-Ks submitted for a quarterly period, and multiple earnings releases within those 8-Ks, also.\n",
    "\n",
    "We use the most direct method of associating earnings with a particular quarter by using the following rules:\n",
    "\n",
    "* find the quarter period for which the earnings release is submitted\n",
    "* take the earliest earnings release, if there are multiple filings\n",
    "* match this with the associated quarterly statement"
   ]
  },
  {
   "cell_type": "code",
   "execution_count": 264,
   "id": "81aee65e-4d9f-43fe-8658-ec2be97c9ad0",
   "metadata": {
    "jupyter": {
     "source_hidden": true
    },
    "tags": []
   },
   "outputs": [
    {
     "data": {
      "text/plain": [
       "(33547, 16)"
      ]
     },
     "execution_count": 264,
     "metadata": {},
     "output_type": "execute_result"
    }
   ],
   "source": [
    "tmp = dl.filing_storage.get_dataframe(mode='document')\n",
    "df = tmp[tmp['short_cik'].isin(ciks)]\n",
    "df['year'] = df['report_date'].dt.year\n",
    "df['month'] = df['report_date'].dt.month\n",
    "df.shape"
   ]
  },
  {
   "cell_type": "markdown",
   "id": "6d287a24-a200-48e2-9f23-841cc5427188",
   "metadata": {},
   "source": [
    "This is the quarterly dataframe."
   ]
  },
  {
   "cell_type": "code",
   "execution_count": 265,
   "id": "cd06f18a-a160-4e16-aa95-c8ee11e668e6",
   "metadata": {},
   "outputs": [
    {
     "data": {
      "text/plain": [
       "(305, 17)"
      ]
     },
     "execution_count": 265,
     "metadata": {},
     "output_type": "execute_result"
    }
   ],
   "source": [
    "tmp = df[(df['file_type'].isin(['10-K','10-Q']))]\n",
    "df_10q = tmp.drop_duplicates(subset=['accession_number']).reset_index()\n",
    "df_10q.shape"
   ]
  },
  {
   "cell_type": "code",
   "execution_count": 269,
   "id": "ccd96911-2e50-4da7-b4fd-4d81b717733b",
   "metadata": {
    "jupyter": {
     "source_hidden": true
    }
   },
   "outputs": [],
   "source": [
    "df_10q['qtr'] = 0\n",
    "df_10q['qtr'][df_10q['month'] <= 12] = 4\n",
    "df_10q['qtr'][df_10q['month'] < 10] = 3\n",
    "df_10q['qtr'][df_10q['month'] < 7] = 2\n",
    "df_10q['qtr'][df_10q['month'] < 4] = 1"
   ]
  },
  {
   "cell_type": "code",
   "execution_count": 270,
   "id": "7f7b5b59-8652-4cc6-8fdc-1962cb3447cf",
   "metadata": {
    "jupyter": {
     "source_hidden": true
    }
   },
   "outputs": [],
   "source": [
    "df_10q['dt_filed'] = pd.to_datetime(df_10q['file_date'])\n",
    "df_10q['yr-qtr'] = df_10q.apply(lambda row: str(row['year']) + '-' + str(row['qtr']) , axis=1)"
   ]
  },
  {
   "cell_type": "code",
   "execution_count": 267,
   "id": "fd24d016-36f7-4118-a5e5-0226d7c5b840",
   "metadata": {
    "jupyter": {
     "source_hidden": true
    },
    "tags": []
   },
   "outputs": [],
   "source": [
    "#df_10q['yr-qtr'].value_counts()\n",
    "#df_10q[['short_cik', 'yr-qtr', 'report_date', 'file_date']]"
   ]
  },
  {
   "cell_type": "markdown",
   "id": "bd060f6a-3155-471b-ac40-39e4f50508cc",
   "metadata": {},
   "source": [
    "This is the earnings dataframe."
   ]
  },
  {
   "cell_type": "code",
   "execution_count": 271,
   "id": "aef8c3ce-b2a1-474a-8f17-fe85315fceac",
   "metadata": {},
   "outputs": [
    {
     "data": {
      "text/plain": [
       "(855, 18)"
      ]
     },
     "execution_count": 271,
     "metadata": {},
     "output_type": "execute_result"
    }
   ],
   "source": [
    "tmp = df[(df['file_type'].isin(['8-K'])) & (df['Type'].isin(['EX-99.1','EX-99.2','EX-99.3'])) ]\n",
    "df_8k = tmp.drop_duplicates(subset=['accession_number']).reset_index()\n",
    "df_8k['qtr'] = df_8k['report_date'].dt.quarter\n",
    "df_8k.shape"
   ]
  },
  {
   "cell_type": "code",
   "execution_count": 272,
   "id": "49e60091-c7a8-49c0-b361-5c2996403474",
   "metadata": {
    "jupyter": {
     "source_hidden": true
    }
   },
   "outputs": [],
   "source": [
    "df_8k['dt_file_date'] = pd.to_datetime(df_8k['file_date'])\n",
    "df_8k['yr-qtr'] = df_8k.apply(lambda row: str(row['year']) + '-' + str(row['qtr']) , axis=1)"
   ]
  },
  {
   "cell_type": "code",
   "execution_count": 273,
   "id": "92bc6d95-2b3e-4987-9bab-5a61d6222851",
   "metadata": {
    "jupyter": {
     "source_hidden": true
    }
   },
   "outputs": [
    {
     "data": {
      "text/plain": [
       "Index(['index', 'Seq', 'Description', 'Document', 'Type', 'Size', 'URL',\n",
       "       'Extension', 'FS_Location', 'short_cik', 'accession_number',\n",
       "       'file_type', 'file_date', 'report_date', 'yr-month', 'year', 'month',\n",
       "       'qtr', 'dt_file_date', 'yr-qtr'],\n",
       "      dtype='object')"
      ]
     },
     "execution_count": 273,
     "metadata": {},
     "output_type": "execute_result"
    }
   ],
   "source": [
    "df_8k.columns"
   ]
  },
  {
   "cell_type": "markdown",
   "id": "40644ce5-3c06-4574-a9d2-e2758844e3b1",
   "metadata": {},
   "source": [
    "This may be the best method."
   ]
  },
  {
   "cell_type": "code",
   "execution_count": 274,
   "id": "2383cf64-628f-4bf5-b2bb-1833200c71ea",
   "metadata": {
    "tags": []
   },
   "outputs": [
    {
     "data": {
      "text/plain": [
       "306"
      ]
     },
     "execution_count": 274,
     "metadata": {},
     "output_type": "execute_result"
    }
   ],
   "source": [
    "tmp = df_8k.sort_values(by=['dt_file_date'], ascending=True).groupby(['short_cik','yr-qtr'])['dt_file_date'].first()\n",
    "df_8k = pd.DataFrame(tmp)\n",
    "df_8k.shape[0]"
   ]
  },
  {
   "cell_type": "code",
   "execution_count": 113,
   "id": "ecde851c-42c4-42a1-807d-45c293e6b5c1",
   "metadata": {
    "jupyter": {
     "source_hidden": true
    },
    "tags": []
   },
   "outputs": [],
   "source": [
    "#df_8k['qtr'].value_counts()"
   ]
  },
  {
   "cell_type": "markdown",
   "id": "7ff45640-0ff5-41b8-83aa-e282a6e57b87",
   "metadata": {},
   "source": [
    "This is a complex method for associating the earnings with the quarterly, and the above simpler approach is probably more accurate.  \n",
    "\n",
    "There is no way to distinguish what quarter the 8-Ks earnings reference, without evaluating every value in the report.  Instead, assume that 8-Ks will be submitted before a subsequent 10-Q, then associate that 10-Q's submitted quarter with the 8-K."
   ]
  },
  {
   "cell_type": "markdown",
   "id": "a45d918b-c025-4dd4-8fc6-ee08565ab363",
   "metadata": {},
   "source": [
    "def get_8k_qtr(df8k, df10q):\n",
    "    \"\"\"Get the 8-K quarter by referencing the correspoding 10-Qs.\n",
    "    \n",
    "    There is a change, below, to use the 10q report_data for filtering.\n",
    "    \"\"\"\n",
    "    #prepare\n",
    "    df8k['dt_file_date'] = pd.to_datetime(df_8k['file_date'])\n",
    "    df10q['dt_filed'] = pd.to_datetime(df10q['report_date'])\n",
    "    df8k.sort_values(by=['short_cik','dt_file_date'], inplace=True)\n",
    "    df10q.sort_values(by=['short_cik','dt_filed'], inplace=True)\n",
    "    ciks10q = df10q['short_cik'].tolist()\n",
    "    \n",
    "    #check each filing\n",
    "    results = []\n",
    "    for doc in df8k.to_dict('records'):\n",
    "        cik = doc['short_cik'] \n",
    "        fd = doc['dt_file_date']\n",
    "        if cik in ciks10q:\n",
    "            dftmp = df10q[(df10q['short_cik'] == cik) & (df10q['dt_filed'] >= fd)]\n",
    "            if dftmp.shape[0] > 0:\n",
    "                item = dftmp.iloc[0]['yr-qtr']\n",
    "                results.append( item )\n",
    "            else: results.append( None )\n",
    "        else: results.append( None )\n",
    "    df_8k['yr-qtr'] = results    \n",
    "    return df_8k\n",
    "    \n",
    "new_df_8k = get_8k_qtr(df_8k, df_10q)"
   ]
  },
  {
   "cell_type": "markdown",
   "id": "cf38eb8e-5a86-4582-883b-f76826db96d9",
   "metadata": {},
   "source": [
    "<br>\n",
    "\n",
    "Now, merge the 8-K and corresponding 10-Q for the quarter, then find the difference in filing dates."
   ]
  },
  {
   "cell_type": "code",
   "execution_count": 275,
   "id": "5a4d8311-e7d3-4352-880d-e1feeaa8d1d5",
   "metadata": {},
   "outputs": [],
   "source": [
    "df_mrg = pd.merge(df_8k, df_10q,  how='left', left_on=['short_cik','yr-qtr'], right_on = ['short_cik','yr-qtr'])\n",
    "df_mrg['diff'] = df_mrg['dt_filed'] - df_mrg['dt_file_date'] \n",
    "df_mrg['diff_days'] = df_mrg['diff'].map(lambda x: x.days)\n",
    "df_mrg2 = df_mrg[df_mrg['diff_days'].isnull()==False]"
   ]
  },
  {
   "cell_type": "code",
   "execution_count": 276,
   "id": "89ee68d5-0f23-4755-b308-5de0acd59b66",
   "metadata": {},
   "outputs": [
    {
     "data": {
      "text/html": [
       "<div>\n",
       "<style scoped>\n",
       "    .dataframe tbody tr th:only-of-type {\n",
       "        vertical-align: middle;\n",
       "    }\n",
       "\n",
       "    .dataframe tbody tr th {\n",
       "        vertical-align: top;\n",
       "    }\n",
       "\n",
       "    .dataframe thead th {\n",
       "        text-align: right;\n",
       "    }\n",
       "</style>\n",
       "<table border=\"1\" class=\"dataframe\">\n",
       "  <thead>\n",
       "    <tr style=\"text-align: right;\">\n",
       "      <th></th>\n",
       "      <th>short_cik</th>\n",
       "      <th>yr-qtr</th>\n",
       "      <th>dt_filed</th>\n",
       "      <th>dt_file_date</th>\n",
       "      <th>diff_days</th>\n",
       "    </tr>\n",
       "  </thead>\n",
       "  <tbody>\n",
       "    <tr>\n",
       "      <th>0</th>\n",
       "      <td>1504008</td>\n",
       "      <td>2018-1</td>\n",
       "      <td>2018-05-08</td>\n",
       "      <td>2018-01-23</td>\n",
       "      <td>105.0</td>\n",
       "    </tr>\n",
       "    <tr>\n",
       "      <th>1</th>\n",
       "      <td>1504008</td>\n",
       "      <td>2018-2</td>\n",
       "      <td>2018-08-07</td>\n",
       "      <td>2018-04-25</td>\n",
       "      <td>104.0</td>\n",
       "    </tr>\n",
       "    <tr>\n",
       "      <th>2</th>\n",
       "      <td>1504008</td>\n",
       "      <td>2018-3</td>\n",
       "      <td>2018-11-06</td>\n",
       "      <td>2018-07-24</td>\n",
       "      <td>105.0</td>\n",
       "    </tr>\n",
       "    <tr>\n",
       "      <th>3</th>\n",
       "      <td>1504008</td>\n",
       "      <td>2018-4</td>\n",
       "      <td>2019-02-27</td>\n",
       "      <td>2018-10-24</td>\n",
       "      <td>126.0</td>\n",
       "    </tr>\n",
       "    <tr>\n",
       "      <th>4</th>\n",
       "      <td>1504008</td>\n",
       "      <td>2019-1</td>\n",
       "      <td>2019-05-07</td>\n",
       "      <td>2019-01-23</td>\n",
       "      <td>104.0</td>\n",
       "    </tr>\n",
       "    <tr>\n",
       "      <th>...</th>\n",
       "      <td>...</td>\n",
       "      <td>...</td>\n",
       "      <td>...</td>\n",
       "      <td>...</td>\n",
       "      <td>...</td>\n",
       "    </tr>\n",
       "    <tr>\n",
       "      <th>300</th>\n",
       "      <td>927628</td>\n",
       "      <td>2021-1</td>\n",
       "      <td>2021-05-07</td>\n",
       "      <td>2021-01-26</td>\n",
       "      <td>101.0</td>\n",
       "    </tr>\n",
       "    <tr>\n",
       "      <th>301</th>\n",
       "      <td>927628</td>\n",
       "      <td>2021-2</td>\n",
       "      <td>2021-07-30</td>\n",
       "      <td>2021-04-27</td>\n",
       "      <td>94.0</td>\n",
       "    </tr>\n",
       "    <tr>\n",
       "      <th>302</th>\n",
       "      <td>927628</td>\n",
       "      <td>2021-3</td>\n",
       "      <td>2021-11-05</td>\n",
       "      <td>2021-07-22</td>\n",
       "      <td>106.0</td>\n",
       "    </tr>\n",
       "    <tr>\n",
       "      <th>303</th>\n",
       "      <td>927628</td>\n",
       "      <td>2021-4</td>\n",
       "      <td>2022-02-25</td>\n",
       "      <td>2021-10-18</td>\n",
       "      <td>130.0</td>\n",
       "    </tr>\n",
       "    <tr>\n",
       "      <th>304</th>\n",
       "      <td>927628</td>\n",
       "      <td>2022-1</td>\n",
       "      <td>2022-05-10</td>\n",
       "      <td>2022-01-25</td>\n",
       "      <td>105.0</td>\n",
       "    </tr>\n",
       "  </tbody>\n",
       "</table>\n",
       "<p>288 rows × 5 columns</p>\n",
       "</div>"
      ],
      "text/plain": [
       "    short_cik  yr-qtr   dt_filed dt_file_date  diff_days\n",
       "0     1504008  2018-1 2018-05-08   2018-01-23      105.0\n",
       "1     1504008  2018-2 2018-08-07   2018-04-25      104.0\n",
       "2     1504008  2018-3 2018-11-06   2018-07-24      105.0\n",
       "3     1504008  2018-4 2019-02-27   2018-10-24      126.0\n",
       "4     1504008  2019-1 2019-05-07   2019-01-23      104.0\n",
       "..        ...     ...        ...          ...        ...\n",
       "300    927628  2021-1 2021-05-07   2021-01-26      101.0\n",
       "301    927628  2021-2 2021-07-30   2021-04-27       94.0\n",
       "302    927628  2021-3 2021-11-05   2021-07-22      106.0\n",
       "303    927628  2021-4 2022-02-25   2021-10-18      130.0\n",
       "304    927628  2022-1 2022-05-10   2022-01-25      105.0\n",
       "\n",
       "[288 rows x 5 columns]"
      ]
     },
     "execution_count": 276,
     "metadata": {},
     "output_type": "execute_result"
    }
   ],
   "source": [
    "df_mrg2[['short_cik', 'yr-qtr', 'dt_filed', 'dt_file_date', 'diff_days']]"
   ]
  },
  {
   "cell_type": "markdown",
   "id": "ca7c3383-9967-44d4-b632-44cb1fa1138e",
   "metadata": {},
   "source": [
    "## Analysis"
   ]
  },
  {
   "cell_type": "markdown",
   "id": "a14a85b1-e729-4fdd-890f-e38d91584496",
   "metadata": {},
   "source": [
    "Remove outliers as determined by visual inspection."
   ]
  },
  {
   "cell_type": "code",
   "execution_count": 284,
   "id": "100179f8-548e-48db-aab9-a1b0f632ba66",
   "metadata": {},
   "outputs": [
    {
     "data": {
      "text/plain": [
       "287"
      ]
     },
     "execution_count": 284,
     "metadata": {},
     "output_type": "execute_result"
    }
   ],
   "source": [
    "df_mrg3 = df_mrg2[df_mrg2['diff_days']>60]\n",
    "df_mrg3.shape[0]"
   ]
  },
  {
   "cell_type": "markdown",
   "id": "242c60fa-7e9c-41e4-972e-9027b6b63860",
   "metadata": {},
   "source": [
    "Get the basic distribution between filing dates."
   ]
  },
  {
   "cell_type": "code",
   "execution_count": 278,
   "id": "6d846f4e-cd13-40f2-a162-457fe7ecd556",
   "metadata": {},
   "outputs": [],
   "source": [
    "from plotnine import *\n",
    "from plotnine.data import *\n",
    "\n",
    "from mizani.breaks import date_breaks\n",
    "from mizani.formatters import date_format\n",
    "\n",
    "%matplotlib inline"
   ]
  },
  {
   "cell_type": "code",
   "execution_count": 285,
   "id": "39078acc-f2d1-493f-92fa-8297a5b0e3cf",
   "metadata": {},
   "outputs": [
    {
     "data": {
      "image/png": "[encoded data removed]",
      "text/plain": [
       "<Figure size 800x600 with 1 Axes>"
      ]
     },
     "metadata": {},
     "output_type": "display_data"
    },
    {
     "data": {
      "text/plain": [
       "<ggplot: (8752830669653)>"
      ]
     },
     "execution_count": 285,
     "metadata": {},
     "output_type": "execute_result"
    }
   ],
   "source": [
    "(ggplot(df_mrg3, aes(x='diff_days', y=after_stat('count')))\n",
    "    + geom_histogram(bins=20)\n",
    "    + labs(y='Count', x='Difference in days', title='Distribution of Time Between \\n8-K and Subsequent 10-Q Filing', fill='File Type')\n",
    "    #+ scale_x_log10()\n",
    "    + theme(figure_size=(8, 6))\n",
    ")"
   ]
  },
  {
   "cell_type": "markdown",
   "id": "08e6eb75-0fe7-4b19-84c1-4f4cf83111cd",
   "metadata": {},
   "source": [
    "<br>\n",
    "\n",
    "Finally, interrogate the difference distribution by graphing and summary statistics."
   ]
  },
  {
   "cell_type": "code",
   "execution_count": 286,
   "id": "4d9af6f1-9074-4607-8bce-2074fcae6925",
   "metadata": {},
   "outputs": [
    {
     "name": "stdout",
     "output_type": "stream",
     "text": [
      "Mean: 112.07665505226481\n",
      "Median: 110.0\n"
     ]
    }
   ],
   "source": [
    "#basic\n",
    "diff = df_mrg3['diff_days'].to_list()\n",
    "print(f\"Mean: {np.mean(diff) }\")\n",
    "print(f\"Median: {np.median(diff) }\")"
   ]
  },
  {
   "cell_type": "markdown",
   "id": "5e2218cd-aab9-40ce-bb06-fcdbbf6db12d",
   "metadata": {},
   "source": [
    "This method uses the estimated densities to determine expected lags between associated submissions.  We calculate more than half of the earnings will be submitted greater than 100 days before the quarterly statement."
   ]
  },
  {
   "cell_type": "code",
   "execution_count": 287,
   "id": "12d9f8dd-7e05-49f4-b132-da49bcd55119",
   "metadata": {},
   "outputs": [],
   "source": [
    "import numpy as np\n",
    "import matplotlib.pyplot as plt\n",
    "import pandas as pd\n",
    "%matplotlib inline"
   ]
  },
  {
   "cell_type": "code",
   "execution_count": 340,
   "id": "23328236-be86-4e97-957d-d250cc47236e",
   "metadata": {},
   "outputs": [
    {
     "name": "stdout",
     "output_type": "stream",
     "text": [
      "About 56.1% of these 8-Ks\n",
      "will be filed more than 107.0 days before the 10-Q\n"
     ]
    }
   ],
   "source": [
    "data = diff\n",
    "count, bins_count = np.histogram(data, bins=30)\n",
    "pdf = count / sum(count)\n",
    "cdf = np.cumsum(pdf)\n",
    "print(f\"About {round((1-cdf[10])*100,2) }% of these 8-Ks\")\n",
    "print(f\"will be filed more than {bins_count[10]} days before the 10-Q\")"
   ]
  },
  {
   "cell_type": "code",
   "execution_count": 289,
   "id": "c2eb1c2e-3de1-4aac-a852-e67d9d31266b",
   "metadata": {},
   "outputs": [
    {
     "data": {
      "text/plain": [
       "[<matplotlib.lines.Line2D at 0x7f5ed54941c0>]"
      ]
     },
     "execution_count": 289,
     "metadata": {},
     "output_type": "execute_result"
    },
    {
     "data": {
      "image/png": "[encoded data removed]",
      "text/plain": [
       "<Figure size 432x288 with 1 Axes>"
      ]
     },
     "metadata": {
      "needs_background": "light"
     },
     "output_type": "display_data"
    }
   ],
   "source": [
    "plt.plot(bins_count[1:], pdf, color=\"red\", label=\"PDF\")\n",
    "plt.plot(bins_count[1:], cdf, label=\"CDF\")"
   ]
  },
  {
   "cell_type": "markdown",
   "id": "1c8d4ad0-1684-4415-8e58-3a356ea6ae69",
   "metadata": {},
   "source": [
    "### Changes in distribution over time\n",
    "\n",
    "The following graphs are an attempt to visualy distinguish changes in lags over the last five years.  The first combines data, annually, the second displays it by quarter.\n",
    "\n",
    "Of particular interest is whether the implementation of CECL, at the end of 2019, affected the lag.  This does not appear to be the case, but a closer examination using change-point analysis may provide more insight."
   ]
  },
  {
   "cell_type": "code",
   "execution_count": 291,
   "id": "0a03c48f-c0c9-4639-90f3-5a9c2dab015e",
   "metadata": {
    "jupyter": {
     "source_hidden": true
    },
    "tags": []
   },
   "outputs": [
    {
     "data": {
      "image/png": "[encoded data removed]",
      "text/plain": [
       "<Figure size 1200x400 with 5 Axes>"
      ]
     },
     "metadata": {},
     "output_type": "display_data"
    },
    {
     "data": {
      "text/plain": [
       "<ggplot: (8752830188749)>"
      ]
     },
     "execution_count": 291,
     "metadata": {},
     "output_type": "execute_result"
    }
   ],
   "source": [
    "(ggplot(df_mrg3, aes(x='diff_days', y=after_stat('count')))\n",
    "    + geom_histogram(bins=30)\n",
    "    + labs(y='Count', x='Difference in days', title='Distribution of Time Between \\n8-K and Subsequent 10-Q Filing', fill='File Type')\n",
    "    #+ scale_x_log10()\n",
    "    + theme(figure_size=(8, 6))\n",
    "    + facet_wrap('year', ncol=5)\n",
    "    + theme(figure_size=(12, 4))\n",
    ")"
   ]
  },
  {
   "cell_type": "markdown",
   "id": "0ed70f5a-bc5d-4bb8-947b-761cdaeddb44",
   "metadata": {},
   "source": [
    "This perspective groups the quarters by columns, which can provide insight to seasonal cycles."
   ]
  },
  {
   "cell_type": "code",
   "execution_count": 330,
   "id": "9877fcff-60cc-4b96-8502-e86469e85198",
   "metadata": {
    "jupyter": {
     "source_hidden": true
    },
    "tags": []
   },
   "outputs": [
    {
     "data": {
      "image/png": "[encoded data removed]",
      "text/plain": [
       "<Figure size 800x600 with 17 Axes>"
      ]
     },
     "metadata": {},
     "output_type": "display_data"
    },
    {
     "data": {
      "text/plain": [
       "<ggplot: (8752834899782)>"
      ]
     },
     "execution_count": 330,
     "metadata": {},
     "output_type": "execute_result"
    }
   ],
   "source": [
    "(ggplot(df_mrg3, aes(x='diff_days', y=after_stat('count')))\n",
    "    + geom_histogram(bins=20)\n",
    "    + labs(y='Count', x='Difference in days', title='Distribution of Time Between \\n8-K and Subsequent 10-Q Filing', fill='File Type')\n",
    "    #+ scale_x_log10()\n",
    "    + facet_wrap('yr-qtr', ncol=4)\n",
    "    + theme(figure_size=(8, 6))\n",
    ")"
   ]
  },
  {
   "cell_type": "markdown",
   "id": "784c8d80-9eb4-47c3-8565-a578be64ad0c",
   "metadata": {},
   "source": [
    "### Differences in lag by bank\n",
    "\n",
    "Looking into lags for each bank may give clues to individual performance.  The graph below indicates some banks have similar lags across time, indicated by a long bar of the count in Difference in days.  These banks include, CFG, JPM, Key, MS, and PNC.  \n",
    "\n",
    "Other banks are fairly inconsistent in submitting the quarterly, such as ALLY with submissions from 100 to 140 days difference."
   ]
  },
  {
   "cell_type": "code",
   "execution_count": 321,
   "id": "1c41b3f5-644c-49cc-b28b-c1f956bf3fe8",
   "metadata": {
    "jupyter": {
     "source_hidden": true
    }
   },
   "outputs": [],
   "source": [
    "df_banks = pd.DataFrame(us_banks)\n",
    "df_banks['CIK'] = df_banks['CIK'].astype(str)\n",
    "df_mrg4 = pd.merge(df_mrg3, df_banks, how='left', left_on='short_cik', right_on='CIK')\n",
    "df_mrg4['AssetRange'] = pd.cut(df_mrg4['Assets'], 4, labels=['medium','large-small', 'large-medium', 'large-big'])"
   ]
  },
  {
   "cell_type": "code",
   "execution_count": 334,
   "id": "2f008a5c-ef58-4a8a-a8fe-83c0a8370680",
   "metadata": {
    "jupyter": {
     "source_hidden": true
    },
    "tags": []
   },
   "outputs": [
    {
     "data": {
      "image/png": "[encoded data removed]",
      "text/plain": [
       "<Figure size 800x600 with 17 Axes>"
      ]
     },
     "metadata": {},
     "output_type": "display_data"
    },
    {
     "data": {
      "text/plain": [
       "<ggplot: (8752838475017)>"
      ]
     },
     "execution_count": 334,
     "metadata": {},
     "output_type": "execute_result"
    }
   ],
   "source": [
    "(ggplot(df_mrg4, aes(x='diff_days', y=after_stat('count')))\n",
    "    + geom_histogram(bins=20)\n",
    "    + labs(y='Count', x='Difference in days', title='Distribution of Time Between \\n8-K and Subsequent 10-Q Filing', fill='File Type')\n",
    "    #+ scale_x_log10()\n",
    "    + facet_wrap('Ticker')\n",
    "    + theme(figure_size=(8, 6))\n",
    ")"
   ]
  },
  {
   "cell_type": "markdown",
   "id": "ee4d3992-20f8-4e86-81f8-5b2ddc6339d9",
   "metadata": {},
   "source": [
    "The following distribution is color-filled by the amount of the banks' assets under management, for medium and groups of large banks.  Interestingly, increasing assets appears to increase the difference in days, seen by the shift in brighter colors to the right.  \n",
    "\n",
    "This probably makes sense as more assets may relate to increased difficulty in combining data for each quarterly statement.  A larger sampling of firms over time would lend credence to this hypothesis."
   ]
  },
  {
   "cell_type": "code",
   "execution_count": 324,
   "id": "9d4bf738-1511-4171-80c1-20f4f595df00",
   "metadata": {
    "jupyter": {
     "source_hidden": true
    },
    "tags": []
   },
   "outputs": [
    {
     "data": {
      "image/png": "[encoded data removed]",
      "text/plain": [
       "<Figure size 800x600 with 1 Axes>"
      ]
     },
     "metadata": {},
     "output_type": "display_data"
    },
    {
     "data": {
      "text/plain": [
       "<ggplot: (8752831826221)>"
      ]
     },
     "execution_count": 324,
     "metadata": {},
     "output_type": "execute_result"
    }
   ],
   "source": [
    "(ggplot(df_mrg4, aes(x='diff_days', y=after_stat('count'), fill='AssetRange'))\n",
    "    + geom_histogram(bins=20)\n",
    "    + labs(y='Count', x='Difference in days', title='Distribution of Time Between \\n8-K and Subsequent 10-Q Filing', fill='Assets Managed')\n",
    "    #+ scale_x_log10()\n",
    "    + theme(figure_size=(8, 6))\n",
    ")"
   ]
  },
  {
   "cell_type": "code",
   "execution_count": null,
   "id": "d5f533c3-de03-4eaa-880b-03e282a09c76",
   "metadata": {},
   "outputs": [],
   "source": []
  }
 ],
 "metadata": {
  "kernelspec": {
   "display_name": "py3.10",
   "language": "python",
   "name": "py3.10"
  },
  "language_info": {
   "codemirror_mode": {
    "name": "ipython",
    "version": 3
   },
   "file_extension": ".py",
   "mimetype": "text/x-python",
   "name": "python",
   "nbconvert_exporter": "python",
   "pygments_lexer": "ipython3",
   "version": "3.10.4"
  }
 },
 "nbformat": 4,
 "nbformat_minor": 5
}
