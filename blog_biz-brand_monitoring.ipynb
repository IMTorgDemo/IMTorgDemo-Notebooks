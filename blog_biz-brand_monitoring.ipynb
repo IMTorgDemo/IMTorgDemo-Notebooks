{
 "cells": [
  {
   "cell_type": "markdown",
   "id": "5c3278bd-eaa9-42c2-afd2-e3b6cb77d855",
   "metadata": {},
   "source": [
    "# Comparing Brand Monitoring Vendors with Other Operational Awareness Approaches\n",
    "\n",
    "Date: 2021-12-15  \n",
    "Author: Jason Beach  \n",
    "Categories: Introduction_Tutorial, Business_and_Leadership\n",
    "Tags: web_crawl, brand_monitoring\n",
    "\n",
    "<!--eofm-->"
   ]
  },
  {
   "cell_type": "markdown",
   "id": "b480a08c-8ccc-4292-a075-1af52f267828",
   "metadata": {},
   "source": [
    "Operational Awareness is one of the most important aspects a firm must perform.  However, most firms don't have an office directly responsible for this work.  Instead, a subset of this work, Brand Monitoring, is part of the Marketing department, which might include a more general reputation and crisis management office, if the firm is large enough.  Below, explores this field, as well as tools and approaches to improve efficacy of results.\n",
    "\n",
    "Operational Awareness (OA) encompasses many different information needs that an organization may have in different stages of its life cycle.  This may include watching the economy and state of venture capital for early-stage startups, or competitor surveillance for more mature firms.  \n",
    "\n",
    "Because of the specialized needs of each firm, there is not enough overlap for general tools to perform all the functionality needed.  However, one important aspect of this field that is associated with marketing is Brand Monitoring (BM).  There are many BM tools available.  Most are focused on providing high-level dashboards useful for determining effectiveness of marketing campaigns.  Brand recognition, image, and how these are propagated across the web are emphasized.\n",
    "\n",
    "These tools are very good at the limited scope of functionality they perform.  Their strengths lie in the overlapping needs of many customers: to discover a brand among many social media outlets.  However, this is also their weakness in that the search cannot be customized for the many different Operational Awareness needs for a company.  Typically, the dashboard provides a time series plot of occurrences over time, but not much more.\n",
    "\n",
    "On the other hand, OA tools almost always need to be custom built for their intended purpose.  They typically require some natural language processing of the text which mentions a brand.  Some examples include monitoring for certification cheating in Chinese urban populations.  Discovery of job postings for foreign web hacking agencies.  Surveillance of failed medical products or fraudulent financial schemes."
   ]
  }
 ],
 "metadata": {
  "kernelspec": {
   "display_name": "Python 3 (ipykernel)",
   "language": "python",
   "name": "python3"
  },
  "language_info": {
   "codemirror_mode": {
    "name": "ipython",
    "version": 3
   },
   "file_extension": ".py",
   "mimetype": "text/x-python",
   "name": "python",
   "nbconvert_exporter": "python",
   "pygments_lexer": "ipython3",
   "version": "3.9.10"
  }
 },
 "nbformat": 4,
 "nbformat_minor": 5
}
