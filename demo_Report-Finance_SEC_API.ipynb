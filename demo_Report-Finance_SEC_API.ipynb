{
 "cells": [
  {
   "cell_type": "markdown",
   "id": "1c467cc5-8f38-4c3b-ae37-6bbc6ca979ad",
   "metadata": {},
   "source": [
    "# Review of SEC EDGAR API Paths  \n",
    "\n",
    "Date: 2021-02-18  \n",
    "Author: Jason Beach  \n",
    "Categories: Data_Science \n",
    "Tags: nlp, spacy, finance\n",
    "\n",
    "<!--eofm-->"
   ]
  },
  {
   "cell_type": "markdown",
   "id": "39fb5b7b-bc6c-4fce-b0af-def18ab0020e",
   "metadata": {},
   "source": [
    "Company Search Page 'https://www.sec.gov/cgi-bin/browse-edgar?action=getcompany&CIK={CIK}&type=&dateb=&owner=include&count=100&search_text='\n",
    "Filing Detail Page  'https://www.sec.gov/Archives/edgar/data/{SHORT_CIK}/{SEC_ACCESSION_NO}/{SHORT_SEC_ACCESSION_NO}-{YY}-{YYMMDD}-index.htm' \n",
    "\n",
    "XLSX               'https://www.sec.gov/Archives/edgar/data/{CIK}/{ACCESSION_NUM}/Financial_Report.xlsx'   \n",
    "IXBRL              'https://<PREFIX>/<CIK>/<SEC_ACCESSION_NO>/<TICKER>-<PERIOD_END-MMDD>x<PERIOD_END-YYYY>x<FILE_TYPE>.htm'\n",
    "TXT (one file)     'https://<PREFIX>/<CIK>/<SEC_ACCESSION_NO>/<SEC_ACCESSION_NO>-<YY>-<YYMMDD>.txt'\n",
    "ZIP (xbrl, htm)    'https://<PREFIX>/<CIK>/<SEC_ACCESSION_NO>/<SEC_ACCESSION_NO>-<YY>-<YYMMDD>-xbrl.zip'\n",
    "    \n",
    "HTML Exhibits      'https://<PREFIX>/<CIK>/<SEC_ACCESSION_NO>/<NO_DISCERNABLE_PATTERN>.htm'\n",
    "XBRL Instance      'https://<PREFIX>/<CIK>/<SEC_ACCESSION_NO>/<NO_DISCERNABLE_PATTERN>_htm.xml'"
   ]
  },
  {
   "cell_type": "code",
   "execution_count": null,
   "id": "91b67c26-d3e7-493d-845f-37117c8e3cc4",
   "metadata": {},
   "outputs": [],
   "source": [
    "XLSX\n",
    "standard url:  'https://www.sec.gov/Archives/edgar/data/{CIK}/{ACCESSION_NUM}/Financial_Report.xlsx'\n",
    "\n",
    "Berkshire Hathaway: https://www.sec.gov/Archives/edgar/data/1067983/000156459021055032/Financial_Report.xlsx\n",
    "Apple 10-K: https://www.sec.gov/Archives/edgar/data/320193/000032019321000105/Financial_Report.xlsx\n",
    "        Landing page which contains \"View excel document\" link: https://www.sec.gov/cgi-bin/viewer?action=view&cik=320193&accession_number=0000320193-21-000105&xbrl_type=v\n",
    "Apple 8-K: https://www.sec.gov/Archives/edgar/data/320193/000119312521328151/Financial_Report.xlsx\n",
    "        Landing page which contains \"View excel document\" link: https://www.sec.gov/cgi-bin/viewer?action=view&cik=320193&accession_number=0001193125-21-328151&xbrl_type=v"
   ]
  },
  {
   "cell_type": "markdown",
   "id": "a853dd54-38a9-4ea5-8402-6ed48d2fa30d",
   "metadata": {},
   "source": [
    "8-K Exihibit (type)\n",
    "\n",
    "Observations\n",
    "\n",
    "* there are no notes for 'Type' but it appears that the 99.1+ Type is a news release with financial data.  Other Types appear less relevant.\n",
    "* no consistent pattern can be discerned from the url route\n",
    "* Type 99.1 it typically HTML, but can be a variety of formats, including an image embedded in HTML and PDF\n",
    "* ???\n",
    "\n",
    "Sampled routes\n",
    "\n",
    "APPL\n",
    "0000320193-22-000006    (EX-99.1)    https://www.sec.gov/Archives/edgar/data/320193/000032019322000006/a8-kex991q1202212252021.htm\n",
    "0001193125-19-292676    (EX-99.1)    https://www.sec.gov/Archives/edgar/data/320193/000119312519292676/d828969dex11.htm \n",
    "0000320193-19-000073    (EX-99.1)    https://www.sec.gov/Archives/edgar/data/320193/000032019319000073/a8-kexhibit991q320196292019.htm\n",
    "0000320193-18-000067    (EX-99.2)    https://www.sec.gov/Archives/edgar/data/320193/000032019318000067/a8-kexhibit992q220183312018.htm \n",
    "0001628280-17-000663    (EX-99.1)    https://www.sec.gov/Archives/edgar/data/320193/000162828017000663/a8-kexhibit991q12017123120.htm\n",
    "0001193125-15-039270    (EX-99.1)    https://www.sec.gov/Archives/edgar/data/320193/000119312515039270/d868302dex121.htm    \n",
    "0001193125-15-023732    (EX-23.1)    https://www.sec.gov/Archives/edgar/data/320193/000119312515023732/d835617dex231.htm\n",
    "0001193125-15-023732    (EX-99.1)    https://www.sec.gov/Archives/edgar/data/320193/000119312515023732/d835617dex991.htm\n",
    "0001193125-12-312355    (EX-99.1)    https://www.sec.gov/Archives/edgar/data/320193/000119312512312355/d383855dex991.htm\n",
    "\n",
    "WFC\n",
    "0001193125-21-021930    (EX-99)      https://www.sec.gov/Archives/edgar/data/72971/000119312521021930/d137272dex99.htm  \n",
    "0001193125-22-016577    (EX-99.1)    https://www.sec.gov/Archives/edgar/data/72971/000119312522016577/d293492dex991.htm\n",
    "0001387131-20-010368    (EX-4.1)     https://www.sec.gov/Archives/edgar/data/72971/000138713120010368/ex4-1.htm    \n",
    "0001387131-19-005865    (EX-5.1)     https://www.sec.gov/Archives/edgar/data/72971/000138713119005865/ex5-1.htm\n",
    "0000072971-18-000406    (EX-99.1)    https://www.sec.gov/Archives/edgar/data/72971/000007297118000406/ex991pressrelease.htm    (image)\n",
    "0000072971-17-000428    (EX-99.1)    https://www.sec.gov/Archives/edgar/data/72971/000007297117000428/wfcexhibit99108312017.htm     (image)\n",
    "0000072971-17-000377    (EX-99.1)    https://www.sec.gov/Archives/edgar/data/72971/000007297117000377/wfc2qer7-14x2017exx991.htm\n",
    "0000072971-17-000377    (EX-99.2)    https://www.sec.gov/Archives/edgar/data/72971/000007297117000377/wellsfargo2q17quarterlys.htm    (image)\n",
    "0001193125-16-482046    (EX-99.1)    https://www.sec.gov/Archives/edgar/data/72971/000119312516482046/d149067dex991.htm\n",
    "0001193125-16-482046    (EX-99.2)    https://www.sec.gov/Archives/edgar/data/72971/000119312516482046/d149067dex9911.pdf   (pdf)\n",
    "0001193125-14-139539    (EX-99.1)    https://www.sec.gov/Archives/edgar/data/72971/000119312514139539/d709398dex991.htm\n",
    "0000950123-09-051763    (EX-99.1)    https://www.sec.gov/Archives/edgar/data/72971/000095012309051763/f53807exv99w1.htm"
   ]
  },
  {
   "cell_type": "markdown",
   "id": "0ccc8859-0e95-4126-93d6-a81d4311f390",
   "metadata": {},
   "source": [
    "8-K Instance XBRL\n",
    "\n",
    "WFC\n",
    "0000072971-20-000230    (XML)    https://www.sec.gov/Archives/edgar/data/72971/000007297120000230/wfc1qer04-14x20form8xk_htm.xml\n",
    "0001387131-20-003968    (XML)    https://www.sec.gov/Archives/edgar/data/72971/000138713120003968/wfc-8k_041720_htm.xml\n",
    "0001387131-20-003874    (XML)    https://www.sec.gov/Archives/edgar/data/72971/000138713120003874/wfc-8k_041420_htm.xml\n",
    "\n",
    "0001193125-22-016577    (XML)    https://www.sec.gov/Archives/edgar/data/72971/000119312522016577/d293492d8k_htm.xml\n",
    "0001193125-21-021930    (XML)    https://www.sec.gov/Archives/edgar/data/72971/000119312521021930/d137272d8k_htm.xml\n",
    "0001387131-20-002157    (XML)    https://www.sec.gov/Archives/edgar/data/72971/000138713120002157/wfc-8k_022620_htm.xml"
   ]
  },
  {
   "cell_type": "code",
   "execution_count": null,
   "id": "eea5e947-0536-4d24-8ba0-928822d8e2eb",
   "metadata": {},
   "outputs": [],
   "source": [
    "WFC (CIK: 0000072971 ) 8K\n",
    "excel file: https://www.sec.gov/cgi-bin/viewer?action=view&cik=72971&accession_number=0000072971-20-000230&xbrl_type=v#\n",
    "filing detail: https://www.sec.gov/Archives/edgar/data/72971/000007297120000230/0000072971-20-000230-index.htm\n",
    "\n",
    "HTML Exhibit    'https://www.sec.gov/Archives/edgar/data/72971/000007297120000230/wfc1qer04-14x20ex991.htm'"
   ]
  },
  {
   "cell_type": "code",
   "execution_count": null,
   "id": "ae4f5e15-6771-490a-9d85-13f0057e7090",
   "metadata": {},
   "outputs": [],
   "source": [
    "WFC 10K\n"
   ]
  },
  {
   "cell_type": "code",
   "execution_count": null,
   "id": "8fcc2065-998c-4f92-9061-7e90187f4525",
   "metadata": {},
   "outputs": [],
   "source": [
    "APPL (CIK: )\n",
    "search: https://www.sec.gov/cgi-bin/browse-edgar?action=getcompany&CIK=0000320193&type=&dateb=&owner=include&count=400&search_text=\n",
    "filing detail: https://www.sec.gov/Archives/edgar/data/320193/000119312519292676/0001193125-19-292676-index.htm\n",
    "insider transactions: https://www.sec.gov/cgi-bin/own-disp?action=getissuer&CIK=0000320193\n",
    "\n",
    "ex1.1   https://www.sec.gov/Archives/edgar/data/320193/000119312519292676/d828969dex11.htm\n",
    "ex4.1   https://www.sec.gov/Archives/edgar/data/320193/000119312519292676/d828969dex41.htm"
   ]
  },
  {
   "cell_type": "code",
   "execution_count": null,
   "id": "bda6e7c0-777a-4dca-845d-abd44b415122",
   "metadata": {},
   "outputs": [],
   "source": [
    "10-K (type)\n"
   ]
  }
 ],
 "metadata": {
  "kernelspec": {
   "display_name": "Python 3 (ipykernel)",
   "language": "python",
   "name": "python3"
  },
  "language_info": {
   "codemirror_mode": {
    "name": "ipython",
    "version": 3
   },
   "file_extension": ".py",
   "mimetype": "text/x-python",
   "name": "python",
   "nbconvert_exporter": "python",
   "pygments_lexer": "ipython3",
   "version": "3.9.7"
  }
 },
 "nbformat": 4,
 "nbformat_minor": 5
}
