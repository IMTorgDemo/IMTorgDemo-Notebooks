{
 "cells": [
  {
   "cell_type": "markdown",
   "id": "34047d2a-91b7-40b8-b67e-ea619309ae29",
   "metadata": {},
   "source": [
    "# Programming for Balancing Short- and Long-Term Needs\n",
    "\n",
    "Date: 2021-12-14  \n",
    "Author: Jason Beach  \n",
    "Categories: Innovation, Computer_Science_and_Programming\n",
    "Tags: programming_paradigms, engineering\n",
    "\n",
    "<!--eofm-->"
   ]
  },
  {
   "cell_type": "markdown",
   "id": "cffff9ae-9691-4bbb-92d0-fe1d45a5e0c1",
   "metadata": {},
   "source": [
    "Software engineering is all about design and balancing requirements.  Anyone can learn syntax and how to code, but there are so many challenges to scaling as the codebase grows.  Some aspects to balance include delivering functionality vs code debt, deploying solutions vs preferred architecture, and countless others.  In addition, developers need to not only understand and keep updated on the language, but also the ecosystem of libraries and tools, underlying data structures and algorithms, and also design patterns.  These skills discriminate between an inexperience coder and a veteran engineer.\n",
    "\n",
    "This is a ladder of skills in employing a language:\n",
    "\n",
    "* syntax and programming paradigm\n",
    "* idioms and best practices\n",
    "* popular modules\n",
    "* documentation and testing\n",
    "* IDE and auxiliary tools\n",
    "* syntax edge cases (`wtf python`)\n",
    "* underlying data structures and algorithms\n",
    "* design patterns\n",
    "* architectural patterns\n",
    "* customer relations\n",
    "\n",
    "Aspects to balance in user story, issue development and prioritization for short- / long-term requirements.  These are _loosely_ ordered in how they typically manifest during a project, and often re-cycle as a loop of concerns.\n",
    "\n",
    "* proof of concept\n",
    "* oop design\n",
    "* minimum viable product\n",
    "* deployment automation\n",
    "* speed of functionality delivery\n",
    "* documentation\n",
    "* codebase organization\n",
    "* testing and code coverage\n",
    "* microservice decomposition\n",
    "\n",
    "It would be great to do some empirical analysis on these assumptions using [ScrumSaga](www.scrumsaga.com)."
   ]
  }
 ],
 "metadata": {
  "kernelspec": {
   "display_name": "Python 3 (ipykernel)",
   "language": "python",
   "name": "python3"
  },
  "language_info": {
   "codemirror_mode": {
    "name": "ipython",
    "version": 3
   },
   "file_extension": ".py",
   "mimetype": "text/x-python",
   "name": "python",
   "nbconvert_exporter": "python",
   "pygments_lexer": "ipython3",
   "version": "3.9.10"
  }
 },
 "nbformat": 4,
 "nbformat_minor": 5
}
