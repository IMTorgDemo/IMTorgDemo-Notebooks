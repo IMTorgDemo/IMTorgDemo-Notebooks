{
 "cells": [
  {
   "cell_type": "markdown",
   "id": "cc987c57-4f1b-40c7-b0f5-3a8a132f089d",
   "metadata": {},
   "source": [
    "# The 'Slack' Form of Communication - From A Business Size Perspective\n",
    "\n",
    "Date: 2021-12-04  \n",
    "Author: Jason Beach  \n",
    "Categories: Comparison, Business_and_Leadership\n",
    "Tags: project_management, communication\n",
    "\n",
    "<!--eofm-->"
   ]
  },
  {
   "cell_type": "markdown",
   "id": "e067deb6-82eb-4c4b-99e7-19fb83054b82",
   "metadata": {},
   "source": [
    "A colleague of mine has put-off using Slack for a while.  She's totally committed to Skype for Business, which I'm a little revolted by.  When I described Slack to her, 'Instead of separate conversations, you have a continuing discussion or narrative with people.  You often end using it as a Knowledge Base'.  Her response to that, 'so I can't use it for the things that shouldn't go in writing -- got it.'  Wow, my mind is blown.  She needs ephemeral messaging - not a knowledge base.\n",
    "\n",
    "I've been in smaller-ish (<500 people) for the last few years, and my colleague has always been in large firms.  Nearly everything she thinks about has a internal-politics component.  In fact, we've had serious difficulties communicating because of it.  I'm used to grabbing the CEO and giving him a sales pitch on a napkin.  If she see's a slide that isn't perfectly formatted, she has real difficulties seeing past it and mostly disengages completely.  I'm worried about getting the customized message about a product to each person, and I may take months to create just one slide deck.  To her, there's only one message: my reputation is perfect and you should only trust me - the content is mostly superficial.\n",
    "\n",
    "The consequences of this approach show the mis-alignment of incentives at larger organizations.  Someone might support a failed initiative only to gain a political advantage.  It reminds me of the book 'The Rise and Fall of Enron'.  One of the most important subplots is the machinations of Jeffrey Skiling to undermine a female colleague.  In short form, she wants to create a market in water similar to the electrical market that Enron created.  The problem is that water doesn't travel thousands of miles in a few seconds, so the solutions just don't scale.  Skiling knew this, but tacitly agreed with her knowing it would fail.  Predictably, once it did fail, Skiling ensure she got the boot by the board of directors, and, like a magician, his co-worker vanished!\n"
   ]
  }
 ],
 "metadata": {
  "kernelspec": {
   "display_name": "Python 3 (ipykernel)",
   "language": "python",
   "name": "python3"
  },
  "language_info": {
   "codemirror_mode": {
    "name": "ipython",
    "version": 3
   },
   "file_extension": ".py",
   "mimetype": "text/x-python",
   "name": "python",
   "nbconvert_exporter": "python",
   "pygments_lexer": "ipython3",
   "version": "3.9.10"
  }
 },
 "nbformat": 4,
 "nbformat_minor": 5
}
