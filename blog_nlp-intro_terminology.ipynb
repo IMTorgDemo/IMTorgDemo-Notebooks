{
 "cells": [
  {
   "cell_type": "markdown",
   "id": "81a86a6e-45f7-4a29-b84a-9cdab0d88a49",
   "metadata": {},
   "source": [
    "# Terminology Useful for NLP\n",
    "\n",
    "Date: 2021-12-11  \n",
    "Author: Jason Beach  \n",
    "Categories: Introduction_Tutorial, Data_Science\n",
    "Tags: nlp, linguistics\n",
    "\n",
    "<!--eofm-->"
   ]
  },
  {
   "cell_type": "markdown",
   "id": "4f0e8b27-850e-478a-a076-54566dd29bdd",
   "metadata": {},
   "source": [
    "NLP allows for both theoretical and practical study of language.  Below are a few of aspects of study, as well as terminology, that is frequently used within the field.  Because of the interdisciplinary nature of computational linguistics, the terms come from linguistics, computer science, and mathematics.\n",
    "\n",
    "* Semiotics -  a philosophical theory covering the relationship between signs and the things they reference.\n",
    "* Phonetic and Phonological Knowledge - Phonetics is the study of language at the level of sounds while phonology is the study of the combination of sounds into organized units of speech.\n",
    "* Morphological Knowledge - study of word formation and variations of words and is also concerned with combinations of sounds into minimal distinctive units of meaning called morphemes.\n",
    "* Syntactic Knowledge - formally this is grammar and mechanics, but informally may include how language is actually used.  This includes how words combine to form phrases, phrases combine to form clauses and clauses join to form sentences.\n",
    "  - Part-Of-Speech Tagging - identifying the different parts of speech within a specific text is it a verb, noun, adjective, etc.\n",
    "* Semantic knowledge - concerned with meaning of words and sentences.\n",
    "  - Named Entity Recognition (Entity Extraction) - recognize concepts by identifying in text a unitary information such as a date, a financial amount, a percentage, a telephone number, an e-mail address, etc.\n",
    "* Sentiment analysis - identifying whether a statement (a sentence, a tweet, a piece of feedback…) is positive, neutral or negative according to a certain prism.\n",
    "* Pragmatic Knowledge - extension of semantics that involves contextual aspects of particular situation.\n",
    "* Discourse Knowledge - chunks of language in connected sentences.  concerns inter-sentential links that is how the immediately preceding sentences affect the interpretation of the next sentence.\n",
    "  - Terminological Extraction (Chunking) - identifying groups of words that form useful expressions.\n",
    "* Word knowledge - general information shared amongst speakers which include users' beliefs and goals.\n",
    "    \n",
    "       \n",
    "* Lexicon / Vocabulary - collection of words, terms, and phrases associated with a knowledge domain.\n",
    "  - Lemma - is a base word that may form many other words using inflection, tenses and other means (play is the root for played, playing).\n",
    "  - Stem - similar to lemma but does not take the meaning into account.  Stemming typically involves chopping off suffixes to get to the root form of a word, whereas a lemma takes into account the meaning of a word. For example, the words \"better\" and \"worst\" have the same stem (bet), but they have different lemmas (good and bad, respectively).\n",
    "  - Lexical Types - multi-word expressions that have spaces in them and might not even be contiguous, for example, phrasal verbs. \n",
    "  - Lexical Analysis (Tokenization) - the task of separating symbols in the text into “words”, thus creating the lexicon of a given corpus.\n",
    "  - Normalization - series of related tasks meant to put all text on a level playing field: converting all text to the same case (upper or lower), removing punctuation, expanding contractions, converting numbers to their word equivalents, and so on. Normalization puts all words on equal footing, and allows processing to proceed uniformly.\n",
    "  - Stop Words - words which are filtered out before further processing of text, since these words contribute little to overall meaning.\n",
    "* Glossary - a lexicon with single glosses (definitions) added per knowledge domain.\n",
    "* Taxonomy - a lexicon ordered by relationships within a hierarchical tree.  This relationship is by hypernymy, also called the \"is-a\" relationship (i.e. motorcycle is-a vehicle, vehicle is a hypernym of motorcycle, motorcycle is a hyponym of vehicle)\n",
    "* Folksonomy - similar to taxonomy but not as deeply structured because it is created organically by a crowd-sourced metadata about a knowledge domain, such as hashtags or word counts.  A word cloud is an example.\n",
    "* Ontology - may have hypernymy relationships from multiple overlapping taxonomies.  May use xRY hypernymy relationship (motorcycle is-a vehicle), or predicate form (is a vehicle, motocycle).  Other binary relations commonly used in ontology are: Part-whole, property, and value.  \n",
    "  - Semantic Triple - each x,y of these relationships\n",
    "  - Triple Store - database (often graph-based) specifically used for these 'triples'\n",
    "* Knowledge base - technology used to store structured / unstructured fact-based information for expert systems that tries to emulate ways of reasoning about facts.\n",
    "  - Knowledge graph - Kb with graph structure used for interlinked descriptions of entities and concepts, while also encoding the semantics underlying the used terminology.  formally represents semantics by describing entities and their relationships.  Knowledge graphs may make use of ontologies as a schema layer. By doing this, they allow logical inference for retrieving implicit knowledge rather than only allowing queries requesting explicit knowledge.  In order to allow the use of knowledge graphs in various machine learning tasks, several methods for deriving latent feature representations of entities and relations have been devised. These knowledge graph embeddings allow them to be connected to machine learning methods that require feature vectors like word embeddings.\n",
    "\n",
    "* Term Frequency - occurrence of a word in a document.\n",
    "* TF-IDF - term frequency–inverse document frequency, is a numerical statistic that is intended to reflect how important a word is to a document in a collection or corpus. \n",
    "* N-grams - dividing the corpus into n-words chunks.  In modeling, this may refer to a moving window of terms.\n",
    "* Word embeddings - vectors used to describe a specific term numerically."
   ]
  }
 ],
 "metadata": {
  "kernelspec": {
   "display_name": "Python 3 (ipykernel)",
   "language": "python",
   "name": "python3"
  },
  "language_info": {
   "codemirror_mode": {
    "name": "ipython",
    "version": 3
   },
   "file_extension": ".py",
   "mimetype": "text/x-python",
   "name": "python",
   "nbconvert_exporter": "python",
   "pygments_lexer": "ipython3",
   "version": "3.9.10"
  }
 },
 "nbformat": 4,
 "nbformat_minor": 5
}
