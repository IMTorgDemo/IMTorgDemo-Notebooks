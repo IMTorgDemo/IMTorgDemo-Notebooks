{
 "cells": [
  {
   "cell_type": "markdown",
   "id": "1c772333-797f-4adb-8e53-6955e61e0422",
   "metadata": {},
   "source": [
    "# Getting and Using SEC Company Filing Reports  \n",
    "\n",
    "Date: 2022-02-03  \n",
    "Author: Jason Beach  \n",
    "Categories: Data_Science \n",
    "Tags: nlp, xbrl, finance\n",
    "\n",
    "<!--eofm-->"
   ]
  },
  {
   "cell_type": "markdown",
   "id": "3def60a1-7d99-48b1-a818-18a1413db2ac",
   "metadata": {},
   "source": [
    "## Part-1: Introduction to XBRL\n",
    "\n",
    "###  Purpose of XBRL\n",
    "\n",
    "The purpose of XBRL, eXtensible Business Reporting Language (a variation of XML), is to treat financial reporting information as data, instead of a block of text in a report.  Using the XML format, it provides an identifying tag for items of data in a machine-readable format that can be easily injected into a format that can also be human-readable, such as PDF or HTML.\n",
    "\n",
    "XBRL files enable automated processing of business information by analysis software.  Typically, this data is already created by accounting software, so exporting to XBRL format is trivial.  Since institutions like the SEC endeavor to make the financial marketplace more transparent, enforcing the use of XBRL on publicly-traded companies is a reasonable standard.  Both producers and consumers of financial data, including investors, analysts, financial institutions and regulators, can receive, find, compare and analyse data much more rapidly and efficiently by adopting the use of the XBRL format. \n",
    "\n",
    "Furthermore, the XBRL format is a global standard that can accept any language and accounting standard.  Its adoption by regulators and firms across countries improves the understanding of the global economy. "
   ]
  },
  {
   "cell_type": "markdown",
   "id": "7cce9800-0715-43d1-b61f-b9fffe8acea7",
   "metadata": {},
   "source": [
    "### Elements of a XBRL package\n",
    "\n",
    "Rather than diving into the schema, it is best to gain a general understanding of XBRL aspects.  Because it aligned with accounting and financial practice, some of the associated terms may not be familiar to other users.  At a high-level, XBRL is a framework for developing standardized taxonomies that can be used to create metadata for specific business reporting needs.\n",
    "\n",
    "A XBRL filing package consists of the following:\n",
    "\n",
    "* Instance document - the actual XBRL marked-up document\n",
    "* Data items - called \"__facts__\" in XBRL, these may be numeric (i.e. \"annual revenue\") or non-numeric (i.e. \"company name\")\n",
    "* Taxonomies - a document of \"__concept__\" definitions, similar to a dictionary, such as US-GAAP accounting. The taxonomy document provides the semantics for a particular XBRL instance document. The taxonomies also define hierarchies of concepts. If necessary, taxonomy could describe one item in more than one language. The taxonomy itself is extensible, that is, a user can split one fact into two different facts (i.e. instead of just \"sales\", “equipment sales” and “consumables sales” could be used).\n",
    "* Linkbases - while the taxonomy concepts define the fact data elements, linkbases are documents that define relationships between facts. The five types of linkbases are: reference, label, definition, calculation, and presentation.\n",
    "\n",
    "The instant document, taxonomies and linkbases are all connected using an XML linking standard called xlink.  Combined (sometimes in a compressed .zip file) they create a XBRL filing package."
   ]
  },
  {
   "cell_type": "markdown",
   "id": "584a83c5-7a7a-422c-af57-8592c156ba49",
   "metadata": {},
   "source": [
    "### Rendered XBRL for presentation\n",
    "\n",
    "To create a typical financial report, such as 10-K or 10-Q, XBRL data can be combined with additional content, then formated in a specific style.  Ordinary styling may incude HTML/CSS so that it can be rendered interactively in a browser.\n",
    "\n",
    "When mapping company financial information (facts) to the US GAAP Taxonomy (UGT), companies follow a process that includes planning, mapping, reviewing, testing, re-reviewing, approving and then filing.  Some form of rendering is the way we currently review amounts being tagged, the XBRL tags selected, the definitions and attributes of those tags and the interrelationships between the amounts reported (like calculation relationships in SEC filings).\n",
    "\n",
    "We tend to think of financial data in reports or tables. However, with XBRL, the user is able to grab entire financial reports or individual amounts reported in a disaggregated way.  So, if user only wants EBITDA and Earnings per share, they need only to grab the XBRL tags for those amounts for the time periods of interest.  The SEC has a developer API to request this data. Because XBRL tags the amounts being reported with contextual metadata, the individual amounts have meaning separate and apart from any financial report. \n",
    "\n",
    "You may still want to think about data in terms of viewable renderings, but investors and other users of financial data are not obligated to do so."
   ]
  },
  {
   "cell_type": "markdown",
   "id": "adc25d77-74dd-4c1e-94cf-8e89105269dc",
   "metadata": {},
   "source": [
    "### XBRL filing packages maintained by SEC EDGAR \n",
    "\n",
    "SEC's EDGAR database maintains and serves both the data files (XML) and the renderable documents (HTML).  The SEC filing consists of six data files. Each of these files has a specific role in defining your data. Here are the filenames and their roles.\n",
    "\n",
    "|  XBRL Filename(1)  |  File Type  |  Purpose of file  |\n",
    "|---|---|---|\n",
    "|  `xxx-yyyymmdd.xml`  |  Instance file  |  Contains the facts and values in the filing. Each fact in the instance document is related to an element in the company’s Extension Taxonomy.\n",
    "|  `xxx-yyyymmdd.xsd`  |  Schema file  |  Defines the concepts of an XBRL package. It provides concept names and data types.\n",
    "|  `xxx-yyyymmdd_cal.xml`  |  Calculation linkbase  |  Defines how values of concepts should sum up from one to another.\n",
    "|  `xxx-yyyymmdd_def.xml`  |  Definition linkbase  |  Allows users to define relationships between elements. For example a relationship can be defined that the occurrence of one concept within an XBRL instance mandates the occurrence of other concepts.\n",
    "|  `xxx-yyyymmdd_lab.xml`  |  Label linkbase  |  Allows the user to attach labels to a given concept.\n",
    "|  `xxx-yyyymmdd_pre.xml`  |  Presentation linkbase  |  Defines how concepts are ordered and nested.\n",
    "\n",
    "(1) The naming convention for these files is as follows: xxx = company specific identifier (here, ticker symbol), yyymmdd = the report date and the remainder of the file name specifies the type and role of that XBRL data file.\n",
    "\n",
    "\n",
    "Financial statements are required to be detail tagged and footnotes must be tagged at the following four levels:\n",
    "\n",
    "* Level 1: Each complete footnote tagged as a text block\n",
    "* Level 2: Each significant accounting policy within the significant accounting policy footnote tagged as a text block\n",
    "* Level 3: Each table within each footnote tagged as a text block\n",
    "* Level 4: Within each footnote, each amount (i.e., monetary value, percentage and number) is required to be separately tagged"
   ]
  },
  {
   "cell_type": "markdown",
   "id": "72533ea9-a85f-48d6-8720-ba1b1acc805d",
   "metadata": {},
   "source": [
    "### Create a financial statement in XBRL form\n",
    "\n",
    "* The Edgar filing manual can be found [here](https://www.sec.gov/edgar/filer-information/current-edgar-filer-manual)\n",
    "\n",
    "There are a number of ways to create financial statements in XBRL:\n",
    "\n",
    "* XBRL-aware accounting software products are becoming available which will support the export of data in XBRL form. These tools allow users to map charts of accounts and other structures to XBRL tags.\n",
    "* Statements can be mapped into XBRL using XBRL software tools designed for this purpose.\n",
    "* Data from accounting databases can be extracted in XBRL format.  It is not strictly necessary for an accounting software vendor to use XBRL; third party products can achieve the transformation of the data to XBRL.\n",
    "* Applications can transform data in particular formats into XBRL.  For example, web sites are in operation which transform EDGAR filings in the United States into XBRL, providing more efficient access to specific data in the filings."
   ]
  },
  {
   "cell_type": "markdown",
   "id": "d250e7da-f964-4618-a85a-8dd3af199831",
   "metadata": {},
   "source": [
    "### Additional materials\n",
    "\n",
    "#### Reference materials\n",
    "\n",
    "* [Table of XBRL US GAAP Concepts](http://www.xbrlsite.com/LinkedData/BrowseObjectsByType_HTML.aspx?Type=%5BConcept%5D&Submit=Submit)\n",
    "* [XBRL Essentials document](https://xbrlsite.azurewebsites.net/2021/essentials/EssentialsOfXBRLBasedDigitalFinancialReporting.pdf)\n",
    "* [Thorough guide on XBRL](http://xbrl.squarespace.com/)\n",
    "\n",
    "#### Tutorials\n",
    "\n",
    "* [Great blog posts explaining XBRL with accomapnying python module(py-xbrl)](https://manusimidt.dev/)\n",
    "* [Video explanation of XBRL](https://www.youtube.com/watch?v=nATJBPOiTxM)\n",
    "* [Older blog about preparing for Inline XBRL](https://blog.toppanmerrill.com/insights-blog-all/what-every-accelerated-filer-needs-to-know-to-prepare-for-inline-xbrl)\n",
    "* [A simple, old blog about XBRL as it was first rolling-out](https://dmaltezosxbrl.blogspot.com/)\n",
    "* [Sigma Coding code examples](https://github.com/areed1192/sigma_coding_youtube/tree/master/python/python-finance/sec-web-scraping) and [video](https://www.youtube.com/watch?v=GhjtIn0B2II)\n",
    "\n",
    "\n",
    "#### Code\n",
    "\n",
    "* [Arelle: open source tools for XBRL standard (Viewer used by SEC)](https://arelle.org/arelle/documentation/api/)\n",
    "* [py-xbrl: new parser with strong design](https://github.com/manusimidt/py-xbrl)\n",
    "* [ixbrl-parse: newer parser](https://github.com/drkane/ixbrl-parse)\n",
    "* [python-xbrl: old, established parser](https://github.com/greedo/python-xbrl)"
   ]
  },
  {
   "cell_type": "markdown",
   "id": "1e148981-991d-4a16-8b33-58eb9e36812b",
   "metadata": {},
   "source": [
    "<br>\n",
    "<br>\n",
    "<br>\n",
    "<br>"
   ]
  },
  {
   "cell_type": "markdown",
   "id": "19157957-a611-410d-baf5-c9766bb8ad13",
   "metadata": {},
   "source": [
    "## Part-2: Data Extraction with SEC Scraping and EDGAR API \n",
    "\n",
    "The SEC serves data in a variety of ways.  This [page](https://www.sec.gov/sec-data-resources) lists all the data resources.  Users should explore the different methods to determine which is best for their particular problem.\n",
    "\n",
    "Important SEC documentation on data API includes the following:\n",
    "\n",
    "* Manual search of all company filings: [company search](https://www.sec.gov/edgar/searchedgar/companysearch.html)\n",
    "* Manual search of latest filings, updated throughout the day: [current events](https://www.sec.gov/edgar/searchedgar/currentevents.htm)\n",
    "* Bulk download of MONTHLY archived filings: [financial statement and notes](https://www.sec.gov/dera/data/financial-statement-and-notes-data-set.html)\n",
    "* Programmatic requests with API: [api docs](https://www.sec.gov/edgar/sec-api-documentation), developer [guidance](https://www.sec.gov/os/accessing-edgar-data) and [faq](https://www.sec.gov/os/webmaster-faq#developers)\n",
    "  - `data.sec.gov` serves JSON structures updated throughout the day, in real time, as submissions are disseminated\n",
    "  - bulk ZIP file is available to download all the JSON structures for an API, is updated and republished nightly at ~3:00a.m. ET\n",
    "  - current (1,000) filing history: `data.sec.gov/submissions/`\n",
    "  - XBRL data: `data.sec.gov/api/xbrl/`\n",
    "\n",
    "\n",
    "A few definitions to know:\n",
    "\n",
    "* Central Index Key (CIK) - a 10-digit number assigned to each company, including leading zeros, all firms are listed in the [lookup file](https://www.sec.gov/files/company_tickers_exchange.json)\n",
    "* Accession Number - a unique identifier assigned automatically to an accepted submission: <CIK>-<YY><sequence> [docs](https://www.sec.gov/os/webmaster-faq#accession-number)"
   ]
  },
  {
   "cell_type": "markdown",
   "id": "d06fe72a-71d4-4c96-9d5d-ebc14cbb7034",
   "metadata": {},
   "source": [
    "### Explanation of 'Filing Detail' page\n",
    "\n",
    "If you use the manual search options (above) you will reach the 'Filing Detail' page that looks similar to below.  These are presented with an array of documents that can be quite confusing and there is little documentation to be found.  \n",
    "\n",
    "The image below is taken from Wells Fargo & Company (ticker: wfc): https://www.sec.gov/Archives/edgar/data/72971/000007297120000236/0000072971-20-000236-index.htm"
   ]
  },
  {
   "cell_type": "markdown",
   "id": "a579970a-38c5-434f-8929-ec255d778d01",
   "metadata": {},
   "source": [
    "<div>\n",
    "  <p>Taken from SEC</p>\n",
    "  <img src=\"data:image/png;base64, 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\" alt=\"Red dot\" />\n",
    "</div>"
   ]
  },
  {
   "cell_type": "markdown",
   "id": "eca22882-7c9f-4ea6-ab5a-8eb32598e79e",
   "metadata": {},
   "source": [
    "The documents are divided into two groups, and three files that combine group files together: \n",
    "\n",
    "* __Document Format Files__: .htm and plaintext\n",
    "  - _'iXBRL' (inlineXBRL)_\n",
    "    + request url: `https://<PREFIX>/<CIK>/<SEC_ACCESSION_NO>/<TICKER>-<PERIOD_END-MMDD>x<PERIOD_END-YYYY>x<FILE_TYPE>.htm`\n",
    "    + ex: https://www.sec.gov/Archives/edgar/data/72971/000007297120000236/wfc-0331x2020x10q.htm - 17.9MB\n",
    "    + document is a HTML file with XBRL tags and data added, as well as combining the other .htm files.\n",
    "    + tags for SEC will only include `us-gaap` concepts because that is what the SEC uses.\n",
    "    + parsing the XBRL from within the HTML can be challenging.  This file contains the `xmlns:xbrli=\"http://www.xbrl.org/2003/instance\"` described in the following [post](https://www.codeproject.com/Articles/1227765/Parsing-XBRL-with-Python).\n",
    "    + general SEC information on XBRL [here](https://www.sec.gov/structureddata/osd-inline-xbrl.html) and XSLT styles sheets are [here](https://www.sec.gov/edgar/searchedgar/edgar-xsl-stylesheets.zip).\n",
    "  - _'Complete submission text file'_\n",
    "    + request url: `https://<PREFIX>/<CIK>/<SEC_ACCESSION_NO>/<SEC_ACCESSION_NO>-<YY>-<YYMMDD>.txt`\n",
    "    + ex: https://www.sec.gov/Archives/edgar/data/72971/000007297120000236/0000072971-20-000236.txt - 78.3MB\n",
    "    + the plaintext file contains all the HTML and data, together.  \n",
    "    + may be too large and unwieldy to be useful.\n",
    "    + it is not formatted (simple text), instead it notes the `<XBRL>` with a tag.\n",
    "* __Data Files__: .xml files\n",
    "  - _'EXTRACTED XBR INSTANCE DOCUMENT'_ \n",
    "    + request url: `https://<PREFIX>/<CIK>/<SEC_ACCESSION_NO>/<TICKER>-<PERIOD_END-MMDD>x<PERIOD_END-YYYY>x<FILE_TYPE>_htm.xml`\n",
    "    + ex: https://www.sec.gov/Archives/edgar/data/72971/000007297120000236/wfc-0331x2020x10q_htm.xml - 23.6MB\n",
    "    + this file combines all of the other XBRL data files.\n",
    "    + does not contain unstructured data.\n",
    "    + the format contains all the data between the `<xbrl ... </xbrl>` tags which makes parsing the xml quite clear.\n",
    "  \n",
    "    \n",
    "Note:\n",
    "\n",
    "* file urls can change and should be scraped from the Filing Detail page table, instead of relying on this schema\n",
    "* most-recently posted file urls are all very similar except in the file extension\n",
    "* the prefix is the same for all: www.sec.gov/Archives/edgar/data\n",
    "* to get all files as a compressed .zip file, use the url:\n",
    "  - request url: `https://<PREFIX>/<CIK>/<SEC_ACCESSION_NO>/<SEC_ACCESSION_NO>-<YY>-<YYMMDD>-xbrl.zip`\n",
    "  - ex: https://www.sec.gov/Archives/edgar/data/72971/000007297120000236/0000072971-20-000236-xbrl.zip"
   ]
  },
  {
   "cell_type": "markdown",
   "id": "94029578-d3f6-4236-8a6b-4067c5e8ba65",
   "metadata": {},
   "source": [
    "### Prepare environment\n",
    "\n",
    "Configure the appropriate modules."
   ]
  },
  {
   "cell_type": "code",
   "execution_count": 1,
   "id": "5031eccc-e2e5-41c7-9fa5-0fb21b3cfbbc",
   "metadata": {
    "tags": []
   },
   "outputs": [],
   "source": [
    "import os\n",
    "import pandas as pd\n",
    "import numpy as np"
   ]
  },
  {
   "cell_type": "code",
   "execution_count": 2,
   "id": "82f7f1e6-eae5-44d4-8e66-d4a1d192a4d8",
   "metadata": {
    "tags": []
   },
   "outputs": [],
   "source": [
    "import re\n",
    "from rapidfuzz import process, fuzz"
   ]
  },
  {
   "cell_type": "code",
   "execution_count": 3,
   "id": "e9757007-4540-438f-a519-40f5d6c60aca",
   "metadata": {},
   "outputs": [],
   "source": [
    "import requests\n",
    "from bs4 import BeautifulSoup"
   ]
  },
  {
   "cell_type": "code",
   "execution_count": 4,
   "id": "24b882e3-1b84-4f82-b482-a6890ff6f8a7",
   "metadata": {},
   "outputs": [],
   "source": [
    "%load_ext autoreload\n",
    "%autoreload 2"
   ]
  },
  {
   "cell_type": "code",
   "execution_count": 5,
   "id": "f0230968-58a8-4937-a550-03f048b81332",
   "metadata": {},
   "outputs": [],
   "source": [
    "root = os.getcwd()\n",
    "libs = './python_modules/Prj-sec_workflows'"
   ]
  },
  {
   "cell_type": "code",
   "execution_count": 6,
   "id": "c5edfdfa-3db9-47c6-8ae8-e911f94adb4f",
   "metadata": {},
   "outputs": [],
   "source": [
    "os.chdir(libs)\n",
    "from sec_api.Accession import AccessionNumber\n",
    "from sec_api.Firm import Firm\n",
    "from sec_api.Filing import Filing\n",
    "os.chdir(root)"
   ]
  },
  {
   "cell_type": "code",
   "execution_count": 7,
   "id": "d8989a0a-d5e7-46ef-8f99-b347a66ad115",
   "metadata": {},
   "outputs": [],
   "source": [
    "root = os.getcwd()\n",
    "libs = './python_modules/sec-edgar-downloader'"
   ]
  },
  {
   "cell_type": "code",
   "execution_count": 8,
   "id": "2f7f4b62-6ce7-4f39-9529-cd238e8f85c5",
   "metadata": {},
   "outputs": [],
   "source": [
    "os.chdir(libs)\n",
    "from sec_edgar_downloader import Downloader\n",
    "from sec_edgar_downloader import UrlComponent as uc\n",
    "os.chdir(root)"
   ]
  },
  {
   "cell_type": "code",
   "execution_count": 9,
   "id": "dae6b5e4-4b70-4911-ad9a-d16a1d962b64",
   "metadata": {},
   "outputs": [],
   "source": [
    "import requests\n",
    "from rapidfuzz import process, fuzz\n",
    "\n",
    "\n",
    "\n",
    "class Firm():\n",
    "    \"\"\"The Firm is root for all classes used.\"\"\"\n",
    "    \n",
    "    def __init__(self, firm_name=None):\n",
    "        \"\"\"Create populated or empty Firm object\"\"\"\n",
    "        self._name = None\n",
    "        self._cik = None\n",
    "        self._ticker = None\n",
    "        self._exchange = None\n",
    "\n",
    "        #TODO: getters/setters\n",
    "        self._report = None\n",
    "        self._security = None\n",
    "        self._management = None\n",
    "\n",
    "        if firm_name:\n",
    "            try:\n",
    "                result = self._get_info_from_url(firm_name)\n",
    "            except:\n",
    "                raise Exception(\"The firm is not available.\")\n",
    "            else:\n",
    "                self._name = result['name']\n",
    "                self._cik = result['cik']\n",
    "                self._ticker = result['ticker']\n",
    "                self._exchange = result['exchange']\n",
    "        else:\n",
    "            pass\n",
    "    \n",
    "    def get_info(self, info='all'):\n",
    "        \"\"\"Return all or specific firm information from attributes\"\"\"\n",
    "        if self._cik:\n",
    "            results = {'cik':self._cik, 'name': self._name, 'ticker': self._ticker, 'exchange': self._exchange}\n",
    "        else:\n",
    "            return None\n",
    "        if info=='all':\n",
    "            return results\n",
    "        elif info in ['cik','name','ticker','exchange']:\n",
    "            return results[info]\n",
    "\n",
    "    def _get_info_from_url(self, firm_name):\n",
    "        \"\"\"Get firm info from lookup.\n",
    "\n",
    "        Args:\n",
    "            firm_name(str): closely-related firm name\n",
    "            info: 'cik', 'name', 'ticker', 'exchange', or 'all'\n",
    "\n",
    "        Returns:\n",
    "            'all': {'cik', 'name', 'ticker', 'exchange', or 'all'}\n",
    "\n",
    "        TODO: get additional info from `<browser> https://www.sec.gov/edgar/browse/?CIK=1084869`\n",
    "        \"\"\"\n",
    "        result = self.get_info()\n",
    "        if result is None:\n",
    "            url = 'https://www.sec.gov/files/company_tickers_exchange.json'\n",
    "            resp = requests.get(url)\n",
    "            json = resp.json()\n",
    "\n",
    "            choices = [item[1] for item in json['data']]\n",
    "            possible_names = process.extract(firm_name, choices, scorer=fuzz.WRatio, limit=3)\n",
    "            print(f'Chose the first of these closely-related names: {possible_names}')\n",
    "            result = [item for item in json['data'] if item[1]==possible_names[0][0]]\n",
    "\n",
    "            rtn_item = {}\n",
    "            for idx,key in enumerate(json['fields']):\n",
    "                rtn_item[str(key)] = result[0][idx]\n",
    "            return rtn_item\n",
    "\n",
    "    def get_reports_count(self):\n",
    "        #check_reports_in_cache\n",
    "        cnt = len(self._reports)\n",
    "        return cnt\n",
    "\n",
    "    def get_insider_transactions(self):\n",
    "        #https://www.sec.gov/cgi-bin/own-disp?action=getissuer&CIK=0001084869\n",
    "        pass"
   ]
  },
  {
   "cell_type": "code",
   "execution_count": 10,
   "id": "bebb34e9-6724-45e3-a1c9-176a5dd8e221",
   "metadata": {},
   "outputs": [],
   "source": [
    "def get_unique_banks(banks_filled):\n",
    "    banks_uniq = []\n",
    "    ciks = []\n",
    "    for bank in banks_filled:\n",
    "        if bank._cik not in ciks:\n",
    "            ciks.append(bank._cik)\n",
    "            banks_uniq.append(bank)\n",
    "    return banks_uniq"
   ]
  },
  {
   "cell_type": "code",
   "execution_count": 11,
   "id": "57395cb0-31e8-4f03-b2f5-84e735cae92e",
   "metadata": {},
   "outputs": [],
   "source": [
    "from pathlib import Path\n",
    "\n",
    "def search_filings(idx, file_type):\n",
    "    result_list = []\n",
    "    for file in dl.filing_storage.get_list():\n",
    "        documents = file.filing_metadata.document_metadata_list\n",
    "        tmp_doc = [doc for doc in documents if (type(doc.Type)==str)]\n",
    "        rtn_doc = [doc for doc in tmp_doc if file_type in doc.Type]\n",
    "        \n",
    "        for doc in rtn_doc:\n",
    "            save_path = (\n",
    "                 dl.download_folder\n",
    "                 / 'sec-edgar-filings'\n",
    "                 / file.short_cik\n",
    "                 / file.file_type\n",
    "                 / file.accession_number.__str__()\n",
    "                 / doc.Document\n",
    "                 )\n",
    "            FS_Location = save_path\n",
    "            result_list.append( (rtn_doc, FS_Location) )\n",
    "    return result_list\n",
    "\n",
    "\n",
    "def load_documents(documents):\n",
    "    return_list = []\n",
    "    for doc in documents:\n",
    "        txt = doc[1].read_bytes()\n",
    "        soup = BeautifulSoup(txt, 'lxml')\n",
    "        return_list.append(soup)\n",
    "    return return_list"
   ]
  },
  {
   "cell_type": "markdown",
   "id": "51ed0e13-ebd6-40d0-b545-d4b75612ed27",
   "metadata": {},
   "source": [
    "### Supporting functions: `sec_edgar_downloader`"
   ]
  },
  {
   "cell_type": "markdown",
   "id": "d5f40d8c-649b-4584-93df-ae5689c3ee7d",
   "metadata": {},
   "source": [
    "### API\n",
    "\n",
    "The following are useful API calls:\n",
    "\n",
    "```\n",
    "# All firms for account in timeframe\n",
    "filled_url = f'https://data.sec.gov/api/xbrl/frames/us-gaap/AccountsPayableCurrent/USD/CY2019Q1I.json'  \n",
    "\n",
    "# Annual facts for a firm, over all timeframe\n",
    "filled_url = f'https://data.sec.gov/api/xbrl/companyfacts/CIK0000036104.json'\n",
    "\n",
    "# Quarterly acct facts for a firm, over all timeframe, if account exists\n",
    "filled_url = f'https://data.sec.gov/api/xbrl/companyconcept/CIK0000036104/us-gaap/AllowanceForLoanAndLeaseLossesWriteOffs.json'    \n",
    "```\n",
    "\n",
    "* [ref: edgar docs](https://www.sec.gov/edgar/sec-api-documentation)\n",
    "* [ref: xbrl accts]()"
   ]
  },
  {
   "cell_type": "code",
   "execution_count": null,
   "id": "812d551e-f6be-4051-836b-28729feaf88d",
   "metadata": {},
   "outputs": [],
   "source": [
    "acct = ['FinancingReceivableAllowanceForCreditLosses',              #total: ACL\n",
    "        #'LoansAndLeasesReceivableAllowance',                        #total: ALLL\n",
    "        \n",
    "        'ProvisionForLoanLeaseAndOtherLosses',                      #add: provision for credit losses\n",
    "        #'AllowanceForLoanAndLeaseLossesProvisionForLossNet',\n",
    "        #'AllowanceForLoanAndLeaseLossesProvisionForLossGross',\n",
    "        #'AllowanceForLoanAndLeaseLossesPeriodIncreaseDecrease',\n",
    "        \n",
    "        'FinancingReceivableAllowanceForCreditLossesWriteOffs',     #deduct: write-offs\n",
    "        #'AllowanceForLoanAndLeaseLossesWriteOffs',\n",
    "        'NotesReceivableGross'                                      #total loans\n",
    "       ]"
   ]
  },
  {
   "cell_type": "code",
   "execution_count": 41,
   "id": "7d071bc8-28a5-43d7-a35c-5c32187f674a",
   "metadata": {},
   "outputs": [
    {
     "name": "stdout",
     "output_type": "stream",
     "text": [
      "https://data.sec.gov/api/xbrl/companyconcept/CIK0000036104/us-gaap/FinancingReceivableAllowanceForCreditLosses.json\n",
      "https://data.sec.gov/api/xbrl/companyconcept/CIK0000036104/us-gaap/ProvisionForLoanLeaseAndOtherLosses.json\n",
      "https://data.sec.gov/api/xbrl/companyconcept/CIK0000036104/us-gaap/FinancingReceivableAllowanceForCreditLossesWriteOffs.json\n",
      "https://data.sec.gov/api/xbrl/companyconcept/CIK0000036104/us-gaap/NotesReceivableGross.json\n"
     ]
    }
   ],
   "source": [
    "ciks = ['0000036104']\n",
    "accts = ['FinancingReceivableAllowanceForCreditLosses',\n",
    "        'ProvisionForLoanLeaseAndOtherLosses',\n",
    "        'FinancingReceivableAllowanceForCreditLossesWriteOffs',\n",
    "        'NotesReceivableGross'\n",
    "       ]\n",
    "headers = {\n",
    "    'User-Agent': 'IMTorg',\n",
    "    'From': 'jason.beach@mgmt-tech.org',\n",
    "    'Accept-Encoding': 'gzip, deflate'\n",
    "}\n",
    "\n",
    "results = []\n",
    "for cik in ciks:\n",
    "    values = []\n",
    "    for acct in accts:\n",
    "        filled_url = f'https://data.sec.gov/api/xbrl/companyconcept/CIK{cik}/us-gaap/{acct}.json'\n",
    "        print(filled_url)\n",
    "        edgar_resp = requests.get(filled_url, headers=headers)\n",
    "        items = edgar_resp.json()['units']\n",
    "        current = len(items)\n",
    "        \n",
    "        item = items['USD'][current-1]\n",
    "        item['acct'] = acct\n",
    "        values.append(item)\n",
    "    results.append({'cik': cik, 'values': values})"
   ]
  },
  {
   "cell_type": "code",
   "execution_count": 48,
   "id": "3e1e4e83-86f0-4e73-bba6-f64eea118c89",
   "metadata": {},
   "outputs": [
    {
     "name": "stdout",
     "output_type": "stream",
     "text": [
      "{'cik': '0000036104', 'values': [{'end': '2009-12-31', 'val': 5264000000, 'accn': '0001193125-12-075125', 'fy': 2011, 'fp': 'FY', 'form': '10-K', 'filed': '2012-02-23', 'acct': 'FinancingReceivableAllowanceForCreditLosses'}, {'start': '2009-01-01', 'end': '2009-12-31', 'val': 5557000000, 'accn': '0001193125-12-075125', 'fy': 2011, 'fp': 'FY', 'form': '10-K', 'filed': '2012-02-23', 'frame': 'CY2009', 'acct': 'ProvisionForLoanLeaseAndOtherLosses'}, {'start': '2010-01-01', 'end': '2010-12-31', 'val': 4496000000, 'accn': '0001193125-12-075125', 'fy': 2011, 'fp': 'FY', 'form': '10-K', 'filed': '2012-02-23', 'acct': 'FinancingReceivableAllowanceForCreditLossesWriteOffs'}, {'end': '2019-12-31', 'val': 296102000000, 'accn': '0001193125-20-211979', 'fy': 2020, 'fp': 'Q2', 'form': '10-Q', 'filed': '2020-08-06', 'acct': 'NotesReceivableGross'}]}\n"
     ]
    },
    {
     "data": {
      "text/plain": [
       "[None]"
      ]
     },
     "execution_count": 48,
     "metadata": {},
     "output_type": "execute_result"
    }
   ],
   "source": [
    "list( map(print, results) )"
   ]
  },
  {
   "cell_type": "code",
   "execution_count": 58,
   "id": "dfb77fc0-2343-426a-8058-e7c8be03b1b5",
   "metadata": {},
   "outputs": [
    {
     "data": {
      "text/plain": [
       "dict_keys(['end', 'val', 'accn', 'fy', 'fp', 'form', 'filed', 'acct'])"
      ]
     },
     "execution_count": 58,
     "metadata": {},
     "output_type": "execute_result"
    }
   ],
   "source": [
    "results[0]['values'][3].keys()\n",
    "#dict_keys(['end', 'val', 'accn', 'fy', 'fp', 'form', 'filed', 'acct'])\n",
    "#dict_keys(['start', 'end', 'val', 'accn', 'fy', 'fp', 'form', 'filed', 'frame', 'acct'])\n",
    "#dict_keys(['start', 'end', 'val', 'accn', 'fy', 'fp', 'form', 'filed', 'acct'])\n",
    "#dict_keys(['end', 'val', 'accn', 'fy', 'fp', 'form', 'filed', 'acct'])"
   ]
  },
  {
   "cell_type": "code",
   "execution_count": 61,
   "id": "61e35bfa-17d1-4583-b798-4073638f475f",
   "metadata": {},
   "outputs": [
    {
     "data": {
      "text/plain": [
       "{'accn', 'acct', 'end', 'filed', 'form', 'fp', 'fy', 'val'}"
      ]
     },
     "execution_count": 61,
     "metadata": {},
     "output_type": "execute_result"
    }
   ],
   "source": [
    "x = set(['end', 'val', 'accn', 'fy', 'fp', 'form', 'filed', 'acct'])\n",
    "y = set(['start', 'end', 'val', 'accn', 'fy', 'fp', 'form', 'filed', 'frame', 'acct'])\n",
    "x.union(y)\n",
    "x.intersection(y)"
   ]
  },
  {
   "cell_type": "code",
   "execution_count": 65,
   "id": "bbc4fe42-922b-4c92-a05a-109f614e2486",
   "metadata": {},
   "outputs": [
    {
     "data": {
      "text/plain": [
       "['filed', 'acct']"
      ]
     },
     "execution_count": 65,
     "metadata": {},
     "output_type": "execute_result"
    }
   ],
   "source": [
    "x = ['end', 'val', 'accn', 'fy', 'fp', 'form', 'filed', 'acct']\n",
    "x[6:]"
   ]
  },
  {
   "cell_type": "code",
   "execution_count": 78,
   "id": "54c4d144-ae33-4bda-9776-0d35035b4484",
   "metadata": {},
   "outputs": [],
   "source": [
    "x = [{'a':'xyz', 'b':123}, {'a':'cde', 'b':1234}, {'a':'xyz', 'b':123}, {'a':'def', 'd':123}]"
   ]
  },
  {
   "cell_type": "code",
   "execution_count": 75,
   "id": "4d6acbcb-2a4d-4c23-b6ba-4e7704706752",
   "metadata": {},
   "outputs": [
    {
     "data": {
      "text/plain": [
       "[{'a': 'xyz', 'b': 123}, {'a': 'cde', 'b': 1234}, {'a': 'def', 'd': 123}]"
      ]
     },
     "execution_count": 75,
     "metadata": {},
     "output_type": "execute_result"
    }
   ],
   "source": [
    "def remove_list_dups(lst, key):\n",
    "    seen = set()\n",
    "    new_lst = []\n",
    "    for d in lst:\n",
    "        t = tuple(d[key])\n",
    "        if t not in seen:\n",
    "            seen.add(t)\n",
    "            new_lst.append(d)\n",
    "    return new_lst\n",
    "\n",
    "remove_list_dups(x, 'a')"
   ]
  },
  {
   "cell_type": "code",
   "execution_count": 79,
   "id": "8a8a099f-70ee-4c20-8863-63c3d70dca93",
   "metadata": {},
   "outputs": [],
   "source": [
    "y = x.reverse()"
   ]
  },
  {
   "cell_type": "code",
   "execution_count": 106,
   "id": "e7840d4f-50b1-4f48-b0bd-df7749fede5c",
   "metadata": {},
   "outputs": [
    {
     "data": {
      "text/plain": [
       "['def', 123]"
      ]
     },
     "execution_count": 106,
     "metadata": {},
     "output_type": "execute_result"
    }
   ],
   "source": [
    "list(x[0].values())"
   ]
  },
  {
   "cell_type": "code",
   "execution_count": 84,
   "id": "af9997eb-0220-41a6-8178-df3684c51f15",
   "metadata": {},
   "outputs": [],
   "source": [
    "from sqlalchemy import Table, Column, Integer, String, MetaData\n",
    "meta = MetaData()\n",
    "\n",
    "filings = Table(\n",
    "   'tbl', meta, \n",
    "   Column('cik', String), \n",
    "   Column('accn', String, primary_key = True), \n",
    "   Column('acct', String),\n",
    "   Column('val', Integer), \n",
    "   Column('fy', String),\n",
    "   Column('fp', String),\n",
    "   Column('form', String),\n",
    "   Column('end', String),\n",
    "   Column('filed', String),\n",
    ")"
   ]
  },
  {
   "cell_type": "code",
   "execution_count": 94,
   "id": "bf465888-d479-45b4-8a18-dc5b515e35b5",
   "metadata": {},
   "outputs": [
    {
     "data": {
      "text/plain": [
       "'cik'"
      ]
     },
     "execution_count": 94,
     "metadata": {},
     "output_type": "execute_result"
    }
   ],
   "source": [
    "#[col. for col in filings.columns]\n",
    "tmp = filings.columns[0]\n",
    "tmp.name"
   ]
  },
  {
   "cell_type": "code",
   "execution_count": 98,
   "id": "bf1e4677-8741-4d98-88d2-f21106df0d29",
   "metadata": {},
   "outputs": [],
   "source": [
    "from sqlalchemy import Table, Column, Integer, String, MetaData\n",
    "meta = MetaData()\n",
    "\n",
    "accts = {'FinancingReceivableAllowanceForCreditLosses': 'ACL',\n",
    "        'ProvisionForLoanLeaseAndOtherLosses': 'PCL',\n",
    "        'FinancingReceivableAllowanceForCreditLossesWriteOffs': 'Write_Offs',\n",
    "        'NotesReceivableGross': 'Total_Loans'\n",
    "       }\n",
    "\n",
    "filings = Table(\n",
    "    'filing', meta, \n",
    "    Column('cik', String), \n",
    "    Column('accn', String),     #, primary_key = True), \n",
    "    *(Column(acct, String()) for acct in accts.keys() ),\n",
    "    Column('fy', String),\n",
    "    Column('fp', String),\n",
    "    Column('form', String),\n",
    "    Column('end', String),\n",
    "    Column('filed', String),\n",
    "    )"
   ]
  },
  {
   "cell_type": "code",
   "execution_count": 100,
   "id": "f3bd2f72-edf5-46fb-9a0c-7e5599cce739",
   "metadata": {},
   "outputs": [
    {
     "data": {
      "text/plain": [
       "['cik',\n",
       " 'accn',\n",
       " 'FinancingReceivableAllowanceForCreditLosses',\n",
       " 'ProvisionForLoanLeaseAndOtherLosses',\n",
       " 'FinancingReceivableAllowanceForCreditLossesWriteOffs',\n",
       " 'NotesReceivableGross',\n",
       " 'fy',\n",
       " 'fp',\n",
       " 'form',\n",
       " 'end',\n",
       " 'filed']"
      ]
     },
     "execution_count": 100,
     "metadata": {},
     "output_type": "execute_result"
    }
   ],
   "source": [
    "[file.name for file in filings.columns]"
   ]
  },
  {
   "cell_type": "markdown",
   "id": "2ea5c041-6bd1-47fc-b86b-736fe229ac07",
   "metadata": {},
   "source": [
    "### Workflow"
   ]
  },
  {
   "cell_type": "code",
   "execution_count": 107,
   "id": "fc1c041f-2369-4a16-883b-ca9e0b3439f7",
   "metadata": {},
   "outputs": [],
   "source": [
    "headers = {\n",
    "    'User-Agent': 'IMTorg',\n",
    "    'From': 'jason.beach@mgmt-tech.org',\n",
    "    'Accept-Encoding': 'gzip, deflate'\n",
    "    }"
   ]
  },
  {
   "cell_type": "code",
   "execution_count": 155,
   "id": "ad25f03a-46f3-456c-9943-4c1f759bac9b",
   "metadata": {},
   "outputs": [],
   "source": [
    "long_cik = '0000036104'\n",
    "url_firm_details = \"https://data.sec.gov/submissions/CIK{}.json\"\n",
    "url_filled = url_firm_details.format(long_cik)"
   ]
  },
  {
   "cell_type": "code",
   "execution_count": 156,
   "id": "f9a4fac9-3dfd-4702-b387-ea06af6d5fdb",
   "metadata": {},
   "outputs": [],
   "source": [
    "edgar_resp = requests.get(url_filled, headers=headers)"
   ]
  },
  {
   "cell_type": "code",
   "execution_count": 171,
   "id": "9fce05d7-57ae-43af-a103-02dbee416446",
   "metadata": {},
   "outputs": [
    {
     "data": {
      "text/plain": [
       "dict_keys(['accessionNumber', 'filingDate', 'reportDate', 'acceptanceDateTime', 'act', 'form', 'fileNumber', 'filmNumber', 'items', 'size', 'isXBRL', 'isInlineXBRL', 'primaryDocument', 'primaryDocDescription'])"
      ]
     },
     "execution_count": 171,
     "metadata": {},
     "output_type": "execute_result"
    }
   ],
   "source": [
    "recent = edgar_resp.json()['filings']['recent']\n",
    "recent.keys()"
   ]
  },
  {
   "cell_type": "code",
   "execution_count": 181,
   "id": "64bb92e4-37c4-4b61-81e3-ed77de391ff9",
   "metadata": {},
   "outputs": [],
   "source": [
    "recs = []\n",
    "keys = recent.keys()\n",
    "for item in range(len(recent['filingDate'])):\n",
    "    rec = {val:recent[val][item] for val in keys}\n",
    "    recs.append(rec)\n",
    "df = pd.DataFrame.from_dict(recs)"
   ]
  },
  {
   "cell_type": "code",
   "execution_count": 221,
   "id": "bb1c46c6-17a1-45e5-8a60-014469dd5ba0",
   "metadata": {},
   "outputs": [
    {
     "data": {
      "text/plain": [
       "'2022-03-17 00:00:00'"
      ]
     },
     "execution_count": 221,
     "metadata": {},
     "output_type": "execute_result"
    }
   ],
   "source": [
    "from datetime import date\n",
    "today = pd.Timestamp(date.today())\n",
    "str(today)"
   ]
  },
  {
   "cell_type": "code",
   "execution_count": 228,
   "id": "1a2b3e6f-b625-4bed-b91b-2980a6308fa0",
   "metadata": {},
   "outputs": [],
   "source": [
    "today = '2022-03-01 00:00:00'"
   ]
  },
  {
   "cell_type": "code",
   "execution_count": 231,
   "id": "f3e510ee-7832-4d90-829d-49e288b6910c",
   "metadata": {},
   "outputs": [],
   "source": [
    "df['filingDate_t'] = pd.to_datetime(df['filingDate'])\n",
    "df_tmp1 = df[df['filingDate_t'] > str(today)]\n",
    "df_tmp2 = df_tmp1[df_tmp1['form'].isin(['8-K','10-K','10-Q'])]"
   ]
  },
  {
   "cell_type": "code",
   "execution_count": 232,
   "id": "3fde0a77-69c0-4f48-89bc-d43cfdc7a44d",
   "metadata": {},
   "outputs": [
    {
     "data": {
      "text/html": [
       "<div>\n",
       "<style scoped>\n",
       "    .dataframe tbody tr th:only-of-type {\n",
       "        vertical-align: middle;\n",
       "    }\n",
       "\n",
       "    .dataframe tbody tr th {\n",
       "        vertical-align: top;\n",
       "    }\n",
       "\n",
       "    .dataframe thead th {\n",
       "        text-align: right;\n",
       "    }\n",
       "</style>\n",
       "<table border=\"1\" class=\"dataframe\">\n",
       "  <thead>\n",
       "    <tr style=\"text-align: right;\">\n",
       "      <th></th>\n",
       "      <th>accessionNumber</th>\n",
       "      <th>filingDate</th>\n",
       "      <th>reportDate</th>\n",
       "      <th>acceptanceDateTime</th>\n",
       "      <th>act</th>\n",
       "      <th>form</th>\n",
       "      <th>fileNumber</th>\n",
       "      <th>filmNumber</th>\n",
       "      <th>items</th>\n",
       "      <th>size</th>\n",
       "      <th>isXBRL</th>\n",
       "      <th>isInlineXBRL</th>\n",
       "      <th>primaryDocument</th>\n",
       "      <th>primaryDocDescription</th>\n",
       "      <th>filingDate_t</th>\n",
       "    </tr>\n",
       "  </thead>\n",
       "  <tbody>\n",
       "    <tr>\n",
       "      <th>0</th>\n",
       "      <td>0001104659-22-031817</td>\n",
       "      <td>2022-03-09</td>\n",
       "      <td>2022-03-09</td>\n",
       "      <td>2022-03-09T07:01:59.000Z</td>\n",
       "      <td>34</td>\n",
       "      <td>8-K</td>\n",
       "      <td>001-06880</td>\n",
       "      <td>22723883</td>\n",
       "      <td>7.01,9.01</td>\n",
       "      <td>3076922</td>\n",
       "      <td>1</td>\n",
       "      <td>1</td>\n",
       "      <td>tm228610d1_8k.htm</td>\n",
       "      <td>FORM 8-K</td>\n",
       "      <td>2022-03-09</td>\n",
       "    </tr>\n",
       "  </tbody>\n",
       "</table>\n",
       "</div>"
      ],
      "text/plain": [
       "        accessionNumber  filingDate  reportDate        acceptanceDateTime act  \\\n",
       "0  0001104659-22-031817  2022-03-09  2022-03-09  2022-03-09T07:01:59.000Z  34   \n",
       "\n",
       "  form fileNumber filmNumber      items     size  isXBRL  isInlineXBRL  \\\n",
       "0  8-K  001-06880   22723883  7.01,9.01  3076922       1             1   \n",
       "\n",
       "     primaryDocument primaryDocDescription filingDate_t  \n",
       "0  tm228610d1_8k.htm              FORM 8-K   2022-03-09  "
      ]
     },
     "execution_count": 232,
     "metadata": {},
     "output_type": "execute_result"
    }
   ],
   "source": [
    "df_tmp2"
   ]
  },
  {
   "cell_type": "code",
   "execution_count": null,
   "id": "ea65ea59-c827-45f7-b061-f34ed2b6c9d9",
   "metadata": {},
   "outputs": [],
   "source": []
  },
  {
   "cell_type": "markdown",
   "id": "129d00fb-895a-4de3-8bb0-01d761c7c2e6",
   "metadata": {},
   "source": [
    "<br>\n",
    "<br>\n",
    "<br>\n",
    "<br>"
   ]
  },
  {
   "cell_type": "markdown",
   "id": "df4c8f6d-6032-44a4-a9bd-9c67c326ed28",
   "metadata": {},
   "source": [
    "## Part-3: Parse Files"
   ]
  },
  {
   "cell_type": "markdown",
   "id": "88a2a660-c517-48f8-aeaf-c5724fb543cb",
   "metadata": {},
   "source": [
    "### Parse inlineXBRL: `ixbrlparse`"
   ]
  },
  {
   "cell_type": "code",
   "execution_count": 24,
   "id": "118454d5-1d3a-493a-a4c0-ddb284c06b9f",
   "metadata": {},
   "outputs": [],
   "source": [
    "#! pip install ixbrlparse"
   ]
  },
  {
   "cell_type": "code",
   "execution_count": 128,
   "id": "975bae1e-e99a-4ad8-b22e-e80a66c5bc22",
   "metadata": {},
   "outputs": [],
   "source": [
    "import pandas as pd"
   ]
  },
  {
   "cell_type": "code",
   "execution_count": 129,
   "id": "a2827e72-6f99-4b65-90ac-2c4d0fec7869",
   "metadata": {},
   "outputs": [],
   "source": [
    "from ixbrlparse import IXBRL"
   ]
  },
  {
   "cell_type": "code",
   "execution_count": 130,
   "id": "66ac2b6e-0950-4c67-8364-0e8751625724",
   "metadata": {},
   "outputs": [],
   "source": [
    "import io\n",
    "from ixbrlparse import IXBRL\n",
    "\n",
    "file_path = './large_dataset/wfc-0331x2020x10q.htm'\n",
    "#x = IXBRL(io.StringIO(xbrl_str))\n",
    "with open(file_path, encoding=\"utf8\") as f:\n",
    "    x = IXBRL(f)"
   ]
  },
  {
   "cell_type": "code",
   "execution_count": 131,
   "id": "868570e9-734c-467c-83fe-434d432526a2",
   "metadata": {},
   "outputs": [],
   "source": [
    "df = pd.DataFrame(x.to_table())"
   ]
  },
  {
   "cell_type": "code",
   "execution_count": 132,
   "id": "9b203f40-ff54-425a-984f-c6960fac91c5",
   "metadata": {},
   "outputs": [
    {
     "data": {
      "text/plain": [
       "[{'schema': 'http://fasb.org/us-gaap/2019-01-31',\n",
       "  'name': 'AvailableForSaleSecuritiesDebtSecurities',\n",
       "  'value': 5800000000.0,\n",
       "  'unit': 'iso4217:USD',\n",
       "  'instant': '2019-12-31',\n",
       "  'startdate': None,\n",
       "  'enddate': None,\n",
       "  'segment:0': 'explicitMember us-gaap:FinancialInstrumentAxis us-gaap:USStatesAndPoliticalSubdivisionsMember',\n",
       "  'segment:1': 'explicitMember wfc:IncomeTaxPositionsAxis wfc:NontaxablePreferredDebtSecuritiesMember'}]"
      ]
     },
     "execution_count": 132,
     "metadata": {},
     "output_type": "execute_result"
    }
   ],
   "source": [
    "x.to_table()[:1]"
   ]
  },
  {
   "cell_type": "code",
   "execution_count": 143,
   "id": "0a90ec1a-e02b-42fb-96ac-3c40866cc7b4",
   "metadata": {},
   "outputs": [
    {
     "data": {
      "text/html": [
       "<div>\n",
       "<style scoped>\n",
       "    .dataframe tbody tr th:only-of-type {\n",
       "        vertical-align: middle;\n",
       "    }\n",
       "\n",
       "    .dataframe tbody tr th {\n",
       "        vertical-align: top;\n",
       "    }\n",
       "\n",
       "    .dataframe thead th {\n",
       "        text-align: right;\n",
       "    }\n",
       "</style>\n",
       "<table border=\"1\" class=\"dataframe\">\n",
       "  <thead>\n",
       "    <tr style=\"text-align: right;\">\n",
       "      <th></th>\n",
       "      <th>schema</th>\n",
       "      <th>name</th>\n",
       "      <th>value</th>\n",
       "      <th>unit</th>\n",
       "      <th>instant</th>\n",
       "      <th>startdate</th>\n",
       "      <th>enddate</th>\n",
       "      <th>segment:0</th>\n",
       "      <th>segment:1</th>\n",
       "      <th>segment:2</th>\n",
       "      <th>segment:3</th>\n",
       "      <th>segment:4</th>\n",
       "      <th>segment:5</th>\n",
       "    </tr>\n",
       "  </thead>\n",
       "  <tbody>\n",
       "    <tr>\n",
       "      <th>0</th>\n",
       "      <td>http://fasb.org/us-gaap/2019-01-31</td>\n",
       "      <td>AvailableForSaleSecuritiesDebtSecurities</td>\n",
       "      <td>5.800000e+09</td>\n",
       "      <td>iso4217:USD</td>\n",
       "      <td>2019-12-31</td>\n",
       "      <td>None</td>\n",
       "      <td>None</td>\n",
       "      <td>explicitMember us-gaap:FinancialInstrumentAxis...</td>\n",
       "      <td>explicitMember wfc:IncomeTaxPositionsAxis wfc:...</td>\n",
       "      <td>NaN</td>\n",
       "      <td>NaN</td>\n",
       "      <td>NaN</td>\n",
       "      <td>NaN</td>\n",
       "    </tr>\n",
       "    <tr>\n",
       "      <th>1</th>\n",
       "      <td>http://fasb.org/us-gaap/2019-01-31</td>\n",
       "      <td>AvailableForSaleSecuritiesDebtSecurities</td>\n",
       "      <td>5.800000e+09</td>\n",
       "      <td>iso4217:USD</td>\n",
       "      <td>2020-03-31</td>\n",
       "      <td>None</td>\n",
       "      <td>None</td>\n",
       "      <td>explicitMember us-gaap:FinancialInstrumentAxis...</td>\n",
       "      <td>explicitMember wfc:IncomeTaxPositionsAxis wfc:...</td>\n",
       "      <td>NaN</td>\n",
       "      <td>NaN</td>\n",
       "      <td>NaN</td>\n",
       "      <td>NaN</td>\n",
       "    </tr>\n",
       "  </tbody>\n",
       "</table>\n",
       "</div>"
      ],
      "text/plain": [
       "                               schema  \\\n",
       "0  http://fasb.org/us-gaap/2019-01-31   \n",
       "1  http://fasb.org/us-gaap/2019-01-31   \n",
       "\n",
       "                                       name         value         unit  \\\n",
       "0  AvailableForSaleSecuritiesDebtSecurities  5.800000e+09  iso4217:USD   \n",
       "1  AvailableForSaleSecuritiesDebtSecurities  5.800000e+09  iso4217:USD   \n",
       "\n",
       "      instant startdate enddate  \\\n",
       "0  2019-12-31      None    None   \n",
       "1  2020-03-31      None    None   \n",
       "\n",
       "                                           segment:0  \\\n",
       "0  explicitMember us-gaap:FinancialInstrumentAxis...   \n",
       "1  explicitMember us-gaap:FinancialInstrumentAxis...   \n",
       "\n",
       "                                           segment:1 segment:2 segment:3  \\\n",
       "0  explicitMember wfc:IncomeTaxPositionsAxis wfc:...       NaN       NaN   \n",
       "1  explicitMember wfc:IncomeTaxPositionsAxis wfc:...       NaN       NaN   \n",
       "\n",
       "  segment:4 segment:5  \n",
       "0       NaN       NaN  \n",
       "1       NaN       NaN  "
      ]
     },
     "execution_count": 143,
     "metadata": {},
     "output_type": "execute_result"
    }
   ],
   "source": [
    "df.iloc[0:2]#['value'][0]"
   ]
  },
  {
   "cell_type": "markdown",
   "id": "4d3d0af0-b274-4be5-9715-0fa3aad81c81",
   "metadata": {},
   "source": [
    "The fact is a 'value' if 'segment:0 != \"\"' else it is calculated."
   ]
  },
  {
   "cell_type": "code",
   "execution_count": 193,
   "id": "450e03ed-ea7e-4b8b-a381-012951279de1",
   "metadata": {},
   "outputs": [
    {
     "data": {
      "text/html": [
       "<div>\n",
       "<style scoped>\n",
       "    .dataframe tbody tr th:only-of-type {\n",
       "        vertical-align: middle;\n",
       "    }\n",
       "\n",
       "    .dataframe tbody tr th {\n",
       "        vertical-align: top;\n",
       "    }\n",
       "\n",
       "    .dataframe thead th {\n",
       "        text-align: right;\n",
       "    }\n",
       "</style>\n",
       "<table border=\"1\" class=\"dataframe\">\n",
       "  <thead>\n",
       "    <tr style=\"text-align: right;\">\n",
       "      <th></th>\n",
       "      <th>schema</th>\n",
       "      <th>name</th>\n",
       "      <th>value</th>\n",
       "      <th>unit</th>\n",
       "      <th>instant</th>\n",
       "      <th>startdate</th>\n",
       "      <th>enddate</th>\n",
       "      <th>segment:0</th>\n",
       "      <th>segment:1</th>\n",
       "      <th>segment:2</th>\n",
       "      <th>segment:3</th>\n",
       "      <th>segment:4</th>\n",
       "      <th>segment:5</th>\n",
       "    </tr>\n",
       "  </thead>\n",
       "  <tbody>\n",
       "    <tr>\n",
       "      <th>1587</th>\n",
       "      <td>http://fasb.org/us-gaap/2019-01-31</td>\n",
       "      <td>FinancingReceivableAllowanceForCreditLosses</td>\n",
       "      <td>5.279000e+09</td>\n",
       "      <td>iso4217:USD</td>\n",
       "      <td>2020-03-31</td>\n",
       "      <td>None</td>\n",
       "      <td>None</td>\n",
       "      <td>explicitMember us-gaap:AccountsNotesLoansAndFi...</td>\n",
       "      <td>NaN</td>\n",
       "      <td>NaN</td>\n",
       "      <td>NaN</td>\n",
       "      <td>NaN</td>\n",
       "      <td>NaN</td>\n",
       "    </tr>\n",
       "    <tr>\n",
       "      <th>1588</th>\n",
       "      <td>http://fasb.org/us-gaap/2019-01-31</td>\n",
       "      <td>FinancingReceivableAllowanceForCreditLosses</td>\n",
       "      <td>6.743000e+09</td>\n",
       "      <td>iso4217:USD</td>\n",
       "      <td>2020-03-31</td>\n",
       "      <td>None</td>\n",
       "      <td>None</td>\n",
       "      <td>explicitMember us-gaap:AccountsNotesLoansAndFi...</td>\n",
       "      <td>NaN</td>\n",
       "      <td>NaN</td>\n",
       "      <td>NaN</td>\n",
       "      <td>NaN</td>\n",
       "      <td>NaN</td>\n",
       "    </tr>\n",
       "    <tr>\n",
       "      <th>1589</th>\n",
       "      <td>http://fasb.org/us-gaap/2019-01-31</td>\n",
       "      <td>FinancingReceivableAllowanceForCreditLosses</td>\n",
       "      <td>1.202200e+10</td>\n",
       "      <td>iso4217:USD</td>\n",
       "      <td>2020-03-31</td>\n",
       "      <td>None</td>\n",
       "      <td>None</td>\n",
       "      <td></td>\n",
       "      <td>NaN</td>\n",
       "      <td>NaN</td>\n",
       "      <td>NaN</td>\n",
       "      <td>NaN</td>\n",
       "      <td>NaN</td>\n",
       "    </tr>\n",
       "  </tbody>\n",
       "</table>\n",
       "</div>"
      ],
      "text/plain": [
       "                                  schema  \\\n",
       "1587  http://fasb.org/us-gaap/2019-01-31   \n",
       "1588  http://fasb.org/us-gaap/2019-01-31   \n",
       "1589  http://fasb.org/us-gaap/2019-01-31   \n",
       "\n",
       "                                             name         value         unit  \\\n",
       "1587  FinancingReceivableAllowanceForCreditLosses  5.279000e+09  iso4217:USD   \n",
       "1588  FinancingReceivableAllowanceForCreditLosses  6.743000e+09  iso4217:USD   \n",
       "1589  FinancingReceivableAllowanceForCreditLosses  1.202200e+10  iso4217:USD   \n",
       "\n",
       "         instant startdate enddate  \\\n",
       "1587  2020-03-31      None    None   \n",
       "1588  2020-03-31      None    None   \n",
       "1589  2020-03-31      None    None   \n",
       "\n",
       "                                              segment:0 segment:1 segment:2  \\\n",
       "1587  explicitMember us-gaap:AccountsNotesLoansAndFi...       NaN       NaN   \n",
       "1588  explicitMember us-gaap:AccountsNotesLoansAndFi...       NaN       NaN   \n",
       "1589                                                          NaN       NaN   \n",
       "\n",
       "     segment:3 segment:4 segment:5  \n",
       "1587       NaN       NaN       NaN  \n",
       "1588       NaN       NaN       NaN  \n",
       "1589       NaN       NaN       NaN  "
      ]
     },
     "execution_count": 193,
     "metadata": {},
     "output_type": "execute_result"
    }
   ],
   "source": [
    "#Table6.6: Allowance for Credit Losses for Loans Activity by Portfolio Segment\n",
    "#ProvisionForLoanAndLeaseLosses\n",
    "#FinancingReceivableAllowanceForCreditLosses\n",
    "\n",
    "#df[(df['name'].str.contains('ProvisionForLoanAndLeaseLosses'))]    #Balance, beginning of period adjusted (Commercial, Consumer, Total) 2020\n",
    "df.iloc[1551:1554]\n",
    "#df[(df['name'].str.contains('FinancingReceivableAllowanceForCreditLosses'))]   #Balance, end of period (Commercial, Consumer, Total) 2020\n",
    "df.iloc[1587:1590]"
   ]
  },
  {
   "cell_type": "code",
   "execution_count": 308,
   "id": "022704c0-7bfd-4c6a-a6b3-9c97c5f129e1",
   "metadata": {},
   "outputs": [],
   "source": [
    "# Table 6.13 Nonaccrual Loans\n",
    "\n",
    "#df[(df['name'].str.contains('')) & (df['name'].str.contains('FinancingReceivableRecordedInvestmentNonaccrualStatus'))]\n",
    "#df[df['value']==2.875e+09]\n",
    "#df.iloc[2916]    #Total commercial\n",
    "#df.iloc[2931]    #Total consumer\n",
    "#df.iloc[2934]    #Total nonaccrual loans"
   ]
  },
  {
   "cell_type": "code",
   "execution_count": 307,
   "id": "b45ee028-f443-4b01-a4ed-46df81be3f5c",
   "metadata": {},
   "outputs": [],
   "source": [
    "# Table 6.18: Defaulted TDRs\n",
    "\n",
    "#df[(df['name'].str.contains('')) & (df['name'].str.contains(''))]\n",
    "#df[df['name'].str.contains('FinancingReceivableModificationsSubsequentDefaultRecordedInvestment1')]\n",
    "#df.iloc[3253]    #Total commerical\n",
    "#df.iloc[3265]    #Total consumer"
   ]
  },
  {
   "cell_type": "code",
   "execution_count": 300,
   "id": "c5d7fb10-d185-45ec-9cd2-67333e12d42c",
   "metadata": {},
   "outputs": [],
   "source": [
    "# Table 10.3: Transfers With Continuing Involvement\n",
    "\n",
    "#df[(df['name'].str.contains('')) & (df['name'].str.contains('GainLossOnSecuritizationOfFinancialAssets'))]\n",
    "#df.iloc[3699:3719]    #complete table"
   ]
  },
  {
   "cell_type": "code",
   "execution_count": 302,
   "id": "00058c6a-31e2-4b30-8cad-1bb210beb311",
   "metadata": {},
   "outputs": [],
   "source": [
    "# Table 10.4: Residential Mortgage Servicing Rights\n",
    "\n",
    "#df.iloc[3719:3725]    #complete table"
   ]
  },
  {
   "cell_type": "code",
   "execution_count": 306,
   "id": "5d806c4f-4d89-4037-80d3-115f61856bc5",
   "metadata": {},
   "outputs": [],
   "source": [
    "# Table 15.5: Hedged Items in Fair Value Hedging Relationship\n",
    "\n",
    "#df[(df['name'].str.contains('')) & (df['name'].str.contains('HedgedAssetFairValueHedge'))]\n",
    "#df.iloc[4810:4842]    #complete table"
   ]
  },
  {
   "cell_type": "code",
   "execution_count": null,
   "id": "62701e1f-a264-4168-adfa-8be62f766640",
   "metadata": {},
   "outputs": [],
   "source": []
  },
  {
   "cell_type": "code",
   "execution_count": null,
   "id": "95f0d615-9836-4106-8c5d-49105d414d05",
   "metadata": {},
   "outputs": [],
   "source": []
  },
  {
   "cell_type": "code",
   "execution_count": null,
   "id": "cab6ef71-c2f2-46b5-89f5-abffcf20e886",
   "metadata": {},
   "outputs": [],
   "source": []
  },
  {
   "cell_type": "code",
   "execution_count": null,
   "id": "ccf57acd-0b09-4673-a034-a6a750ef8131",
   "metadata": {},
   "outputs": [],
   "source": []
  },
  {
   "cell_type": "code",
   "execution_count": null,
   "id": "69c9c5f2-a81b-4fd8-a21e-42f3d55376c4",
   "metadata": {},
   "outputs": [],
   "source": []
  },
  {
   "cell_type": "markdown",
   "id": "b4927d20-e5fc-46bb-860d-a4207281b9fe",
   "metadata": {},
   "source": [
    "### Parse XBRL: `python-xbrl`"
   ]
  },
  {
   "cell_type": "code",
   "execution_count": 3,
   "id": "d653af1c-1f7e-4481-9af2-9fbb8e44bb5d",
   "metadata": {},
   "outputs": [],
   "source": [
    "#! pip uninstall python-xbrl -y"
   ]
  },
  {
   "cell_type": "code",
   "execution_count": 2,
   "id": "419e849d-ab0c-4eef-9090-cde4b93b00dc",
   "metadata": {},
   "outputs": [],
   "source": [
    "from xbrl import XBRLParser, GAAP, GAAPSerializer"
   ]
  },
  {
   "cell_type": "code",
   "execution_count": 4,
   "id": "f09ccfec-34d7-432e-a0ba-a8e89f8c08df",
   "metadata": {},
   "outputs": [],
   "source": [
    "from xbrl import DEISerializer"
   ]
  },
  {
   "cell_type": "code",
   "execution_count": 5,
   "id": "388aadfd-3f74-439c-a4db-257a2827510b",
   "metadata": {},
   "outputs": [
    {
     "name": "stdout",
     "output_type": "stream",
     "text": [
      "2020q1_notes\t  2020q2_notes.zip   py-xbrl  sec-edgar-filings\n",
      "2020q1_notes.zip  2021_12_notes      sec      wfc-0331x2020x10q.htm\n",
      "2020q2_notes\t  aray-20211231.xml  sec.db   wfc-0331x2020x10q_htm.xml\n"
     ]
    }
   ],
   "source": [
    "! ls large_dataset/"
   ]
  },
  {
   "cell_type": "raw",
   "id": "e1f196c4-3155-45c0-86b2-2de5562a158c",
   "metadata": {},
   "source": [
    "import os\n",
    "\n",
    "file_path = './large_dataset/wfc-0331x2020x10q_htm.xml'\n",
    "with open(file_path, 'w') as f:\n",
    "    f.write(xbrl_str)"
   ]
  },
  {
   "cell_type": "raw",
   "id": "dfa47ea4-d0af-4ef3-932d-359d10c0c286",
   "metadata": {},
   "source": [
    "file_path = './large_dataset/aray-20211231.xml'\n",
    "\n",
    "xbrl_parser = XBRLParser()\n",
    "xbrl = xbrl_parser.parse(open(file_path))"
   ]
  },
  {
   "cell_type": "code",
   "execution_count": 6,
   "id": "39d5bc0c-d253-4bde-b7da-dc5d3bd16b1d",
   "metadata": {},
   "outputs": [],
   "source": [
    "file_path = './large_dataset/wfc-0331x2020x10q_htm.xml'\n",
    "\n",
    "xbrl_parser = XBRLParser()\n",
    "xbrl = xbrl_parser.parse(open(file_path))"
   ]
  },
  {
   "cell_type": "code",
   "execution_count": 7,
   "id": "33d4b20a-727b-4494-b3cc-e987cc9dcb7a",
   "metadata": {},
   "outputs": [],
   "source": [
    "gaap_obj = xbrl_parser.parseGAAP(xbrl, doc_date=\"20200331\", context=\"current\", ignore_errors=1)"
   ]
  },
  {
   "cell_type": "code",
   "execution_count": 11,
   "id": "88e50b25-6a1d-4ae1-a271-79f4ac7e53a6",
   "metadata": {},
   "outputs": [
    {
     "data": {
      "text/plain": [
       "80"
      ]
     },
     "execution_count": 11,
     "metadata": {},
     "output_type": "execute_result"
    }
   ],
   "source": [
    "len(dir(gaap_obj))"
   ]
  },
  {
   "cell_type": "code",
   "execution_count": 14,
   "id": "fd64d644-6309-4887-91ad-3b6752b0288a",
   "metadata": {},
   "outputs": [
    {
     "data": {
      "text/plain": [
       "['assets',\n",
       " 'commitments_and_contingencies',\n",
       " 'common_shares_authorized',\n",
       " 'common_shares_issued',\n",
       " 'common_shares_outstanding',\n",
       " 'comprehensive_income',\n",
       " 'comprehensive_income_interest',\n",
       " 'comprehensive_income_parent',\n",
       " 'cost_of_revenue',\n",
       " 'costs_and_expenses']"
      ]
     },
     "execution_count": 14,
     "metadata": {},
     "output_type": "execute_result"
    }
   ],
   "source": [
    "[attr for attr in dir(gaap_obj) if attr[0]!='_'][:10]"
   ]
  },
  {
   "cell_type": "code",
   "execution_count": 12,
   "id": "0c3e32be-1cd7-46f0-9ef3-4f7e4467763f",
   "metadata": {},
   "outputs": [
    {
     "data": {
      "text/plain": [
       "[]"
      ]
     },
     "execution_count": 12,
     "metadata": {},
     "output_type": "execute_result"
    }
   ],
   "source": [
    "[attr for attr in dir(gaap_obj) if 'accrual' in attr.lower()]"
   ]
  },
  {
   "cell_type": "code",
   "execution_count": 9,
   "id": "44b31a8e-c3e0-42c4-96c5-f81937366f25",
   "metadata": {},
   "outputs": [],
   "source": [
    "dei_obj = xbrl_parser.parseDEI(xbrl)\n",
    "serializer = DEISerializer()\n",
    "result = serializer.dump(dei_obj)"
   ]
  },
  {
   "cell_type": "code",
   "execution_count": 10,
   "id": "7e275740-6e51-4742-81a5-b1f18dd70b59",
   "metadata": {},
   "outputs": [
    {
     "data": {
      "text/plain": [
       "{'shares_outstanding': 4099997545.0,\n",
       " 'public_float': 0.0,\n",
       " 'trading_symbol': 'WFC',\n",
       " 'company_name': 'WELLS FARGO & COMPANY/MN'}"
      ]
     },
     "execution_count": 10,
     "metadata": {},
     "output_type": "execute_result"
    }
   ],
   "source": [
    "result"
   ]
  },
  {
   "cell_type": "code",
   "execution_count": 18,
   "id": "8ee813ae-145a-4087-95f1-38d2521294da",
   "metadata": {},
   "outputs": [
    {
     "name": "stdout",
     "output_type": "stream",
     "text": [
      "235\n"
     ]
    }
   ],
   "source": [
    "custom_obj = xbrl_parser.parseCustom(xbrl)\n",
    "print( len(custom_obj()) )\n",
    "#print( custom_obj() )"
   ]
  },
  {
   "cell_type": "markdown",
   "id": "7af322e2-c329-4fd3-ad17-1874de5ecb8a",
   "metadata": {},
   "source": [
    "### Parse XBRL: `py-xbrl`\n",
    "\n",
    "This repo appears to be solidly built and recently maintained.  The API appears clean.  It also seems to be focused on thorough extraction of all concepts, over a range of time."
   ]
  },
  {
   "cell_type": "code",
   "execution_count": 14,
   "id": "ab1253a4-5de9-40e0-9ff1-a104ed9417f6",
   "metadata": {},
   "outputs": [],
   "source": [
    "#pip install py-xbrl"
   ]
  },
  {
   "cell_type": "code",
   "execution_count": 15,
   "id": "0e1ff1e9-493a-406d-a87a-6976935a7e95",
   "metadata": {},
   "outputs": [],
   "source": [
    "import logging\n",
    "from xbrl.cache import HttpCache\n",
    "from xbrl.instance import XbrlInstance, XbrlParser"
   ]
  },
  {
   "cell_type": "code",
   "execution_count": 16,
   "id": "7174279d-d17c-43b1-8b5e-7fe8469eb8ce",
   "metadata": {},
   "outputs": [],
   "source": [
    "logging.basicConfig(level=logging.INFO)\n",
    "cache: HttpCache = HttpCache('./large_dataset/py-xbrl')   #'./cache')\n",
    "\n",
    "# Replace the dummy header with your information!! \n",
    "# services like SEC EDGAR require you to disclose information about your bot! (https://www.sec.gov/privacy.htm#security)\n",
    "headers = {'From': 'your.name@company.com', 'User-Agent': 'Tool/Version (Website)'}\n",
    "cache.set_headers(headers)\n",
    "xbrlParser = XbrlParser(cache)"
   ]
  },
  {
   "cell_type": "markdown",
   "id": "f8c5afae-0066-4c91-a3f1-f9b2d04adc9b",
   "metadata": {},
   "source": [
    "Below, it looks like he is refering to the 'XBRL Instance Document': \n",
    "\n",
    "* msft filing detail page: https://www.sec.gov/Archives/edgar/data/789019/000156459017014900/0001564590-17-014900-index.htm\n",
    "* wfc 10q filing detail page: https://www.sec.gov/Archives/edgar/data/72971/000007297120000236/0000072971-20-000236-index.htm\n",
    "* wfc 8k filing detail page: https://www.sec.gov/Archives/edgar/data/72971/000007297120000230/wfc1qer04-14x20form8xk_htm.xml"
   ]
  },
  {
   "cell_type": "code",
   "execution_count": 83,
   "id": "f45bec2c-80da-4206-9844-69d1d5c04c16",
   "metadata": {},
   "outputs": [
    {
     "name": "stderr",
     "output_type": "stream",
     "text": [
      "INFO:xbrl.helper.connection_manager:200 https://www.sec.gov/Archives/edgar/data/72971/000007297120000236/wfc-0331x2020x10q_htm.xml\n",
      "INFO:xbrl.helper.connection_manager:200 https://www.sec.gov/Archives/edgar/data/72971/000007297120000236/wfc-20200331.xsd\n",
      "INFO:xbrl.helper.connection_manager:200 https://www.sec.gov/Archives/edgar/data/72971/000007297120000236/wfc-20200331_cal.xml\n",
      "INFO:xbrl.helper.connection_manager:200 https://www.sec.gov/Archives/edgar/data/72971/000007297120000236/wfc-20200331_def.xml\n",
      "INFO:xbrl.helper.connection_manager:200 https://www.sec.gov/Archives/edgar/data/72971/000007297120000236/wfc-20200331_lab.xml\n",
      "INFO:xbrl.helper.connection_manager:200 https://www.sec.gov/Archives/edgar/data/72971/000007297120000236/wfc-20200331_pre.xml\n"
     ]
    }
   ],
   "source": [
    "#xbrl_url = 'https://www.sec.gov/Archives/edgar/data/789019/000156459017014900/msft-20170630.xml'\n",
    "#xbrl_url = 'https://www.sec.gov/Archives/edgar/data/72971/000007297120000230/wfc1qer04-14x20form8xk_htm.xml'\n",
    "xbrl_url = 'https://www.sec.gov/Archives/edgar/data/72971/000007297120000236/wfc-0331x2020x10q_htm.xml'\n",
    "inst: XbrlInstance = xbrlParser.parse_instance(xbrl_url)"
   ]
  },
  {
   "cell_type": "code",
   "execution_count": 84,
   "id": "2ca00568-5f37-4906-9fce-c9cc0c740a00",
   "metadata": {},
   "outputs": [
    {
     "data": {
      "text/plain": [
       "8331"
      ]
     },
     "execution_count": 84,
     "metadata": {},
     "output_type": "execute_result"
    }
   ],
   "source": [
    "len(inst.facts)"
   ]
  },
  {
   "cell_type": "code",
   "execution_count": 85,
   "id": "743c0a09-cb40-4af9-b7f0-eee98887fc0d",
   "metadata": {},
   "outputs": [],
   "source": [
    "fact = inst.facts[0]"
   ]
  },
  {
   "cell_type": "code",
   "execution_count": 86,
   "id": "5d64aeee-7eed-4b07-914f-d163c80a1de1",
   "metadata": {},
   "outputs": [
    {
     "data": {
      "text/plain": [
       "'FD2020Q1YTD'"
      ]
     },
     "execution_count": 86,
     "metadata": {},
     "output_type": "execute_result"
    }
   ],
   "source": [
    "fact.context.xml_id"
   ]
  },
  {
   "cell_type": "code",
   "execution_count": 87,
   "id": "b991bc7e-d750-4f3e-a0a8-1b6229b094f2",
   "metadata": {},
   "outputs": [],
   "source": [
    "extracted_data: [dict] = []\n",
    "for fact in inst.facts:\n",
    "    extracted_data.append({'id': fact.context.xml_id, 'concept': fact.concept.name, 'value': fact.value})\n",
    "df: pd.DataFrame = pd.DataFrame(data=extracted_data)"
   ]
  },
  {
   "cell_type": "code",
   "execution_count": 88,
   "id": "7ce35e8b-4a50-4c99-8595-de2e1425928b",
   "metadata": {},
   "outputs": [],
   "source": [
    "pd.set_option('display.max_rows', 100)"
   ]
  },
  {
   "cell_type": "code",
   "execution_count": 89,
   "id": "8006f6c7-abe4-421b-994d-d9ec63a7a218",
   "metadata": {},
   "outputs": [
    {
     "data": {
      "text/html": [
       "<div>\n",
       "<style scoped>\n",
       "    .dataframe tbody tr th:only-of-type {\n",
       "        vertical-align: middle;\n",
       "    }\n",
       "\n",
       "    .dataframe tbody tr th {\n",
       "        vertical-align: top;\n",
       "    }\n",
       "\n",
       "    .dataframe thead th {\n",
       "        text-align: right;\n",
       "    }\n",
       "</style>\n",
       "<table border=\"1\" class=\"dataframe\">\n",
       "  <thead>\n",
       "    <tr style=\"text-align: right;\">\n",
       "      <th></th>\n",
       "      <th>id</th>\n",
       "      <th>concept</th>\n",
       "      <th>value</th>\n",
       "    </tr>\n",
       "  </thead>\n",
       "  <tbody>\n",
       "    <tr>\n",
       "      <th>373</th>\n",
       "      <td>FI2020Q1</td>\n",
       "      <td>AccountsPayableAndAccruedLiabilitiesCurrentAnd...</td>\n",
       "      <td>76238000000.0</td>\n",
       "    </tr>\n",
       "    <tr>\n",
       "      <th>3617</th>\n",
       "      <td>FI2020Q1_us-gaap_FairValueByMeasurementBasisAx...</td>\n",
       "      <td>AccountsPayableAndAccruedLiabilitiesCurrentAnd...</td>\n",
       "      <td>385000000.0</td>\n",
       "    </tr>\n",
       "    <tr>\n",
       "      <th>3616</th>\n",
       "      <td>FI2020Q1_us-gaap_FairValueByMeasurementBasisAx...</td>\n",
       "      <td>AccountsPayableAndAccruedLiabilitiesCurrentAnd...</td>\n",
       "      <td>0.0</td>\n",
       "    </tr>\n",
       "    <tr>\n",
       "      <th>3615</th>\n",
       "      <td>FI2020Q1_us-gaap_FairValueByMeasurementBasisAx...</td>\n",
       "      <td>AccountsPayableAndAccruedLiabilitiesCurrentAnd...</td>\n",
       "      <td>231000000.0</td>\n",
       "    </tr>\n",
       "    <tr>\n",
       "      <th>3614</th>\n",
       "      <td>FI2020Q1_us-gaap_FairValueByMeasurementBasisAx...</td>\n",
       "      <td>AccountsPayableAndAccruedLiabilitiesCurrentAnd...</td>\n",
       "      <td>154000000.0</td>\n",
       "    </tr>\n",
       "    <tr>\n",
       "      <th>422</th>\n",
       "      <td>FI2020Q1_us-gaap_FairValueByMeasurementBasisAx...</td>\n",
       "      <td>AccountsPayableAndAccruedLiabilitiesCurrentAnd...</td>\n",
       "      <td>230000000.0</td>\n",
       "    </tr>\n",
       "    <tr>\n",
       "      <th>423</th>\n",
       "      <td>FI2019Q4_us-gaap_FairValueByMeasurementBasisAx...</td>\n",
       "      <td>AccountsPayableAndAccruedLiabilitiesCurrentAnd...</td>\n",
       "      <td>235000000.0</td>\n",
       "    </tr>\n",
       "    <tr>\n",
       "      <th>3686</th>\n",
       "      <td>FI2019Q4_us-gaap_FairValueByMeasurementBasisAx...</td>\n",
       "      <td>AccountsPayableAndAccruedLiabilitiesCurrentAnd...</td>\n",
       "      <td>189000000.0</td>\n",
       "    </tr>\n",
       "    <tr>\n",
       "      <th>3687</th>\n",
       "      <td>FI2019Q4_us-gaap_FairValueByMeasurementBasisAx...</td>\n",
       "      <td>AccountsPayableAndAccruedLiabilitiesCurrentAnd...</td>\n",
       "      <td>235000000.0</td>\n",
       "    </tr>\n",
       "    <tr>\n",
       "      <th>374</th>\n",
       "      <td>FI2019Q4</td>\n",
       "      <td>AccountsPayableAndAccruedLiabilitiesCurrentAnd...</td>\n",
       "      <td>75163000000.0</td>\n",
       "    </tr>\n",
       "  </tbody>\n",
       "</table>\n",
       "</div>"
      ],
      "text/plain": [
       "                                                     id  \\\n",
       "373                                            FI2020Q1   \n",
       "3617  FI2020Q1_us-gaap_FairValueByMeasurementBasisAx...   \n",
       "3616  FI2020Q1_us-gaap_FairValueByMeasurementBasisAx...   \n",
       "3615  FI2020Q1_us-gaap_FairValueByMeasurementBasisAx...   \n",
       "3614  FI2020Q1_us-gaap_FairValueByMeasurementBasisAx...   \n",
       "422   FI2020Q1_us-gaap_FairValueByMeasurementBasisAx...   \n",
       "423   FI2019Q4_us-gaap_FairValueByMeasurementBasisAx...   \n",
       "3686  FI2019Q4_us-gaap_FairValueByMeasurementBasisAx...   \n",
       "3687  FI2019Q4_us-gaap_FairValueByMeasurementBasisAx...   \n",
       "374                                            FI2019Q4   \n",
       "\n",
       "                                                concept          value  \n",
       "373   AccountsPayableAndAccruedLiabilitiesCurrentAnd...  76238000000.0  \n",
       "3617  AccountsPayableAndAccruedLiabilitiesCurrentAnd...    385000000.0  \n",
       "3616  AccountsPayableAndAccruedLiabilitiesCurrentAnd...            0.0  \n",
       "3615  AccountsPayableAndAccruedLiabilitiesCurrentAnd...    231000000.0  \n",
       "3614  AccountsPayableAndAccruedLiabilitiesCurrentAnd...    154000000.0  \n",
       "422   AccountsPayableAndAccruedLiabilitiesCurrentAnd...    230000000.0  \n",
       "423   AccountsPayableAndAccruedLiabilitiesCurrentAnd...    235000000.0  \n",
       "3686  AccountsPayableAndAccruedLiabilitiesCurrentAnd...    189000000.0  \n",
       "3687  AccountsPayableAndAccruedLiabilitiesCurrentAnd...    235000000.0  \n",
       "374   AccountsPayableAndAccruedLiabilitiesCurrentAnd...  75163000000.0  "
      ]
     },
     "execution_count": 89,
     "metadata": {},
     "output_type": "execute_result"
    }
   ],
   "source": [
    "df.sort_values('concept')[:10]"
   ]
  },
  {
   "cell_type": "markdown",
   "id": "6e91e4a9-5449-461b-90b6-cde9e8be421c",
   "metadata": {},
   "source": [
    "The 'instance' XBRL file corresponds with the 'iXBRL' document.\n",
    "\n",
    "Does XBRL exist for exhibits?  Are exhibits iXBRL?\n",
    "\n",
    "* Previously, a Form 8-K only required XBRL if it included updated financials. In March 2019, as part of the FAST Act, the SEC passed a new ruling which requires filers to tag their Form 8-K cover pages using iXBRL. This will be phased in at the same time filers become subject to the iXBRL mandate.[ref](https://www.compsciresources.com/blog/incorporating-ixbrl-into-form-8-ks)\n",
    "* only refers to 'cover pages'"
   ]
  },
  {
   "cell_type": "code",
   "execution_count": null,
   "id": "e12aebb8-0d2c-438a-a311-4cdeb7c04de3",
   "metadata": {},
   "outputs": [],
   "source": []
  },
  {
   "cell_type": "code",
   "execution_count": null,
   "id": "d048ad93-947a-40b9-82f3-f28c459f2b74",
   "metadata": {},
   "outputs": [],
   "source": []
  },
  {
   "cell_type": "code",
   "execution_count": null,
   "id": "07ffbab7-cebd-4a39-b254-03f5c1fa69d1",
   "metadata": {},
   "outputs": [],
   "source": []
  },
  {
   "cell_type": "code",
   "execution_count": null,
   "id": "8e632d00-b2f7-4827-ba3c-b17a75de2c82",
   "metadata": {},
   "outputs": [],
   "source": []
  },
  {
   "cell_type": "raw",
   "id": "5d42140b-efbc-49d7-bb87-00dd9e8e6659",
   "metadata": {},
   "source": [
    "# now extracting some selected facts\n",
    "extracted_data: [dict] = []\n",
    "selected_facts: [str] = ['Assets', 'Liabilities', 'StockholdersEquity']\n",
    "for fact in inst.facts:\n",
    "    # use some kind of filter, otherwise your dataframe will have maaaaannnyyy columns (one for every concept)\n",
    "    if fact.concept.name not in selected_facts: continue\n",
    "    # only select non-dimensional data for now\n",
    "    if len(fact.context.segments) > 0: continue\n",
    "    extracted_data.append({'date': fact.context.instant_date, 'concept': fact.concept.name, 'value': fact.value})\n",
    "\n",
    "df: pd.DataFrame = pd.DataFrame(data=extracted_data)\n",
    "df.drop_duplicates(inplace=True)\n",
    "#pivot the dataframe so that the concept name is now the column\n",
    "pivot_df: pd.DataFrame() = df.pivot(index='date', columns='concept')\n",
    "print(pivot_df)"
   ]
  },
  {
   "cell_type": "code",
   "execution_count": null,
   "id": "1772e2a5-142b-47c7-a480-b8f8d7ad3537",
   "metadata": {},
   "outputs": [],
   "source": []
  },
  {
   "cell_type": "code",
   "execution_count": null,
   "id": "a357db7b-daf1-43de-965e-e5ef92a909f2",
   "metadata": {},
   "outputs": [],
   "source": []
  },
  {
   "cell_type": "code",
   "execution_count": null,
   "id": "9530c3ba-b441-4558-9a71-f766f186406b",
   "metadata": {},
   "outputs": [],
   "source": []
  },
  {
   "cell_type": "markdown",
   "id": "891d64f3-677a-47ca-a129-86ab29f36723",
   "metadata": {},
   "source": [
    "### Parse HTML (exhibit file): `bs4`\n",
    "\n",
    "This section explores different methods for the following:\n",
    "\n",
    "* determine the correct table of interest\n",
    "* extract data item from the table\n",
    "* extract units of value"
   ]
  },
  {
   "cell_type": "markdown",
   "id": "4373c05e-5028-4fb3-9578-b41f3addca0e",
   "metadata": {},
   "source": [
    "Requirements:\n",
    "\n",
    "* discover and validate actual tables from web page formatting\n",
    "* associate context including text referencing / supporting each table\n",
    "* display using different methods: original table, pivot_table, dataframe \n",
    "* ...\n",
    "    \n",
    "\n",
    "- [ref](https://www.w3resource.com/pandas/dataframe/dataframe-pivot_table.php)\n",
    "- [ref](https://stackoverflow.com/questions/42708193/pandas-pivot-table-to-data-frame/42708606)\n",
    "- [ref](https://stackoverflow.com/questions/43756052/transform-pandas-pivot-table-to-regular-dataframe)"
   ]
  },
  {
   "cell_type": "code",
   "execution_count": 271,
   "id": "389d2e4a-96b1-4c17-a759-8f047c2cb71b",
   "metadata": {},
   "outputs": [],
   "source": [
    "headers = {'From': 'your.name@company.com', 'User-Agent': 'Tool/Version (Website)'}\n",
    "exhibit_url = 'https://www.sec.gov/Archives/edgar/data/72971/000007297120000230/wfc1qer04-14x20ex991.htm'\n",
    "resp = requests.get(exhibit_url, headers=headers)"
   ]
  },
  {
   "cell_type": "code",
   "execution_count": 272,
   "id": "17fe24e8-7555-4e24-96db-e9384acc221c",
   "metadata": {},
   "outputs": [],
   "source": [
    "soup = BeautifulSoup(resp.content, 'html.parser')"
   ]
  },
  {
   "cell_type": "code",
   "execution_count": 273,
   "id": "e8ca00ca-73f8-4d3b-ba09-6d2778738c4e",
   "metadata": {},
   "outputs": [],
   "source": [
    "idx = resp.text.find('Asset Quality')\n",
    "#resp.text[(idx-500):(idx+500)]"
   ]
  },
  {
   "cell_type": "code",
   "execution_count": 274,
   "id": "1153d66c-5de6-42d6-b034-449fad48aeb3",
   "metadata": {},
   "outputs": [
    {
     "data": {
      "text/plain": [
       "201"
      ]
     },
     "execution_count": 274,
     "metadata": {},
     "output_type": "execute_result"
    }
   ],
   "source": [
    "tbls = soup.findAll('table'#, string=lambda text: \"income\" in text.lower() if text else None    <<<THIS RUNS BUT FAILS TO FIND TEXT - MUST BE AT A LOWER LEVEL\n",
    "                    )\n",
    "len(tbls)"
   ]
  },
  {
   "cell_type": "markdown",
   "id": "7ea6646f-b8e9-442e-ae84-21bdb5f14050",
   "metadata": {},
   "source": [
    "__Method-1:__\n",
    "\n",
    "* use search terms to find section header\n",
    "* select tables in the section\n",
    "* select the table with highest-occurring terms within the table\n",
    "\n",
    "This particular example does not have table headers, instead opting for 'Selected Financial Information'.  Also, there are no table numbers, so section text do not refer to tables.  There seems to be consistency in section headers and corresponding tables at the end of the text."
   ]
  },
  {
   "cell_type": "markdown",
   "id": "826c757d-aed1-483d-b11e-c154cfd5fade",
   "metadata": {},
   "source": [
    "Ex 8k pg.12"
   ]
  },
  {
   "cell_type": "code",
   "execution_count": 275,
   "id": "bbfb87b6-de39-47a5-98d2-28379a6df658",
   "metadata": {},
   "outputs": [
    {
     "data": {
      "text/plain": [
       "1"
      ]
     },
     "execution_count": 275,
     "metadata": {},
     "output_type": "execute_result"
    }
   ],
   "source": [
    "tbl = [tbl for tbl in tbls if 'asset quality' in tbl.text.lower()]\n",
    "len(tbl)"
   ]
  },
  {
   "cell_type": "code",
   "execution_count": 346,
   "id": "d8870e0a-4233-4a20-b530-04f8d68deaf1",
   "metadata": {},
   "outputs": [
    {
     "name": "stdout",
     "output_type": "stream",
     "text": [
      "Number of tables with matching search terms: 1\n",
      "\n"
     ]
    },
    {
     "data": {
      "text/html": [
       "<div>\n",
       "<style scoped>\n",
       "    .dataframe tbody tr th:only-of-type {\n",
       "        vertical-align: middle;\n",
       "    }\n",
       "\n",
       "    .dataframe tbody tr th {\n",
       "        vertical-align: top;\n",
       "    }\n",
       "\n",
       "    .dataframe thead th {\n",
       "        text-align: right;\n",
       "    }\n",
       "</style>\n",
       "<table border=\"1\" class=\"dataframe\">\n",
       "  <thead>\n",
       "    <tr style=\"text-align: right;\">\n",
       "      <th></th>\n",
       "      <th>0</th>\n",
       "      <th>1</th>\n",
       "      <th>2</th>\n",
       "      <th>3</th>\n",
       "      <th>4</th>\n",
       "      <th>5</th>\n",
       "      <th>6</th>\n",
       "      <th>7</th>\n",
       "      <th>8</th>\n",
       "      <th>9</th>\n",
       "    </tr>\n",
       "  </thead>\n",
       "  <tbody>\n",
       "    <tr>\n",
       "      <th>0</th>\n",
       "      <td>NaN</td>\n",
       "      <td>NaN</td>\n",
       "      <td>NaN</td>\n",
       "      <td>NaN</td>\n",
       "      <td>NaN</td>\n",
       "      <td>NaN</td>\n",
       "      <td>NaN</td>\n",
       "      <td>NaN</td>\n",
       "      <td>NaN</td>\n",
       "      <td>NaN</td>\n",
       "    </tr>\n",
       "    <tr>\n",
       "      <th>1</th>\n",
       "      <td>NaN</td>\n",
       "      <td>NaN</td>\n",
       "      <td>NaN</td>\n",
       "      <td>NaN</td>\n",
       "      <td>NaN</td>\n",
       "      <td>NaN</td>\n",
       "      <td>NaN</td>\n",
       "      <td>NaN</td>\n",
       "      <td>NaN</td>\n",
       "      <td>NaN</td>\n",
       "    </tr>\n",
       "    <tr>\n",
       "      <th>2</th>\n",
       "      <td>NaN</td>\n",
       "      <td>NaN</td>\n",
       "      <td>NaN</td>\n",
       "      <td>NaN</td>\n",
       "      <td>NaN</td>\n",
       "      <td>Quarter ended</td>\n",
       "      <td>Quarter ended</td>\n",
       "      <td>Quarter ended</td>\n",
       "      <td>Quarter ended</td>\n",
       "      <td>NaN</td>\n",
       "    </tr>\n",
       "    <tr>\n",
       "      <th>3</th>\n",
       "      <td>NaN</td>\n",
       "      <td>Mar 31,  2020</td>\n",
       "      <td>Mar 31,  2020</td>\n",
       "      <td>NaN</td>\n",
       "      <td>NaN</td>\n",
       "      <td>Dec 31,  2019</td>\n",
       "      <td>NaN</td>\n",
       "      <td>NaN</td>\n",
       "      <td>Mar 31,  2019</td>\n",
       "      <td>NaN</td>\n",
       "    </tr>\n",
       "    <tr>\n",
       "      <th>4</th>\n",
       "      <td>Earnings</td>\n",
       "      <td>NaN</td>\n",
       "      <td>NaN</td>\n",
       "      <td>NaN</td>\n",
       "      <td>NaN</td>\n",
       "      <td>NaN</td>\n",
       "      <td>NaN</td>\n",
       "      <td>NaN</td>\n",
       "      <td>NaN</td>\n",
       "      <td>NaN</td>\n",
       "    </tr>\n",
       "  </tbody>\n",
       "</table>\n",
       "</div>"
      ],
      "text/plain": [
       "          0              1              2    3   4              5  \\\n",
       "0       NaN            NaN            NaN  NaN NaN            NaN   \n",
       "1       NaN            NaN            NaN  NaN NaN            NaN   \n",
       "2       NaN            NaN            NaN  NaN NaN  Quarter ended   \n",
       "3       NaN  Mar 31,  2020  Mar 31,  2020  NaN NaN  Dec 31,  2019   \n",
       "4  Earnings            NaN            NaN  NaN NaN            NaN   \n",
       "\n",
       "               6              7              8   9  \n",
       "0            NaN            NaN            NaN NaN  \n",
       "1            NaN            NaN            NaN NaN  \n",
       "2  Quarter ended  Quarter ended  Quarter ended NaN  \n",
       "3            NaN            NaN  Mar 31,  2019 NaN  \n",
       "4            NaN            NaN            NaN NaN  "
      ]
     },
     "execution_count": 346,
     "metadata": {},
     "output_type": "execute_result"
    }
   ],
   "source": [
    "trgt = soup.findAll('div', string=lambda text: \"asset quality\" in text.lower() if text else None)\n",
    "print(f'Number of tables with matching search terms: {len(trgt)}\\n')\n",
    "\n",
    "tmp = trgt[0]\n",
    "tbl = tmp.find_parent('table')\n",
    "\n",
    "df1 = pd.read_html(tbl.prettify(formatter=\"html\"))[0]\n",
    "df1.head()"
   ]
  },
  {
   "cell_type": "markdown",
   "id": "6f60cb3d-cc99-4b6f-a641-a3854a4a556a",
   "metadata": {},
   "source": [
    "Ex 8k pg.12"
   ]
  },
  {
   "cell_type": "code",
   "execution_count": 277,
   "id": "86a153ef-0b86-40b7-a1d1-31991ffad1aa",
   "metadata": {},
   "outputs": [],
   "source": [
    "trgt = soup.findAll('div', string=lambda text: \"nonperforming assets\" in text.lower() if text else None)"
   ]
  },
  {
   "cell_type": "code",
   "execution_count": 278,
   "id": "ebda815a-cb41-4a91-bdc0-8a45d90851fc",
   "metadata": {},
   "outputs": [
    {
     "name": "stdout",
     "output_type": "stream",
     "text": [
      "Number of tables with matching search terms: 2\n",
      "\n"
     ]
    },
    {
     "data": {
      "text/html": [
       "<div>\n",
       "<style scoped>\n",
       "    .dataframe tbody tr th:only-of-type {\n",
       "        vertical-align: middle;\n",
       "    }\n",
       "\n",
       "    .dataframe tbody tr th {\n",
       "        vertical-align: top;\n",
       "    }\n",
       "\n",
       "    .dataframe thead th {\n",
       "        text-align: right;\n",
       "    }\n",
       "</style>\n",
       "<table border=\"1\" class=\"dataframe\">\n",
       "  <thead>\n",
       "    <tr style=\"text-align: right;\">\n",
       "      <th></th>\n",
       "      <th>0</th>\n",
       "      <th>1</th>\n",
       "      <th>2</th>\n",
       "      <th>3</th>\n",
       "      <th>4</th>\n",
       "      <th>5</th>\n",
       "      <th>6</th>\n",
       "      <th>7</th>\n",
       "      <th>8</th>\n",
       "      <th>9</th>\n",
       "      <th>...</th>\n",
       "      <th>11</th>\n",
       "      <th>12</th>\n",
       "      <th>13</th>\n",
       "      <th>14</th>\n",
       "      <th>15</th>\n",
       "      <th>16</th>\n",
       "      <th>17</th>\n",
       "      <th>18</th>\n",
       "      <th>19</th>\n",
       "      <th>20</th>\n",
       "    </tr>\n",
       "  </thead>\n",
       "  <tbody>\n",
       "    <tr>\n",
       "      <th>0</th>\n",
       "      <td>NaN</td>\n",
       "      <td>NaN</td>\n",
       "      <td>NaN</td>\n",
       "      <td>NaN</td>\n",
       "      <td>NaN</td>\n",
       "      <td>NaN</td>\n",
       "      <td>NaN</td>\n",
       "      <td>NaN</td>\n",
       "      <td>NaN</td>\n",
       "      <td>NaN</td>\n",
       "      <td>...</td>\n",
       "      <td>NaN</td>\n",
       "      <td>NaN</td>\n",
       "      <td>NaN</td>\n",
       "      <td>NaN</td>\n",
       "      <td>NaN</td>\n",
       "      <td>NaN</td>\n",
       "      <td>NaN</td>\n",
       "      <td>NaN</td>\n",
       "      <td>NaN</td>\n",
       "      <td>NaN</td>\n",
       "    </tr>\n",
       "    <tr>\n",
       "      <th>1</th>\n",
       "      <td>NaN</td>\n",
       "      <td>NaN</td>\n",
       "      <td>NaN</td>\n",
       "      <td>NaN</td>\n",
       "      <td>NaN</td>\n",
       "      <td>NaN</td>\n",
       "      <td>NaN</td>\n",
       "      <td>NaN</td>\n",
       "      <td>NaN</td>\n",
       "      <td>NaN</td>\n",
       "      <td>...</td>\n",
       "      <td>NaN</td>\n",
       "      <td>NaN</td>\n",
       "      <td>NaN</td>\n",
       "      <td>NaN</td>\n",
       "      <td>NaN</td>\n",
       "      <td>NaN</td>\n",
       "      <td>NaN</td>\n",
       "      <td>NaN</td>\n",
       "      <td>NaN</td>\n",
       "      <td>NaN</td>\n",
       "    </tr>\n",
       "    <tr>\n",
       "      <th>2</th>\n",
       "      <td>NaN</td>\n",
       "      <td>March 31, 2020</td>\n",
       "      <td>March 31, 2020</td>\n",
       "      <td>March 31, 2020</td>\n",
       "      <td>March 31, 2020</td>\n",
       "      <td>March 31, 2020</td>\n",
       "      <td>NaN</td>\n",
       "      <td>NaN</td>\n",
       "      <td>December 31, 2019</td>\n",
       "      <td>December 31, 2019</td>\n",
       "      <td>...</td>\n",
       "      <td>December 31, 2019</td>\n",
       "      <td>December 31, 2019</td>\n",
       "      <td>NaN</td>\n",
       "      <td>NaN</td>\n",
       "      <td>March 31, 2019</td>\n",
       "      <td>March 31, 2019</td>\n",
       "      <td>March 31, 2019</td>\n",
       "      <td>March 31, 2019</td>\n",
       "      <td>March 31, 2019</td>\n",
       "      <td>NaN</td>\n",
       "    </tr>\n",
       "    <tr>\n",
       "      <th>3</th>\n",
       "      <td>($ in millions)</td>\n",
       "      <td>Total  balances</td>\n",
       "      <td>Total  balances</td>\n",
       "      <td>NaN</td>\n",
       "      <td>NaN</td>\n",
       "      <td>As a  % of  total  loans</td>\n",
       "      <td>NaN</td>\n",
       "      <td>NaN</td>\n",
       "      <td>Total balances</td>\n",
       "      <td>Total balances</td>\n",
       "      <td>...</td>\n",
       "      <td>NaN</td>\n",
       "      <td>As a  % of  total  loans</td>\n",
       "      <td>NaN</td>\n",
       "      <td>NaN</td>\n",
       "      <td>Total  balances</td>\n",
       "      <td>Total  balances</td>\n",
       "      <td>NaN</td>\n",
       "      <td>NaN</td>\n",
       "      <td>As a  % of  total  loans</td>\n",
       "      <td>NaN</td>\n",
       "    </tr>\n",
       "    <tr>\n",
       "      <th>4</th>\n",
       "      <td>Commercial:</td>\n",
       "      <td>NaN</td>\n",
       "      <td>NaN</td>\n",
       "      <td>NaN</td>\n",
       "      <td>NaN</td>\n",
       "      <td>NaN</td>\n",
       "      <td>NaN</td>\n",
       "      <td>NaN</td>\n",
       "      <td>NaN</td>\n",
       "      <td>NaN</td>\n",
       "      <td>...</td>\n",
       "      <td>NaN</td>\n",
       "      <td>NaN</td>\n",
       "      <td>NaN</td>\n",
       "      <td>NaN</td>\n",
       "      <td>NaN</td>\n",
       "      <td>NaN</td>\n",
       "      <td>NaN</td>\n",
       "      <td>NaN</td>\n",
       "      <td>NaN</td>\n",
       "      <td>NaN</td>\n",
       "    </tr>\n",
       "  </tbody>\n",
       "</table>\n",
       "<p>5 rows × 21 columns</p>\n",
       "</div>"
      ],
      "text/plain": [
       "                0                1                2               3   \\\n",
       "0              NaN              NaN              NaN             NaN   \n",
       "1              NaN              NaN              NaN             NaN   \n",
       "2              NaN   March 31, 2020   March 31, 2020  March 31, 2020   \n",
       "3  ($ in millions)  Total  balances  Total  balances             NaN   \n",
       "4      Commercial:              NaN              NaN             NaN   \n",
       "\n",
       "               4                         5    6   7                  8   \\\n",
       "0             NaN                       NaN  NaN NaN                NaN   \n",
       "1             NaN                       NaN  NaN NaN                NaN   \n",
       "2  March 31, 2020            March 31, 2020  NaN NaN  December 31, 2019   \n",
       "3             NaN  As a  % of  total  loans  NaN NaN     Total balances   \n",
       "4             NaN                       NaN  NaN NaN                NaN   \n",
       "\n",
       "                  9   ...                 11                        12   13  \\\n",
       "0                NaN  ...                NaN                       NaN  NaN   \n",
       "1                NaN  ...                NaN                       NaN  NaN   \n",
       "2  December 31, 2019  ...  December 31, 2019         December 31, 2019  NaN   \n",
       "3     Total balances  ...                NaN  As a  % of  total  loans  NaN   \n",
       "4                NaN  ...                NaN                       NaN  NaN   \n",
       "\n",
       "   14               15               16              17              18  \\\n",
       "0 NaN              NaN              NaN             NaN             NaN   \n",
       "1 NaN              NaN              NaN             NaN             NaN   \n",
       "2 NaN   March 31, 2019   March 31, 2019  March 31, 2019  March 31, 2019   \n",
       "3 NaN  Total  balances  Total  balances             NaN             NaN   \n",
       "4 NaN              NaN              NaN             NaN             NaN   \n",
       "\n",
       "                         19   20  \n",
       "0                       NaN  NaN  \n",
       "1                       NaN  NaN  \n",
       "2            March 31, 2019  NaN  \n",
       "3  As a  % of  total  loans  NaN  \n",
       "4                       NaN  NaN  \n",
       "\n",
       "[5 rows x 21 columns]"
      ]
     },
     "execution_count": 278,
     "metadata": {},
     "output_type": "execute_result"
    }
   ],
   "source": [
    "TXT = \"total nonperforming assets\"\n",
    "tbl = [(tbl.text.lower().count(TXT),tbl) for tbl in tbls if TXT in tbl.text.lower()]\n",
    "print(f'Number of tables with matching search terms: {len(tbl)}\\n')\n",
    "\n",
    "indices = [cnt[0] for cnt in tbl]\n",
    "max_index = [index for index, item in enumerate(indices) if item == max(indices)]\n",
    "max_tlb = tbl[max_indx[0]]\n",
    "\n",
    "df2 = pd.read_html(max_tlb[1].prettify())[0]\n",
    "df2.head()"
   ]
  },
  {
   "cell_type": "code",
   "execution_count": 279,
   "id": "a6a4d7a9-ea8f-4052-abc0-b8dbdf602fe5",
   "metadata": {},
   "outputs": [
    {
     "data": {
      "text/plain": [
       "3"
      ]
     },
     "execution_count": 279,
     "metadata": {},
     "output_type": "execute_result"
    }
   ],
   "source": [
    "trgt = soup.findAll('div', string=lambda text: \"summary financial data\" in text.lower() if text else None)\n",
    "len(trgt)"
   ]
  },
  {
   "cell_type": "code",
   "execution_count": 280,
   "id": "9403b5a0-ec27-4009-8ce5-c27fa554f140",
   "metadata": {},
   "outputs": [],
   "source": [
    "trgts = soup.findAll('div', string=lambda text: \"summary financial data\" in text.lower() if text else None)\n",
    "tbl = [trgt.find_next('table') for trgt in trgts ]"
   ]
  },
  {
   "cell_type": "code",
   "execution_count": 281,
   "id": "9eda4ac4-a28b-4b4d-80c9-95c374e01404",
   "metadata": {},
   "outputs": [
    {
     "data": {
      "text/plain": [
       "3"
      ]
     },
     "execution_count": 281,
     "metadata": {},
     "output_type": "execute_result"
    }
   ],
   "source": [
    "len(tbl)"
   ]
  },
  {
   "cell_type": "markdown",
   "id": "30d87f80-fb24-48af-93eb-1cdc3a699134",
   "metadata": {},
   "source": [
    "Support functions"
   ]
  },
  {
   "cell_type": "code",
   "execution_count": 385,
   "id": "062b9587-e94d-469c-9ca8-8a9d44a9f154",
   "metadata": {},
   "outputs": [],
   "source": [
    "from dateutil.parser import parse\n",
    "import unicodedata\n",
    "\n",
    "def if_date_convert(val, fuzzy=False):\n",
    "    \"\"\"\n",
    "    Return whether the string can be interpreted as a date.\n",
    "\n",
    "    :param string: str, string to check for date\n",
    "    :param fuzzy: bool, ignore unknown tokens in string if True\n",
    "    \"\"\"\n",
    "    if type(val) == str:\n",
    "        try:\n",
    "            tmp = unicodedata.normalize('NFKD', val)\n",
    "            dt = parse(tmp, fuzzy=fuzzy)\n",
    "            return dt\n",
    "\n",
    "        except ValueError:\n",
    "            return string\n",
    "    else:\n",
    "        return val"
   ]
  },
  {
   "cell_type": "markdown",
   "id": "12bee493-a735-4722-a71d-847ae20f5bb0",
   "metadata": {},
   "source": [
    "Steps to parse table:\n",
    "\n",
    "1. remove top rows with all NaN, remove columns that are all Nan\n",
    "2. find headers by getting rows with first N columns with NaN\n",
    "3. convert date strings to dates types\n",
    "4. find section headers and group rows by sections\n",
    "5. convert "
   ]
  },
  {
   "cell_type": "code",
   "execution_count": 401,
   "id": "8c746d8f-cd2e-48a7-b981-cdd332e9f021",
   "metadata": {},
   "outputs": [],
   "source": [
    "# 1\n",
    "#df1.shape[1] == df1.loc[0].isnull().sum()\n",
    "#df1.shape[1] == df1.loc[1].isnull().sum()\n",
    "#df1.shape[0] == df1.iloc[:,9].isnull().sum()\n",
    "\n",
    "# 2\n",
    "#(df1.loc[2].isnull()[0] == True) & (df1.loc[2].isnull().sum() < df1.shape[1])\n",
    "#(df1.loc[3].isnull()[0] == True) & (df1.loc[3].isnull().sum() < df1.shape[1])\n",
    "\n",
    "# 3\n",
    "#df1.loc[3].apply(if_date_convert)\n",
    "\n",
    "# 4\n",
    "#(df1.loc[4].isnull()[0] == False) & (df1.loc[4].isnull()[1:] == True)"
   ]
  },
  {
   "cell_type": "code",
   "execution_count": null,
   "id": "58d15194-eed1-4cde-818f-07bc981e4bc1",
   "metadata": {},
   "outputs": [],
   "source": []
  },
  {
   "cell_type": "code",
   "execution_count": 348,
   "id": "d659ca0e-72c3-4f0d-bf21-c1b060f50eb2",
   "metadata": {},
   "outputs": [
    {
     "data": {
      "text/html": [
       "<div>\n",
       "<style scoped>\n",
       "    .dataframe tbody tr th:only-of-type {\n",
       "        vertical-align: middle;\n",
       "    }\n",
       "\n",
       "    .dataframe tbody tr th {\n",
       "        vertical-align: top;\n",
       "    }\n",
       "\n",
       "    .dataframe thead th {\n",
       "        text-align: right;\n",
       "    }\n",
       "</style>\n",
       "<table border=\"1\" class=\"dataframe\">\n",
       "  <thead>\n",
       "    <tr style=\"text-align: right;\">\n",
       "      <th></th>\n",
       "      <th>0</th>\n",
       "      <th>1</th>\n",
       "      <th>2</th>\n",
       "      <th>3</th>\n",
       "      <th>4</th>\n",
       "      <th>5</th>\n",
       "      <th>6</th>\n",
       "      <th>7</th>\n",
       "      <th>8</th>\n",
       "      <th>9</th>\n",
       "    </tr>\n",
       "  </thead>\n",
       "  <tbody>\n",
       "    <tr>\n",
       "      <th>0</th>\n",
       "      <td>NaN</td>\n",
       "      <td>NaN</td>\n",
       "      <td>NaN</td>\n",
       "      <td>NaN</td>\n",
       "      <td>NaN</td>\n",
       "      <td>NaN</td>\n",
       "      <td>NaN</td>\n",
       "      <td>NaN</td>\n",
       "      <td>NaN</td>\n",
       "      <td>NaN</td>\n",
       "    </tr>\n",
       "    <tr>\n",
       "      <th>1</th>\n",
       "      <td>NaN</td>\n",
       "      <td>NaN</td>\n",
       "      <td>NaN</td>\n",
       "      <td>NaN</td>\n",
       "      <td>NaN</td>\n",
       "      <td>NaN</td>\n",
       "      <td>NaN</td>\n",
       "      <td>NaN</td>\n",
       "      <td>NaN</td>\n",
       "      <td>NaN</td>\n",
       "    </tr>\n",
       "    <tr>\n",
       "      <th>2</th>\n",
       "      <td>NaN</td>\n",
       "      <td>NaN</td>\n",
       "      <td>NaN</td>\n",
       "      <td>NaN</td>\n",
       "      <td>NaN</td>\n",
       "      <td>Quarter ended</td>\n",
       "      <td>Quarter ended</td>\n",
       "      <td>Quarter ended</td>\n",
       "      <td>Quarter ended</td>\n",
       "      <td>NaN</td>\n",
       "    </tr>\n",
       "    <tr>\n",
       "      <th>3</th>\n",
       "      <td>NaN</td>\n",
       "      <td>Mar 31,  2020</td>\n",
       "      <td>Mar 31,  2020</td>\n",
       "      <td>NaN</td>\n",
       "      <td>NaN</td>\n",
       "      <td>Dec 31,  2019</td>\n",
       "      <td>NaN</td>\n",
       "      <td>NaN</td>\n",
       "      <td>Mar 31,  2019</td>\n",
       "      <td>NaN</td>\n",
       "    </tr>\n",
       "    <tr>\n",
       "      <th>4</th>\n",
       "      <td>Earnings</td>\n",
       "      <td>NaN</td>\n",
       "      <td>NaN</td>\n",
       "      <td>NaN</td>\n",
       "      <td>NaN</td>\n",
       "      <td>NaN</td>\n",
       "      <td>NaN</td>\n",
       "      <td>NaN</td>\n",
       "      <td>NaN</td>\n",
       "      <td>NaN</td>\n",
       "    </tr>\n",
       "    <tr>\n",
       "      <th>5</th>\n",
       "      <td>Diluted earnings per common share</td>\n",
       "      <td>$</td>\n",
       "      <td>0.01</td>\n",
       "      <td>NaN</td>\n",
       "      <td>NaN</td>\n",
       "      <td>0.60</td>\n",
       "      <td>NaN</td>\n",
       "      <td>NaN</td>\n",
       "      <td>1.20</td>\n",
       "      <td>NaN</td>\n",
       "    </tr>\n",
       "    <tr>\n",
       "      <th>6</th>\n",
       "      <td>Wells Fargo net income (in billions)</td>\n",
       "      <td>0.65</td>\n",
       "      <td>0.65</td>\n",
       "      <td>NaN</td>\n",
       "      <td>NaN</td>\n",
       "      <td>2.87</td>\n",
       "      <td>NaN</td>\n",
       "      <td>NaN</td>\n",
       "      <td>5.86</td>\n",
       "      <td>NaN</td>\n",
       "    </tr>\n",
       "    <tr>\n",
       "      <th>7</th>\n",
       "      <td>Return on assets (ROA)</td>\n",
       "      <td>0.13</td>\n",
       "      <td>0.13</td>\n",
       "      <td>%</td>\n",
       "      <td>NaN</td>\n",
       "      <td>0.59</td>\n",
       "      <td>NaN</td>\n",
       "      <td>NaN</td>\n",
       "      <td>1.26</td>\n",
       "      <td>NaN</td>\n",
       "    </tr>\n",
       "    <tr>\n",
       "      <th>8</th>\n",
       "      <td>Return on equity (ROE)</td>\n",
       "      <td>0.10</td>\n",
       "      <td>0.10</td>\n",
       "      <td>NaN</td>\n",
       "      <td>NaN</td>\n",
       "      <td>5.91</td>\n",
       "      <td>NaN</td>\n",
       "      <td>NaN</td>\n",
       "      <td>12.71</td>\n",
       "      <td>NaN</td>\n",
       "    </tr>\n",
       "    <tr>\n",
       "      <th>9</th>\n",
       "      <td>Return on average tangible common equity (ROTCE)</td>\n",
       "      <td>0.12</td>\n",
       "      <td>0.12</td>\n",
       "      <td>NaN</td>\n",
       "      <td>NaN</td>\n",
       "      <td>7.08</td>\n",
       "      <td>NaN</td>\n",
       "      <td>NaN</td>\n",
       "      <td>15.16</td>\n",
       "      <td>NaN</td>\n",
       "    </tr>\n",
       "    <tr>\n",
       "      <th>10</th>\n",
       "      <td>Asset Quality</td>\n",
       "      <td>NaN</td>\n",
       "      <td>NaN</td>\n",
       "      <td>NaN</td>\n",
       "      <td>NaN</td>\n",
       "      <td>NaN</td>\n",
       "      <td>NaN</td>\n",
       "      <td>NaN</td>\n",
       "      <td>NaN</td>\n",
       "      <td>NaN</td>\n",
       "    </tr>\n",
       "    <tr>\n",
       "      <th>11</th>\n",
       "      <td>Net loan charge-offs (annualized) as a % of av...</td>\n",
       "      <td>0.38</td>\n",
       "      <td>0.38</td>\n",
       "      <td>%</td>\n",
       "      <td>NaN</td>\n",
       "      <td>0.32</td>\n",
       "      <td>NaN</td>\n",
       "      <td>NaN</td>\n",
       "      <td>0.30</td>\n",
       "      <td>NaN</td>\n",
       "    </tr>\n",
       "    <tr>\n",
       "      <th>12</th>\n",
       "      <td>Allowance for credit losses for loans as a % o...</td>\n",
       "      <td>1.19</td>\n",
       "      <td>1.19</td>\n",
       "      <td>NaN</td>\n",
       "      <td>NaN</td>\n",
       "      <td>1.09</td>\n",
       "      <td>NaN</td>\n",
       "      <td>NaN</td>\n",
       "      <td>1.14</td>\n",
       "      <td>NaN</td>\n",
       "    </tr>\n",
       "    <tr>\n",
       "      <th>13</th>\n",
       "      <td>Allowance for credit losses for loans as a % o...</td>\n",
       "      <td>329</td>\n",
       "      <td>329</td>\n",
       "      <td>NaN</td>\n",
       "      <td>NaN</td>\n",
       "      <td>343</td>\n",
       "      <td>NaN</td>\n",
       "      <td>NaN</td>\n",
       "      <td>384</td>\n",
       "      <td>NaN</td>\n",
       "    </tr>\n",
       "    <tr>\n",
       "      <th>14</th>\n",
       "      <td>Other</td>\n",
       "      <td>NaN</td>\n",
       "      <td>NaN</td>\n",
       "      <td>NaN</td>\n",
       "      <td>NaN</td>\n",
       "      <td>NaN</td>\n",
       "      <td>NaN</td>\n",
       "      <td>NaN</td>\n",
       "      <td>NaN</td>\n",
       "      <td>NaN</td>\n",
       "    </tr>\n",
       "    <tr>\n",
       "      <th>15</th>\n",
       "      <td>Revenue (in billions)</td>\n",
       "      <td>$</td>\n",
       "      <td>17.7</td>\n",
       "      <td>NaN</td>\n",
       "      <td>NaN</td>\n",
       "      <td>19.9</td>\n",
       "      <td>NaN</td>\n",
       "      <td>NaN</td>\n",
       "      <td>21.6</td>\n",
       "      <td>NaN</td>\n",
       "    </tr>\n",
       "    <tr>\n",
       "      <th>16</th>\n",
       "      <td>Efficiency ratio (b)</td>\n",
       "      <td>73.6</td>\n",
       "      <td>73.6</td>\n",
       "      <td>%</td>\n",
       "      <td>NaN</td>\n",
       "      <td>78.6</td>\n",
       "      <td>NaN</td>\n",
       "      <td>NaN</td>\n",
       "      <td>64.4</td>\n",
       "      <td>NaN</td>\n",
       "    </tr>\n",
       "    <tr>\n",
       "      <th>17</th>\n",
       "      <td>Average loans (in billions)</td>\n",
       "      <td>$</td>\n",
       "      <td>965.0</td>\n",
       "      <td>NaN</td>\n",
       "      <td>NaN</td>\n",
       "      <td>956.5</td>\n",
       "      <td>NaN</td>\n",
       "      <td>NaN</td>\n",
       "      <td>950.0</td>\n",
       "      <td>NaN</td>\n",
       "    </tr>\n",
       "    <tr>\n",
       "      <th>18</th>\n",
       "      <td>Average deposits (in billions)</td>\n",
       "      <td>1338.0</td>\n",
       "      <td>1338.0</td>\n",
       "      <td>NaN</td>\n",
       "      <td>NaN</td>\n",
       "      <td>1321.9</td>\n",
       "      <td>NaN</td>\n",
       "      <td>NaN</td>\n",
       "      <td>1262.1</td>\n",
       "      <td>NaN</td>\n",
       "    </tr>\n",
       "    <tr>\n",
       "      <th>19</th>\n",
       "      <td>Net interest margin</td>\n",
       "      <td>2.58</td>\n",
       "      <td>2.58</td>\n",
       "      <td>%</td>\n",
       "      <td>NaN</td>\n",
       "      <td>2.53</td>\n",
       "      <td>NaN</td>\n",
       "      <td>NaN</td>\n",
       "      <td>2.91</td>\n",
       "      <td>NaN</td>\n",
       "    </tr>\n",
       "  </tbody>\n",
       "</table>\n",
       "</div>"
      ],
      "text/plain": [
       "                                                    0              1  \\\n",
       "0                                                 NaN            NaN   \n",
       "1                                                 NaN            NaN   \n",
       "2                                                 NaN            NaN   \n",
       "3                                                 NaN  Mar 31,  2020   \n",
       "4                                            Earnings            NaN   \n",
       "5                   Diluted earnings per common share              $   \n",
       "6                Wells Fargo net income (in billions)           0.65   \n",
       "7                              Return on assets (ROA)           0.13   \n",
       "8                              Return on equity (ROE)           0.10   \n",
       "9    Return on average tangible common equity (ROTCE)           0.12   \n",
       "10                                      Asset Quality            NaN   \n",
       "11  Net loan charge-offs (annualized) as a % of av...           0.38   \n",
       "12  Allowance for credit losses for loans as a % o...           1.19   \n",
       "13  Allowance for credit losses for loans as a % o...            329   \n",
       "14                                              Other            NaN   \n",
       "15                              Revenue (in billions)              $   \n",
       "16                               Efficiency ratio (b)           73.6   \n",
       "17                        Average loans (in billions)              $   \n",
       "18                     Average deposits (in billions)         1338.0   \n",
       "19                                Net interest margin           2.58   \n",
       "\n",
       "                2    3   4              5              6              7  \\\n",
       "0             NaN  NaN NaN            NaN            NaN            NaN   \n",
       "1             NaN  NaN NaN            NaN            NaN            NaN   \n",
       "2             NaN  NaN NaN  Quarter ended  Quarter ended  Quarter ended   \n",
       "3   Mar 31,  2020  NaN NaN  Dec 31,  2019            NaN            NaN   \n",
       "4             NaN  NaN NaN            NaN            NaN            NaN   \n",
       "5            0.01  NaN NaN           0.60            NaN            NaN   \n",
       "6            0.65  NaN NaN           2.87            NaN            NaN   \n",
       "7            0.13    % NaN           0.59            NaN            NaN   \n",
       "8            0.10  NaN NaN           5.91            NaN            NaN   \n",
       "9            0.12  NaN NaN           7.08            NaN            NaN   \n",
       "10            NaN  NaN NaN            NaN            NaN            NaN   \n",
       "11           0.38    % NaN           0.32            NaN            NaN   \n",
       "12           1.19  NaN NaN           1.09            NaN            NaN   \n",
       "13            329  NaN NaN            343            NaN            NaN   \n",
       "14            NaN  NaN NaN            NaN            NaN            NaN   \n",
       "15           17.7  NaN NaN           19.9            NaN            NaN   \n",
       "16           73.6    % NaN           78.6            NaN            NaN   \n",
       "17          965.0  NaN NaN          956.5            NaN            NaN   \n",
       "18         1338.0  NaN NaN         1321.9            NaN            NaN   \n",
       "19           2.58    % NaN           2.53            NaN            NaN   \n",
       "\n",
       "                8   9  \n",
       "0             NaN NaN  \n",
       "1             NaN NaN  \n",
       "2   Quarter ended NaN  \n",
       "3   Mar 31,  2019 NaN  \n",
       "4             NaN NaN  \n",
       "5            1.20 NaN  \n",
       "6            5.86 NaN  \n",
       "7            1.26 NaN  \n",
       "8           12.71 NaN  \n",
       "9           15.16 NaN  \n",
       "10            NaN NaN  \n",
       "11           0.30 NaN  \n",
       "12           1.14 NaN  \n",
       "13            384 NaN  \n",
       "14            NaN NaN  \n",
       "15           21.6 NaN  \n",
       "16           64.4 NaN  \n",
       "17          950.0 NaN  \n",
       "18         1262.1 NaN  \n",
       "19           2.91 NaN  "
      ]
     },
     "execution_count": 348,
     "metadata": {},
     "output_type": "execute_result"
    }
   ],
   "source": [
    "df1"
   ]
  },
  {
   "cell_type": "code",
   "execution_count": null,
   "id": "a11e0ab7-e0af-4617-bb67-5f977335e208",
   "metadata": {},
   "outputs": [],
   "source": []
  },
  {
   "cell_type": "code",
   "execution_count": null,
   "id": "2bde9c1e-593f-4d74-902d-d765bc1184c4",
   "metadata": {},
   "outputs": [],
   "source": []
  },
  {
   "cell_type": "code",
   "execution_count": null,
   "id": "c8e6151c-ff6b-417f-8cbd-cc1c526d4edb",
   "metadata": {},
   "outputs": [],
   "source": []
  },
  {
   "cell_type": "code",
   "execution_count": null,
   "id": "6b7f0e4d-0daa-4d41-bf9c-cafa52d5bee9",
   "metadata": {},
   "outputs": [],
   "source": []
  },
  {
   "cell_type": "code",
   "execution_count": null,
   "id": "cacacd5e-257d-40fa-b339-427fea4c4791",
   "metadata": {},
   "outputs": [],
   "source": []
  },
  {
   "cell_type": "markdown",
   "id": "ffa1906c-f57d-4b46-afc6-99148aa1f19c",
   "metadata": {},
   "source": [
    "### Modify HTML results for output\n",
    "\n",
    "We wish to modify the HTML to display (with highlight) text of interest.  We use pdfkit to export the html to a pdf document which is easier for reviewers to comment."
   ]
  },
  {
   "cell_type": "markdown",
   "id": "e46b1b3b-631b-4965-a832-059ee3915030",
   "metadata": {},
   "source": [
    "__Methods to add a tag or attribute__"
   ]
  },
  {
   "cell_type": "code",
   "execution_count": 184,
   "id": "42f11b09-e192-498c-89b4-6d6a29929a9c",
   "metadata": {},
   "outputs": [
    {
     "data": {
      "text/plain": [
       "<html><head></head><body><div><ul class=\"navigation\"> foo <i>hi</i> bar</ul></div></body></html>"
      ]
     },
     "execution_count": 184,
     "metadata": {},
     "output_type": "execute_result"
    }
   ],
   "source": [
    "from bs4 import BeautifulSoup\n",
    "html = '<div><ul class=\"navigation\"> foo <i>hi</i> bar</ul></div>'\n",
    "soup = BeautifulSoup(html, \"html5lib\")\n",
    "soup"
   ]
  },
  {
   "cell_type": "code",
   "execution_count": 185,
   "id": "e2d4b21d-a164-496a-a4ca-f5e01512c198",
   "metadata": {},
   "outputs": [
    {
     "data": {
      "text/plain": [
       "['navigation']"
      ]
     },
     "execution_count": 185,
     "metadata": {},
     "output_type": "execute_result"
    }
   ],
   "source": [
    "soup.ul['class']"
   ]
  },
  {
   "cell_type": "code",
   "execution_count": 186,
   "id": "16121e4b-1813-4280-ae58-da8c5ff25172",
   "metadata": {},
   "outputs": [
    {
     "data": {
      "text/plain": [
       "<ul class=\"navigation\"> foo <i>hi</i> bar</ul>"
      ]
     },
     "execution_count": 186,
     "metadata": {},
     "output_type": "execute_result"
    }
   ],
   "source": [
    "original_tag = soup.ul\n",
    "original_tag"
   ]
  },
  {
   "cell_type": "code",
   "execution_count": 187,
   "id": "38c643be-151e-49be-abe9-65905c4d2f56",
   "metadata": {},
   "outputs": [
    {
     "data": {
      "text/plain": [
       "<a href=\"http://www.example.com\">Text!</a>"
      ]
     },
     "execution_count": 187,
     "metadata": {},
     "output_type": "execute_result"
    }
   ],
   "source": [
    "new_tag = soup.new_tag('a', href='http://www.example.com')\n",
    "new_tag.insert(0, 'Text!')\n",
    "new_tag"
   ]
  },
  {
   "cell_type": "code",
   "execution_count": 188,
   "id": "16ee9b51-6d32-4f88-9e6b-1b0cdad4e56f",
   "metadata": {},
   "outputs": [
    {
     "name": "stdout",
     "output_type": "stream",
     "text": [
      " foo \n",
      "<i>hi</i>\n",
      " bar\n"
     ]
    },
    {
     "data": {
      "text/plain": [
       "[None, None, None]"
      ]
     },
     "execution_count": 188,
     "metadata": {},
     "output_type": "execute_result"
    }
   ],
   "source": [
    "[print(tag) for tag in original_tag]"
   ]
  },
  {
   "cell_type": "code",
   "execution_count": 189,
   "id": "0e25a348-ab1e-48e8-90b6-5542d010415d",
   "metadata": {},
   "outputs": [
    {
     "data": {
      "text/plain": [
       "<ul class=\"navigation\"> foo <a href=\"http://www.example.com\">Text!</a><i>hi</i> bar</ul>"
      ]
     },
     "execution_count": 189,
     "metadata": {},
     "output_type": "execute_result"
    }
   ],
   "source": [
    "original_tag.insert(1, new_tag)   ###.append() if you want to place it at the end\n",
    "original_tag"
   ]
  },
  {
   "cell_type": "code",
   "execution_count": 190,
   "id": "7f7019f4-2adc-4dda-8703-a8c79be3abfe",
   "metadata": {},
   "outputs": [
    {
     "data": {
      "text/plain": [
       "<ul class=\"navigation\"> foo <a href=\"http://www.example.com\" selected=\"True\">Text!</a><i>hi</i> bar</ul>"
      ]
     },
     "execution_count": 190,
     "metadata": {},
     "output_type": "execute_result"
    }
   ],
   "source": [
    "original_tag.find('a')['selected'] = True\n",
    "original_tag"
   ]
  },
  {
   "cell_type": "code",
   "execution_count": 191,
   "id": "03ad869c-ee6a-4d9a-be81-0a813a8e6d5d",
   "metadata": {},
   "outputs": [
    {
     "data": {
      "text/plain": [
       "<html><head></head><body><div><ul class=\"navigation\"> foo <a href=\"http://www.example.com\" selected=\"True\">Text!</a><i>hi</i> bar</ul></div></body></html>"
      ]
     },
     "execution_count": 191,
     "metadata": {},
     "output_type": "execute_result"
    }
   ],
   "source": [
    "soup"
   ]
  },
  {
   "cell_type": "markdown",
   "id": "5b32e18e-6c67-4db2-9443-f42ab720e038",
   "metadata": {},
   "source": [
    "If you don't want it to go to the last bit of the tag all the time, \n",
    "use original_tag.insert(). Here's a link to the documentation about it:\n",
    "http://www.crummy.com/software/BeautifulSoup/bs4/doc/#insert"
   ]
  },
  {
   "cell_type": "markdown",
   "id": "3baa8529-ad3a-420f-b65d-3bc66c475ea2",
   "metadata": {},
   "source": [
    "__Add syle with CSS and output results__"
   ]
  },
  {
   "cell_type": "code",
   "execution_count": 201,
   "id": "80e59bcb-36d0-42f5-bb1b-64d92108f9ad",
   "metadata": {},
   "outputs": [],
   "source": [
    "headers = {'From': 'your.name@company.com', 'User-Agent': 'Tool/Version (Website)'}\n",
    "exhibit_url = 'https://www.sec.gov/Archives/edgar/data/72971/000007297120000230/wfc1qer04-14x20ex991.htm'\n",
    "resp = requests.get(exhibit_url, headers=headers)"
   ]
  },
  {
   "cell_type": "code",
   "execution_count": 252,
   "id": "e1710e69-89ec-492c-b00d-3a4bd059c53a",
   "metadata": {},
   "outputs": [],
   "source": [
    "soup = BeautifulSoup(resp.content, \"html5lib\")"
   ]
  },
  {
   "cell_type": "code",
   "execution_count": 253,
   "id": "a8b9a42c-8eee-4f74-be3a-0c42cc24a71b",
   "metadata": {},
   "outputs": [],
   "source": [
    "head = soup.head"
   ]
  },
  {
   "cell_type": "code",
   "execution_count": 254,
   "id": "2fd69ab7-9531-41ff-9011-39a02422380c",
   "metadata": {},
   "outputs": [
    {
     "name": "stdout",
     "output_type": "stream",
     "text": [
      "<head>\n",
      "</head>\n",
      "\n"
     ]
    }
   ],
   "source": [
    "print( head.prettify() )"
   ]
  },
  {
   "cell_type": "code",
   "execution_count": 255,
   "id": "a821f3ec-8bbc-4f94-bcc9-ab8f988f0366",
   "metadata": {},
   "outputs": [],
   "source": [
    "head = soup.head\n",
    "head.append(soup.new_tag('style', type='text/css'))\n",
    "head.style.append('''\n",
    ".mark { \n",
    "  background-color: yellow;\n",
    "  color: black;\n",
    "}''')"
   ]
  },
  {
   "cell_type": "code",
   "execution_count": 256,
   "id": "8a69241b-a3c9-44b2-8d01-de78d239d46b",
   "metadata": {},
   "outputs": [
    {
     "name": "stdout",
     "output_type": "stream",
     "text": [
      "<head>\n",
      " <style type=\"text/css\">\n",
      "  .mark { \n",
      "  background-color: yellow;\n",
      "  color: black;\n",
      "}\n",
      " </style>\n",
      "</head>\n",
      "\n"
     ]
    }
   ],
   "source": [
    "print( head.prettify() )"
   ]
  },
  {
   "cell_type": "code",
   "execution_count": 257,
   "id": "254d5241-6141-468a-9034-acf13e382b95",
   "metadata": {},
   "outputs": [
    {
     "data": {
      "text/plain": [
       "<div style=\"line-height:120%;text-align:left;font-size:10pt;\"><font style=\"font-family:Wells Fargo Sans,sans-serif;font-size:10pt;\">Included the impact of a reserve build</font><font style=\"font-family:Wells Fargo Sans,sans-serif;\"><sup style=\"vertical-align:top;line-height:120%;font-size:pt\">1</sup></font><font style=\"font-family:Wells Fargo Sans,sans-serif;font-size:10pt;\"> of $3.1 billion, or $(0.56) per share, and an impairment of securities of $950 million, or $(0.17) per share, driven by economic and market conditions</font></div>"
      ]
     },
     "execution_count": 257,
     "metadata": {},
     "output_type": "execute_result"
    }
   ],
   "source": [
    "trgt = soup.find(string=\"Included the impact of a reserve build\")\n",
    "prnt = trgt.find_parent().find_parent()\n",
    "prnt"
   ]
  },
  {
   "cell_type": "code",
   "execution_count": 258,
   "id": "79362c14-d35f-40c5-be74-e4a842636d96",
   "metadata": {},
   "outputs": [],
   "source": [
    "if 'class' not in prnt.attrs.keys():\n",
    "    prnt['class'] = 'mark'"
   ]
  },
  {
   "cell_type": "code",
   "execution_count": 259,
   "id": "2430c605-31b6-478d-b688-f9f02e3f3104",
   "metadata": {},
   "outputs": [
    {
     "data": {
      "text/plain": [
       "<div class=\"mark\" style=\"line-height:120%;text-align:left;font-size:10pt;\"><font style=\"font-family:Wells Fargo Sans,sans-serif;font-size:10pt;\">Included the impact of a reserve build</font><font style=\"font-family:Wells Fargo Sans,sans-serif;\"><sup style=\"vertical-align:top;line-height:120%;font-size:pt\">1</sup></font><font style=\"font-family:Wells Fargo Sans,sans-serif;font-size:10pt;\"> of $3.1 billion, or $(0.56) per share, and an impairment of securities of $950 million, or $(0.17) per share, driven by economic and market conditions</font></div>"
      ]
     },
     "execution_count": 259,
     "metadata": {},
     "output_type": "execute_result"
    }
   ],
   "source": [
    "prnt"
   ]
  },
  {
   "cell_type": "code",
   "execution_count": 260,
   "id": "308d210d-2be3-4a1c-961f-5689baade060",
   "metadata": {},
   "outputs": [
    {
     "data": {
      "text/plain": [
       "<div class=\"mark\" style=\"line-height:120%;text-align:left;font-size:10pt;\"><font style=\"font-family:Wells Fargo Sans,sans-serif;font-size:10pt;\">Included the impact of a reserve build</font><font style=\"font-family:Wells Fargo Sans,sans-serif;\"><sup style=\"vertical-align:top;line-height:120%;font-size:pt\">1</sup></font><font style=\"font-family:Wells Fargo Sans,sans-serif;font-size:10pt;\"> of $3.1 billion, or $(0.56) per share, and an impairment of securities of $950 million, or $(0.17) per share, driven by economic and market conditions</font></div>"
      ]
     },
     "execution_count": 260,
     "metadata": {},
     "output_type": "execute_result"
    }
   ],
   "source": [
    "soup.find('div', class_='mark')"
   ]
  },
  {
   "cell_type": "markdown",
   "id": "04d83d99-218e-4a9a-968d-70ae015dc614",
   "metadata": {},
   "source": [
    "<br>\n",
    "Prepare `wkhtmltopdf` to output the results to pdf."
   ]
  },
  {
   "cell_type": "code",
   "execution_count": 267,
   "id": "b7583394-f90e-4ed1-a3db-a46ba3649acb",
   "metadata": {},
   "outputs": [],
   "source": [
    "#apt-get install wkhtmltopdf"
   ]
  },
  {
   "cell_type": "code",
   "execution_count": 261,
   "id": "32bb2a85-8583-40c8-87e8-7c75571164c2",
   "metadata": {},
   "outputs": [],
   "source": [
    "#! pip install pdfkit\n",
    "import pdfkit"
   ]
  },
  {
   "cell_type": "code",
   "execution_count": 266,
   "id": "9f4f6420-6709-447a-a0d9-e20b2e9d4384",
   "metadata": {},
   "outputs": [
    {
     "data": {
      "text/plain": [
       "True"
      ]
     },
     "execution_count": 266,
     "metadata": {},
     "output_type": "execute_result"
    }
   ],
   "source": [
    "pdfkit.from_string(soup.prettify(), '/home/jovyan/NOTEBOOK_PUBLIC/tmp/out.pdf')"
   ]
  },
  {
   "cell_type": "markdown",
   "id": "18847dfe-9822-47c9-b745-eba7e71327cd",
   "metadata": {},
   "source": [
    "### Output to Excel\n",
    "\n",
    "/Users/jason.beach/Desktop/Work/Work-IMTorg_Public/IMTorgDemo-Projects/Prj_NLP/Styled_Excel_Output"
   ]
  },
  {
   "cell_type": "code",
   "execution_count": null,
   "id": "eaa5c37c-6f0b-4a16-baf6-37e9edc593bf",
   "metadata": {},
   "outputs": [],
   "source": []
  },
  {
   "cell_type": "markdown",
   "id": "65dd3879-8526-49f0-85a8-11d653ab7e3c",
   "metadata": {},
   "source": [
    "<br>\n",
    "<br>\n",
    "<br>\n",
    "<br>"
   ]
  },
  {
   "cell_type": "markdown",
   "id": "2a72607e-fbff-4597-adb8-bed6e2ca0f00",
   "metadata": {},
   "source": [
    "## Part-4: Workflows"
   ]
  },
  {
   "cell_type": "markdown",
   "id": "116cefb7-9a75-4100-a795-323dc85b5c56",
   "metadata": {},
   "source": [
    "### Getting a specific company filing\n",
    "\n",
    "If you know exactly what you are looking for, using the API is much easier."
   ]
  },
  {
   "cell_type": "raw",
   "id": "1502c7c7-ec5e-4619-8877-ecbc58d02fc6",
   "metadata": {},
   "source": [
    "__~~Manual company search~~__\n",
    "\n",
    "from bs4 import BeautifulSoup\n",
    "import requests\n",
    "import sys\n",
    "\n",
    "# Access page\n",
    "cik = '0000051143'\n",
    "type = '10-K'\n",
    "date_prior_to = '20160101'\n",
    "\n",
    "# Obtain HTML for search page\n",
    "base_url = \"https://www.sec.gov/cgi-bin/browse-edgar?action=getcompany&CIK={}&type={}&dateb={}\"\n",
    "filled_url = base_url.format(cik, type, date_prior_to)\n",
    "print(filled_url)\n",
    "\n",
    "edgar_resp = requests.get(filled_url)\n",
    "edgar_str = edgar_resp.text\n",
    "\n",
    "edgar_str[:100]"
   ]
  },
  {
   "cell_type": "raw",
   "id": "89079b1f-e3b7-4997-83c1-282af6b41fcc",
   "metadata": {},
   "source": [
    "__~~API company filings search~~__\n",
    "\n",
    "Ensure you add your organization's headers.\n",
    "\n",
    "#https://data.sec.gov/submissions/CIK##########.json\n",
    "filled_url = f'https://data.sec.gov/submissions/CIK{cik}.json'\n",
    "headers = {\n",
    "    'User-Agent': 'IMTorg',\n",
    "    'From': 'jason.beach@mgmt-tech.org',\n",
    "    'Accept-Encoding': 'gzip, deflate'\n",
    "}\n",
    "print(filled_url)\n",
    "\n",
    "edgar_resp = requests.get(filled_url, headers=headers)\n",
    "edgar_str = edgar_resp.text\n",
    "\n",
    "#edgar_resp.json()['filings']['recent'].keys()\n",
    "recent = edgar_resp.json()['filings']['recent']\n",
    "df = pd.DataFrame(recent)\n",
    "\n",
    "\n",
    "df[df['form']=='10-K']#['accessionNumber', 'filingDate', 'reportDate', 'form']\n",
    "\n",
    "import json\n",
    "accessionNumbers = json.loads(edgar_str)['filings']['recent']['accessionNumber']\n",
    "[ parse_accession_number(accessionNumbers[i])['year'] for i in [0,-1]]\n",
    "\n",
    "\"\"\"TODO: where does this data fit in?\n",
    "https://data.sec.gov/submissions/CIK0000051143.json\n",
    "edgar_resp = requests.get(filled_url, headers=headers)\n",
    "edgar_str = edgar_resp.text\n",
    "recent = edgar_resp.json()['filings']['recent']\n",
    "\"\"\""
   ]
  },
  {
   "cell_type": "code",
   "execution_count": null,
   "id": "c0ef6692-7b4e-456d-b492-cf949c04ec8c",
   "metadata": {},
   "outputs": [],
   "source": []
  },
  {
   "cell_type": "code",
   "execution_count": null,
   "id": "1eae91d3-3176-4a92-992b-a425c3fdf839",
   "metadata": {},
   "outputs": [],
   "source": []
  },
  {
   "cell_type": "markdown",
   "id": "ff94e967-ab62-46de-ba9d-78c578d23f48",
   "metadata": {},
   "source": [
    "### Get the most recent SEC filings\n",
    "\n",
    "Many solutions will need to process the most recent filings to provide near real-time analyses.\n",
    "\n",
    "Using the 'most recent daily filings', you can:\n",
    "\n",
    "* search on the desired form by submitting a query [here](https://www.sec.gov/edgar/searchedgar/currentevents.htm)\n",
    "* view the results listed on an html page\n",
    "* focus on firms of interest (banks) by using a database of banks from the [ethics download](https://www.ffiec.gov/npw/FinancialReport/DataDownload)\n",
    "* open the form link to view the Filing Detail page which contains: i) Document Format Files, and ii) Data Files\n",
    "* TODO: notice all data is combined into the 'Complete submission text file' (several megabytes in size)\n",
    "\n",
    "Target filings meet the following requirements:\n",
    "\n",
    "* specific forms (subset to 10-K, 10-Q, 8-K) \n",
    "* subset on firms of interest (i.e. banks) using ethics excel file and cik codes\n",
    "* poll by re-checking every hour\n",
    "\n",
    "The result should be an iXBRL url for each new filing."
   ]
  },
  {
   "cell_type": "raw",
   "id": "ad23cfab-f1df-4d02-aef7-55f2aa5ad12e",
   "metadata": {},
   "source": [
    "import requests\n",
    "from bs4 import BeautifulSoup\n",
    "import pandas as pd\n",
    "\n",
    "urls = {'10-K': 'https://www.sec.gov/cgi-bin/current?q1=0&q2=0&q3=',\n",
    "        '10-Q': 'https://www.sec.gov/cgi-bin/current?q1=0&q2=1&q3=',\n",
    "        '8-K': 'https://www.sec.gov/cgi-bin/current?q1=0&q2=4&q3=',\n",
    "        'all': 'https://www.sec.gov/cgi-bin/current?q1=0&q2=6&q3='\n",
    "       }\n",
    "\n",
    "base_url = urls['10-Q']\n",
    "edgar_resp = requests.get(base_url)\n",
    "edgar_str = edgar_resp.text\n",
    "\n",
    "#urls\n",
    "soup = BeautifulSoup(edgar_str, 'html.parser')\n",
    "href = soup.find('table').find_all('a')\n",
    "url = [tag[1].attrs['href'] for tag in enumerate(href) if tag[0]%2==0][:-1]\n",
    "\n",
    "#filings\n",
    "tbl = soup.find('table').find('p').text\n",
    "rows = tbl.split('\\n')\n",
    "edit1 = rows[0].split('Name')[1]\n",
    "edit2 = rows[1:]\n",
    "row_items = []\n",
    "row_items.extend([edit1]); row_items.extend(edit2[:-2])\n",
    "\n",
    "#combine\n",
    "tmp1 = pd.DataFrame(row_items)\n",
    "tmp2 = pd.DataFrame(tmp1[0].str.split('\\s{2,}').to_list())\n",
    "tmp2.columns = ['Date Filed','Form','CIK Code','Company Name']\n",
    "tmp2['href'] = url\n",
    "\n",
    "#index for filing docs\n",
    "tmp2['href'][0]"
   ]
  },
  {
   "cell_type": "code",
   "execution_count": null,
   "id": "c7f87ea7-04d0-4052-b0a4-894e63a4ff1a",
   "metadata": {},
   "outputs": [],
   "source": []
  },
  {
   "cell_type": "code",
   "execution_count": null,
   "id": "90e5d6a3-fd0b-4168-af87-6dcb0f2bfdd8",
   "metadata": {},
   "outputs": [],
   "source": []
  },
  {
   "cell_type": "code",
   "execution_count": null,
   "id": "1de775f9-5363-4dde-be07-d151fb2e668a",
   "metadata": {},
   "outputs": [],
   "source": []
  },
  {
   "cell_type": "markdown",
   "id": "181bc610-b130-41c6-b6a6-06d700d7bbc3",
   "metadata": {},
   "source": [
    "### Request inlineXBRL from URL\n",
    "\n",
    "Get url for ixbrl"
   ]
  },
  {
   "cell_type": "code",
   "execution_count": null,
   "id": "463efaa8-4915-4cc3-8e5f-4fed413eb82e",
   "metadata": {},
   "outputs": [],
   "source": [
    "#ixbrl url\n",
    "#wfc: https://www.sec.gov/Archives/edgar/data/72971/000007297120000236/wfc-0331x2020x10q_htm.xml\n",
    "#array: https://www.sec.gov/Archives/edgar/data/1138723/000095017022000558/aray-20211231_htm.xml"
   ]
  },
  {
   "cell_type": "code",
   "execution_count": 35,
   "id": "810d41f3-7d1d-45c9-abcb-70b8517988cf",
   "metadata": {},
   "outputs": [
    {
     "data": {
      "text/plain": [
       "'000095017022000558'"
      ]
     },
     "execution_count": 35,
     "metadata": {},
     "output_type": "execute_result"
    }
   ],
   "source": [
    "paths = tmp2['href'][0].split('/')\n",
    "cik = paths[4]\n",
    "dir = ''.join(paths[5].split('-')[0:3])"
   ]
  },
  {
   "cell_type": "code",
   "execution_count": 40,
   "id": "7fad108d-a40d-4159-9495-819b9c45ae46",
   "metadata": {},
   "outputs": [],
   "source": [
    "headers = {\n",
    "    'User-Agent': 'IMTorg',\n",
    "    'From': 'jason.beach@mgmt-tech.org',\n",
    "    'Accept-Encoding': 'gzip, deflate'\n",
    "}"
   ]
  },
  {
   "cell_type": "code",
   "execution_count": 41,
   "id": "988614a6-b715-4b7b-aee9-c489baeec485",
   "metadata": {},
   "outputs": [],
   "source": [
    "edgar_resp = requests.get('https://www.sec.gov/'+tmp2['href'][0], headers=headers)\n",
    "edgar_str = edgar_resp.text"
   ]
  },
  {
   "cell_type": "raw",
   "id": "63610c01-2733-4501-b7c5-9d37394c2f67",
   "metadata": {},
   "source": [
    "# Find the document link\n",
    "doc_link = ''\n",
    "soup = BeautifulSoup(edgar_str, 'html.parser')\n",
    "table_tag = soup.find('table', class_='tableFile2')\n",
    "rows = table_tag.find_all('tr')\n",
    "for row in rows:\n",
    "    cells = row.find_all('td')\n",
    "    if len(cells) > 3:\n",
    "        if '2015' in cells[3].text:\n",
    "            doc_link = 'https://www.sec.gov' + cells[1].a['href']\n",
    "\n",
    "print(doc_link)"
   ]
  },
  {
   "cell_type": "code",
   "execution_count": 43,
   "id": "714e7a9e-0e10-46e7-b4f7-66c98d9f21d3",
   "metadata": {},
   "outputs": [],
   "source": [
    "# Find the document link => seems more efficient\n",
    "soup = BeautifulSoup(edgar_str, 'html.parser')\n",
    "href = soup.find('table').find_all('a')"
   ]
  },
  {
   "cell_type": "code",
   "execution_count": 83,
   "id": "a91f6373-12d6-4b47-8a0b-eaef777773de",
   "metadata": {},
   "outputs": [],
   "source": [
    "base = href[0].attrs['href'].split('/ix?doc=')[1].split('.')[0]\n",
    "prefix = 'https://www.sec.gov'\n",
    "suffix = '_htm.xml'"
   ]
  },
  {
   "cell_type": "code",
   "execution_count": 84,
   "id": "d9b4b579-4908-4b1d-95de-56f2b5a1d91d",
   "metadata": {},
   "outputs": [],
   "source": [
    "ixbrl_url = prefix+base+suffix"
   ]
  },
  {
   "cell_type": "code",
   "execution_count": 86,
   "id": "575916f8-32ae-4fc0-b44c-47070eb260b5",
   "metadata": {},
   "outputs": [
    {
     "data": {
      "text/plain": [
       "True"
      ]
     },
     "execution_count": 86,
     "metadata": {},
     "output_type": "execute_result"
    }
   ],
   "source": [
    "ixbrl_url == 'https://www.sec.gov/Archives/edgar/data/1138723/000095017022000558/aray-20211231_htm.xml'"
   ]
  },
  {
   "cell_type": "code",
   "execution_count": 95,
   "id": "e4c43695-f068-40a0-911b-1cb9a7766140",
   "metadata": {},
   "outputs": [],
   "source": [
    "edgar_resp = requests.get(ixbrl_url, headers=headers)\n",
    "xbrl_str = edgar_resp.text"
   ]
  },
  {
   "cell_type": "raw",
   "id": "01ed97d5-0e30-4b79-8685-87e233d36922",
   "metadata": {},
   "source": [
    "# Find and print stockholder's equity\n",
    "soup = BeautifulSoup(xbrl_str, 'lxml')\n",
    "tag_list = soup.find_all()\n",
    "for tag in tag_list:\n",
    "    if tag.name == 'us-gaap:stockholdersequity':\n",
    "        print(\"Stockholder's equity: \" + tag.text)"
   ]
  },
  {
   "cell_type": "raw",
   "id": "f1447b05-3219-441c-813a-94d08fc4d2d8",
   "metadata": {},
   "source": [
    "## Parse InlineXBRL: ScraXBRL\n",
    "\n",
    "! pip uninstall ScraXBRL\n",
    "\n",
    "import os\n",
    "\n",
    "os.chdir('../NOTEBOOK_PUBLIC/python_modules/ScraXBRL')\n",
    "\n",
    "from XMLExtract import ExtractFilingData\n",
    "\n",
    "tmp_xe = ExtractFilingData(symbol, kl, '10-K')"
   ]
  },
  {
   "cell_type": "code",
   "execution_count": null,
   "id": "4840685b-5441-4592-93c1-6012a25d1d58",
   "metadata": {},
   "outputs": [],
   "source": []
  },
  {
   "cell_type": "code",
   "execution_count": null,
   "id": "28aedd22-0647-4745-ad57-17d54d741cd2",
   "metadata": {},
   "outputs": [],
   "source": []
  },
  {
   "cell_type": "code",
   "execution_count": null,
   "id": "97167d14-d4aa-4c1b-8870-b2be3b92428d",
   "metadata": {},
   "outputs": [],
   "source": []
  }
 ],
 "metadata": {
  "kernelspec": {
   "display_name": "Python 3 (ipykernel)",
   "language": "python",
   "name": "python3"
  },
  "language_info": {
   "codemirror_mode": {
    "name": "ipython",
    "version": 3
   },
   "file_extension": ".py",
   "mimetype": "text/x-python",
   "name": "python",
   "nbconvert_exporter": "python",
   "pygments_lexer": "ipython3",
   "version": "3.9.10"
  }
 },
 "nbformat": 4,
 "nbformat_minor": 5
}
