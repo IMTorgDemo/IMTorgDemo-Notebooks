{
 "cells": [
  {
   "cell_type": "markdown",
   "id": "23f14793-588d-40fc-9195-e0e4cf89cd80",
   "metadata": {},
   "source": [
    "# Getting Bulk SEC Archive of Annual and Quarterly Financial Reports \n",
    "\n",
    "Date: 2021-01-20  \n",
    "Author: Jason Beach  \n",
    "Categories: Data_Science \n",
    "Tags: nlp, spacy, finance\n",
    "\n",
    "<!--eofm-->"
   ]
  },
  {
   "cell_type": "markdown",
   "id": "b09d3284-e6f2-4a4f-9606-09acfc1af032",
   "metadata": {},
   "source": [
    "In this post we investigate information within the most import SEC filings (10K, 10Q, 8K).  We will perform a review of the data and ensure we can validate the numbers.  Then, we can look into unstructured data to determine if we can: i) convert it into a useful structure, ii) we have appropriate contextual information for the newly structured data to be mapped to the document.  If this structured data seems valuable, then it can be compared against other data to discover predictive relationships."
   ]
  },
  {
   "cell_type": "markdown",
   "id": "1cc86259-3951-4b61-bf7c-53f743339b7a",
   "metadata": {},
   "source": [
    "## Data Source\n",
    "\n",
    "The data is obtained from the SEC [web page](https://www.sec.gov/dera/data/financial-statement-and-notes-data-set.html).  These files are flattened from their original XBRL format.  The data extracted from the XBRL submissions is organized into eight data sets containing information about submissions, numbers, taxonomy tags, presentation, and more.  Each data set consists of rows and fields, and is provided as a tab-delimited TXT format file.  The data sets are as follows (non-meta data is in bold font):\n",
    "\n",
    "* __SUB__ – Submission data set; this includes one record for each XBRL submission. The set includes fields of information pertinent to the submission and the filing entity. Information is extracted from the Commission's EDGAR system and the filings submitted to the Commission by registrants.\n",
    "* TAG – Tag data set; includes defining information about each tag.  Information includes tag descriptions (documentation labels), taxonomy version information and other tag attributes.\n",
    "* DIM – Dimension data set; used to provide more detail in numeric and non-numeric facts.\n",
    "* __NUM__ – Number data set; this includes one row for each distinct amount from each submission included in the SUB data set. The Number data set includes, for every submission, all line item values as rendered by the Commission Viewer/Previewer.\n",
    "* __TXT__ – Text data set; this is the plain text of all the non-numeric tagged items in the submission.\n",
    "* REN – Rendering data set; this contains data from the rendering of the filing on the Commission website.\n",
    "* PRE – Presentation data set; this provides information about how the tags and numbers were presented in the primary financial statements.\n",
    "* CAL – Calculation data set; provides information to arithmetically relate tags in a filing.\n",
    "\n",
    "The forms we are interested include:\n",
    "\n",
    "* 10K - report filed annually by a publicly-traded company about its financial performance\n",
    "* 10Q - unaudited report (3 times a year) of company's performance and includes relevant information about its financial position\n",
    "* 8K - required by the SEC whenever companies announce major events, may include sales, acquisitions, delistings, departures, and elections of executives, as well as changes in a company's status or control, bankruptcies, information about operations, assets, and any other relevant news"
   ]
  },
  {
   "cell_type": "markdown",
   "id": "f5773abf-3678-4b8f-a334-82ee21c14d40",
   "metadata": {},
   "source": [
    "Steps\n",
    "\n",
    "* search EDGAR for specific firm: https://www.sec.gov/edgar/searchedgar/companysearch.html\n",
    "* manually compare against documents"
   ]
  },
  {
   "cell_type": "code",
   "execution_count": 1,
   "id": "1658c5ac-e1c3-4d4b-b575-1c0e014922c5",
   "metadata": {},
   "outputs": [
    {
     "name": "stdout",
     "output_type": "stream",
     "text": [
      "cal.tsv  notes-metadata.json  pre.tsv\t  ren.tsv  tag.tsv\n",
      "dim.tsv  num.tsv\t      readme.htm  sub.tsv  txt.tsv\n"
     ]
    }
   ],
   "source": [
    "! ls large_dataset/2021_12_notes/"
   ]
  },
  {
   "cell_type": "code",
   "execution_count": 2,
   "id": "a149712e-6718-4a28-9495-b6597aa42157",
   "metadata": {},
   "outputs": [
    {
     "name": "stdout",
     "output_type": "stream",
     "text": [
      "adsh\tgrp\tarc\tnegative\tptag\tpversion\tctag\tcversion\n",
      "0001654954-21-013551\t3\t1\t1\tNetCashProvidedByUsedInOperatingActivities\tus-gaap/2020\tNetIncomeLoss\tus-gaap/2020\n",
      "0001477932-21-009337\t2\t3\t1\tNetCashProvidedByUsedInOperatingActivities\tus-gaap/2020\tNetIncomeLoss\tus-gaap/2020\n",
      "0001589526-21-000140\t13\t2\t1\tNetCashProvidedByUsedInOperatingActivities\tus-gaap/2020\tNetIncomeLoss\tus-gaap/2020\n",
      "0000950170-21-005014\t2\t2\t1\tNetCashProvidedByUsedInOperatingActivities\tus-gaap/2020\tNetIncomeLoss\tus-gaap/2020\n",
      "0001589526-21-000140\t6\t2\t-1\tOtherComprehensiveIncomeLossPensionAndOtherPostretirementBenefitPlansAdjustmentBeforeTax\tus-gaap/2020\tNetIncomeLoss\tus-gaap/2020\n",
      "0001558370-21-016630\t19\t1\t1\tComprehensiveIncomeNetOfTax\tus-gaap/2020\tNetIncomeLoss\tus-gaap/2020\n",
      "0000950170-21-005014\t25\t1\t1\tComprehensiveIncomeNetOfTax\tus-gaap/2020\tNetIncomeLoss\tus-gaap/2020\n",
      "0000074046-21-000108\t5\t4\t1\tComprehensiveIncomeNetOfTax\tus-gaap/2020\tNetIncomeLoss\tus-gaap/2020\n",
      "0001589526-21-000140\t24\t1\t1\tComprehensiveIncomeNetOfTax\tus-gaap/2020\tNetIncomeLoss\tus-gaap/2020\n"
     ]
    }
   ],
   "source": [
    "! head large_dataset/2021_12_notes/cal.tsv"
   ]
  },
  {
   "cell_type": "markdown",
   "id": "514a56cb-13de-4f68-b130-6270505fe7cd",
   "metadata": {},
   "source": [
    "### Setup"
   ]
  },
  {
   "cell_type": "code",
   "execution_count": 1,
   "id": "49314da8-6aa6-4a60-b54a-9a40b1ab9c29",
   "metadata": {},
   "outputs": [],
   "source": [
    "import pandas as pd\n",
    "import numpy as np"
   ]
  },
  {
   "cell_type": "code",
   "execution_count": 2,
   "id": "6f55324c-09ad-432c-917b-04902367d790",
   "metadata": {},
   "outputs": [],
   "source": [
    "def read_table(file_path, display_cols=False):\n",
    "    df = pd.read_csv(file_path, sep='\\t', low_memory=False)\n",
    "    print(f'Data size: {df.shape}')\n",
    "    if display_cols: print(f'Data columns: {df.columns}')\n",
    "    \n",
    "    if 'form' in df.columns:\n",
    "        forms = ['10-K','10-Q','8-K']\n",
    "        df_tmp = df\n",
    "        df_tmp = df_tmp[df_tmp['form'].isin(forms)]\n",
    "        print(f\"Size of submission of interest (10K,10Q,8K): {df_tmp.shape[0]}\")\n",
    "    return df"
   ]
  },
  {
   "cell_type": "markdown",
   "id": "56467ce2-2b08-4bd0-93c7-2c3312be8446",
   "metadata": {},
   "source": [
    "### Data ETL"
   ]
  },
  {
   "cell_type": "code",
   "execution_count": 98,
   "id": "ef1ef3e5-da97-4041-adc9-6667ad634ca4",
   "metadata": {},
   "outputs": [
    {
     "name": "stdout",
     "output_type": "stream",
     "text": [
      "Data size: (5689, 40)\n",
      "Data columns: Index(['adsh', 'cik', 'name', 'sic', 'countryba', 'stprba', 'cityba', 'zipba',\n",
      "       'bas1', 'bas2', 'baph', 'countryma', 'stprma', 'cityma', 'zipma',\n",
      "       'mas1', 'mas2', 'countryinc', 'stprinc', 'ein', 'former', 'changed',\n",
      "       'afs', 'wksi', 'fye', 'form', 'period', 'fy', 'fp', 'filed', 'accepted',\n",
      "       'prevrpt', 'detail', 'instance', 'nciks', 'aciks', 'pubfloatusd',\n",
      "       'floatdate', 'floataxis', 'floatmems'],\n",
      "      dtype='object')\n",
      "Size of submission of interest (10K,10Q,8K): 5089\n"
     ]
    }
   ],
   "source": [
    "file_path = 'large_dataset/2021_12_notes/sub.tsv'\n",
    "df_sub = read_table(file_path, display_cols=True)"
   ]
  },
  {
   "cell_type": "code",
   "execution_count": 99,
   "id": "c255280e-3d08-414c-8171-88526a9efb03",
   "metadata": {},
   "outputs": [
    {
     "name": "stdout",
     "output_type": "stream",
     "text": [
      "Data size: (780139, 16)\n",
      "Data columns: Index(['adsh', 'tag', 'version', 'ddate', 'qtrs', 'uom', 'dimh', 'iprx',\n",
      "       'value', 'footnote', 'footlen', 'dimn', 'coreg', 'durp', 'datp',\n",
      "       'dcml'],\n",
      "      dtype='object')\n"
     ]
    }
   ],
   "source": [
    "file_path = 'large_dataset/2021_12_notes/num.tsv'\n",
    "df_num = read_table(file_path, display_cols=True)"
   ]
  },
  {
   "cell_type": "code",
   "execution_count": 100,
   "id": "fc5b1f16-f433-4e38-8b7a-7952576e29b1",
   "metadata": {},
   "outputs": [
    {
     "name": "stdout",
     "output_type": "stream",
     "text": [
      "Data size: (216344, 20)\n",
      "Data columns: Index(['adsh', 'tag', 'version', 'ddate', 'qtrs', 'iprx', 'lang', 'dcml',\n",
      "       'durp', 'datp', 'dimh', 'dimn', 'coreg', 'escaped', 'srclen', 'txtlen',\n",
      "       'footnote', 'footlen', 'context', 'value'],\n",
      "      dtype='object')\n"
     ]
    }
   ],
   "source": [
    "file_path = 'large_dataset/2021_12_notes/txt.tsv'\n",
    "df_txt = read_table(file_path, display_cols=True)"
   ]
  },
  {
   "cell_type": "markdown",
   "id": "cf1747c6-6f19-45a0-be90-8a50cc124a64",
   "metadata": {},
   "source": [
    "## Basic Review"
   ]
  },
  {
   "cell_type": "markdown",
   "id": "cc82c3cc-a8db-4432-9bf0-dbd197c0a026",
   "metadata": {},
   "source": [
    "Submissions"
   ]
  },
  {
   "cell_type": "code",
   "execution_count": 45,
   "id": "ac79b938-a488-4107-a307-5ecca22fb245",
   "metadata": {},
   "outputs": [
    {
     "data": {
      "text/html": [
       "<div>\n",
       "<style scoped>\n",
       "    .dataframe tbody tr th:only-of-type {\n",
       "        vertical-align: middle;\n",
       "    }\n",
       "\n",
       "    .dataframe tbody tr th {\n",
       "        vertical-align: top;\n",
       "    }\n",
       "\n",
       "    .dataframe thead th {\n",
       "        text-align: right;\n",
       "    }\n",
       "</style>\n",
       "<table border=\"1\" class=\"dataframe\">\n",
       "  <thead>\n",
       "    <tr style=\"text-align: right;\">\n",
       "      <th></th>\n",
       "      <th>adsh</th>\n",
       "      <th>prevrpt</th>\n",
       "      <th>detail</th>\n",
       "      <th>instance</th>\n",
       "      <th>nciks</th>\n",
       "      <th>aciks</th>\n",
       "      <th>pubfloatusd</th>\n",
       "      <th>floatdate</th>\n",
       "      <th>floataxis</th>\n",
       "      <th>floatmems</th>\n",
       "    </tr>\n",
       "  </thead>\n",
       "  <tbody>\n",
       "    <tr>\n",
       "      <th>0</th>\n",
       "      <td>0001096906-21-002921</td>\n",
       "      <td>0</td>\n",
       "      <td>0</td>\n",
       "      <td>byoc-20211201_htm.xml</td>\n",
       "      <td>1</td>\n",
       "      <td>NaN</td>\n",
       "      <td>NaN</td>\n",
       "      <td>NaN</td>\n",
       "      <td>NaN</td>\n",
       "      <td>NaN</td>\n",
       "    </tr>\n",
       "    <tr>\n",
       "      <th>1</th>\n",
       "      <td>0001104659-21-145567</td>\n",
       "      <td>0</td>\n",
       "      <td>0</td>\n",
       "      <td>tm2132359d2_8k_htm.xml</td>\n",
       "      <td>1</td>\n",
       "      <td>NaN</td>\n",
       "      <td>NaN</td>\n",
       "      <td>NaN</td>\n",
       "      <td>NaN</td>\n",
       "      <td>NaN</td>\n",
       "    </tr>\n",
       "    <tr>\n",
       "      <th>2</th>\n",
       "      <td>0001104659-21-145577</td>\n",
       "      <td>0</td>\n",
       "      <td>1</td>\n",
       "      <td>pixy-20210531.xml</td>\n",
       "      <td>1</td>\n",
       "      <td>NaN</td>\n",
       "      <td>NaN</td>\n",
       "      <td>NaN</td>\n",
       "      <td>NaN</td>\n",
       "      <td>NaN</td>\n",
       "    </tr>\n",
       "    <tr>\n",
       "      <th>3</th>\n",
       "      <td>0001104659-21-145626</td>\n",
       "      <td>0</td>\n",
       "      <td>0</td>\n",
       "      <td>tm2134286d1_8k_htm.xml</td>\n",
       "      <td>1</td>\n",
       "      <td>NaN</td>\n",
       "      <td>NaN</td>\n",
       "      <td>NaN</td>\n",
       "      <td>NaN</td>\n",
       "      <td>NaN</td>\n",
       "    </tr>\n",
       "    <tr>\n",
       "      <th>4</th>\n",
       "      <td>0001104659-21-145637</td>\n",
       "      <td>0</td>\n",
       "      <td>0</td>\n",
       "      <td>tm2134057d1_8k_htm.xml</td>\n",
       "      <td>1</td>\n",
       "      <td>NaN</td>\n",
       "      <td>NaN</td>\n",
       "      <td>NaN</td>\n",
       "      <td>NaN</td>\n",
       "      <td>NaN</td>\n",
       "    </tr>\n",
       "  </tbody>\n",
       "</table>\n",
       "</div>"
      ],
      "text/plain": [
       "                   adsh  prevrpt  detail                instance  nciks aciks  \\\n",
       "0  0001096906-21-002921        0       0   byoc-20211201_htm.xml      1   NaN   \n",
       "1  0001104659-21-145567        0       0  tm2132359d2_8k_htm.xml      1   NaN   \n",
       "2  0001104659-21-145577        0       1       pixy-20210531.xml      1   NaN   \n",
       "3  0001104659-21-145626        0       0  tm2134286d1_8k_htm.xml      1   NaN   \n",
       "4  0001104659-21-145637        0       0  tm2134057d1_8k_htm.xml      1   NaN   \n",
       "\n",
       "   pubfloatusd  floatdate floataxis  floatmems  \n",
       "0          NaN        NaN       NaN        NaN  \n",
       "1          NaN        NaN       NaN        NaN  \n",
       "2          NaN        NaN       NaN        NaN  \n",
       "3          NaN        NaN       NaN        NaN  \n",
       "4          NaN        NaN       NaN        NaN  "
      ]
     },
     "execution_count": 45,
     "metadata": {},
     "output_type": "execute_result"
    }
   ],
   "source": [
    "df_sub[['adsh','name', 'countryma', 'stprma', 'cityma', 'countryinc', 'ein', 'former', 'changed']].head()\n",
    "df_sub[['adsh', 'afs', 'wksi', 'fye', 'form', 'period', 'fy', 'fp', 'filed', 'accepted']].head()\n",
    "df_sub[['adsh', 'prevrpt', 'detail', 'instance', 'nciks', 'aciks', 'pubfloatusd', 'floatdate', 'floataxis', 'floatmems']].head()"
   ]
  },
  {
   "cell_type": "code",
   "execution_count": 64,
   "id": "e51adef9-8195-422a-8511-353fe70d7c96",
   "metadata": {},
   "outputs": [
    {
     "name": "stdout",
     "output_type": "stream",
     "text": [
      "Size of submission of interest: 5089\n"
     ]
    },
    {
     "data": {
      "text/html": [
       "<div>\n",
       "<style scoped>\n",
       "    .dataframe tbody tr th:only-of-type {\n",
       "        vertical-align: middle;\n",
       "    }\n",
       "\n",
       "    .dataframe tbody tr th {\n",
       "        vertical-align: top;\n",
       "    }\n",
       "\n",
       "    .dataframe thead th {\n",
       "        text-align: right;\n",
       "    }\n",
       "</style>\n",
       "<table border=\"1\" class=\"dataframe\">\n",
       "  <thead>\n",
       "    <tr style=\"text-align: right;\">\n",
       "      <th>form</th>\n",
       "      <th>10-K</th>\n",
       "      <th>10-Q</th>\n",
       "      <th>8-K</th>\n",
       "    </tr>\n",
       "    <tr>\n",
       "      <th>name</th>\n",
       "      <th></th>\n",
       "      <th></th>\n",
       "      <th></th>\n",
       "    </tr>\n",
       "  </thead>\n",
       "  <tbody>\n",
       "    <tr>\n",
       "      <th>1 800 FLOWERS COM INC</th>\n",
       "      <td>0</td>\n",
       "      <td>0</td>\n",
       "      <td>1</td>\n",
       "    </tr>\n",
       "    <tr>\n",
       "      <th>180 LIFE SCIENCES CORP.</th>\n",
       "      <td>0</td>\n",
       "      <td>0</td>\n",
       "      <td>4</td>\n",
       "    </tr>\n",
       "    <tr>\n",
       "      <th>1847 GOEDEKER INC.</th>\n",
       "      <td>0</td>\n",
       "      <td>0</td>\n",
       "      <td>2</td>\n",
       "    </tr>\n",
       "    <tr>\n",
       "      <th>1ST CONSTITUTION BANCORP</th>\n",
       "      <td>0</td>\n",
       "      <td>0</td>\n",
       "      <td>2</td>\n",
       "    </tr>\n",
       "    <tr>\n",
       "      <th>22ND CENTURY GROUP, INC.</th>\n",
       "      <td>0</td>\n",
       "      <td>0</td>\n",
       "      <td>1</td>\n",
       "    </tr>\n",
       "    <tr>\n",
       "      <th>...</th>\n",
       "      <td>...</td>\n",
       "      <td>...</td>\n",
       "      <td>...</td>\n",
       "    </tr>\n",
       "    <tr>\n",
       "      <th>ZSCALER, INC.</th>\n",
       "      <td>0</td>\n",
       "      <td>1</td>\n",
       "      <td>0</td>\n",
       "    </tr>\n",
       "    <tr>\n",
       "      <th>ZUMIEZ INC</th>\n",
       "      <td>0</td>\n",
       "      <td>1</td>\n",
       "      <td>2</td>\n",
       "    </tr>\n",
       "    <tr>\n",
       "      <th>ZUORA INC</th>\n",
       "      <td>0</td>\n",
       "      <td>1</td>\n",
       "      <td>1</td>\n",
       "    </tr>\n",
       "    <tr>\n",
       "      <th>ZYMEWORKS INC.</th>\n",
       "      <td>0</td>\n",
       "      <td>0</td>\n",
       "      <td>3</td>\n",
       "    </tr>\n",
       "    <tr>\n",
       "      <th>ZYNEX INC</th>\n",
       "      <td>0</td>\n",
       "      <td>0</td>\n",
       "      <td>2</td>\n",
       "    </tr>\n",
       "  </tbody>\n",
       "</table>\n",
       "<p>3138 rows × 3 columns</p>\n",
       "</div>"
      ],
      "text/plain": [
       "form                      10-K  10-Q  8-K\n",
       "name                                     \n",
       "1 800 FLOWERS COM INC        0     0    1\n",
       "180 LIFE SCIENCES CORP.      0     0    4\n",
       "1847 GOEDEKER INC.           0     0    2\n",
       "1ST CONSTITUTION BANCORP     0     0    2\n",
       "22ND CENTURY GROUP, INC.     0     0    1\n",
       "...                        ...   ...  ...\n",
       "ZSCALER, INC.                0     1    0\n",
       "ZUMIEZ INC                   0     1    2\n",
       "ZUORA INC                    0     1    1\n",
       "ZYMEWORKS INC.               0     0    3\n",
       "ZYNEX INC                    0     0    2\n",
       "\n",
       "[3138 rows x 3 columns]"
      ]
     },
     "execution_count": 64,
     "metadata": {},
     "output_type": "execute_result"
    }
   ],
   "source": [
    "pd.crosstab(df_tmp['name'], df_tmp['form'], rownames=['name'], colnames=['form'])"
   ]
  },
  {
   "cell_type": "markdown",
   "id": "c30e57f7-073f-40b4-b69b-c099e49a6273",
   "metadata": {},
   "source": [
    "Number: all line item values from each dataset"
   ]
  },
  {
   "cell_type": "code",
   "execution_count": 52,
   "id": "06eb6d5b-3666-402d-96f6-b6e01bdeeafa",
   "metadata": {},
   "outputs": [
    {
     "data": {
      "text/html": [
       "<div>\n",
       "<style scoped>\n",
       "    .dataframe tbody tr th:only-of-type {\n",
       "        vertical-align: middle;\n",
       "    }\n",
       "\n",
       "    .dataframe tbody tr th {\n",
       "        vertical-align: top;\n",
       "    }\n",
       "\n",
       "    .dataframe thead th {\n",
       "        text-align: right;\n",
       "    }\n",
       "</style>\n",
       "<table border=\"1\" class=\"dataframe\">\n",
       "  <thead>\n",
       "    <tr style=\"text-align: right;\">\n",
       "      <th></th>\n",
       "      <th>adsh</th>\n",
       "      <th>tag</th>\n",
       "      <th>version</th>\n",
       "      <th>ddate</th>\n",
       "      <th>qtrs</th>\n",
       "      <th>uom</th>\n",
       "      <th>dimh</th>\n",
       "      <th>iprx</th>\n",
       "    </tr>\n",
       "  </thead>\n",
       "  <tbody>\n",
       "    <tr>\n",
       "      <th>0</th>\n",
       "      <td>0001062993-21-011894</td>\n",
       "      <td>WeightedAverageExercisePriceOfShareOptionsOuts...</td>\n",
       "      <td>ifrs/2020</td>\n",
       "      <td>20191231</td>\n",
       "      <td>0</td>\n",
       "      <td>CAD</td>\n",
       "      <td>0x833c5d9b45ae0f823524a9499bd2029b</td>\n",
       "      <td>0</td>\n",
       "    </tr>\n",
       "    <tr>\n",
       "      <th>1</th>\n",
       "      <td>0001062993-21-011894</td>\n",
       "      <td>EachSharePurchaseWarrantAssessedValue</td>\n",
       "      <td>0001062993-21-011894</td>\n",
       "      <td>20171231</td>\n",
       "      <td>0</td>\n",
       "      <td>CAD</td>\n",
       "      <td>0xb36e98a1603d71c9130dc58a98eb1359</td>\n",
       "      <td>0</td>\n",
       "    </tr>\n",
       "    <tr>\n",
       "      <th>2</th>\n",
       "      <td>0001193125-21-344339</td>\n",
       "      <td>ProfitLossAttributableToOwnersOfParent</td>\n",
       "      <td>ifrs/2020</td>\n",
       "      <td>20201031</td>\n",
       "      <td>4</td>\n",
       "      <td>CAD</td>\n",
       "      <td>0x00000000</td>\n",
       "      <td>0</td>\n",
       "    </tr>\n",
       "    <tr>\n",
       "      <th>3</th>\n",
       "      <td>0001193125-21-344339</td>\n",
       "      <td>NotionalAmount</td>\n",
       "      <td>ifrs/2020</td>\n",
       "      <td>20211031</td>\n",
       "      <td>0</td>\n",
       "      <td>CAD</td>\n",
       "      <td>0x330691fdeafe2e135ffc8330e5171705</td>\n",
       "      <td>0</td>\n",
       "    </tr>\n",
       "    <tr>\n",
       "      <th>4</th>\n",
       "      <td>0001193125-21-344339</td>\n",
       "      <td>IncreaseDecreaseThroughNetExchangeDifferencesP...</td>\n",
       "      <td>ifrs/2020</td>\n",
       "      <td>20201031</td>\n",
       "      <td>4</td>\n",
       "      <td>CAD</td>\n",
       "      <td>0x99090c3ff88704202dc8610a2a65a5a0</td>\n",
       "      <td>0</td>\n",
       "    </tr>\n",
       "  </tbody>\n",
       "</table>\n",
       "</div>"
      ],
      "text/plain": [
       "                   adsh                                                tag  \\\n",
       "0  0001062993-21-011894  WeightedAverageExercisePriceOfShareOptionsOuts...   \n",
       "1  0001062993-21-011894              EachSharePurchaseWarrantAssessedValue   \n",
       "2  0001193125-21-344339             ProfitLossAttributableToOwnersOfParent   \n",
       "3  0001193125-21-344339                                     NotionalAmount   \n",
       "4  0001193125-21-344339  IncreaseDecreaseThroughNetExchangeDifferencesP...   \n",
       "\n",
       "                version     ddate  qtrs  uom  \\\n",
       "0             ifrs/2020  20191231     0  CAD   \n",
       "1  0001062993-21-011894  20171231     0  CAD   \n",
       "2             ifrs/2020  20201031     4  CAD   \n",
       "3             ifrs/2020  20211031     0  CAD   \n",
       "4             ifrs/2020  20201031     4  CAD   \n",
       "\n",
       "                                 dimh  iprx  \n",
       "0  0x833c5d9b45ae0f823524a9499bd2029b     0  \n",
       "1  0xb36e98a1603d71c9130dc58a98eb1359     0  \n",
       "2                          0x00000000     0  \n",
       "3  0x330691fdeafe2e135ffc8330e5171705     0  \n",
       "4  0x99090c3ff88704202dc8610a2a65a5a0     0  "
      ]
     },
     "execution_count": 52,
     "metadata": {},
     "output_type": "execute_result"
    }
   ],
   "source": [
    "df_num[['adsh', 'tag', 'version', 'ddate', 'qtrs', 'uom', 'dimh', 'iprx']].head()\n",
    "df_num[['value', 'footnote', 'footlen', 'dimn', 'coreg', 'durp', 'datp','dcml']].head()"
   ]
  },
  {
   "cell_type": "markdown",
   "id": "bd7c8391-c24c-44b6-87d6-c9d8c085a39a",
   "metadata": {},
   "source": [
    "Text: plain text of all non-numeric items in the dataset.  This includes tables and other unstructured data."
   ]
  },
  {
   "cell_type": "code",
   "execution_count": 56,
   "id": "5655d7dc-8d11-4881-bc5e-b0323694afcb",
   "metadata": {},
   "outputs": [
    {
     "data": {
      "text/html": [
       "<div>\n",
       "<style scoped>\n",
       "    .dataframe tbody tr th:only-of-type {\n",
       "        vertical-align: middle;\n",
       "    }\n",
       "\n",
       "    .dataframe tbody tr th {\n",
       "        vertical-align: top;\n",
       "    }\n",
       "\n",
       "    .dataframe thead th {\n",
       "        text-align: right;\n",
       "    }\n",
       "</style>\n",
       "<table border=\"1\" class=\"dataframe\">\n",
       "  <thead>\n",
       "    <tr style=\"text-align: right;\">\n",
       "      <th></th>\n",
       "      <th>durp</th>\n",
       "      <th>datp</th>\n",
       "      <th>dimh</th>\n",
       "      <th>dimn</th>\n",
       "      <th>coreg</th>\n",
       "      <th>escaped</th>\n",
       "      <th>srclen</th>\n",
       "      <th>txtlen</th>\n",
       "      <th>footnote</th>\n",
       "      <th>footlen</th>\n",
       "      <th>context</th>\n",
       "      <th>value</th>\n",
       "    </tr>\n",
       "  </thead>\n",
       "  <tbody>\n",
       "    <tr>\n",
       "      <th>0</th>\n",
       "      <td>0.019179</td>\n",
       "      <td>0.0</td>\n",
       "      <td>0x00000000</td>\n",
       "      <td>0</td>\n",
       "      <td>NaN</td>\n",
       "      <td>1</td>\n",
       "      <td>14355</td>\n",
       "      <td>10701</td>\n",
       "      <td>NaN</td>\n",
       "      <td>0</td>\n",
       "      <td>Duration_1_1_2021_To_9_30_2021_RwCPA6c1GkyrMOE...</td>\n",
       "      <td>1. Organization, Business Operations. Incorpor...</td>\n",
       "    </tr>\n",
       "    <tr>\n",
       "      <th>1</th>\n",
       "      <td>0.019179</td>\n",
       "      <td>0.0</td>\n",
       "      <td>0x00000000</td>\n",
       "      <td>0</td>\n",
       "      <td>NaN</td>\n",
       "      <td>1</td>\n",
       "      <td>12319</td>\n",
       "      <td>9175</td>\n",
       "      <td>NaN</td>\n",
       "      <td>0</td>\n",
       "      <td>Duration_1_1_2021_To_9_30_2021_-D0OjqPQ9UywHQZ...</td>\n",
       "      <td>1. NATURE OF BUSINESS AND BASIS OF PRESENTATIO...</td>\n",
       "    </tr>\n",
       "    <tr>\n",
       "      <th>2</th>\n",
       "      <td>0.482192</td>\n",
       "      <td>0.0</td>\n",
       "      <td>0x00000000</td>\n",
       "      <td>0</td>\n",
       "      <td>NaN</td>\n",
       "      <td>1</td>\n",
       "      <td>17429</td>\n",
       "      <td>14660</td>\n",
       "      <td>NaN</td>\n",
       "      <td>0</td>\n",
       "      <td>Duration_2_14_2020_To_12_31_2020_1uTU7qmFN0u03...</td>\n",
       "      <td>NOTE 1. DESCRIPTION OF ORGANIZATION AND BUSINE...</td>\n",
       "    </tr>\n",
       "    <tr>\n",
       "      <th>3</th>\n",
       "      <td>0.019179</td>\n",
       "      <td>0.0</td>\n",
       "      <td>0x00000000</td>\n",
       "      <td>0</td>\n",
       "      <td>NaN</td>\n",
       "      <td>1</td>\n",
       "      <td>18120</td>\n",
       "      <td>14832</td>\n",
       "      <td>NaN</td>\n",
       "      <td>0</td>\n",
       "      <td>Duration_1_1_2021_To_9_30_2021_J8h0TwBpskSZgk7...</td>\n",
       "      <td>NOTE 1. DESCRIPTION OF ORGANIZATION AND BUSINE...</td>\n",
       "    </tr>\n",
       "    <tr>\n",
       "      <th>4</th>\n",
       "      <td>0.000000</td>\n",
       "      <td>0.0</td>\n",
       "      <td>0x00000000</td>\n",
       "      <td>0</td>\n",
       "      <td>NaN</td>\n",
       "      <td>1</td>\n",
       "      <td>16072</td>\n",
       "      <td>11749</td>\n",
       "      <td>NaN</td>\n",
       "      <td>0</td>\n",
       "      <td>Duration_1_1_2020_To_12_31_2020_yzcIljh5FkytHG...</td>\n",
       "      <td>Note 1  Organization, Business Operations and ...</td>\n",
       "    </tr>\n",
       "  </tbody>\n",
       "</table>\n",
       "</div>"
      ],
      "text/plain": [
       "       durp  datp        dimh  dimn coreg  escaped  srclen  txtlen footnote  \\\n",
       "0  0.019179   0.0  0x00000000     0   NaN        1   14355   10701      NaN   \n",
       "1  0.019179   0.0  0x00000000     0   NaN        1   12319    9175      NaN   \n",
       "2  0.482192   0.0  0x00000000     0   NaN        1   17429   14660      NaN   \n",
       "3  0.019179   0.0  0x00000000     0   NaN        1   18120   14832      NaN   \n",
       "4  0.000000   0.0  0x00000000     0   NaN        1   16072   11749      NaN   \n",
       "\n",
       "   footlen                                            context  \\\n",
       "0        0  Duration_1_1_2021_To_9_30_2021_RwCPA6c1GkyrMOE...   \n",
       "1        0  Duration_1_1_2021_To_9_30_2021_-D0OjqPQ9UywHQZ...   \n",
       "2        0  Duration_2_14_2020_To_12_31_2020_1uTU7qmFN0u03...   \n",
       "3        0  Duration_1_1_2021_To_9_30_2021_J8h0TwBpskSZgk7...   \n",
       "4        0  Duration_1_1_2020_To_12_31_2020_yzcIljh5FkytHG...   \n",
       "\n",
       "                                               value  \n",
       "0  1. Organization, Business Operations. Incorpor...  \n",
       "1  1. NATURE OF BUSINESS AND BASIS OF PRESENTATIO...  \n",
       "2  NOTE 1. DESCRIPTION OF ORGANIZATION AND BUSINE...  \n",
       "3  NOTE 1. DESCRIPTION OF ORGANIZATION AND BUSINE...  \n",
       "4  Note 1  Organization, Business Operations and ...  "
      ]
     },
     "execution_count": 56,
     "metadata": {},
     "output_type": "execute_result"
    }
   ],
   "source": [
    "df_txt[['adsh', 'tag', 'version', 'ddate', 'qtrs', 'iprx', 'lang', 'dcml']].head()\n",
    "df_txt[['durp', 'datp', 'dimh', 'dimn', 'coreg', 'escaped', 'srclen', 'txtlen','footnote', 'footlen', 'context', 'value']].head()"
   ]
  },
  {
   "cell_type": "markdown",
   "id": "11b4874c-f218-44ba-b03d-a7c8cf87253e",
   "metadata": {},
   "source": [
    "## Data Validation\n",
    "\n",
    "Let's validate we know what we are looking at.\n",
    "\n",
    "* `adsh` - unique primary key, 20-char Accession Number automatically assigned when submission is accepted by EDGAR; format: `<entity_CIK>-<YR>-<CIK_sequence_num>`\n",
    "  - `entity_CIK` company or a third-party filer agent; may have no searchable presence in public EDGAR database\n",
    "  - `YR` year\n",
    "  - `sequence_num` of the submitted filings from that CIK"
   ]
  },
  {
   "cell_type": "markdown",
   "id": "5819c333-0dab-411f-9c93-c932ecb59a88",
   "metadata": {},
   "source": [
    "There are 3,321 unique names making submissions during this month, but only 128 unique CIK.  However, CIK derived from ADSH appers to be different.  \n",
    "\n",
    "TODO:\n",
    "\n",
    "* is this because most CIK is a limited number of 3rd-party preparers?\n",
    "* why is CIK from ADSH different?"
   ]
  },
  {
   "cell_type": "code",
   "execution_count": 13,
   "id": "a2fdfefd-26a5-49b2-90e4-e4fc409cf776",
   "metadata": {},
   "outputs": [
    {
     "name": "stdout",
     "output_type": "stream",
     "text": [
      "Count of names: (3321,)\n"
     ]
    }
   ],
   "source": [
    "print(f\"Count of names: {df_sub['name'].unique().shape}\")"
   ]
  },
  {
   "cell_type": "code",
   "execution_count": 14,
   "id": "0f5c1b65-97e1-4ce4-8a59-72cf42a0f7e5",
   "metadata": {},
   "outputs": [
    {
     "name": "stdout",
     "output_type": "stream",
     "text": [
      "Count of names: (3297,)\n"
     ]
    }
   ],
   "source": [
    "print(f\"Count of names: {df_sub['cik'].unique().shape}\")"
   ]
  },
  {
   "cell_type": "code",
   "execution_count": 25,
   "id": "bf43fcd6-7a52-40ed-9636-ebdab29b3f01",
   "metadata": {},
   "outputs": [],
   "source": [
    "df_sub[['id_cik','id_yr','id_seq_num']] = df_sub['adsh'].str.split('-', None, expand=True)"
   ]
  },
  {
   "cell_type": "code",
   "execution_count": 26,
   "id": "730590fe-974b-4856-a801-ed6e9691886c",
   "metadata": {},
   "outputs": [
    {
     "data": {
      "text/plain": [
       "(923,)"
      ]
     },
     "execution_count": 26,
     "metadata": {},
     "output_type": "execute_result"
    }
   ],
   "source": [
    "df_sub['id_cik'].unique().shape"
   ]
  },
  {
   "cell_type": "markdown",
   "id": "c6c21bd9-b444-49cd-aadf-ea1f90ae6a0e",
   "metadata": {},
   "source": [
    "Still unique CIK differ"
   ]
  },
  {
   "cell_type": "code",
   "execution_count": 20,
   "id": "6ea8125e-c070-4324-866e-dfe10814af63",
   "metadata": {},
   "outputs": [],
   "source": [
    "df_txt[['id_cik','id_yr','id_seq_num']] = df_txt['adsh'].str.split('-', None, expand=True)"
   ]
  },
  {
   "cell_type": "code",
   "execution_count": 23,
   "id": "2faf23b6-0e9b-4271-be6c-a99378edfab0",
   "metadata": {},
   "outputs": [
    {
     "name": "stdout",
     "output_type": "stream",
     "text": [
      "Unique CIK from ADSH within txt: (923,)\n"
     ]
    }
   ],
   "source": [
    "#df_txt['id_cik'].value_counts()\n",
    "print(f\"Unique CIK from ADSH within txt: {df_txt['id_cik'].unique().shape }\")"
   ]
  },
  {
   "cell_type": "code",
   "execution_count": null,
   "id": "d75d0218-990e-43ad-a224-77a400ba48ab",
   "metadata": {},
   "outputs": [],
   "source": [
    "The year"
   ]
  },
  {
   "cell_type": "code",
   "execution_count": 28,
   "id": "1f16423e-e018-46ab-b751-f7cce2983f52",
   "metadata": {},
   "outputs": [
    {
     "data": {
      "text/plain": [
       "21    216344\n",
       "Name: yr, dtype: int64"
      ]
     },
     "execution_count": 28,
     "metadata": {},
     "output_type": "execute_result"
    }
   ],
   "source": [
    "df_txt['yr'].value_counts()"
   ]
  },
  {
   "cell_type": "code",
   "execution_count": null,
   "id": "78ddbc1c-5207-45e8-947e-a5f57a71c594",
   "metadata": {},
   "outputs": [],
   "source": []
  },
  {
   "cell_type": "code",
   "execution_count": 10,
   "id": "1d21f152-4c61-4b22-8e9e-d4630c5484ce",
   "metadata": {},
   "outputs": [
    {
     "data": {
      "text/plain": [
       "0     122934\n",
       "3      36587\n",
       "4      34554\n",
       "2      13163\n",
       "1       9072\n",
       "5         26\n",
       "8          3\n",
       "12         2\n",
       "9          1\n",
       "15         1\n",
       "60         1\n",
       "Name: qtrs, dtype: int64"
      ]
     },
     "execution_count": 10,
     "metadata": {},
     "output_type": "execute_result"
    }
   ],
   "source": [
    "df_txt['qtrs'].value_counts()"
   ]
  },
  {
   "cell_type": "code",
   "execution_count": null,
   "id": "2b6943f2-3cf1-4c6c-a453-5534f0f392ea",
   "metadata": {},
   "outputs": [],
   "source": []
  },
  {
   "cell_type": "markdown",
   "id": "49b8720f-751b-428f-9b2f-d59440d749fe",
   "metadata": {},
   "source": [
    "## Review"
   ]
  },
  {
   "cell_type": "markdown",
   "id": "1f2ff953-57b6-4137-9450-b0f979087125",
   "metadata": {},
   "source": [
    "There are only a small percentage of footnotes."
   ]
  },
  {
   "cell_type": "code",
   "execution_count": 68,
   "id": "1579769b-a63a-47be-9bcf-34d9b50330c2",
   "metadata": {},
   "outputs": [
    {
     "data": {
      "text/plain": [
       "(1427,)"
      ]
     },
     "execution_count": 68,
     "metadata": {},
     "output_type": "execute_result"
    }
   ],
   "source": [
    "footnotes = df_num['footnote'].dropna()\n",
    "footnotes.shape"
   ]
  },
  {
   "cell_type": "code",
   "execution_count": 42,
   "id": "ac3ce9b8-a992-4747-90e2-a3fb9ad78bcb",
   "metadata": {},
   "outputs": [
    {
     "data": {
      "text/plain": [
       "'Represents unallocated items. In the three-month periods ended October 31, 2021, and November 1, 2020, there were pension actuarial losses of $6 and pension actuarial gains of $4, respectively. Costs related to the cost savings initiatives were $4 and $5 in the three-month periods ended October 31, 2021, and November 1, 2020, respectively. Unrealized mark-to-market adjustments on outstanding undesignated commodity hedges were losses of $3 and gains of $6 in the three-month periods ended October 31, 2021, an'"
      ]
     },
     "execution_count": 42,
     "metadata": {},
     "output_type": "execute_result"
    }
   ],
   "source": [
    "footnotes.iloc[0]"
   ]
  },
  {
   "cell_type": "code",
   "execution_count": 58,
   "id": "5d26e759-7851-4b85-9a63-c3f023bcd1c8",
   "metadata": {},
   "outputs": [
    {
     "data": {
      "text/plain": [
       "(66,)"
      ]
     },
     "execution_count": 58,
     "metadata": {},
     "output_type": "execute_result"
    }
   ],
   "source": [
    "df_txt['footnote'].dropna().shape"
   ]
  },
  {
   "cell_type": "code",
   "execution_count": 67,
   "id": "63549cd3-cadc-401f-b9ad-351cd212f3e8",
   "metadata": {},
   "outputs": [
    {
     "data": {
      "text/plain": [
       "'NOTE 1. DESCRIPTION OF ORGANIZATION AND BUSINESS OPERATIONS Capstar Special Purpose Acquisition Corp. (the Company) was incorporated in Delaware on February 14, 2020. The Company was formed for the purpose of effecting a merger, capital stock exchange, asset acquisition, stock purchase, reorganization or similar business combination with one or more businesses (the Business Combination). Although the Company is not limited to a particular industry or geographic region for purposes of consummating a Business Combination, the Company intends to focus on businesses in the consumer, healthcare and technology, media and telecommunications (TMT) industries. The Company is an early stage and emerging growth company and, as such, the Company is subject to all of the risks associated with early stage and emerging growth companies. As of December 31, 2020, the Company had not commenced any operations. All activity for the period from February 14, 2020 (inception) through December 31, 2020 relates to the Companys formation, its initial public offering (Initial Public Offering), which is described below, and the search for a target company for a Business Combination. The Company will not generate any operating revenues until after the completion of its initial Business Combination, at the earliest. The Company will generate non-operating income in the form of interest income from the proceeds derived from the Initial Public Offering. The registration statement for the Companys Initial Public Offering was declared effective on July 1, 2020. On July 7, 2020, the Company consummated the Initial Public Offering of 27,600,000 units (the Units and, with respect to the shares of Class A common stock included in the Units sold, the Public Shares), which includes the full exercise by the underwriters of the over-allotment option to purchase an additional 3,600,000 Units, at $10.00 per Unit, generating gross proceeds of $276,000,000, which is described in Note 4. Simultaneously with the closing of the Initial Public Offering, the Company consummated the sale of 7,520,000 warrants (each, a Private Placement Warrant and, collectively, the Private Placement Warrants) at a price of $1.00 per Private Placement Warrant in a private placement to Capstar Sponsor Group, LLC (the Sponsor), generating gross proceeds of $7,520,000, which is described in Note 5. Transaction costs amounted to $15,851,828, consisting of $5,520,000 of underwriting fees, $9,660,000 of deferred underwriting fees and $671,828 of other offering costs. Following the closing of the Initial Public Offering on July 7, 2020, an amount of $276,000,000 ($10.00 per Unit) from the net proceeds of the sale of the Units in the Initial Public Offering and the sale of the Private Placement Warrants was placed in a trust account (the Trust Account). The proceeds are held in the Trust Account located in the United States and shall be invested only in U.S. government securities, within the meaning set forth in Section 2(a)(16) of the Investment Company Act of 1940, as amended (the Investment Company Act), with a maturity of 185 days or less or in any open-ended investment company that holds itself out as a money market fund selected by the Company meeting the conditions of Rule 2a-7 of the Investment Company Act, as determined by the Company, until the earlier of: (i) the completion of a Business Combination or (ii) the distribution of the funds in the Trust Account, as described below. The Companys management has broad discretion with respect to the specific application of the net proceeds of the Initial Public Offering and the sale of the Private Placement Warrants, although substantially all of the net proceeds are intended to be applied generally toward consummating a Business Combination. There is no assurance that the Company will be able to complete a Business Combination successfully. The Companys initial Business Combination must be with one or more target businesses that together have a fair market value equal to at least 80% of the balance in the Trust Account (excluding taxes payable on interest income earned from the Trust Account and the deferred underwriting commissions) at the time of the agreement to enter into the initial Business Combination. The Company will only complete a Business Combination if the post-transaction company owns or acquires 50% or more of the outstanding voting securities of the target or otherwise acquires a controlling interest in the target sufficient for it not to be required to register as an investment company under the Investment Company Act. The Company will provide its holders of the outstanding Public Shares (the public stockholders) with the opportunity to redeem all or a portion of their Public Shares upon the completion of a Business Combination either (i) in connection with a stockholder meeting called to approve the Business Combination or (ii) by means of a tender offer. The decision as to whether the Company will seek stockholder approval of a Business Combination or conduct a tender offer will be made by the Company, solely in its discretion. The public stockholders will be entitled to redeem their Public Shares for a pro rata portion of the amount then in the Trust Account (initially $10.00 per Public Share, plus any pro rata interest earned on the funds held in the Trust Account and not previously released to the Company to pay its tax obligations). The per-share amount to be distributed to public stockholders who redeem their Public Shares will not be reduced by the deferred underwriting commissions the Company will pay to the underwriters (as discussed in Note 7). There will be no redemption rights upon the completion of a Business Combination with respect to the Companys warrants. The Company will proceed with a Business Combination if the Company has net tangible assets of at least $5,000,001 upon such consummation of a Business Combination and, if the Company seeks stockholder approval, a majority of the shares voted are voted in favor of the Business Combination. If a stockholder vote is not required by law or stock exchange requirements and the Company does not decide to hold a stockholder vote for business or other legal reasons, the Company will, pursuant to its Amended and Restated Certificate of Incorporation (the Amended and Restated Certificate of Incorporation), conduct the redemptions pursuant to the tender offer rules of the U.S. Securities and Exchange Commission (SEC) and file tender offer documents with the SEC prior to completing a Business Combination. If, however, stockholder approval of the transaction is required by law, or the Company decides to obtain stockholder approval for business or legal reasons, the Company will offer to redeem shares in conjunction with a proxy solicitation pursuant to the proxy rules and not pursuant to the tender offer rules. If the Company seeks stockholder approval in connection with a Business Combination, the Companys Sponsor has agreed to vote its Founder Shares (as defined in Note 6) and any Public Shares purchased during or after the Initial Public Offering in favor of approving a Business Combination. Additionally, each public stockholder may elect to redeem their Public Shares irrespective of whether they vote for or against the proposed transaction. Notwithstanding the above, if the Company seeks stockholder approval of a Business Combination and it does not conduct redemptions pursuant to the tender offer rules, the Amended and Restated Certificate of Incorporation provides that a public stockholder, together with any affiliate of such stockholder or any other person with whom such stockholder is acting in concert or as a group (as defined under Section 13 of the Securities Exchange Act of 1934, as amended (the Exchange Act)), will be restricted from redeeming its shares with respect to more than an aggregate of 15% or more of the Public Shares, without the prior consent of the Company. The Sponsor has agreed (i) to waive its redemption rights with respect to its Founder Shares and Public Shares held by it in connection with the completion of a Business Combination and (ii) not to propose an amendment to the Companys Amended and Restated Certificate of Incorporation that would affect the substance or timing of the Companys obligation to redeem 100% of its Public Shares if the Company does not complete a Business Combination, unless the Company provides the public stockholders with the opportunity to redeem their shares in conjunction with any such amendment. The Company will have until July 7, 2022 to consummate a Business Combination (the Combination Period). If the Company is unable to complete a Business Combination within the Combination Period, the Company will (i) cease all operations except for the purpose of winding up, (ii) as promptly as reasonably possible but not more than ten business days thereafter, redeem the Public Shares, at a per-share price, payable in cash, equal to the aggregate amount then on deposit in the Trust Account including interest earned on the funds held in the Trust Account and not previously released to the Company to pay taxes (less up to $100,000 to pay dissolution expenses), divided by the number of then outstanding Public Shares, which redemption will completely extinguish public stockholders rights as stockholders (including the right to receive further liquidating distributions, if any), subject to applicable law, and (iii) as promptly as reasonably possible following such redemption, subject to the approval of the Companys remaining stockholders and the Companys board of directors, dissolve and liquidate, subject in each case to the Companys obligations under Delaware law to provide for claims of creditors and the requirements of other applicable law. There will be no redemption rights or liquidating distributions with respect to the Companys warrants, which will expire worthless if the Company fails to complete a Business Combination within the Combination Period. The Sponsor has agreed to waive its right to liquidating distributions from the Trust Account with respect to the Founder Shares if the Company fails to complete a Business Combination within the Combination Period. However, if the Sponsor acquires Public Shares in or after the Initial Public Offering, such Public Shares will be entitled to liquidating distributions from the Trust Account if the Company fails to complete a Business Combination within the Combination Period. The underwriters have agreed to waive their rights to their deferred underwriting commission (see Note 7) held in the Trust Account in the event the Company does not complete a Business Combination within the Combination Period and, in such event, such amounts will be included with the other funds held in the Trust Account that will be available to fund the redemption of the Public Shares. In the event of such distribution, it is possible that the per share value of the assets remaining available for distribution will be less than the Initial Public Offering price per Unit ($10.00). In order to protect the amounts held in the Trust Account, the Sponsor has agreed to be liable to the Company if and to the extent any claims by a third party for services rendered or products sold to the Company, or a prospective target business with which the Company has entered into a written letter of intent, confidentiality or similar agreement, reduce the amount of funds in the Trust Account to below the lesser of (i) $10.00 per Public Share and (ii) the actual amount per Public Share held in the Trust Account as of the liquidation of the Trust Account, if less than $10.00 per Public Share due to reductions in the value of the trust assets, less taxes payable, provided that such liability will not apply to any claims by a third party or prospective target business who executed a waiver of any and all rights to the monies held in the Trust Account nor will it apply to any claims under the Companys indemnity of the underwriters of the Initial Public Offering against certain liabilities, including liabilities under the Securities Act of 1933, as amended (the Securities Act). Moreover, in the event that an executed waiver is deemed to be unenforceable against a third party, the Sponsor will not be responsible to the extent of any liability for such third-party claims. The Company will seek to reduce the possibility that the Sponsor will have to indemnify the Trust Account due to claims of creditors by endeavoring to have all vendors, service providers (except for the Companys auditors), prospective target businesses or other entities with which the Company does business, execute agreements with the Company waiving any right, title, interest or claim of any kind in or to monies held in the Trust Account. Risks and Uncertainties Management continues to evaluate the impact of the COVID-19 pandemic and has concluded that while it is reasonably possible that the virus could have a negative effect on the Companys financial position, results of its operations and/or search for a target company, the specific impact is not readily determinable as of the date of these financial statements. The financial statements do not include any adjustments that might result from the outcome of this uncertainty. Liquidity and Managements Plan As of December 31, 2020, the Company had $491,827 in its operating bank accounts, $276,209,453 in securities held in the Trust Account to be used for a Business Combination or to repurchase or redeem its common stock in connection therewith and working capital deficit of $897,026, which excludes $176,006 of franchise taxes payable. As of December 31, 2020, approximately $209,000 of the amount on deposit in the Trust Account represented interest income, which is available to pay the Companys tax obligations. As of December 31, 2020, the Company lacked the liquidity it needed to sustain operations for a reasonable period of time, which is considered to be one year from the issuance date of the financial statements and had substantial doubt over its ability to continue as a going concern. On March 3, 2021 (see Note 12), the Sponsor committed to provide the Company an aggregate of $1,500,000 in loans for working capital purposes. Accordingly, management has since reevaluated the Companys liquidity and financial condition and determined that sufficient capital exists to sustain operations for at least one year from the issuance date of these financial statements and therefore substantial doubt has been alleviated.'"
      ]
     },
     "execution_count": 67,
     "metadata": {},
     "output_type": "execute_result"
    }
   ],
   "source": [
    "df_txt['value'].iloc[2]"
   ]
  },
  {
   "cell_type": "markdown",
   "id": "98ef24d7-6deb-4563-ac48-0ba14814ff48",
   "metadata": {},
   "source": [
    "## Manual Review: Wells Fargo\n",
    "\n",
    "We will search for two .pdf documents from WFC: 10K, 8K.  Then we will look for specific data within these files to map it to the documents."
   ]
  },
  {
   "cell_type": "markdown",
   "id": "9d9d678b-f8d2-4f68-ad57-867d205b0f59",
   "metadata": {},
   "source": [
    "### Find the documents"
   ]
  },
  {
   "cell_type": "code",
   "execution_count": 3,
   "id": "3ad0e153-492a-41d4-a34f-32c3dfcb98ea",
   "metadata": {},
   "outputs": [
    {
     "name": "stdout",
     "output_type": "stream",
     "text": [
      "2020q1_notes  2020q1_notes.zip\t2020q2_notes  2020q2_notes.zip\t2021_12_notes\n"
     ]
    }
   ],
   "source": [
    "! ls large_dataset/"
   ]
  },
  {
   "cell_type": "code",
   "execution_count": 4,
   "id": "b89e46bb-090c-4d61-a087-faa2d13a5834",
   "metadata": {},
   "outputs": [
    {
     "name": "stdout",
     "output_type": "stream",
     "text": [
      "Data size: (13561, 40)\n",
      "Size of submission of interest (10K,10Q,8K): 12714\n"
     ]
    }
   ],
   "source": [
    "file_path = 'large_dataset/2020q1_notes/sub.tsv'\n",
    "df_sub2020q1 = read_table(file_path)"
   ]
  },
  {
   "cell_type": "code",
   "execution_count": 5,
   "id": "c305324c-0b1b-457b-89f7-d7cd8c95b161",
   "metadata": {},
   "outputs": [
    {
     "name": "stdout",
     "output_type": "stream",
     "text": [
      "Data size: (16411, 40)\n",
      "Size of submission of interest (10K,10Q,8K): 15369\n"
     ]
    }
   ],
   "source": [
    "file_path = 'large_dataset/2020q2_notes/sub.tsv'\n",
    "df_sub2020q2 = read_table(file_path)"
   ]
  },
  {
   "cell_type": "code",
   "execution_count": 6,
   "id": "7c5c5d46-a83f-49d2-9941-c28da66eb03a",
   "metadata": {},
   "outputs": [],
   "source": [
    "df_sub = pd.concat([df_sub2020q2, df_sub2020q1])"
   ]
  },
  {
   "cell_type": "code",
   "execution_count": 7,
   "id": "da98ffbe-8bf7-4e27-a3ad-908f4d149cd6",
   "metadata": {},
   "outputs": [
    {
     "data": {
      "text/plain": [
       "(29972, 40)"
      ]
     },
     "execution_count": 7,
     "metadata": {},
     "output_type": "execute_result"
    }
   ],
   "source": [
    "df_sub.shape"
   ]
  },
  {
   "cell_type": "code",
   "execution_count": 8,
   "id": "32d0e01e-4781-4043-8eb1-8fb19ee444d3",
   "metadata": {},
   "outputs": [],
   "source": [
    "df_wfc = df_sub[df_sub['name'].str.contains('FARGO')]"
   ]
  },
  {
   "cell_type": "code",
   "execution_count": 12,
   "id": "4b683726-7552-4c25-b8e0-900d0a9f7af8",
   "metadata": {},
   "outputs": [
    {
     "data": {
      "text/plain": [
       "'0000072971-20-000217'"
      ]
     },
     "execution_count": 12,
     "metadata": {},
     "output_type": "execute_result"
    }
   ],
   "source": [
    "df_10k = df_wfc[df_wfc['form'].isin(['10-K'])]\n",
    "df_10k['adsh'].values[0]"
   ]
  },
  {
   "cell_type": "code",
   "execution_count": 13,
   "id": "772dee67-e949-49fe-b284-d11cd892ea1d",
   "metadata": {},
   "outputs": [
    {
     "data": {
      "text/plain": [
       "'0001387131-20-003874'"
      ]
     },
     "execution_count": 13,
     "metadata": {},
     "output_type": "execute_result"
    }
   ],
   "source": [
    "df_8k = df_wfc[df_wfc['instance'].str.contains('0414')]\n",
    "df_8k['adsh'].values[0]"
   ]
  },
  {
   "cell_type": "code",
   "execution_count": 11,
   "id": "d8c5a22d-be24-4e67-8e66-bbf3a4484ab4",
   "metadata": {
    "tags": []
   },
   "outputs": [
    {
     "data": {
      "text/plain": [
       "(1, 40)"
      ]
     },
     "execution_count": 11,
     "metadata": {},
     "output_type": "execute_result"
    }
   ],
   "source": [
    "df_sub2020q1[df_sub2020q1['adsh'].str.contains(df_10k['adsh'].values[0])].shape\n",
    "df_sub2020q2[df_sub2020q2['adsh'].str.contains(df_8k['adsh'].values[0])].shape"
   ]
  },
  {
   "cell_type": "markdown",
   "id": "53ec7909-41e9-49f6-8069-06a96ed91ee5",
   "metadata": {},
   "source": [
    "### Find associated records"
   ]
  },
  {
   "cell_type": "code",
   "execution_count": 5,
   "id": "90afcadf-b67f-4810-aa9d-365f9abfcd0f",
   "metadata": {},
   "outputs": [
    {
     "name": "stdout",
     "output_type": "stream",
     "text": [
      "3.37.0 2021-11-27 14:13:22 bd41822c7424d393a30e92ff6cb254d25c26769889c1499a18a0b9339f5d6c8a\n"
     ]
    }
   ],
   "source": [
    "! sqlite3 --version"
   ]
  },
  {
   "cell_type": "markdown",
   "id": "553e6285-0605-478c-a596-20d3392290f3",
   "metadata": {},
   "source": [
    "Data is too big!\n",
    "\n",
    "```\n",
    "file_path = 'large_dataset/2020q1_notes/num.tsv'\n",
    "df_tmp = read_table(file_path)\n",
    "df_num = df_tmp[df_tmp['adsh'].str.contains('0000072971-20-000217')]\n",
    "```"
   ]
  },
  {
   "cell_type": "markdown",
   "id": "2ad12fb4-78d3-4e1c-801c-d06d034cc1a9",
   "metadata": {},
   "source": [
    "From the commandline:\n",
    "\n",
    "```bash\n",
    "sqlite3 sec.db\n",
    "\n",
    "sqlite> .mode tabs\n",
    "sqlite> .import 2020q1_notes/num.tsv num\n",
    "sqlite> .tables\n",
    "\n",
    "sqlite> .headers on\n",
    "sqlite> .mode column\n",
    "sqlite> SELECT * FROM num LIMIT 3;\n",
    "```\n",
    "\n",
    "and \n",
    "\n",
    "```bash\n",
    "sqlite> .mode tabs\n",
    "sqlite> .import 2020q1_notes/txt.tsv txt\n",
    "sqlite> .tables\n",
    "\n",
    "sqlite> .headers on\n",
    "sqlite> .mode column\n",
    "sqlite> SELECT * FROM txt LIMIT 3;\n",
    "```"
   ]
  },
  {
   "cell_type": "code",
   "execution_count": 37,
   "id": "77bb8aa2-a90f-4843-9db9-c232f85a57be",
   "metadata": {},
   "outputs": [
    {
     "name": "stdout",
     "output_type": "stream",
     "text": [
      "total 3.4G\n",
      "drwx------ 12 root   root   384 Jan 26 15:26 .\n",
      "drwxr-xr-x 10 jovyan users  320 Jan 26 18:33 ..\n",
      "-rw-r--r--  1 jovyan users  65K Dec 13  2020 2020q1_notes-metadata.json\n"
     ]
    }
   ],
   "source": [
    "! ls -alh 2020q1_notes/ | head -n4"
   ]
  },
  {
   "cell_type": "code",
   "execution_count": 18,
   "id": "9671d540-f7ec-41c9-ad0b-98550ae9b6da",
   "metadata": {},
   "outputs": [
    {
     "name": "stdout",
     "output_type": "stream",
     "text": [
      "adsh\ttag\tversion\tddate\tqtrs\tuom\tdimh\tiprx\tvalue\tfootnote\tfootlen\tdimn\tcoreg\tdurp\tdatp\tdcml\n",
      "0000014195-20-000008\tDerivativeNonmonetaryNotionalAmount\tinvest/2013\t20191231\t0\tBtu\t0xd510cbd5aa429b08bfe3fe1c1a52fc18\t0\t4074000.0000\t\t0\t1\t\t0.0\t2.0\t-3\n"
     ]
    }
   ],
   "source": [
    "#check the results of the load\n",
    "! head -n3 large_dataset/2020q1_notes/num.tsv"
   ]
  },
  {
   "cell_type": "code",
   "execution_count": 19,
   "id": "990ccf64-8d35-4c94-88fe-90aae0483b28",
   "metadata": {},
   "outputs": [],
   "source": [
    "import sqlite3\n",
    "import os"
   ]
  },
  {
   "cell_type": "code",
   "execution_count": 23,
   "id": "63658924-3dff-4d1d-9406-9ab8923057c4",
   "metadata": {},
   "outputs": [
    {
     "data": {
      "text/plain": [
       "'/home/jovyan/NOTEBOOK_PUBLIC/large_dataset'"
      ]
     },
     "execution_count": 23,
     "metadata": {},
     "output_type": "execute_result"
    }
   ],
   "source": [
    "os.chdir('large_dataset/')\n",
    "os.getcwd()"
   ]
  },
  {
   "cell_type": "code",
   "execution_count": 25,
   "id": "8d95adce-8a68-4a8c-9297-6fca0d99ed43",
   "metadata": {},
   "outputs": [],
   "source": [
    "conn = sqlite3.connect('sec.db')\n",
    "query = \"SELECT * FROM num WHERE adsh = '0000072971-20-000217';\"\n",
    "\n",
    "df_num = pd.read_sql_query(query,conn)\n",
    "df_num.shape"
   ]
  },
  {
   "cell_type": "code",
   "execution_count": 38,
   "id": "fbc4cc1a-ccd9-4427-86e0-13dc9b52e8ec",
   "metadata": {},
   "outputs": [
    {
     "data": {
      "text/plain": [
       "(392, 20)"
      ]
     },
     "execution_count": 38,
     "metadata": {},
     "output_type": "execute_result"
    }
   ],
   "source": [
    "query = \"SELECT * FROM txt WHERE adsh = '0000072971-20-000217';\"\n",
    "\n",
    "df_txt = pd.read_sql_query(query,conn)\n",
    "df_txt.shape"
   ]
  },
  {
   "cell_type": "code",
   "execution_count": 43,
   "id": "0effcfb3-dac5-494f-9a9f-9dab915ae63e",
   "metadata": {},
   "outputs": [
    {
     "data": {
      "text/html": [
       "<div>\n",
       "<style scoped>\n",
       "    .dataframe tbody tr th:only-of-type {\n",
       "        vertical-align: middle;\n",
       "    }\n",
       "\n",
       "    .dataframe tbody tr th {\n",
       "        vertical-align: top;\n",
       "    }\n",
       "\n",
       "    .dataframe thead th {\n",
       "        text-align: right;\n",
       "    }\n",
       "</style>\n",
       "<table border=\"1\" class=\"dataframe\">\n",
       "  <thead>\n",
       "    <tr style=\"text-align: right;\">\n",
       "      <th></th>\n",
       "      <th>adsh</th>\n",
       "      <th>tag</th>\n",
       "      <th>version</th>\n",
       "      <th>ddate</th>\n",
       "      <th>qtrs</th>\n",
       "      <th>iprx</th>\n",
       "      <th>lang</th>\n",
       "      <th>dcml</th>\n",
       "      <th>durp</th>\n",
       "      <th>datp</th>\n",
       "      <th>dimh</th>\n",
       "      <th>dimn</th>\n",
       "      <th>coreg</th>\n",
       "      <th>escaped</th>\n",
       "      <th>srclen</th>\n",
       "      <th>txtlen</th>\n",
       "      <th>footnote</th>\n",
       "      <th>footlen</th>\n",
       "      <th>context</th>\n",
       "      <th>value</th>\n",
       "    </tr>\n",
       "  </thead>\n",
       "  <tbody>\n",
       "  </tbody>\n",
       "</table>\n",
       "</div>"
      ],
      "text/plain": [
       "Empty DataFrame\n",
       "Columns: [adsh, tag, version, ddate, qtrs, iprx, lang, dcml, durp, datp, dimh, dimn, coreg, escaped, srclen, txtlen, footnote, footlen, context, value]\n",
       "Index: []"
      ]
     },
     "execution_count": 43,
     "metadata": {},
     "output_type": "execute_result"
    }
   ],
   "source": [
    "df_txt[df_txt['value'].str.contains('Key Economic')]"
   ]
  },
  {
   "cell_type": "code",
   "execution_count": null,
   "id": "02f50ced-3166-4483-9e32-529c36cf3f96",
   "metadata": {},
   "outputs": [],
   "source": []
  }
 ],
 "metadata": {
  "kernelspec": {
   "display_name": "Python 3 (ipykernel)",
   "language": "python",
   "name": "python3"
  },
  "language_info": {
   "codemirror_mode": {
    "name": "ipython",
    "version": 3
   },
   "file_extension": ".py",
   "mimetype": "text/x-python",
   "name": "python",
   "nbconvert_exporter": "python",
   "pygments_lexer": "ipython3",
   "version": "3.9.7"
  }
 },
 "nbformat": 4,
 "nbformat_minor": 5
}
