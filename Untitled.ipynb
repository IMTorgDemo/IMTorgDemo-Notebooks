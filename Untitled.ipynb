{
 "cells": [
  {
   "cell_type": "code",
   "execution_count": 2,
   "id": "ac4d91d4-5de4-4f23-bc2a-d7e008ddc174",
   "metadata": {},
   "outputs": [],
   "source": [
    "from ordered_set import OrderedSet"
   ]
  },
  {
   "cell_type": "code",
   "execution_count": 3,
   "id": "e6bd0519-df95-43b9-a347-6945c26691f5",
   "metadata": {},
   "outputs": [],
   "source": [
    "set1 = OrderedSet(\"abracadabra\")"
   ]
  },
  {
   "cell_type": "code",
   "execution_count": 4,
   "id": "7aaf1ab9-bcf5-4242-866d-3ba8a905f5e5",
   "metadata": {},
   "outputs": [
    {
     "data": {
      "text/plain": [
       "OrderedSet(['a', 'b', 'r', 'c', 'd'])"
      ]
     },
     "execution_count": 4,
     "metadata": {},
     "output_type": "execute_result"
    }
   ],
   "source": [
    "set1"
   ]
  },
  {
   "cell_type": "code",
   "execution_count": 6,
   "id": "e5b2334f-0d52-40d2-a1db-39e26ede73ff",
   "metadata": {},
   "outputs": [
    {
     "ename": "TypeError",
     "evalue": "'OrderedSet' object does not support item assignment",
     "output_type": "error",
     "traceback": [
      "\u001b[0;31m---------------------------------------------------------------------------\u001b[0m",
      "\u001b[0;31mTypeError\u001b[0m                                 Traceback (most recent call last)",
      "Input \u001b[0;32mIn [6]\u001b[0m, in \u001b[0;36m<cell line: 1>\u001b[0;34m()\u001b[0m\n\u001b[0;32m----> 1\u001b[0m set1[\u001b[38;5;241m0\u001b[39m] \u001b[38;5;241m=\u001b[39m \u001b[38;5;124m'\u001b[39m\u001b[38;5;124mz\u001b[39m\u001b[38;5;124m'\u001b[39m\n",
      "\u001b[0;31mTypeError\u001b[0m: 'OrderedSet' object does not support item assignment"
     ]
    }
   ],
   "source": [
    "set1[0] = 'z'"
   ]
  },
  {
   "cell_type": "code",
   "execution_count": 9,
   "id": "a2b73420-4d4e-4364-827a-75192ac7e6c9",
   "metadata": {},
   "outputs": [],
   "source": [
    "set1.remove('a')"
   ]
  },
  {
   "cell_type": "code",
   "execution_count": 11,
   "id": "2ebfda18-f5d3-4bf5-96df-ef17d0b53dd8",
   "metadata": {},
   "outputs": [
    {
     "name": "stdout",
     "output_type": "stream",
     "text": [
      "('Betty', 45)\n",
      "('John', 84)\n",
      "('Malik', '34')\n",
      "('Jose', 20)\n"
     ]
    }
   ],
   "source": [
    "list_of_tuples = [(\"Betty\", 45), (\"John\" , 84), (\"Malik\" , \"34\"), (\"Jose\" , 20)]\n",
    "for index, tuple in enumerate(list_of_tuples):\n",
    "    print(tuple)"
   ]
  },
  {
   "cell_type": "code",
   "execution_count": 13,
   "id": "14197b16-81a7-4728-9d45-0f1d9586bb68",
   "metadata": {},
   "outputs": [
    {
     "name": "stdout",
     "output_type": "stream",
     "text": [
      "45\n",
      "84\n",
      "34\n",
      "20\n"
     ]
    }
   ],
   "source": [
    "list_of_tuples = [(\"Betty\", 45), (\"John\" , 84), (\"Malik\" , \"34\"), (\"Jose\" , 20)]\n",
    "for name, age in list_of_tuples:\n",
    "    print(age)"
   ]
  },
  {
   "cell_type": "code",
   "execution_count": null,
   "id": "f8cf01b5-6b69-4415-91e9-b7b1ecd0ebda",
   "metadata": {},
   "outputs": [],
   "source": []
  }
 ],
 "metadata": {
  "kernelspec": {
   "display_name": "Python 3 (ipykernel)",
   "language": "python",
   "name": "python3"
  },
  "language_info": {
   "codemirror_mode": {
    "name": "ipython",
    "version": 3
   },
   "file_extension": ".py",
   "mimetype": "text/x-python",
   "name": "python",
   "nbconvert_exporter": "python",
   "pygments_lexer": "ipython3",
   "version": "3.9.10"
  }
 },
 "nbformat": 4,
 "nbformat_minor": 5
}
