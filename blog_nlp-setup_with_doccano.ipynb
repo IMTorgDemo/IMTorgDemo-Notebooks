{
 "cells": [
  {
   "cell_type": "markdown",
   "id": "f0f8121b-3adb-479f-bfe5-726114f2d6a9",
   "metadata": {
    "tags": []
   },
   "source": [
    "# Set-up a NLP Dev Environment\n",
    "\n",
    "Date: 2021-01-01  \n",
    "Author: Jason Beach  \n",
    "Categories: Best_Practice, Introduction_Tutorial, Data_Science \n",
    "Tags: nlp, development, docker, doccano, aws, openstack, mlflow\n",
    "\n",
    "<!--eofm-->"
   ]
  },
  {
   "cell_type": "markdown",
   "id": "6934c8da-9cbc-459e-9e8a-b823bfb05f40",
   "metadata": {},
   "source": [
    "This post sets up a NLP development environment with Doccano, MLflow, and AWS backend."
   ]
  },
  {
   "cell_type": "markdown",
   "id": "74e67566-fe77-420d-9bff-5b65995a3c96",
   "metadata": {},
   "source": [
    "## Introduction\n",
    "\n",
    "Development envrionements for NLP solutions can take many forms, including typical IDE and notebooks.  But an important aspect that is often overlooked is the data and model management.  Most often you will not make one simple classifier; rather, you will have multiple models per solution, and many solutions for a project.  This will necessitate maintaining and managing both the models and the data to train them.  Included with managing data is being able to sift through it to discover the most salient examples.\n",
    "\n",
    "This post will walk through some of the general tasks in NLP development and use essential tools to ensure proper management of data and models.  We create a scenario where thousands of SEC 10K filings are available for processing, such as [this example](https://sec.report/Document/0001193125-22-000226/d257921d10ka.htm), which is located in local directory `/resources/dataFinance_10-K_A 10-K_A.html`."
   ]
  },
  {
   "cell_type": "markdown",
   "id": "f5d909c9-ad3f-453a-ba4b-9e666945adc1",
   "metadata": {},
   "source": [
    "## Directory Structure and Docker\n",
    "\n",
    "Notebooks are fine for prototyping, but are a poor choice for steady development into a solution.  Import the pieces of the codebase into your notebook as modules.  Our codebase will be kept in local directory: `/python_modules/nlp_pipeline/`.\n",
    "\n",
    "Docker is great for ensuring a clean, reproducible deployment whether to your local laptop or cloud VMs.  Once this section is complete we have notebook (Jupyter Lab) and tagging app (Doccano) running."
   ]
  },
  {
   "cell_type": "markdown",
   "id": "a16fbf32-37e4-42ee-8883-f5bc134190a1",
   "metadata": {},
   "source": [
    "### Setup\n",
    "\n",
    "#### JupyterLab\n",
    "\n",
    "Use the `server list` command to get the url of the jupyter lab.  Be sure to leave port 8000 for doccano.  The thorough docs are [here](https://jupyter-docker-stacks.readthedocs.io/en/latest/).\n",
    "\n",
    "```bash\n",
    "docker run -d -p 8888:8888 -p 8889:8889 -v $HOME_NOTEBOOK_PUBLIC:/home/jovyan/NOTEBOOK_PUBLIC/ -v $HOME_NOTEBOOK_PRIVATE:/home/jovyan/PRIVATE/ -e GRANT_SUDO=yes --name cntr_all-spark jupyter/all-spark-notebook start.sh jupyter lab \n",
    "docker start cntr_all-spark\n",
    "\n",
    "docker exec -it -e GRANT_SUDO=yes --user root cntr_all-spark bash\n",
    "jupyter server list\n",
    "```"
   ]
  },
  {
   "cell_type": "markdown",
   "id": "c8ac2efd-dcb1-4d86-ac5d-3bdb72ef3488",
   "metadata": {},
   "source": [
    "#### Doccano\n",
    "\n",
    "Doccano provides a docker image pre-built.  We will use this to start, but can improve it, later, by working diretly with the repo.\n",
    "\n",
    "```bash\n",
    "docker pull doccano/doccano\n",
    "docker container create --name doccano \\\n",
    "  -e \"ADMIN_USERNAME=admin\" \\\n",
    "  -e \"ADMIN_EMAIL=admin@example.com\" \\\n",
    "  -e \"ADMIN_PASSWORD=password\" \\\n",
    "  -p 8000:8000 doccano/doccano\n",
    "docker container start doccano\n",
    "docker container stop doccano -t 5   #persist data\n",
    "```"
   ]
  },
  {
   "cell_type": "markdown",
   "id": "43734b18-a320-4852-85e5-e3efbca73b3b",
   "metadata": {},
   "source": [
    "Move to the browser to get started.\n",
    "\n",
    "```bash\n",
    "browser> http://127.0.0.1:8000/\n",
    "browser> login > admin, password \n",
    "```"
   ]
  },
  {
   "cell_type": "markdown",
   "id": "c3ad5df7-f3cd-4e7b-aebe-646ff13f9c3e",
   "metadata": {},
   "source": [
    "#### LocalStack\n",
    "\n",
    "Mock-up a AWS environment using localstack.\n",
    "\n",
    "```bash\n",
    "docker run --rm -it -p 4566:4566 -p 4571:4571 localstack/localstack\n",
    "browser> http://localhost:4566/health\n",
    "```\n",
    "\n",
    "The open source code running the docker container connects to https://app.localstack.cloud, which you can sign-up to view your resources.\n",
    "\n",
    ">Email: lhwytaietuglqrebzn@nvhrw.com\n",
    "\n",
    ">Password: NewPassword"
   ]
  },
  {
   "cell_type": "markdown",
   "id": "d36e3d01-30c6-4d29-bbf0-c585f1dc3040",
   "metadata": {},
   "source": [
    "#### Network\n",
    "\n",
    "\n",
    "The `bridge` network is made for us and we will use it for communication.  You can read more about [docker networking](https://www.freecodecamp.org/news/how-to-get-a-docker-container-ip-address-explained-with-examples/).\n",
    "\n",
    "```bash\n",
    "$ docker network ls\n",
    "```\n",
    "|CONTAINER ID |   NAMES |   COL |   COL |  \n",
    "|---|---|---|---|\n",
    "|acebac7d6d89 | bridge | bridge | local | \n",
    "|2b1c24a6128e | host | host | local | \n",
    "|1e49888eb19e | none | null | local | \n",
    "\n",
    "\n",
    "Get the doccano container id\n",
    "\n",
    "```bash\n",
    "$ docker ps -a\n",
    "```\n",
    "|CONTAINER ID |   IMAGE |   COMMAND |   CREATED |   STATUS |   PORTS |   NAMES|\n",
    "|---|---|---|---|---|---|---|\n",
    "|e3be02018f1a |   doccano/doccano |   \"/doccano/tools/run.…\" |   3 hours ago |   Up 3 hours |   0.0.0.0:8000->8000/tcp, :::8000->8000/tcp |   doccano|\n",
    "|4fec40b7268f |   all-spark-notebook-mysave |   \"tini -g -- start.sh…\" |   3 hours ago |   Up 3 hours |   8000/tcp, 0.0.0.0:8888-8889->8888-8889/tcp, :::8888-8889->8888-8889/tcp |   cntr_all-spark|\n",
    "\n",
    "\n",
    "Get the internal ip address for doccano container\n",
    "\n",
    "```bash\n",
    "$ docker inspect -f '{{range .NetworkSettings.Networks}}{{.IPAddress}}{{end}}' e3be02018f1a\n",
    "```\n",
    ">172.17.0.3\n"
   ]
  },
  {
   "cell_type": "markdown",
   "id": "5f0e1e5d-8afb-4430-b1c9-8eaf8f546ca7",
   "metadata": {},
   "source": [
    "### Notebook configuration\n",
    "\n",
    "Let's get everything setup and ensure we import our modules from the codebase.  \n",
    "\n",
    "You can install modules a variety of ways:\n",
    "\n",
    "* A good explanation of the paths and ipythonkernels is [here](https://jakevdp.github.io/blog/2017/12/05/installing-python-packages-from-jupyter/).  \n",
    "* The guidance for managing multiple virtual environments in the same repo is [here](https://stackoverflow.com/questions/51061358/how-can-i-manage-more-than-2-package-groups-with-pipenv)."
   ]
  },
  {
   "cell_type": "markdown",
   "id": "451b5d87-d31f-4598-8bf2-b76b0c769d28",
   "metadata": {},
   "source": [
    "Install [pyenv](https://github.com/pyenv/pyenv#basic-github-checkout) to easily access different python versions with: `pyenv install 3.9.7`.\n",
    "\n",
    "To use different requirements configurations, create a PipFile within the `requirements/` directory using (for example): `pipenv install python 3.9.7`, then start the shell and work within that virtual environment.\n",
    "\n",
    "```bash\n",
    "#prepare venv files\n",
    "mkdir requirements; cd requirements\n",
    "mkdir spacy2; cd spacy2\n",
    "pipenv install python==3.9.7\n",
    "pipenv shell\n",
    "pipenv install \"spacy~=2.0\"\n",
    "\n",
    "#add venv to jupyer\n",
    "pipenv install ipykernel\n",
    "python -m ipykernel install --name=spacy2\n",
    "\n",
    "#exit out of shell to open the new kernel in a notebook\n",
    "cd ../..\n",
    "exit\n",
    "jupyter kernelspec list\n",
    "```\n",
    "\n",
    "Adding these PipFiles as a specific ipython kernel for an environment is explained [here](https://janakiev.com/blog/jupyter-virtual-envs/)."
   ]
  },
  {
   "cell_type": "raw",
   "id": "371cb911-53f6-40c0-a47d-8716dc134924",
   "metadata": {},
   "source": [
    "├── project\n",
    "└── requirements\n",
    "    ├── spacy3\n",
    "    │   ├── PipFile\n",
    "    │   └── PipFile.lock\n",
    "    ├── spacy2\n",
    "    │   ├── PipFile\n",
    "    │   └── PipFile.lock\n",
    "    ├── dev\n",
    "    │   ├── PipFile\n",
    "    │   └── PipFile.lock\n",
    "    └── test\n",
    "        ├── PipFile\n",
    "        └── PipFile.lock"
   ]
  },
  {
   "cell_type": "markdown",
   "id": "e9815608-3602-42a4-977a-d0c7a4793467",
   "metadata": {},
   "source": [
    "You must be aware of the machine and its resources."
   ]
  },
  {
   "cell_type": "code",
   "execution_count": 198,
   "id": "80fc35f1-e981-4eca-b29a-d2011bb315ca",
   "metadata": {},
   "outputs": [
    {
     "name": "stdout",
     "output_type": "stream",
     "text": [
      "NAME=\"Ubuntu\"\n",
      "VERSION=\"20.04.3 LTS (Focal Fossa)\"\n",
      "ID=ubuntu\n",
      "ID_LIKE=debian\n",
      "PRETTY_NAME=\"Ubuntu 20.04.3 LTS\"\n",
      "VERSION_ID=\"20.04\"\n",
      "HOME_URL=\"https://www.ubuntu.com/\"\n",
      "SUPPORT_URL=\"https://help.ubuntu.com/\"\n",
      "BUG_REPORT_URL=\"https://bugs.launchpad.net/ubuntu/\"\n",
      "PRIVACY_POLICY_URL=\"https://www.ubuntu.com/legal/terms-and-policies/privacy-policy\"\n",
      "VERSION_CODENAME=focal\n",
      "UBUNTU_CODENAME=focal\n"
     ]
    }
   ],
   "source": [
    "! cat /etc/os-release"
   ]
  },
  {
   "cell_type": "code",
   "execution_count": 193,
   "id": "41888138-212b-4c87-93e7-b67a6f88030f",
   "metadata": {},
   "outputs": [
    {
     "name": "stdout",
     "output_type": "stream",
     "text": [
      "3.9.7\n"
     ]
    }
   ],
   "source": [
    "from platform import python_version\n",
    "print( python_version() )"
   ]
  },
  {
   "cell_type": "code",
   "execution_count": 190,
   "id": "cf3b2cd3-d5a0-477b-abab-f720d1aea1bf",
   "metadata": {},
   "outputs": [
    {
     "name": "stdout",
     "output_type": "stream",
     "text": [
      "Python implementation: CPython\n",
      "Python version       : 3.9.7\n",
      "IPython version      : 7.30.1\n",
      "\n",
      "Compiler    : GCC 9.4.0\n",
      "OS          : Linux\n",
      "Release     : 5.10.25-linuxkit\n",
      "Machine     : x86_64\n",
      "Processor   : x86_64\n",
      "CPU cores   : 4\n",
      "Architecture: 64bit\n",
      "\n",
      "Git hash: 2d4f0dffd9baa489ca3bc675bb7ec7c1dc69b5fc\n",
      "\n"
     ]
    }
   ],
   "source": [
    "%load_ext watermark\n",
    "%watermark -v -m -g"
   ]
  },
  {
   "cell_type": "code",
   "execution_count": 191,
   "id": "9ee92e09-d79f-434f-8657-814d2eff7bae",
   "metadata": {},
   "outputs": [
    {
     "data": {
      "text/plain": [
       "9"
      ]
     },
     "execution_count": 191,
     "metadata": {},
     "output_type": "execute_result"
    }
   ],
   "source": [
    "import threading\n",
    "threading.activeCount()"
   ]
  },
  {
   "cell_type": "code",
   "execution_count": 196,
   "id": "1deb2b87-4bc9-4c60-9b52-4cd625e4240f",
   "metadata": {},
   "outputs": [
    {
     "name": "stdout",
     "output_type": "stream",
     "text": [
      "Architecture:                    x86_64\n",
      "CPU op-mode(s):                  32-bit, 64-bit\n",
      "Byte Order:                      Little Endian\n",
      "Address sizes:                   39 bits physical, 48 bits virtual\n",
      "CPU(s):                          4\n",
      "On-line CPU(s) list:             0-3\n",
      "Thread(s) per core:              1\n",
      "Core(s) per socket:              1\n",
      "Socket(s):                       4\n",
      "Vendor ID:                       GenuineIntel\n"
     ]
    }
   ],
   "source": [
    "! lscpu | head -n10"
   ]
  },
  {
   "cell_type": "markdown",
   "id": "4ff3e6f0-b5a0-4634-91a0-8b481ea479a9",
   "metadata": {},
   "source": [
    "Ensure a proper internal connections among docker containers is available.  Get the doccano container internal ip from the above `docker inspect` command.\n",
    "\n",
    "Proper installation should use the following:\n",
    "\n",
    "```python\n",
    "#install a pip package in the current Jupyter kernel\n",
    "import sys\n",
    "!{sys.executable} -m pip install numpy\n",
    "```"
   ]
  },
  {
   "cell_type": "code",
   "execution_count": 68,
   "id": "c04ccc35-76b5-405b-b588-355648139361",
   "metadata": {},
   "outputs": [],
   "source": [
    "import pandas as pd\n",
    "\n",
    "#! pip install doccano-client\n",
    "from doccano_api_client import DoccanoClient"
   ]
  },
  {
   "cell_type": "code",
   "execution_count": 72,
   "id": "7cd84b30-ea75-45ed-92d2-2fdd471b9fbc",
   "metadata": {},
   "outputs": [
    {
     "name": "stdout",
     "output_type": "stream",
     "text": [
      "{'id': 1, 'username': 'admin', 'is_superuser': True, 'is_staff': True}\n"
     ]
    }
   ],
   "source": [
    "#Data-in\n",
    "dc = DoccanoClient(\n",
    "    'http://172.17.0.3:8000',\n",
    "    'admin',\n",
    "    'password'\n",
    ")\n",
    "\n",
    "# get basic information about the user\n",
    "r_me = dc.get_me()\n",
    "print(r_me)"
   ]
  },
  {
   "cell_type": "markdown",
   "id": "8d92ac4c-3fb0-4d84-bb93-3fed6ee51f32",
   "metadata": {},
   "source": [
    "Load installed modules"
   ]
  },
  {
   "cell_type": "code",
   "execution_count": 23,
   "id": "ddeb2728-e053-4fc6-9428-854ad0ffc93e",
   "metadata": {},
   "outputs": [],
   "source": [
    "import re\n",
    "from bs4 import BeautifulSoup"
   ]
  },
  {
   "cell_type": "code",
   "execution_count": 91,
   "id": "11b2ce05-c126-49cb-8a25-72d050164ad2",
   "metadata": {},
   "outputs": [],
   "source": [
    "import pandas as pd\n",
    "import numpy as np\n",
    "import spacy\n",
    "\n",
    "nlp = spacy.load(\"en_core_web_sm\")"
   ]
  },
  {
   "cell_type": "markdown",
   "id": "caedae16-cdd3-4d35-affb-461aa112ced5",
   "metadata": {},
   "source": [
    "Install for python3.9 (typical notebook)\n",
    "\n",
    "```bash\n",
    "pip install gensim==3.8.3\n",
    "pip install flair==0.8.0.post1\n",
    "```\n",
    "\n",
    "Install for python3.6 (flair repo development) within pipenv\n",
    "\n",
    "```bash\n",
    "pipenv run pip install torch==1.7.1+cpu -f https://download.pytorch.org/whl/torch_stable.html\n",
    "pipenv run pip install .   #run setup.py\n",
    "```"
   ]
  },
  {
   "cell_type": "code",
   "execution_count": 38,
   "id": "3e43add9-e326-4a52-a96d-778bed64d040",
   "metadata": {},
   "outputs": [],
   "source": [
    "%load_ext autoreload\n",
    "%autoreload 2"
   ]
  },
  {
   "cell_type": "code",
   "execution_count": null,
   "id": "de90932c-c68f-4157-aa69-a0147c4bef16",
   "metadata": {},
   "outputs": [],
   "source": [
    "#! ls python_modules/nlp_pipeline/"
   ]
  },
  {
   "cell_type": "code",
   "execution_count": 62,
   "id": "b6941a01-8cb1-44eb-be0e-5c97502b1f29",
   "metadata": {},
   "outputs": [],
   "source": [
    "#! pip install fasttext-wheel"
   ]
  },
  {
   "cell_type": "code",
   "execution_count": 61,
   "id": "86263867-7a02-411b-845c-823f4cb18a1b",
   "metadata": {},
   "outputs": [],
   "source": [
    "#os.getcwd()"
   ]
  },
  {
   "cell_type": "markdown",
   "id": "870aaa5f-b708-4ad8-867f-b8e731279c1b",
   "metadata": {},
   "source": [
    "Load codebase modules"
   ]
  },
  {
   "cell_type": "code",
   "execution_count": null,
   "id": "818a4b69-8dc8-4325-bb06-12df2553656a",
   "metadata": {},
   "outputs": [],
   "source": [
    "import os\n",
    "os.chdir('./python_modules/nlp_pipeline/')"
   ]
  },
  {
   "cell_type": "code",
   "execution_count": 59,
   "id": "65547ac1-32d2-45db-ae64-ac12a86c141e",
   "metadata": {},
   "outputs": [],
   "source": [
    "import model_fasttext"
   ]
  },
  {
   "cell_type": "markdown",
   "id": "546d5a11-afe5-483b-b661-cbb62aeb922a",
   "metadata": {},
   "source": [
    "Ensure data is available"
   ]
  },
  {
   "cell_type": "code",
   "execution_count": 5,
   "id": "0aaad2e9-12cc-4637-ae3a-0e37a1e520ba",
   "metadata": {},
   "outputs": [
    {
     "name": "stdout",
     "output_type": "stream",
     "text": [
      "-rw-r--r-- 1 jovyan users 1.6M Jan  4 16:22 resources/dataFinance_10-K_A.html\n"
     ]
    }
   ],
   "source": [
    "! ls -alh resources/dataFinance_10-K_A.html"
   ]
  },
  {
   "cell_type": "markdown",
   "id": "4f7fd542-3c63-4d73-9da7-bc407522743e",
   "metadata": {},
   "source": [
    "### Initial preprocess \n",
    "\n",
    "Now, we will prepare our file with an initial preprocess so that it can be loaded into the tagging application.  The preprocess will be refined multiple times before being added to the pipeline.\n",
    "\n",
    "We assume that sentences are the lowest level of detail that we would want to model."
   ]
  },
  {
   "cell_type": "code",
   "execution_count": 18,
   "id": "60ea29ce-5d03-4b28-ab7e-84963cc3bfca",
   "metadata": {},
   "outputs": [],
   "source": [
    "file_path = 'resources/dataFinance_10-K_A.html'\n",
    "\n",
    "lines = 'str'\n",
    "with open(file_path, 'r') as file:\n",
    "    lines = file.read()"
   ]
  },
  {
   "cell_type": "code",
   "execution_count": 21,
   "id": "a43fb9b2-213e-4b99-bc0e-f5064272edad",
   "metadata": {},
   "outputs": [],
   "source": [
    "soup = BeautifulSoup(lines)\n",
    "text = soup.get_text()"
   ]
  },
  {
   "cell_type": "code",
   "execution_count": 32,
   "id": "b881970a-c437-4987-8c56-78e3f959e1ff",
   "metadata": {},
   "outputs": [],
   "source": [
    "ed_text1 = re.sub('\\n+', ' ', text)\n",
    "ed_text2 = re.sub('\\xa0+', ' ', ed_text1)"
   ]
  },
  {
   "cell_type": "code",
   "execution_count": 64,
   "id": "4de6c0b8-190e-4bcd-b4c7-7cb1df4b8a1b",
   "metadata": {},
   "outputs": [
    {
     "data": {
      "text/plain": [
       "'t approve of the business combination we complete.  If we seek shareholder approval of our initial business combination, our initial shareholders and management team have agreed to vote in favor of such initial business combination, regardless of how our public shareholders vote.  Our initial shareholders own 20% of our issued and outstanding ordinary shares immediately following the completion of the offering. Our initial shareholders and management team also may from time to time purchase Class A ordinary shares prior to our initial business combination. Our amended and restated memorandum and articles of association provides that, if we seek shareholder approval of an initial business combination, such initial business combination will be approved if we receive an ordinary resolution under Cayman Islands law, which requires the affirmative vote of a majority of the shareholders who attend and vote at a general meeting of the company, including the founder shares. If we seek sharehol'"
      ]
     },
     "execution_count": 64,
     "metadata": {},
     "output_type": "execute_result"
    }
   ],
   "source": [
    "ed_text2[99000:100000]"
   ]
  },
  {
   "cell_type": "code",
   "execution_count": 63,
   "id": "9afe06aa-1890-4268-bf44-cf6b4a4a3098",
   "metadata": {},
   "outputs": [],
   "source": [
    "ed_text = ed_text2"
   ]
  },
  {
   "cell_type": "code",
   "execution_count": 112,
   "id": "c533eed0-e3c6-4fae-9e0b-72f0a5e7e417",
   "metadata": {},
   "outputs": [],
   "source": [
    "doc = nlp(ed_text)"
   ]
  },
  {
   "cell_type": "code",
   "execution_count": 158,
   "id": "fd89485e-5637-4225-bb32-dd94f6c0e147",
   "metadata": {},
   "outputs": [],
   "source": [
    "sents1 = list(doc.sents)\n",
    "sents2 = [sent.text for sent in sents1 if (len(sent) > 10 and len(sent) < 1000)]"
   ]
  },
  {
   "cell_type": "code",
   "execution_count": 152,
   "id": "ed1ea4a8-fbff-4117-8ab7-d10201807887",
   "metadata": {},
   "outputs": [],
   "source": [
    "#os.chdir('./NOTEBOOK_PUBLIC')\n",
    "#os.getcwd()"
   ]
  },
  {
   "cell_type": "code",
   "execution_count": 165,
   "id": "ffba3daf-5882-4500-b77a-4be255b8fdfa",
   "metadata": {},
   "outputs": [],
   "source": [
    "df = pd.DataFrame()\n",
    "df['text'] = sents2\n",
    "df['id'] = df.index\n",
    "df['doc'] = file_path\n",
    "df['doc_type'] = '10k'\n",
    "\n",
    "df.to_json('./resources/dataFinance_dataframe.jsonl', orient='records', lines=True)"
   ]
  },
  {
   "cell_type": "markdown",
   "id": "62a379b9-9c17-42b7-aa1c-e4c62803262d",
   "metadata": {},
   "source": [
    "There is quite a bit of semi-structured text at the beginning of the document, but the majority is in a readable format.  The text is in decent shape and can be loaded into a pipeline."
   ]
  },
  {
   "cell_type": "markdown",
   "id": "2fb85c2a-7a8f-4e81-ba5c-e30fcb5403f3",
   "metadata": {},
   "source": [
    "## Doccano Interaction\n",
    "\n",
    "This tagging application focuses on the dataset and associated records and metadata.  We can interact with it both programmatically and through the browser interface.  Move through the following steps to prepare the dataset."
   ]
  },
  {
   "cell_type": "markdown",
   "id": "85896f7d-366c-445c-8be0-1410cde624df",
   "metadata": {},
   "source": [
    "### Browser interface"
   ]
  },
  {
   "cell_type": "markdown",
   "id": "ddc7892f-6fe8-4732-bc0a-62cd200b52a2",
   "metadata": {},
   "source": [
    "In the upper right corner, the __'Projects'__ button always takes you to that page where you can select any of the projects you created."
   ]
  },
  {
   "cell_type": "markdown",
   "id": "66397dfe-7e15-413f-b00d-059b9fe2e548",
   "metadata": {},
   "source": [
    "* At the top left click __'Create'__ to create a new project\n",
    "  - in the popup box insert text for 'Project name' (MyProject) and 'Description' (desc)\n",
    "  - select a 'Project Type'"
   ]
  },
  {
   "cell_type": "markdown",
   "id": "92e01b58-95b3-4c21-969f-b5fbe7ae5f5a",
   "metadata": {},
   "source": [
    "* On the left bar select __'Labels'__ to create labels\n",
    "  - at the top select 'Actions' and then select 'Create Label'\n",
    "  - complete key-value pairs with colors\n",
    "  - stay on the 'Labels' section\n",
    "  - at the top select 'Actions', then select 'Export Labels'\n",
    "  - a json file is downloaded that decodes the output dataset"
   ]
  },
  {
   "cell_type": "markdown",
   "id": "7de0214a-27ea-4a77-8424-3dee677ace10",
   "metadata": {},
   "source": [
    "* On the left bar select __'Dataset'__ to upload data and annotate\n",
    "  - at the top select 'Actions' and then select 'Import Data'\n",
    "  - select the file format 'JSONL'\n",
    "  - click 'Drop files here...' and locate './resources/dataFinance_dataframe.jsonl'\n",
    "  - click 'Ingest' at bottom right\n",
    "  - notice the 'Metadata' column is populated\n",
    "  - at the top select 'Actions' and then select 'Export Data'\n",
    "  - select the 'JSONL' format\n",
    "  - select a file name\n",
    "  - click 'Export'"
   ]
  },
  {
   "cell_type": "markdown",
   "id": "1fa9500d-13bc-4c1f-bb8c-74d6f5655c36",
   "metadata": {},
   "source": [
    "* Select __'Statistics__ to review"
   ]
  },
  {
   "cell_type": "markdown",
   "id": "7664906e-492f-4109-8987-62b7e79c38bf",
   "metadata": {},
   "source": [
    "### Programmatically\n",
    "\n",
    "We can use the [doccano-api-client](https://github.com/doccano/doccano-client) to interact directly with the backend.  In the MyProject you just created, 'Delete All' records."
   ]
  },
  {
   "cell_type": "markdown",
   "id": "0bd172af-39d4-4f16-9272-5a7f26baedec",
   "metadata": {},
   "source": [
    "#### Create project"
   ]
  },
  {
   "cell_type": "code",
   "execution_count": 79,
   "id": "be436ad6-55b3-41c7-a1a8-f75b20dab12a",
   "metadata": {},
   "outputs": [
    {
     "data": {
      "text/plain": [
       "{'id': 1,\n",
       " 'name': 'MyProject',\n",
       " 'description': 'test project',\n",
       " 'guideline': '',\n",
       " 'users': [1],\n",
       " 'current_users_role': {'is_project_admin': True,\n",
       "  'is_annotator': False,\n",
       "  'is_annotation_approver': False},\n",
       " 'project_type': 'SequenceLabeling',\n",
       " 'updated_at': '2022-01-04T20:37:56.984052Z',\n",
       " 'random_order': False,\n",
       " 'collaborative_annotation': False,\n",
       " 'single_class_classification': False,\n",
       " 'tags': [],\n",
       " 'allow_overlapping': False,\n",
       " 'grapheme_mode': False,\n",
       " 'resourcetype': 'SequenceLabelingProject'}"
      ]
     },
     "execution_count": 79,
     "metadata": {},
     "output_type": "execute_result"
    }
   ],
   "source": [
    "#Create project\n",
    "dc.create_project(name = \"MyProject\",\n",
    "                  description = \"test project\",\n",
    "                  project_type = \"SequenceLabeling\",\n",
    "                  resourcetype = \"SequenceLabelingProject\",\n",
    "                  randomize_document_order = False,\n",
    "                  collaborative_annotation = False)"
   ]
  },
  {
   "cell_type": "markdown",
   "id": "d98256ed-11ff-4977-8011-9ae8e2bd9c53",
   "metadata": {},
   "source": [
    "#### Import data"
   ]
  },
  {
   "cell_type": "code",
   "execution_count": 166,
   "id": "686f15da-d74a-4b84-93ce-62cff9491247",
   "metadata": {},
   "outputs": [
    {
     "data": {
      "text/plain": [
       "{'task_id': 'c648d1f7-751a-4f85-9f01-e862e24debd3'}"
      ]
     },
     "execution_count": 166,
     "metadata": {},
     "output_type": "execute_result"
    }
   ],
   "source": [
    "#Import data\n",
    "dc.post_doc_upload(project_id = 1,\n",
    "                   file_name = './resources/dataFinance_dataframe.jsonl',\n",
    "                   file_path = \"./\",\n",
    "                   column_data = \"text\",\n",
    "                   column_label = \"label\",\n",
    "                   delimiter = \"\", encoding =  \"utf_8\", format = \"JSONL\")"
   ]
  },
  {
   "cell_type": "markdown",
   "id": "0451e957-a857-42bb-b540-647232bbd610",
   "metadata": {},
   "source": [
    "#### Export data"
   ]
  },
  {
   "cell_type": "code",
   "execution_count": 174,
   "id": "25c3841d-ffa1-40b7-9567-1a716159e29b",
   "metadata": {},
   "outputs": [],
   "source": [
    "project_id = \"1\"\n",
    "file_style = \"json\"\n",
    "limit = 1000\n",
    "offset = 0\n",
    "\n",
    "jsonl = dc.get(f\"http://172.17.0.3:8000/v1/projects/{project_id}/docs?format={file_style}&limit={limit}&offset={offset}\")['results']\n",
    "json_csv_file = pd.DataFrame(jsonl)"
   ]
  },
  {
   "cell_type": "code",
   "execution_count": 179,
   "id": "481cd9c9-5825-4209-a5cd-9a180bd8110d",
   "metadata": {},
   "outputs": [
    {
     "data": {
      "text/html": [
       "<div>\n",
       "<style scoped>\n",
       "    .dataframe tbody tr th:only-of-type {\n",
       "        vertical-align: middle;\n",
       "    }\n",
       "\n",
       "    .dataframe tbody tr th {\n",
       "        vertical-align: top;\n",
       "    }\n",
       "\n",
       "    .dataframe thead th {\n",
       "        text-align: right;\n",
       "    }\n",
       "</style>\n",
       "<table border=\"1\" class=\"dataframe\">\n",
       "  <thead>\n",
       "    <tr style=\"text-align: right;\">\n",
       "      <th></th>\n",
       "      <th>id</th>\n",
       "      <th>filename</th>\n",
       "      <th>annotations</th>\n",
       "      <th>meta</th>\n",
       "      <th>annotation_approver</th>\n",
       "      <th>comment_count</th>\n",
       "      <th>text</th>\n",
       "      <th>is_confirmed</th>\n",
       "    </tr>\n",
       "  </thead>\n",
       "  <tbody>\n",
       "    <tr>\n",
       "      <th>0</th>\n",
       "      <td>1431</td>\n",
       "      <td>http://172.17.0.3:8000/media/doccano/backend/m...</td>\n",
       "      <td>[]</td>\n",
       "      <td>{'id': 0, 'doc': 'resources/dataFinance_10-K_A...</td>\n",
       "      <td>None</td>\n",
       "      <td>0</td>\n",
       "      <td>For the fiscal year ended December 31, 2020 OR...</td>\n",
       "      <td>False</td>\n",
       "    </tr>\n",
       "    <tr>\n",
       "      <th>1</th>\n",
       "      <td>1432</td>\n",
       "      <td>http://172.17.0.3:8000/media/doccano/backend/m...</td>\n",
       "      <td>[]</td>\n",
       "      <td>{'id': 1, 'doc': 'resources/dataFinance_10-K_A...</td>\n",
       "      <td>None</td>\n",
       "      <td>0</td>\n",
       "      <td>(Exact name of registrant as specified in its ...</td>\n",
       "      <td>False</td>\n",
       "    </tr>\n",
       "    <tr>\n",
       "      <th>2</th>\n",
       "      <td>1433</td>\n",
       "      <td>http://172.17.0.3:8000/media/doccano/backend/m...</td>\n",
       "      <td>[]</td>\n",
       "      <td>{'id': 2, 'doc': 'resources/dataFinance_10-K_A...</td>\n",
       "      <td>None</td>\n",
       "      <td>0</td>\n",
       "      <td>8 Xinyuan South RoadChaoyang District, Beijing...</td>\n",
       "      <td>False</td>\n",
       "    </tr>\n",
       "  </tbody>\n",
       "</table>\n",
       "</div>"
      ],
      "text/plain": [
       "     id                                           filename annotations  \\\n",
       "0  1431  http://172.17.0.3:8000/media/doccano/backend/m...          []   \n",
       "1  1432  http://172.17.0.3:8000/media/doccano/backend/m...          []   \n",
       "2  1433  http://172.17.0.3:8000/media/doccano/backend/m...          []   \n",
       "\n",
       "                                                meta annotation_approver  \\\n",
       "0  {'id': 0, 'doc': 'resources/dataFinance_10-K_A...                None   \n",
       "1  {'id': 1, 'doc': 'resources/dataFinance_10-K_A...                None   \n",
       "2  {'id': 2, 'doc': 'resources/dataFinance_10-K_A...                None   \n",
       "\n",
       "   comment_count                                               text  \\\n",
       "0              0  For the fiscal year ended December 31, 2020 OR...   \n",
       "1              0  (Exact name of registrant as specified in its ...   \n",
       "2              0  8 Xinyuan South RoadChaoyang District, Beijing...   \n",
       "\n",
       "   is_confirmed  \n",
       "0         False  \n",
       "1         False  \n",
       "2         False  "
      ]
     },
     "execution_count": 179,
     "metadata": {},
     "output_type": "execute_result"
    }
   ],
   "source": [
    "json_csv_file.head(3)"
   ]
  },
  {
   "cell_type": "code",
   "execution_count": 181,
   "id": "3bc39ef1-314a-43ad-8dc8-fd6d3a8d89d1",
   "metadata": {},
   "outputs": [
    {
     "data": {
      "text/plain": [
       "{'count': 1429,\n",
       " 'next': 'http://172.17.0.3:8000/v1/projects/1/docs?limit=1&offset=1',\n",
       " 'previous': None,\n",
       " 'results': [{'id': 1431,\n",
       "   'filename': 'http://172.17.0.3:8000/media/doccano/backend/media/CsYxqSYraZ9qxfFYV8GLcf/RVTcRhbnmow9keu6nie4qU/dataFinance_dataframe.jsonl',\n",
       "   'annotations': [],\n",
       "   'meta': {'id': 0,\n",
       "    'doc': 'resources/dataFinance_10-K_A.html',\n",
       "    'doc_type': '10k'},\n",
       "   'annotation_approver': None,\n",
       "   'comment_count': 0,\n",
       "   'text': 'For the fiscal year ended December 31, 2020 OR   ☐ TRANSITION REPORT PURSUANT TO SECTION 13 OR 15(d) OF THE SECURITIES EXCHANGE ACT OF 1934 FOR THE TRANSITION PERIOD FROM   TO   COMMISSION FILE NUMBER 001-39222  CITIC CAPITAL ACQUISITION CORP.',\n",
       "   'is_confirmed': False}]}"
      ]
     },
     "execution_count": 181,
     "metadata": {},
     "output_type": "execute_result"
    }
   ],
   "source": [
    "#Export data using a loop\n",
    "dc.exp_get_doc_list(project_id=1, limit=1, offset=0)"
   ]
  },
  {
   "cell_type": "markdown",
   "id": "a866ea14-1161-4d53-b0d9-64922ad19d11",
   "metadata": {},
   "source": [
    "#### Admin info"
   ]
  },
  {
   "cell_type": "code",
   "execution_count": 180,
   "id": "2fe53e87-809d-41f3-acbc-fe6db1cbf6b8",
   "metadata": {},
   "outputs": [
    {
     "data": {
      "text/plain": [
       "[{'id': 1,\n",
       "  'name': 'MyProject',\n",
       "  'description': 'test project',\n",
       "  'guideline': '',\n",
       "  'users': [1],\n",
       "  'current_users_role': {'is_project_admin': True,\n",
       "   'is_annotator': False,\n",
       "   'is_annotation_approver': False},\n",
       "  'project_type': 'SequenceLabeling',\n",
       "  'updated_at': '2022-01-04T21:45:30.010239Z',\n",
       "  'random_order': False,\n",
       "  'collaborative_annotation': False,\n",
       "  'single_class_classification': False,\n",
       "  'tags': [],\n",
       "  'allow_overlapping': False,\n",
       "  'grapheme_mode': False,\n",
       "  'resourcetype': 'SequenceLabelingProject'}]"
      ]
     },
     "execution_count": 180,
     "metadata": {},
     "output_type": "execute_result"
    }
   ],
   "source": [
    "#Project data\n",
    "dc.get_project_list()"
   ]
  },
  {
   "cell_type": "code",
   "execution_count": 184,
   "id": "a47231eb-c463-40a0-a8fa-cedb1b91809c",
   "metadata": {},
   "outputs": [
    {
     "data": {
      "text/plain": [
       "[]"
      ]
     },
     "execution_count": 184,
     "metadata": {},
     "output_type": "execute_result"
    }
   ],
   "source": [
    "dc.get_annotation_list(project_id=1, doc_id=1)"
   ]
  },
  {
   "cell_type": "code",
   "execution_count": 185,
   "id": "7c81c5de-91f5-495a-9039-b9fbc7f71047",
   "metadata": {},
   "outputs": [
    {
     "data": {
      "text/plain": [
       "{'detail': 'Not found.'}"
      ]
     },
     "execution_count": 185,
     "metadata": {},
     "output_type": "execute_result"
    }
   ],
   "source": [
    "dc.get_document_detail(project_id=1, doc_id=1)"
   ]
  },
  {
   "cell_type": "code",
   "execution_count": 186,
   "id": "889a8de5-2f28-4ee9-ac2f-d423a4776d4f",
   "metadata": {},
   "outputs": [
    {
     "data": {
      "text/plain": [
       "[{'id': 1,\n",
       "  'text': 'False',\n",
       "  'prefix_key': None,\n",
       "  'suffix_key': '0',\n",
       "  'background_color': '#FF6F00',\n",
       "  'text_color': '#ffffff'},\n",
       " {'id': 2,\n",
       "  'text': 'True',\n",
       "  'prefix_key': None,\n",
       "  'suffix_key': '1',\n",
       "  'background_color': '#8BC34A',\n",
       "  'text_color': '#ffffff'}]"
      ]
     },
     "execution_count": 186,
     "metadata": {},
     "output_type": "execute_result"
    }
   ],
   "source": [
    "dc.get_label_list(project_id=1)"
   ]
  },
  {
   "cell_type": "markdown",
   "id": "d363db2e-8d9c-4b1e-bb57-135c56e58fba",
   "metadata": {},
   "source": [
    "#### Tips\n",
    "\n",
    "* only label the specific (target) text that represents teh category\n",
    "* output will be:\n",
    "  - text [sentence label is found] - post processed text for train/test\n",
    "  - original [sentence label is found] - unaltered text for comparison with postprocessed\n",
    "  - target_text - represents category\n",
    "  - metadata (key, value) - specific data to be extracted\n",
    "* first, look at text record within context of report to ensure what is described.  Then, look at text record within the same category to ensure consistency of pattern\n",
    "* post-processing allows multiple patterns to be used based on differetn aspects: key terms used, part-of-speech, grammatical mood (english has indicative, imperative, subjective, and infinitive) etc.\n",
    "* ???"
   ]
  },
  {
   "cell_type": "markdown",
   "id": "7e4170e9-1038-488c-b0de-cbbf5c8f2f4d",
   "metadata": {},
   "source": [
    "#### Issues\n",
    "\n",
    "* import of label_config incorrectly populates color fill\n",
    "* need view for displaying same labelled text from all records.  This is used to qucikly add comments, which are the final extraction of information\n",
    "* how to add example data\n",
    "* in Comments section, can't click on record to annotate / label it\n",
    "* how to add metadata?  there is a position for it , but no way to add to it!\n",
    "* Id (index) and label index never reset despite being a different project.  It just keeps being added to it."
   ]
  },
  {
   "cell_type": "markdown",
   "id": "64fa8750-b1ee-4496-82c7-b26c17bc7f14",
   "metadata": {},
   "source": [
    "#### Improvements\n",
    "\n",
    "* setup so that sqlite.db is presisted in a shared volumen for safe keeping.\n",
    "* need a way to create new dataset from existing datasets, based on label(s).  this allows for dcomposing from a generla label to a more specific label."
   ]
  },
  {
   "cell_type": "markdown",
   "id": "aebcb3fc-f6b9-43d7-8dd5-d2239dfd49bf",
   "metadata": {},
   "source": [
    "## AWS S3 Mocking with LocalStack"
   ]
  },
  {
   "cell_type": "markdown",
   "id": "5df46144-0311-45a0-83f5-d7ec98b9b10b",
   "metadata": {},
   "source": [
    "### Components\n",
    "\n",
    "* LocalStack\n",
    "* aws cli\n",
    "* aws configure\n",
    "* python boto"
   ]
  },
  {
   "cell_type": "markdown",
   "id": "61a1da8e-4088-40f2-95a6-5db184292162",
   "metadata": {},
   "source": [
    "Install with\n",
    "\n",
    "```\n",
    "pip install localstack\n",
    "```"
   ]
  },
  {
   "cell_type": "markdown",
   "id": "95ad4307-4909-4c5e-9b2e-8e70b3c66e1d",
   "metadata": {},
   "source": [
    "### Running in Docker\n",
    "\n",
    "The provided docker image is fine, but you can also you a docker-compose file.\n",
    "\n",
    "```docker-compose.yml\n",
    "version: '3.1'\n",
    "\n",
    "services:\n",
    "  localstack:\n",
    "    image: localstack/localstack:latest\n",
    "    environment:\n",
    "      - AWS_DEFAULT_REGION=us-east-1\n",
    "      - EDGE_PORT=4566\n",
    "      - SERVICES=lambda,s3\n",
    "      - DATA_DIR=/tmp/localstack/data\n",
    "    ports:\n",
    "      - '4566-4583:4566-4583'\n",
    "    volumes:\n",
    "      - \"${TEMPDIR:-/tmp/localstack}:/tmp/localstack\"\n",
    "      - \"/var/run/docker.sock:/var/run/docker.stock\"\n",
    "```"
   ]
  },
  {
   "cell_type": "markdown",
   "id": "df2e4c54-1d6c-4949-9678-2e0a2cbe60f3",
   "metadata": {},
   "source": [
    "Create a file with content and invoke teh following command in terminal (mac)\n",
    "\n",
    "```\n",
    "docker-compose up\n",
    "```"
   ]
  },
  {
   "cell_type": "markdown",
   "id": "c32566d8-37a5-4234-8e1a-13f9ecb020ac",
   "metadata": {},
   "source": [
    "Once the container is ready, navigate to http://localhost:4566/health  which should show the following json output\n",
    "\n",
    "```\n",
    "{\"services\": {\"lambda\":\"running\", \"logs\":\"running\",\"s3\":\"running\",\"cloudwatch\":\"running},\n",
    "{\"features\": {\"persistence\":\"initialized\",\"initScripts\":intialized\"}}\n",
    "```"
   ]
  },
  {
   "cell_type": "markdown",
   "id": "2f07feb8-7120-4743-8072-c29c4121922e",
   "metadata": {},
   "source": [
    "### Interacting\n",
    "\n",
    "Invoke the following commands in local as well as docker container\n",
    "\n",
    "* install aws cli: `pip install awscli`\n",
    "* aws configure:\n",
    "```\n",
    "aws_access_key_id=tes\n",
    "aws_secret_access_key=test\n",
    "region=us-east-1\n",
    "output=json\n",
    "```\n",
    "\n",
    "* make a bucket: `aws --endpoint-url=http://localhost:4566 s3 mb s3://<bucketname>`\n",
    "* copy files: `aws --endpoint-url=http://localhost:4566 s3 cp filename.txt s3://<bucketname>`\n",
    "* list files: `aws --endpoint-url=http://localhost:4566 s3 ls s3://<bucketname>`\n",
    "* sync folders: `aws --endpoint-url=http://localhost:4566 s3 sync model s3://<bucketname>`\n",
    "* backup buckets and files locally:\n",
    "\n",
    "If container is stopped, docker file compose the container, invoke the command below, then restart the container\n",
    "\n",
    "```\n",
    "docker-compose up\n",
    "cp /workspace/recorded_api_calls.json /tmp/localstack/data/\n",
    "docker container ls   #get container id\n",
    "docker container restart <container_id>\n",
    "```"
   ]
  },
  {
   "cell_type": "markdown",
   "id": "8f28a120-30e9-490b-8a83-34a68ce6f53c",
   "metadata": {},
   "source": [
    "### Python connections\n",
    "\n",
    "* CRUD can be done with python connection string\n",
    "* localstack endpoint url can also be searched from: `docker network inspect`\n",
    "* note the gateway IP address of localstack container\n",
    "\n",
    "Example usage:\n",
    "\n",
    "* read files\n",
    "\n",
    "```\n",
    "s3 = boto3.resource('s3', endpoint_url='http://172.19.0.1:4566',\n",
    "                   aws_access_key_id = 'test',\n",
    "                   aws_secret_access_key = 'test)\n",
    "                   \n",
    "obj = s3.Object(bucket, file)\n",
    "data = obj.get()['Body'].read()\n",
    "df = pd.read_csv(io.BytesIO(data), header=None)\n",
    "```\n",
    "* make bucket\n",
    "```\n",
    "s3.create_bucket(Bucket=name)\n",
    "```\n",
    "* upload file\n",
    "```\n",
    "s3 = boto3.client('s3', endpoint_url='http://172.19.0.1:4566')\n",
    "s3.upload_file(file_name, bucket_name, object_file_name)\n",
    "```\n",
    "* delete file\n",
    "```\n",
    "s3 = boto3.resource('s3', endpoint_url='http://172.19.0.1:4566')\n",
    "s3Object(bucket, filename).delete()\n",
    "```\n",
    "* download file\n",
    "```\n",
    "session = boto3.Session()\n",
    "s3 = boto3.resource('s3', endpoint_url='http://172.19.0.1:4566')\n",
    "s3.meta.client.download_file(bucket_name, object_name, destination_filepath)\n",
    "```"
   ]
  },
  {
   "cell_type": "code",
   "execution_count": null,
   "id": "15db4181-bae8-4ab1-a38e-430f60f9ca28",
   "metadata": {},
   "outputs": [],
   "source": []
  },
  {
   "cell_type": "code",
   "execution_count": null,
   "id": "b4b7acab-e714-4d07-ab27-4cdff0c4ee6b",
   "metadata": {},
   "outputs": [],
   "source": []
  },
  {
   "cell_type": "code",
   "execution_count": null,
   "id": "11f2e10b-d5f7-4987-a214-9c207d297a63",
   "metadata": {},
   "outputs": [],
   "source": []
  }
 ],
 "metadata": {
  "kernelspec": {
   "display_name": "Python 3 (ipykernel)",
   "language": "python",
   "name": "python3"
  },
  "language_info": {
   "codemirror_mode": {
    "name": "ipython",
    "version": 3
   },
   "file_extension": ".py",
   "mimetype": "text/x-python",
   "name": "python",
   "nbconvert_exporter": "python",
   "pygments_lexer": "ipython3",
   "version": "3.9.7"
  }
 },
 "nbformat": 4,
 "nbformat_minor": 5
}
