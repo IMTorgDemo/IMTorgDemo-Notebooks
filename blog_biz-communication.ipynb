{
 "cells": [
  {
   "cell_type": "markdown",
   "id": "c216bffd-c572-4b1b-9610-f57c8e635851",
   "metadata": {},
   "source": [
    "# Powerpoint Usage: Commercial vs Government Firms\n",
    "\n",
    "Date: 2021-12-06  \n",
    "Author: Jason Beach  \n",
    "Categories: Comparison, Business_and_Leadership\n",
    "Tags: project_management, communication\n",
    "\n",
    "<!--eofm-->"
   ]
  },
  {
   "cell_type": "markdown",
   "id": "14ddcaf8-68b0-4fde-8d82-7a60ff463c24",
   "metadata": {},
   "source": [
    "Powerpoint is becoming a de-facto form of communication both within and between organizations.  This has both pros and cons, but the important thing to emphasize, when you can, is that it is just a tool.  As soon as slides become a sacred cow, then you're no longer delivering value.  You're just pushing propaganda.\n",
    "\n",
    "Commercial\n",
    "\n",
    "* can be a useful tool\n",
    "* provide talking points\n",
    "* a way to start a discussion with the customer\n",
    "* leads to key concepts that customer should take away\n",
    "* fewer presentations, but similar pitch, supports personal engagement\n",
    "* will definitely have a few important numbers, that will be discussed\n",
    "* not the place to make promises / commits; that is during contract negotiation and final delivery\n",
    "\n",
    "\n",
    "Government\n",
    "\n",
    "* mostly necessary for ANY communication\n",
    "* stand-alone slides that can be read \n",
    "* verbose to the point that it is a written report\n",
    "* but don't give numbers or anything exact that might be disputed; use red-amber-green categories for numbers where no one knows the definitions\n",
    "* balance of higher-level detail, yet vague about actual implementation\n",
    "* will be read word-for-word with little preparation\n",
    "* presenter and audience will have been in meetings all day: they are professionals at evaluating powerpoints for errors\n",
    "* more resources may be spent on the powerpoint than the product (what the powerpoint describes)\n",
    "\n",
    "\n",
    "It is incredibly time-consuming to prepare a slide deck, especially if it involves making tables and visualizations unique to the results of your current tasks (which will not be complete until the last moment).  Slides in the federal government are more like a dissertation pasted into powerpoint for independent reading.  The presenter and audience will have been in meetings all day - they are professionals at evaluating powerpoints for errors or oddities.  This is in contrast to most other industries where it is used to facilitate interactive (two-way) discussion.  So, there is a lot of pressure to ‘reach’ your audience, using slides, during a very small time period (30min).  Has anyone ever presented without powerpoint – fugetaboutit (Goodfellas).\n"
   ]
  }
 ],
 "metadata": {
  "kernelspec": {
   "display_name": "Python 3 (ipykernel)",
   "language": "python",
   "name": "python3"
  },
  "language_info": {
   "codemirror_mode": {
    "name": "ipython",
    "version": 3
   },
   "file_extension": ".py",
   "mimetype": "text/x-python",
   "name": "python",
   "nbconvert_exporter": "python",
   "pygments_lexer": "ipython3",
   "version": "3.9.10"
  }
 },
 "nbformat": 4,
 "nbformat_minor": 5
}
