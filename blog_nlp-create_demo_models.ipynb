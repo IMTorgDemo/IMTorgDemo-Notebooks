{
 "cells": [
  {
   "cell_type": "markdown",
   "id": "d1f118dc-d3cd-4d7f-b2e2-2541d2fd59ec",
   "metadata": {
    "tags": []
   },
   "source": [
    "# Example Fasttext Modeling\n",
    "\n",
    "Date: 2021-01-01  \n",
    "Author: Jason Beach  \n",
    "Categories: Introduction_Tutorial, Data_Science \n",
    "Tags: NLP, development \n",
    "\n",
    "<!--eofm-->"
   ]
  },
  {
   "cell_type": "markdown",
   "id": "92a916ae-df17-444d-8ab1-7d6da8a4d5e0",
   "metadata": {},
   "source": [
    "Consumer complaints database downloaded from [here](https://catalog.data.gov/dataset/consumer-complaint-database)"
   ]
  },
  {
   "cell_type": "markdown",
   "id": "51db95d6-4aa7-452e-a177-dba2178f2c1c",
   "metadata": {},
   "source": [
    "## Configure"
   ]
  },
  {
   "cell_type": "code",
   "execution_count": 1,
   "id": "d0b7310d-f59e-459c-9809-93341f230289",
   "metadata": {},
   "outputs": [
    {
     "name": "stdout",
     "output_type": "stream",
     "text": [
      "Bundles.jsonl\t\tdataCombine.csv\t\t\t dataProducts.csv\n",
      "complaints.csv\t\tdataFinance_10-K_A.html\t\t OUTPUT_Finance.jsonl\n",
      "complaints_results.csv\tdataFinance_dataframe.jsonl\t tbl_Vulnerability.png\n",
      "complaints_test.txt\tdataFinanceIncidents_calcs.xlsx  tbl_Vul_Prod-Cat.png\n",
      "complaints_train.txt\tdataFinance-label_config.json\n",
      "dataCategory.csv\tdataIncidents.csv\n"
     ]
    }
   ],
   "source": [
    "! ls resources/"
   ]
  },
  {
   "cell_type": "code",
   "execution_count": 2,
   "id": "e31f4e1f-d18b-48ce-8bda-0ca1857900fa",
   "metadata": {},
   "outputs": [],
   "source": [
    "import csv\n",
    "\n",
    "import pandas as pd\n",
    "import fasttext as ft"
   ]
  },
  {
   "cell_type": "code",
   "execution_count": null,
   "id": "d6825854-6650-45ba-8b2b-7bda793075aa",
   "metadata": {},
   "outputs": [],
   "source": [
    "consumercompliants = pd.read_csv('resources/complaints.csv')"
   ]
  },
  {
   "cell_type": "markdown",
   "id": "7ff2ab22-3960-4a00-a43a-652d1f764306",
   "metadata": {},
   "source": [
    "## Prepare Data"
   ]
  },
  {
   "cell_type": "code",
   "execution_count": 4,
   "id": "fba8cc25-8cca-482a-8228-423a6450f5f4",
   "metadata": {},
   "outputs": [
    {
     "data": {
      "text/html": [
       "<div>\n",
       "<style scoped>\n",
       "    .dataframe tbody tr th:only-of-type {\n",
       "        vertical-align: middle;\n",
       "    }\n",
       "\n",
       "    .dataframe tbody tr th {\n",
       "        vertical-align: top;\n",
       "    }\n",
       "\n",
       "    .dataframe thead th {\n",
       "        text-align: right;\n",
       "    }\n",
       "</style>\n",
       "<table border=\"1\" class=\"dataframe\">\n",
       "  <thead>\n",
       "    <tr style=\"text-align: right;\">\n",
       "      <th></th>\n",
       "      <th>Product</th>\n",
       "      <th>Consumer_complaint_narrative</th>\n",
       "    </tr>\n",
       "  </thead>\n",
       "  <tbody>\n",
       "    <tr>\n",
       "      <th>1</th>\n",
       "      <td>Vehicle loan or lease</td>\n",
       "      <td>I contacted Ally on Friday XX/XX/XXXX after fa...</td>\n",
       "    </tr>\n",
       "    <tr>\n",
       "      <th>3</th>\n",
       "      <td>Student loan</td>\n",
       "      <td>I was contacted about student loan consolidati...</td>\n",
       "    </tr>\n",
       "    <tr>\n",
       "      <th>5</th>\n",
       "      <td>Credit reporting, credit repair services, or o...</td>\n",
       "      <td>Hello This complaint is against the three cred...</td>\n",
       "    </tr>\n",
       "    <tr>\n",
       "      <th>6</th>\n",
       "      <td>Credit reporting, credit repair services, or o...</td>\n",
       "      <td>I am a victim of Identity Theft &amp; currently ha...</td>\n",
       "    </tr>\n",
       "    <tr>\n",
       "      <th>8</th>\n",
       "      <td>Credit reporting, credit repair services, or o...</td>\n",
       "      <td>Two accounts are still on my credit history af...</td>\n",
       "    </tr>\n",
       "  </tbody>\n",
       "</table>\n",
       "</div>"
      ],
      "text/plain": [
       "                                             Product  \\\n",
       "1                              Vehicle loan or lease   \n",
       "3                                       Student loan   \n",
       "5  Credit reporting, credit repair services, or o...   \n",
       "6  Credit reporting, credit repair services, or o...   \n",
       "8  Credit reporting, credit repair services, or o...   \n",
       "\n",
       "                        Consumer_complaint_narrative  \n",
       "1  I contacted Ally on Friday XX/XX/XXXX after fa...  \n",
       "3  I was contacted about student loan consolidati...  \n",
       "5  Hello This complaint is against the three cred...  \n",
       "6  I am a victim of Identity Theft & currently ha...  \n",
       "8  Two accounts are still on my credit history af...  "
      ]
     },
     "execution_count": 4,
     "metadata": {},
     "output_type": "execute_result"
    }
   ],
   "source": [
    "col = ['Product', 'Consumer complaint narrative']\n",
    "consumercompliants = consumercompliants[col]\n",
    "consumercompliants = consumercompliants[pd.notnull(consumercompliants['Consumer complaint narrative'])]\n",
    "consumercompliants.columns = ['Product', 'Consumer_complaint_narrative']\n",
    "consumercompliants.head()"
   ]
  },
  {
   "cell_type": "code",
   "execution_count": 5,
   "id": "b364a074-d292-40e5-b5e4-569250e80706",
   "metadata": {},
   "outputs": [
    {
     "data": {
      "text/plain": [
       "(841229, 2)"
      ]
     },
     "execution_count": 5,
     "metadata": {},
     "output_type": "execute_result"
    }
   ],
   "source": [
    "consumercompliants.shape"
   ]
  },
  {
   "cell_type": "code",
   "execution_count": 6,
   "id": "67f952ac-1c45-4795-b609-e431bc537ef6",
   "metadata": {},
   "outputs": [
    {
     "data": {
      "text/plain": [
       "Credit reporting, credit repair services, or other personal consumer reports    332914\n",
       "Debt collection                                                                 163006\n",
       "Mortgage                                                                         86571\n",
       "Credit card or prepaid card                                                      63645\n",
       "Checking or savings account                                                      39415\n",
       "Credit reporting                                                                 31588\n",
       "Student loan                                                                     29509\n",
       "Money transfer, virtual currency, or money service                               19729\n",
       "Credit card                                                                      18838\n",
       "Vehicle loan or lease                                                            15809\n",
       "Bank account or service                                                          14885\n",
       "Payday loan, title loan, or personal loan                                        10849\n",
       "Consumer Loan                                                                     9470\n",
       "Payday loan                                                                       1746\n",
       "Money transfers                                                                   1497\n",
       "Prepaid card                                                                      1450\n",
       "Other financial service                                                            292\n",
       "Virtual currency                                                                    16\n",
       "Name: Product, dtype: int64"
      ]
     },
     "execution_count": 6,
     "metadata": {},
     "output_type": "execute_result"
    }
   ],
   "source": [
    "consumercompliants['Product'].value_counts()"
   ]
  },
  {
   "cell_type": "code",
   "execution_count": 7,
   "id": "a7af9d82-e1eb-45d1-9a6c-75623af88f8c",
   "metadata": {},
   "outputs": [],
   "source": [
    "payday = consumercompliants[consumercompliants['Product']=='Payday loan']\n",
    "other = consumercompliants[consumercompliants['Product']!='Payday loan']\n",
    "nonpayday = other.sample(2000)\n",
    "nonpayday['Product'] = 'Other'"
   ]
  },
  {
   "cell_type": "markdown",
   "id": "341f1623-89f7-45b4-8b7a-1092a2162a09",
   "metadata": {},
   "source": [
    "Use one of the two cell to decide what type of model to build for demonstration purposes."
   ]
  },
  {
   "cell_type": "code",
   "execution_count": 8,
   "id": "6f53134d-0388-42ca-a1ec-d5bf85988487",
   "metadata": {},
   "outputs": [],
   "source": [
    "#using all records to create a good model\n",
    "payTrain = payday.sample(frac=0.75)\n",
    "payTest = payday[~payday.index.isin(payTrain.index)]\n",
    "\n",
    "nonTrain = nonpayday.sample(frac=0.75)\n",
    "nonTest = nonpayday[~nonpayday.index.isin(nonTrain.index)]\n",
    "\n",
    "Train = pd.concat([payTrain,nonTrain], ignore_index=True)\n",
    "Test = pd.concat([payTest,nonTest], ignore_index=True)"
   ]
  },
  {
   "cell_type": "code",
   "execution_count": 44,
   "id": "d29940cf-f97f-4b49-afbf-ac7cf5591006",
   "metadata": {},
   "outputs": [],
   "source": [
    "#reducing records used to demonstrate a poor model\n",
    "payTrain = payday.sample(frac=0.5)\n",
    "payTest = payday[~payday.index.isin(payTrain.index)]\n",
    "\n",
    "nonTrain = nonpayday.sample(frac=0.5)\n",
    "nonTest = nonpayday[~nonpayday.index.isin(nonTrain.index)]\n",
    "\n",
    "Train = pd.concat([payTrain,nonTrain], ignore_index=True)\n",
    "Test = pd.concat([payTest,nonTest], ignore_index=True)"
   ]
  },
  {
   "cell_type": "code",
   "execution_count": 45,
   "id": "3ab5fa26-dd26-4376-b25e-87a32363ac19",
   "metadata": {},
   "outputs": [],
   "source": [
    "Train['label']=['__label__'+s.replace(' or ', '$').replace(', or ','$').replace(',','$').replace(' ','_').replace(',','__label__').replace('$$','$').replace('$',' __label__').replace('___','__') for s in Train['Product']]\n",
    "Test['label']=['__label__'+s.replace(' or ', '$').replace(', or ','$').replace(',','$').replace(' ','_').replace(',','__label__').replace('$$','$').replace('$',' __label__').replace('___','__') for s in Test['Product']]\n",
    "\n",
    "Train['narrative']= Train['Consumer_complaint_narrative'].replace('\\n',' ', regex=True).replace('\\t',' ', regex=True)\n",
    "Test['narrative']= Test['Consumer_complaint_narrative'].replace('\\n',' ', regex=True).replace('\\t',' ', regex=True)"
   ]
  },
  {
   "cell_type": "code",
   "execution_count": 46,
   "id": "8d791298-28fc-412a-ae21-a8eefd911c8c",
   "metadata": {},
   "outputs": [],
   "source": [
    "Train[['label','narrative']].to_csv(r'./resources/complaints_train.txt', index=False, sep=' ', header=False, quoting=csv.QUOTE_NONE, quotechar=\"\", escapechar=\" \")\n",
    "Test[['label','narrative']].to_csv(r'./resources/complaints_test.txt', index=False, sep=' ', header=False, quoting=csv.QUOTE_NONE, quotechar=\"\", escapechar=\" \")"
   ]
  },
  {
   "cell_type": "code",
   "execution_count": 47,
   "id": "036e2df8-200f-4517-9e19-6fbeb2091906",
   "metadata": {},
   "outputs": [],
   "source": [
    "Test[['label','narrative']].to_csv(r'./resources/complaints_complete_test.txt', index=False)"
   ]
  },
  {
   "cell_type": "markdown",
   "id": "f5c84882-d1bb-4747-bb60-68eb964906c2",
   "metadata": {},
   "source": [
    "## Model"
   ]
  },
  {
   "cell_type": "code",
   "execution_count": 48,
   "id": "52bbe45e-3f4c-4ac0-8dc3-60be352b26e7",
   "metadata": {},
   "outputs": [],
   "source": [
    "def print_results(N, p, r):\n",
    "    print(\"N\\t\" + str(N))\n",
    "    print(\"P@{}\\t{:.3f}\".format(1, p))\n",
    "    print(\"R@{}\\t{:.3f}\".format(1, r))"
   ]
  },
  {
   "cell_type": "code",
   "execution_count": 49,
   "id": "c6c98b48-7cb7-450a-8e14-8540c0549377",
   "metadata": {},
   "outputs": [
    {
     "name": "stderr",
     "output_type": "stream",
     "text": [
      "Read 0M words\n",
      "Number of words:  16747\n",
      "Number of labels: 2\n",
      "Progress: 100.0% words/sec/thread: 2579481 lr:  0.000000 avg.loss:  0.598023 ETA:   0h 0m 0s\n"
     ]
    }
   ],
   "source": [
    "model = ft.train_supervised('./resources/complaints_train.txt')"
   ]
  },
  {
   "cell_type": "code",
   "execution_count": 50,
   "id": "cdabf257-7b61-47af-bff2-e4de632a5413",
   "metadata": {},
   "outputs": [
    {
     "name": "stdout",
     "output_type": "stream",
     "text": [
      "N\t1873\n",
      "P@1\t0.766\n",
      "R@1\t0.766\n"
     ]
    }
   ],
   "source": [
    "print_results(*model.test('./resources/complaints_test.txt'))"
   ]
  },
  {
   "cell_type": "code",
   "execution_count": 60,
   "id": "7f21cd00-50eb-41bf-ba81-6c8fdf3ed739",
   "metadata": {},
   "outputs": [],
   "source": [
    "#use if you don't want to re-process\n",
    "Test = pd.read_csv('./resources/complaints_complete_test.txt')\n",
    "Test = Test.sample(300)"
   ]
  },
  {
   "cell_type": "code",
   "execution_count": 61,
   "id": "036d8537-1b36-4cf9-9bfc-1fd1dcaf3745",
   "metadata": {},
   "outputs": [],
   "source": [
    "Test['predict'] = Test['narrative'].apply(model.predict)"
   ]
  },
  {
   "cell_type": "markdown",
   "id": "9ee7759e-725a-4e71-86b6-21a3fe1b390c",
   "metadata": {},
   "source": [
    "## Prepare Predictions for Dashboard"
   ]
  },
  {
   "cell_type": "code",
   "execution_count": 62,
   "id": "efa05ec4-40d5-4b31-b073-35517a83f447",
   "metadata": {},
   "outputs": [
    {
     "name": "stderr",
     "output_type": "stream",
     "text": [
      "/tmp/ipykernel_996/3039748368.py:4: SettingWithCopyWarning: \n",
      "A value is trying to be set on a copy of a slice from a DataFrame\n",
      "\n",
      "See the caveats in the documentation: https://pandas.pydata.org/pandas-docs/stable/user_guide/indexing.html#returning-a-view-versus-a-copy\n",
      "  Test['actualy'][Test['label']=='__label__Payday_loan'] = 1\n"
     ]
    }
   ],
   "source": [
    "#df_raw.columns.tolist()   #['actualy', 'yhat', 'id', 'text]    <<< the columns you need\n",
    "Test['index'] = Test.index\n",
    "Test['actualy'] = 0\n",
    "Test['actualy'][Test['label']=='__label__Payday_loan'] = 1"
   ]
  },
  {
   "cell_type": "code",
   "execution_count": 63,
   "id": "86b106c5-ba1a-4a7a-9dc9-02bf8929738b",
   "metadata": {},
   "outputs": [],
   "source": [
    "Test['yhat'] = [item[1][0] if item[0][0] == '__label__Payday_loan' else 1 - item[1][0] for item in Test['predict'].tolist() ]"
   ]
  },
  {
   "cell_type": "code",
   "execution_count": 64,
   "id": "9a6ad004-410e-46ff-8328-a31a06f91b8e",
   "metadata": {},
   "outputs": [
    {
     "data": {
      "text/html": [
       "<div>\n",
       "<style scoped>\n",
       "    .dataframe tbody tr th:only-of-type {\n",
       "        vertical-align: middle;\n",
       "    }\n",
       "\n",
       "    .dataframe tbody tr th {\n",
       "        vertical-align: top;\n",
       "    }\n",
       "\n",
       "    .dataframe thead th {\n",
       "        text-align: right;\n",
       "    }\n",
       "</style>\n",
       "<table border=\"1\" class=\"dataframe\">\n",
       "  <thead>\n",
       "    <tr style=\"text-align: right;\">\n",
       "      <th></th>\n",
       "      <th>label</th>\n",
       "      <th>narrative</th>\n",
       "      <th>predict</th>\n",
       "      <th>index</th>\n",
       "      <th>actualy</th>\n",
       "      <th>yhat</th>\n",
       "    </tr>\n",
       "  </thead>\n",
       "  <tbody>\n",
       "  </tbody>\n",
       "</table>\n",
       "</div>"
      ],
      "text/plain": [
       "Empty DataFrame\n",
       "Columns: [label, narrative, predict, index, actualy, yhat]\n",
       "Index: []"
      ]
     },
     "execution_count": 64,
     "metadata": {},
     "output_type": "execute_result"
    }
   ],
   "source": [
    "#example\n",
    "Test[Test['index'] == 97]"
   ]
  },
  {
   "cell_type": "code",
   "execution_count": 65,
   "id": "e3ad1c71-98ab-4262-8173-8c64a8bbbeac",
   "metadata": {},
   "outputs": [
    {
     "name": "stderr",
     "output_type": "stream",
     "text": [
      "/opt/conda/lib/python3.9/site-packages/pandas/core/frame.py:5039: SettingWithCopyWarning: \n",
      "A value is trying to be set on a copy of a slice from a DataFrame\n",
      "\n",
      "See the caveats in the documentation: https://pandas.pydata.org/pandas-docs/stable/user_guide/indexing.html#returning-a-view-versus-a-copy\n",
      "  return super().rename(\n"
     ]
    }
   ],
   "source": [
    "df_raw = Test[['actualy', 'yhat', 'index', 'narrative']]\n",
    "df_raw.rename(columns={'index':'id', 'narrative':'text'}, inplace=True)"
   ]
  },
  {
   "cell_type": "code",
   "execution_count": 66,
   "id": "b87f73b3-88ce-46ab-a6d8-a240d3553fac",
   "metadata": {},
   "outputs": [
    {
     "data": {
      "text/html": [
       "<div>\n",
       "<style scoped>\n",
       "    .dataframe tbody tr th:only-of-type {\n",
       "        vertical-align: middle;\n",
       "    }\n",
       "\n",
       "    .dataframe tbody tr th {\n",
       "        vertical-align: top;\n",
       "    }\n",
       "\n",
       "    .dataframe thead th {\n",
       "        text-align: right;\n",
       "    }\n",
       "</style>\n",
       "<table border=\"1\" class=\"dataframe\">\n",
       "  <thead>\n",
       "    <tr style=\"text-align: right;\">\n",
       "      <th></th>\n",
       "      <th>actualy</th>\n",
       "      <th>yhat</th>\n",
       "      <th>id</th>\n",
       "      <th>text</th>\n",
       "    </tr>\n",
       "  </thead>\n",
       "  <tbody>\n",
       "    <tr>\n",
       "      <th>1799</th>\n",
       "      <td>0</td>\n",
       "      <td>0.445166</td>\n",
       "      <td>1799</td>\n",
       "      <td>I called USAA today XX/XX/XXXX because someone...</td>\n",
       "    </tr>\n",
       "    <tr>\n",
       "      <th>320</th>\n",
       "      <td>1</td>\n",
       "      <td>0.452314</td>\n",
       "      <td>320</td>\n",
       "      <td>I have been getting payday loans from this com...</td>\n",
       "    </tr>\n",
       "    <tr>\n",
       "      <th>593</th>\n",
       "      <td>1</td>\n",
       "      <td>0.447500</td>\n",
       "      <td>593</td>\n",
       "      <td>My identity was stolen and a loan was open usi...</td>\n",
       "    </tr>\n",
       "    <tr>\n",
       "      <th>203</th>\n",
       "      <td>1</td>\n",
       "      <td>0.448908</td>\n",
       "      <td>203</td>\n",
       "      <td>I inquire about this loan, the explanation was...</td>\n",
       "    </tr>\n",
       "    <tr>\n",
       "      <th>1705</th>\n",
       "      <td>0</td>\n",
       "      <td>0.306474</td>\n",
       "      <td>1705</td>\n",
       "      <td>On XXXX XX/XX/XXXX, I initiated an online mone...</td>\n",
       "    </tr>\n",
       "  </tbody>\n",
       "</table>\n",
       "</div>"
      ],
      "text/plain": [
       "      actualy      yhat    id  \\\n",
       "1799        0  0.445166  1799   \n",
       "320         1  0.452314   320   \n",
       "593         1  0.447500   593   \n",
       "203         1  0.448908   203   \n",
       "1705        0  0.306474  1705   \n",
       "\n",
       "                                                   text  \n",
       "1799  I called USAA today XX/XX/XXXX because someone...  \n",
       "320   I have been getting payday loans from this com...  \n",
       "593   My identity was stolen and a loan was open usi...  \n",
       "203   I inquire about this loan, the explanation was...  \n",
       "1705  On XXXX XX/XX/XXXX, I initiated an online mone...  "
      ]
     },
     "execution_count": 66,
     "metadata": {},
     "output_type": "execute_result"
    }
   ],
   "source": [
    "df_raw.head()"
   ]
  },
  {
   "cell_type": "code",
   "execution_count": 67,
   "id": "f1dd7668-1abf-465d-973b-b1afe93e3f1b",
   "metadata": {},
   "outputs": [],
   "source": [
    "df_raw.to_csv('./resources/complaints_results_pct25.csv', index=False)"
   ]
  },
  {
   "cell_type": "code",
   "execution_count": null,
   "id": "97048753-5627-4d2a-9cbe-26f80567e933",
   "metadata": {},
   "outputs": [],
   "source": []
  }
 ],
 "metadata": {
  "kernelspec": {
   "display_name": "Python 3 (ipykernel)",
   "language": "python",
   "name": "python3"
  },
  "language_info": {
   "codemirror_mode": {
    "name": "ipython",
    "version": 3
   },
   "file_extension": ".py",
   "mimetype": "text/x-python",
   "name": "python",
   "nbconvert_exporter": "python",
   "pygments_lexer": "ipython3",
   "version": "3.9.7"
  }
 },
 "nbformat": 4,
 "nbformat_minor": 5
}
