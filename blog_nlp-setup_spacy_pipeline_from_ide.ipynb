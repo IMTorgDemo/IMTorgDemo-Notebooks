{
 "cells": [
  {
   "cell_type": "code",
   "execution_count": null,
   "id": "e6cbf5e4-d887-4537-9b2e-f2a99c5f3663",
   "metadata": {},
   "outputs": [],
   "source": [
    "# Set-up a SpaCy Pipeline from IDE\n",
    "\n",
    "Date: 2021-01-01  \n",
    "Author: Jason Beach  \n",
    "Categories: Best_Practice, Introduction_Tutorial, Data_Science \n",
    "Tags: nlp, development, spacy\n",
    "\n",
    "<!--eofm-->"
   ]
  },
  {
   "cell_type": "code",
   "execution_count": 1,
   "id": "1c92f9c3-8b4d-4bc9-92e2-e0f981fa9050",
   "metadata": {},
   "outputs": [],
   "source": [
    "#! pip install -r requirements.txt"
   ]
  },
  {
   "cell_type": "code",
   "execution_count": 1,
   "id": "e2856ee6-4c10-4c89-9397-77c08aa90db7",
   "metadata": {},
   "outputs": [],
   "source": [
    "#! pip install \"spacy~=2.0\"\n",
    "#! pip install spacy-pattern-builder\n",
    "#! pip install neuralcoref"
   ]
  },
  {
   "cell_type": "code",
   "execution_count": 5,
   "id": "1ef3d579-a0ed-4e1c-9ed5-25f57161abae",
   "metadata": {},
   "outputs": [
    {
     "name": "stdout",
     "output_type": "stream",
     "text": [
      "/home/jovyan/NOTEBOOK_PUBLIC\n"
     ]
    }
   ],
   "source": [
    "! pwd"
   ]
  },
  {
   "cell_type": "code",
   "execution_count": null,
   "id": "79f755bc-67fe-4448-a819-e3367e68e0f5",
   "metadata": {},
   "outputs": [],
   "source": [
    "path_dev = \"/home/jovyan/PRIVATE/Prj_NLP/@Pipeline_Development/model-api\"\n",
    "path_notebooks = \"/home/jovyan/NOTEBOOK_PUBLIC\"\n",
    "path_nlp_projects = \"/home/jovyan/PRIVATE/Prj_NLP/Styled_Excel_Output\""
   ]
  },
  {
   "cell_type": "code",
   "execution_count": null,
   "id": "ded5dda7-b2e8-4760-a934-36dc962f6223",
   "metadata": {},
   "outputs": [],
   "source": [
    "import os \n",
    "os.chdir(path_dev)"
   ]
  },
  {
   "cell_type": "markdown",
   "id": "3bbff054-ef35-465c-a084-4718d98f9b91",
   "metadata": {},
   "source": [
    "## Dependencies"
   ]
  },
  {
   "cell_type": "code",
   "execution_count": null,
   "id": "69f9a51c-9920-4682-abcb-a00fc8f546e8",
   "metadata": {},
   "outputs": [],
   "source": [
    "import pandas as pd\n",
    "import numpy as np\n",
    "import spacy\n",
    "import negspacy\n",
    "\n",
    "nlp_spacy = spacy.load(\"en_core_web_sm\")"
   ]
  },
  {
   "cell_type": "markdown",
   "id": "703ca869-e0dd-469d-8132-75c09c384742",
   "metadata": {},
   "source": [
    "It is not possible to run two spacy versions in same notebook without changing the kernel."
   ]
  },
  {
   "cell_type": "code",
   "execution_count": 6,
   "id": "4cba2273-354b-4cf3-88f0-99441adff654",
   "metadata": {},
   "outputs": [],
   "source": [
    "import spacy as spacy3\n",
    "print(spacy3.__version__)"
   ]
  },
  {
   "cell_type": "code",
   "execution_count": 11,
   "id": "0fb7a62a-31d8-4b84-a7cd-48fd1f197fcd",
   "metadata": {},
   "outputs": [
    {
     "name": "stdout",
     "output_type": "stream",
     "text": [
      "3.1.4\n"
     ]
    }
   ],
   "source": [
    "import spacy as spacy2\n",
    "print(spacy2.__version__)"
   ]
  },
  {
   "cell_type": "code",
   "execution_count": null,
   "id": "dacf8335-2b71-4f32-bcf5-b0e2ce832eb7",
   "metadata": {},
   "outputs": [],
   "source": [
    "from spacy.language import Language\n",
    "from spacy.tokens import Doc, Span, Token\n",
    "from spacy.matcher import Matcher, DependencyMatcher\n",
    "from rapidfuzz miport fuzz, process"
   ]
  },
  {
   "cell_type": "code",
   "execution_count": null,
   "id": "6efe54a1-7f03-48f3-9189-9fc5a307a896",
   "metadata": {},
   "outputs": [],
   "source": [
    "import pickle\n",
    "import dill\n",
    "import xlsxwriter"
   ]
  },
  {
   "cell_type": "code",
   "execution_count": null,
   "id": "ba24a2e2-8c5f-4859-b4ce-280a718cbefe",
   "metadata": {},
   "outputs": [],
   "source": [
    "from pipeline_components.io_component import BaseComponent\n",
    "from pipeline_components.encoder import ResultsEncoder\n",
    "from pipeline_components.streamarray import StreamArrayUserList"
   ]
  },
  {
   "cell_type": "markdown",
   "id": "10abd30f-a86e-42f6-a133-462d50b64106",
   "metadata": {},
   "source": [
    "## Prepare Pipeline"
   ]
  },
  {
   "cell_type": "code",
   "execution_count": null,
   "id": "16ed7b37-a01c-46c6-8560-a35417691194",
   "metadata": {},
   "outputs": [],
   "source": [
    "from pipeline_components import io_component\n",
    "\n",
    "nlp_spacy.add_pipe(\"input_component\", last=True)\n",
    "nlp_spacy.add_pipe(\"context_component\", last=True)"
   ]
  },
  {
   "cell_type": "code",
   "execution_count": null,
   "id": "d0b3891d-661c-4b66-9474-950c54e5a3d5",
   "metadata": {},
   "outputs": [],
   "source": [
    "from pipieline_components.Soln_MalfunctionType import context\n",
    "\n",
    "nlp_spacy.add_pipe(\"lot_component\", last=True)\n",
    "nlp_spacy.add_pipe(\"spacy_mdl_event_lot\", last=True)\n",
    "nlp_spacy.add_pipe(\"scope_component\", last=True)"
   ]
  },
  {
   "cell_type": "code",
   "execution_count": null,
   "id": "43d4d2e0-aa05-449e-9b89-bfe3b71b8117",
   "metadata": {},
   "outputs": [],
   "source": [
    "from pipeline_component import io_component\n",
    "\n",
    "nlp_spacy.add_pipe(\"output_component\", last=True)"
   ]
  },
  {
   "cell_type": "markdown",
   "id": "811aaf22-40b0-49d6-964f-cb9df0dc492d",
   "metadata": {},
   "source": [
    "## Process file"
   ]
  },
  {
   "cell_type": "code",
   "execution_count": null,
   "id": "d2826f81-cee1-4114-9bf9-f272f932d1a6",
   "metadata": {},
   "outputs": [],
   "source": [
    "input_file_path = \"./data/original\"\n",
    "input_file_name = \"nar_cleanv1.3.csv\"\n",
    "input_full_path = os.path.join(input_file_path, input_file_name)"
   ]
  },
  {
   "cell_type": "code",
   "execution_count": null,
   "id": "9fb3c520-c96e-4c9b-bb37-a548b78b48ce",
   "metadata": {},
   "outputs": [],
   "source": [
    "col_names = [\"MDR Report Number\", \"MDR Product Code\", \"MDR Manufacturer\",\n",
    "             \"MDR Brand Name\", \"MDR Model Number\", \"MDR Lot Number\",\n",
    "             \"MDR User Facility\", \"MDR Patient Age\", \"MDR Patient Date of Birth\",\n",
    "             \"MDR Patient Sex\", \"MDR Patient Weight\", \"MDR Event Desc Mod\"\n",
    "            ]"
   ]
  },
  {
   "cell_type": "code",
   "execution_count": null,
   "id": "60501801-0107-410c-b9de-3fe442358a3f",
   "metadata": {},
   "outputs": [],
   "source": [
    "df = pd.read_csv(input_full_path, header=0, names=col_names)\n",
    "texts = df[\"MDR Event Desc Mode\"].values.tolist()\n",
    "df.drop(columns=[\"MDR Event Desc Mod\"], inplace=True)"
   ]
  },
  {
   "cell_type": "markdown",
   "id": "6dd97be5-7419-4b91-8a1b-b9fbaac3c1ec",
   "metadata": {},
   "source": [
    "```\n",
    "pipeline = [nlp_spacy(text) for text in texts]\n",
    "\n",
    "N_PROCESS = 1\n",
    "BATCH_SIZE = 100\n",
    "pipeline = nlp_spacy.pipe(texts, n_process=N_PROCESS, batch_size=BATCH_SIZE)\n",
    "```"
   ]
  },
  {
   "cell_type": "code",
   "execution_count": null,
   "id": "79be5822-e801-46bf-919e-d7dea7568474",
   "metadata": {},
   "outputs": [],
   "source": [
    "tmp, tmp._.result['text_extract']"
   ]
  },
  {
   "cell_type": "code",
   "execution_count": null,
   "id": "7c9e9567-7837-4736-902d-0ac4e34cc32c",
   "metadata": {},
   "outputs": [],
   "source": [
    "rows = []\n",
    "for row in pipeline:\n",
    "    rows.append({'text': row.text,\n",
    "                 'unreported': [item['text'] for item in row._.result['text_extract'] if item['model'] == 'unreportedevent'][0],\n",
    "                 'timespan': [item['text'] for item in row._.result['text_extract'] if item['model'] == 'timespan']\n",
    "                })"
   ]
  },
  {
   "cell_type": "code",
   "execution_count": null,
   "id": "39dddeb0-c6f0-4c64-8fb4-30bd4897c8ea",
   "metadata": {},
   "outputs": [],
   "source": [
    "df = pd.DataFrame(rows)"
   ]
  },
  {
   "cell_type": "code",
   "execution_count": null,
   "id": "e8fbff34-7ec6-4fa1-bdc1-92a616c201b2",
   "metadata": {},
   "outputs": [],
   "source": [
    "del pipeline"
   ]
  },
  {
   "cell_type": "code",
   "execution_count": null,
   "id": "046fe25c-f359-4a91-88c1-41b0fc0dff8b",
   "metadata": {},
   "outputs": [],
   "source": [
    "pd.set_option('display.max_rows', 2000)\n",
    "tmp = df[df['unreported'].str.len() != 0]\n",
    "#df[(df['timespan'] != '0 days') and (df['timespan'].str.len() != 0)]"
   ]
  },
  {
   "cell_type": "code",
   "execution_count": null,
   "id": "cd393918-4a74-4593-840e-65664b041a90",
   "metadata": {},
   "outputs": [],
   "source": [
    "tmp"
   ]
  },
  {
   "cell_type": "code",
   "execution_count": null,
   "id": "97e9d913-1e17-4b90-9fca-47d9a71ae907",
   "metadata": {},
   "outputs": [],
   "source": [
    "tmp.values[24]"
   ]
  },
  {
   "cell_type": "markdown",
   "id": "d6fc050b-975d-4d69-af67-a09473b2a08f",
   "metadata": {},
   "source": [
    "## Output For Review"
   ]
  },
  {
   "cell_type": "code",
   "execution_count": null,
   "id": "0b581e63-ea36-42c0-a456-357a092f881e",
   "metadata": {},
   "outputs": [],
   "source": [
    "#using rich string formatting\n",
    "#https://xlsxwriter.readthedocs.io/example_rich_strings.html"
   ]
  },
  {
   "cell_type": "code",
   "execution_count": null,
   "id": "b47bf63d-730b-41b2-909d-73c031597555",
   "metadata": {},
   "outputs": [],
   "source": [
    "os.chdir(path_nlp_projects)"
   ]
  },
  {
   "cell_type": "code",
   "execution_count": null,
   "id": "f4461c12-d430-46a3-bb80-4a6a240e1814",
   "metadata": {},
   "outputs": [],
   "source": [
    "from Excel_Writer_Chris_Function import prepare_data\n",
    "from Excel_Writer_Chris_Function import excel_output"
   ]
  }
 ],
 "metadata": {
  "kernelspec": {
   "display_name": "Python 3 (ipykernel)",
   "language": "python",
   "name": "python3"
  },
  "language_info": {
   "codemirror_mode": {
    "name": "ipython",
    "version": 3
   },
   "file_extension": ".py",
   "mimetype": "text/x-python",
   "name": "python",
   "nbconvert_exporter": "python",
   "pygments_lexer": "ipython3",
   "version": "3.9.7"
  }
 },
 "nbformat": 4,
 "nbformat_minor": 5
}
