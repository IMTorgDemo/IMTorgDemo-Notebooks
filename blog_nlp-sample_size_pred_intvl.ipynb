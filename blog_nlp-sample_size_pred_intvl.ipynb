{
 "cells": [
  {
   "cell_type": "markdown",
   "id": "93647ca8-2932-432a-bf08-2cbe9af1e57e",
   "metadata": {},
   "source": [
    "# Determine a Reasonable Sample Size for Training a Text Classifier \n",
    "\n",
    "Date: 2023-01-13  \n",
    "Author: Jason Beach  \n",
    "Categories: Innovation, Data_Science  \n",
    "Tags: nlp, statistics, sample_size\n",
    "\n",
    "<!--eofm-->"
   ]
  },
  {
   "cell_type": "markdown",
   "id": "a678cba5-c2e5-4f17-8000-edee8f02e425",
   "metadata": {},
   "source": [
    "Consider that we are creating a text classification model that will discover a few target needles in a massive haystack of records.  Maybe we are looking for messages of Death among emergency services messages - 20 for every 50,000 messages.  Labeling this large dataset and finding the Death messages is costly, so we don't want to label more than is necessary.  If we already have enough to estimate the target proportion, let us determine whether the sample size used for training the classification model is large enough.  Earler, in 'Sample_Size_Review.ipynb', we attempted to calculate _n_ from the Confidence Interval expression.  Now, we reverse this process to calculate the Prediction Interval from the selected _n_."
   ]
  },
  {
   "cell_type": "markdown",
   "id": "eb4e6783-6494-4546-8484-31cbcf003e49",
   "metadata": {},
   "source": [
    "The following bootstrap steps are used to create Prediction Intervals from a sample.  We will use Recall as our scoring estimate and we will use the FastText model (the simplest text classifier) as a surrogate Continuous Bag Of Words (CBOW) model to quickly train and get results.\n",
    "\n",
    "* create N models\n",
    "* predict on test data, then get counts from confusion matrix\n",
    "* create distribution of proportion missing (recall)\n",
    "* estimate sigma of distribution"
   ]
  },
  {
   "cell_type": "markdown",
   "id": "0d9a8470-0f6f-473b-9c1f-bec147125e7a",
   "metadata": {
    "tags": []
   },
   "source": [
    "## Configure Environment"
   ]
  },
  {
   "cell_type": "code",
   "execution_count": 1,
   "id": "0e918da2-6f0a-4be5-ab96-6ce73cf0978b",
   "metadata": {
    "tags": []
   },
   "outputs": [],
   "source": [
    "import os\n",
    "path_current = os.getcwd()"
   ]
  },
  {
   "cell_type": "code",
   "execution_count": 2,
   "id": "784dc6e1-e6fa-4f39-98e5-fe54281dd2c1",
   "metadata": {},
   "outputs": [
    {
     "name": "stdout",
     "output_type": "stream",
     "text": [
      "encoder.py\t preprocess.py\tSoln_EventType\n",
      "io_component.py  __pycache__\tstreamarray.py\n"
     ]
    }
   ],
   "source": [
    "! ls ../../GitLab/event-type/pipeline_components"
   ]
  },
  {
   "cell_type": "code",
   "execution_count": 3,
   "id": "8c0d5037-1672-4da0-bbf2-a2360b1933c2",
   "metadata": {},
   "outputs": [],
   "source": [
    "path_data = '../../Data/Event_Type/model6'\n",
    "path_models = './models'\n",
    "path_components = '../../GitLab/event-type/'"
   ]
  },
  {
   "cell_type": "code",
   "execution_count": 4,
   "id": "ea440562-8218-44f6-a967-c192f07c8c5f",
   "metadata": {},
   "outputs": [],
   "source": [
    "%load_ext autoreload"
   ]
  },
  {
   "cell_type": "code",
   "execution_count": 5,
   "id": "f41323f5-00b8-48ad-b60c-3c01abea13f6",
   "metadata": {
    "tags": []
   },
   "outputs": [],
   "source": [
    "%autoreload 2"
   ]
  },
  {
   "cell_type": "code",
   "execution_count": 6,
   "id": "59b3698c-77d0-42a8-9445-0ef0e13361da",
   "metadata": {},
   "outputs": [],
   "source": [
    "#(in term) apt install build-essential\n",
    "#! pip install fasttext==0.9.2\n",
    "#! pip install truecase"
   ]
  },
  {
   "cell_type": "code",
   "execution_count": 7,
   "id": "5f8aaa5d-1909-439b-8d0c-8ceb519d965d",
   "metadata": {},
   "outputs": [],
   "source": [
    "os.chdir( os.path.join(path_current, path_components) )\n",
    "\n",
    "from pipeline_components.preprocess import preprocess_data\n",
    "\n",
    "from pipeline_components import io_component\n",
    "#from pipeline_components import encoder"
   ]
  },
  {
   "cell_type": "code",
   "execution_count": 8,
   "id": "2ec76293-61d6-4886-8f6f-8093b021a870",
   "metadata": {},
   "outputs": [],
   "source": [
    "os.chdir( path_current )"
   ]
  },
  {
   "cell_type": "code",
   "execution_count": 9,
   "id": "8743b632-9b21-4cc6-91df-b144dab3fc09",
   "metadata": {},
   "outputs": [],
   "source": [
    "import dill \n",
    "import csv\n",
    "import spacy "
   ]
  },
  {
   "cell_type": "code",
   "execution_count": 10,
   "id": "dd825918-5440-421d-9383-6fefb4412dba",
   "metadata": {},
   "outputs": [],
   "source": [
    "import fasttext as ft\n",
    "import pandas as pd\n",
    "import numpy as np"
   ]
  },
  {
   "cell_type": "code",
   "execution_count": 11,
   "id": "6ae3d3b7-f1ce-41f0-80da-bf70ab287900",
   "metadata": {},
   "outputs": [
    {
     "name": "stdout",
     "output_type": "stream",
     "text": [
      "Modules to reload:\n",
      "all-except-skipped\n",
      "\n",
      "Modules to skip:\n",
      "\n"
     ]
    }
   ],
   "source": [
    "%aimport"
   ]
  },
  {
   "cell_type": "code",
   "execution_count": 12,
   "id": "e239c293-0d61-4e9c-9014-75215d1fac85",
   "metadata": {},
   "outputs": [],
   "source": [
    "ft.FastText.eprint = lambda x: None"
   ]
  },
  {
   "cell_type": "code",
   "execution_count": 13,
   "id": "8cd40e6a-451b-4e59-aa93-af597cfad6d0",
   "metadata": {},
   "outputs": [],
   "source": [
    "import warnings\n",
    "warnings.filterwarnings('ignore')\n",
    "warnings.simplefilter('ignore')"
   ]
  },
  {
   "cell_type": "code",
   "execution_count": 14,
   "id": "55fd714b-9bbb-4584-916e-4854dfa49d8b",
   "metadata": {},
   "outputs": [],
   "source": [
    "filename = 'globalsave.pkl'\n",
    "dill.dump_session(filename)"
   ]
  },
  {
   "cell_type": "raw",
   "id": "757ffe20-668e-46f8-a0aa-10561785cc01",
   "metadata": {},
   "source": [
    "# and to load the session again:\n",
    "dill.load_session(filename)"
   ]
  },
  {
   "cell_type": "markdown",
   "id": "4d3d21e2-85a9-4a91-abed-e18254b7af13",
   "metadata": {},
   "source": [
    "## Prepare Pipeline"
   ]
  },
  {
   "cell_type": "markdown",
   "id": "2e4354a1-5162-439e-b073-228de5bc8187",
   "metadata": {},
   "source": [
    "### Pipeline Components"
   ]
  },
  {
   "cell_type": "code",
   "execution_count": 15,
   "id": "7a26e3ad-5441-4972-a0d0-035261c01b3c",
   "metadata": {},
   "outputs": [
    {
     "data": {
      "text/plain": [
       "<pipeline_components.Soln_EventType.reportableEvent.reportableEventcomponent at 0x7fb68db6ef40>"
      ]
     },
     "execution_count": 15,
     "metadata": {},
     "output_type": "execute_result"
    }
   ],
   "source": [
    "nlp_spacy = spacy.load(\"en_core_web_sm\")\n",
    "\n",
    "from pipeline_components import io_component\n",
    "nlp_spacy.add_pipe('input_component', last=True)\n",
    "\n",
    "from pipeline_components.Soln_EventType import reportableEvent, EVENT_ACTION\n",
    "nlp_spacy.add_pipe(\"reportableEvent_component\", last=True)"
   ]
  },
  {
   "cell_type": "markdown",
   "id": "24482730-0777-457a-a68b-1d98d204fdbb",
   "metadata": {},
   "source": [
    "### Prepare Text"
   ]
  },
  {
   "cell_type": "code",
   "execution_count": 16,
   "id": "80a99e31-9923-4fb3-bcf0-97c04c33bbe7",
   "metadata": {},
   "outputs": [],
   "source": [
    "os.chdir( os.path.join(path_current, path_data) )"
   ]
  },
  {
   "cell_type": "code",
   "execution_count": 17,
   "id": "200e62fc-7950-4b5d-8cc3-7f98452c0f51",
   "metadata": {},
   "outputs": [],
   "source": [
    "dt = pd.read_csv('train_sent_v6.csv')\n",
    "dt_t = pd.read_csv('test_sent_v6.csv')\n",
    "\n",
    "dt['label'] = '__label__' + dt['label'].astype(str)\n",
    "dt_t['label'] = '__label__' + dt_t['label'].astype(str)\n",
    "\n",
    "dfTrain = dt[['label', 'sentence']]\n",
    "dfTest = dt_t[['label', 'sentence']]"
   ]
  },
  {
   "cell_type": "code",
   "execution_count": 18,
   "id": "ed3ba703-ac35-4a9e-8417-721537805588",
   "metadata": {},
   "outputs": [
    {
     "data": {
      "text/plain": [
       "__label__Death       4220\n",
       "__label__NonDeath    1448\n",
       "Name: label, dtype: int64"
      ]
     },
     "execution_count": 18,
     "metadata": {},
     "output_type": "execute_result"
    }
   ],
   "source": [
    "dfTrain['label'].value_counts()"
   ]
  },
  {
   "cell_type": "code",
   "execution_count": 19,
   "id": "716f7402-483f-4d88-9e42-48d92f9bc951",
   "metadata": {},
   "outputs": [
    {
     "data": {
      "text/plain": [
       "__label__Death       499\n",
       "__label__NonDeath    159\n",
       "Name: label, dtype: int64"
      ]
     },
     "execution_count": 19,
     "metadata": {},
     "output_type": "execute_result"
    }
   ],
   "source": [
    "dfTest['label'].value_counts()"
   ]
  },
  {
   "cell_type": "markdown",
   "id": "a5a6f686-8de1-4f9c-acf5-e1a44b8ef164",
   "metadata": {},
   "source": [
    "### Prepare Code"
   ]
  },
  {
   "cell_type": "code",
   "execution_count": 20,
   "id": "e6c5bd18-2a7d-4cc7-b8f8-5abfdfe8bb9f",
   "metadata": {},
   "outputs": [],
   "source": [
    "class Ensemble:\n",
    "    def __init__(self, number_of_models, model_directory):\n",
    "        self.number_of_models = number_of_models\n",
    "        self.model_directory = model_directory\n",
    "        self.ensemble = []\n",
    "        \n",
    "        self.prefix_model = 'fs_train_v'\n",
    "        self.prefix_validate = 'fs_validate_v'\n",
    "        \n",
    "    def populate_ensemble_list(self):\n",
    "        newlist = [os.path.join(dir, file) for file in os.listdir(dir) if '.bin' in file]\n",
    "        self.ensemble.extend( newlist)\n",
    "        \n",
    "    def get_training_file(self, iteration):\n",
    "        name_train = self.prefix_model + str(iteration) + '.txt'\n",
    "        return os.path.join(self.model_directory, name_train)\n",
    "\n",
    "    def get_validation_file(self, iteration):\n",
    "        name_train = self.prefix_validate + str(iteration) + '.txt'\n",
    "        return os.path.join(self.model_directory, name_train)    \n",
    "    \n",
    "    def get_model_binary(self, iteration):\n",
    "        name_binary = self.prefix_model + str(iteration) + '.bin'\n",
    "        return os.path.join(self.model_directory, name_binary)\n",
    "    \n",
    "    def get_model(self, model_idx):\n",
    "        return ft.load_model( self.ensemble[model_idx] )\n",
    "    \n",
    "    def get_model_predictions(self, model_idx, text_list):\n",
    "        model = ft.load_model( self.ensemble[model_idx] )\n",
    "        predictions = [model.predict(text)[0][0] for text in text_list]     #<<< this should take the text list directly - no need for a list comprhension\n",
    "        return predictions\n",
    "        \n",
    "    def create_datasets(self, dfTrain, dfTest, frac):\n",
    "        for iteration in range(1, (self.number_of_models+1) ):\n",
    "            name_train = self.get_training_file(iteration)\n",
    "            name_validate = self.get_validation_file(iteration)\n",
    "    \n",
    "            train = dfTrain.sample(frac=FRAC, replace=True, random_state=iteration)\n",
    "            idx = list(set(dfTrain.index) - set(train.index))\n",
    "            validate = dfTrain.iloc[idx]\n",
    "            #dfValidate = pd.concat([dfTest, validate], ignore_index=True)\n",
    "            #preprocessing is already performed\n",
    "            train.to_csv(name_train, \n",
    "                                          index = False, \n",
    "                                          sep = ' ',\n",
    "                                          header = None, \n",
    "                                          quoting = csv.QUOTE_NONE, \n",
    "                                          quotechar = \"\", \n",
    "                                          escapechar = \" \")\n",
    "            validate.to_csv(name_validate, \n",
    "                                          index = False, \n",
    "                                          sep = ' ',\n",
    "                                          header = None, \n",
    "                                          quoting = csv.QUOTE_NONE, \n",
    "                                          quotechar = \"\", \n",
    "                                          escapechar = \" \")\n",
    "            \n",
    "        print(f'completed created {self.number_of_models} training / validation datasets')\n",
    "        \n",
    "    def train_models(self):\n",
    "        for iteration in range(1, (self.number_of_models+1) ):\n",
    "            print(iteration)\n",
    "            \n",
    "            input_file = self.get_training_file(iteration)\n",
    "            model_file = self.get_model_binary(iteration)\n",
    "            \n",
    "            model = ft.train_supervised(input_file, lr=0.1, epoch=5, loss = 'softmax')\n",
    "            model.save_model(model_file)\n",
    "            self.ensemble.append(model_file)\n",
    "        print(f'completed training {self.number_of_models} models')\n",
    "        \n",
    "\n",
    "    def predict_models(self, text):\n",
    "        text_predictions = [ensemble.get_model(idx).predict(text)[0][0] for idx, mdl in enumerate(self.ensemble)]\n",
    "        return text_predictions\n"
   ]
  },
  {
   "cell_type": "markdown",
   "id": "864d5646-f9d5-445f-bda6-2a7924322647",
   "metadata": {},
   "source": [
    "## Prepare Workflow"
   ]
  },
  {
   "cell_type": "code",
   "execution_count": 21,
   "id": "f7dc83fd-6cce-451b-a465-6ef1c21704bf",
   "metadata": {},
   "outputs": [],
   "source": [
    "NUMBER_OF_MODELS = 2500\n",
    "FRAC = .25"
   ]
  },
  {
   "cell_type": "code",
   "execution_count": 22,
   "id": "751a8b8c-6f5b-4a1b-8d92-a40e0d54b714",
   "metadata": {},
   "outputs": [],
   "source": [
    "model_dir = os.path.join(path_current, path_data, 'fasttext')\n",
    "\n",
    "ensemble = Ensemble(NUMBER_OF_MODELS, model_dir)"
   ]
  },
  {
   "cell_type": "raw",
   "id": "01dac3f4-efaf-45e9-b5a2-5bcf2936af6c",
   "metadata": {},
   "source": [
    "ensemble.populate_ensemble_list()"
   ]
  },
  {
   "cell_type": "markdown",
   "id": "1f8ac62f-a216-414f-9bba-cca9f990777f",
   "metadata": {},
   "source": [
    "### Create datasets"
   ]
  },
  {
   "cell_type": "code",
   "execution_count": 23,
   "id": "e5b4b39e-c055-41fd-beb8-f4341862a620",
   "metadata": {},
   "outputs": [
    {
     "name": "stdout",
     "output_type": "stream",
     "text": [
      "completed created 2500 training / validation datasets\n"
     ]
    }
   ],
   "source": [
    "ensemble.create_datasets(dfTrain, dfTest, FRAC)"
   ]
  },
  {
   "cell_type": "markdown",
   "id": "38d3cd05-ec9f-412c-8a2e-3030c8b40565",
   "metadata": {},
   "source": [
    "### Train models"
   ]
  },
  {
   "cell_type": "markdown",
   "id": "8e1639c2-6fda-439f-b34e-836b69e5af16",
   "metadata": {},
   "source": [
    "You can fill about 10 models per GB of memory, so, 20GB will not work for 200 models."
   ]
  },
  {
   "cell_type": "code",
   "execution_count": null,
   "id": "5da0de6c-092e-46b7-9a38-7d2494499067",
   "metadata": {},
   "outputs": [],
   "source": [
    "%timeit -n1\n",
    "ensemble.train_models()"
   ]
  },
  {
   "cell_type": "code",
   "execution_count": 25,
   "id": "ba95e3e7-4360-4d6b-b29d-b89b4d81722e",
   "metadata": {},
   "outputs": [
    {
     "name": "stdout",
     "output_type": "stream",
     "text": [
      "['__label__Death', '__label__NonDeath']\n",
      "(('__label__Death',), array([0.78851449]))\n",
      "(('__label__NonDeath',), array([0.60587746]))\n"
     ]
    }
   ],
   "source": [
    "#test\n",
    "print( ensemble.get_model(0).get_labels() )\n",
    "\n",
    "mdl = 2\n",
    "text1 = \"AFTER THE CARDIAC ARREST THE PATIENT WAS REMOVED FROM THE VENTILATOR AND EXPIRED LATER THAT EVENING\"\n",
    "text2 = \"THE PATIENT WAS TOTALLY ALIVE\"\n",
    "print( ensemble.get_model(mdl).predict(text1) )\n",
    "print( ensemble.get_model(mdl).predict(text2) )"
   ]
  },
  {
   "cell_type": "code",
   "execution_count": 26,
   "id": "491521f9-5103-4903-8834-ecdb33b4808d",
   "metadata": {},
   "outputs": [
    {
     "data": {
      "text/plain": [
       "[['__label__Death'], ['__label__NonDeath']]"
      ]
     },
     "execution_count": 26,
     "metadata": {},
     "output_type": "execute_result"
    }
   ],
   "source": [
    "ensemble.get_model(0).predict([text1,text2])[0]"
   ]
  },
  {
   "cell_type": "code",
   "execution_count": 27,
   "id": "243c69dc-cb52-4728-b83b-61721e352d92",
   "metadata": {},
   "outputs": [
    {
     "data": {
      "text/plain": [
       "['__label__Death', '__label__NonDeath']"
      ]
     },
     "execution_count": 27,
     "metadata": {},
     "output_type": "execute_result"
    }
   ],
   "source": [
    "ensemble.get_model_predictions(0, [text1,text2])"
   ]
  },
  {
   "cell_type": "code",
   "execution_count": 28,
   "id": "fcd2c42c-ae4b-423a-a0c4-78ece3cab5fd",
   "metadata": {},
   "outputs": [],
   "source": [
    "import dill                            #pip install dill --user\n",
    "filename = 'globalsave.pkl'\n",
    "dill.dump_session(filename)"
   ]
  },
  {
   "cell_type": "markdown",
   "id": "139ee5af-e09e-49d5-a584-497bd83fad00",
   "metadata": {},
   "source": [
    "## Run"
   ]
  },
  {
   "cell_type": "markdown",
   "id": "975232e7-18ba-44ed-90af-c2a130f8fcc3",
   "metadata": {},
   "source": [
    "### Run patterns"
   ]
  },
  {
   "cell_type": "raw",
   "id": "5e8679d4-c54f-4af2-8755-4edd9f95d9a4",
   "metadata": {},
   "source": [
    "#test\n",
    "doc = nlp_spacy(text1)"
   ]
  },
  {
   "cell_type": "code",
   "execution_count": 29,
   "id": "b3111353-1f9e-40cd-8709-7e500c9e111d",
   "metadata": {},
   "outputs": [],
   "source": [
    "def run_pattern(row):\n",
    "    doc = nlp_spacy(row['sentence'])\n",
    "    tag = [tag['pattern'] for tag in doc._.result['text_extract'] if tag['model'] == 'reportablevent'][0]\n",
    "    return tag\n",
    "\n",
    "dfTest['patterns'] = dfTest.apply(run_pattern, axis=1)"
   ]
  },
  {
   "cell_type": "code",
   "execution_count": 30,
   "id": "03c8e8b3-fa8d-47e7-96a8-5f80e2ef5cfe",
   "metadata": {},
   "outputs": [
    {
     "data": {
      "text/plain": [
       "label              patterns           \n",
       "__label__Death     DEATH                  474\n",
       "__label__NonDeath  NEGATION_UNRELATED      19\n",
       "                   DEATH                   12\n",
       "__label__Death     NEGATION_UNRELATED       8\n",
       "                   DEATH_RESUSCITATION      6\n",
       "                   DEATH_UNRELATED          3\n",
       "__label__NonDeath  NEGATION                 1\n",
       "dtype: int64"
      ]
     },
     "execution_count": 30,
     "metadata": {},
     "output_type": "execute_result"
    }
   ],
   "source": [
    "dfTest[['label','patterns']].value_counts()"
   ]
  },
  {
   "cell_type": "markdown",
   "id": "73a73f43-ce5c-49ee-9694-7b5da810a072",
   "metadata": {},
   "source": [
    "### Run ensemble and solution logic"
   ]
  },
  {
   "cell_type": "markdown",
   "id": "8cb01dc9-3103-43ea-ba16-88ff9a44a685",
   "metadata": {},
   "source": [
    "For each model, for each test record:\n",
    "\n",
    "* apply model\n",
    "* get label prediction, determine TP, TN, FP, FN\n",
    "* get scores for each model results "
   ]
  },
  {
   "cell_type": "code",
   "execution_count": 31,
   "id": "91ac96f3-2f6b-44a9-a789-5eedfccb2ef3",
   "metadata": {},
   "outputs": [],
   "source": [
    "def get_model_outcome(actual_label, model_rslt):\n",
    "    outcome = 'None'\n",
    "    if actual_label==model_rslt and model_rslt=='__label__Death':\n",
    "        outcome = 'TP'\n",
    "    if actual_label==model_rslt and model_rslt=='__label__NonDeath':\n",
    "        outcome = 'TN'\n",
    "    if actual_label!=model_rslt and model_rslt=='__label__Death':\n",
    "        outcome = 'FP'\n",
    "    if actual_label!=model_rslt and model_rslt=='__label__NonDeath':\n",
    "        outcome = 'FN'\n",
    "    return outcome"
   ]
  },
  {
   "cell_type": "code",
   "execution_count": 32,
   "id": "49cfffb3-8f06-41c8-8117-8ccd3b767729",
   "metadata": {},
   "outputs": [],
   "source": [
    "def get_model_prediction(col):\n",
    "    lCol_texts = dfTest.sentence.tolist()\n",
    "    predictions = []\n",
    "    for idx, mdl in enumerate(ensemble.ensemble):\n",
    "        predictions.append( ensemble.get_model_predictions(idx, lCol_texts))\n",
    "    return predictions"
   ]
  },
  {
   "cell_type": "code",
   "execution_count": 33,
   "id": "f23ad779-bcdb-4268-8339-72cd23ff59b7",
   "metadata": {},
   "outputs": [],
   "source": [
    "%timeit -n1\n",
    "Predictions = pd.DataFrame()\n",
    "tmp = get_model_prediction( dfTest.sentence )\n",
    "Predictions = pd.DataFrame(tmp).transpose()"
   ]
  },
  {
   "cell_type": "code",
   "execution_count": 34,
   "id": "2a094352-6592-42d7-9d25-ed3dd801c1dc",
   "metadata": {},
   "outputs": [
    {
     "data": {
      "text/plain": [
       "0       __label__Death\n",
       "1       __label__Death\n",
       "2       __label__Death\n",
       "3       __label__Death\n",
       "4       __label__Death\n",
       "             ...      \n",
       "2495    __label__Death\n",
       "2496    __label__Death\n",
       "2497    __label__Death\n",
       "2498    __label__Death\n",
       "2499    __label__Death\n",
       "Name: 0, Length: 2500, dtype: object"
      ]
     },
     "execution_count": 34,
     "metadata": {},
     "output_type": "execute_result"
    }
   ],
   "source": [
    "Predictions.loc[0]"
   ]
  },
  {
   "cell_type": "code",
   "execution_count": 35,
   "id": "a431397c-c5eb-45d0-9602-b8bf9abb7827",
   "metadata": {},
   "outputs": [],
   "source": [
    "dfTest['idx'] = dfTest.index"
   ]
  },
  {
   "cell_type": "code",
   "execution_count": 36,
   "id": "90614cde-66da-4c95-bd8a-dedb9fb2a7ce",
   "metadata": {},
   "outputs": [],
   "source": [
    "# run ensemble of models\n",
    "def run_ensemble(row):\n",
    "    idx_pred = row['idx']\n",
    "    label = row['label']\n",
    "    text = row['sentence']\n",
    "    pattern = row['patterns']\n",
    "\n",
    "    mdl_results = Predictions.loc[idx_pred].tolist()\n",
    "    soln_results = [rslt  \n",
    "                    if rslt=='__label__Death' and  pattern not in [\"NEGATION\", \"NONE\", None, \"NEGATION_UNRELATED\"] \n",
    "                    else '__label__NonDeath'\n",
    "                    for rslt in mdl_results\n",
    "                   ]\n",
    "    \n",
    "    soln_outcomes = [get_model_outcome(label, rslt) for rslt in soln_results]\n",
    "    return soln_outcomes\n",
    "\n",
    "Outcomes = pd.DataFrame()\n",
    "Outcomes = dfTest.apply(run_ensemble, axis=1, result_type=\"expand\")"
   ]
  },
  {
   "cell_type": "code",
   "execution_count": 37,
   "id": "ce5cae00-e325-4711-b7fe-50ea734825a5",
   "metadata": {},
   "outputs": [],
   "source": [
    "def get_scores(col):\n",
    "    lCol = col.tolist()\n",
    "    TPs = [1 for outcome in lCol if outcome == 'TP']\n",
    "    TNs = [1 for outcome in lCol if outcome == 'TN']\n",
    "    FPs = [1 for outcome in lCol if outcome == 'FP']\n",
    "    FNs = [1 for outcome in lCol if outcome == 'FN']\n",
    "    \n",
    "    TP = sum(TPs)\n",
    "    TN = sum(TNs)\n",
    "    FP = sum(FPs)\n",
    "    FN = sum(FNs)\n",
    "    denom = TP + FN\n",
    "    Recall = TP / denom if denom > 0 else 1\n",
    "    return TP,TN,FP,FN, Recall    \n",
    "\n",
    "Scores = pd.DataFrame()\n",
    "tmp = Outcomes.apply(get_scores, axis=0, result_type=\"expand\")\n",
    "Scores[['TP', 'TN', 'FP', 'FN', 'Recall']] = tmp.transpose()"
   ]
  },
  {
   "cell_type": "markdown",
   "id": "55fb55d4-358a-40ed-ac94-ceb7e9677399",
   "metadata": {},
   "source": [
    "## Results, review bootstraping methods"
   ]
  },
  {
   "cell_type": "markdown",
   "id": "bc645df2-4bec-4848-a430-c65b1910658c",
   "metadata": {},
   "source": [
    "### Individual samples"
   ]
  },
  {
   "cell_type": "markdown",
   "id": "755b9d4f-9ed0-42e7-bd63-212f7baca162",
   "metadata": {},
   "source": [
    "Lets review the test data scores to determine the records that were missed the most."
   ]
  },
  {
   "cell_type": "code",
   "execution_count": 38,
   "id": "066fd6f4-5f60-46bd-9fd0-c36318916d9b",
   "metadata": {},
   "outputs": [
    {
     "data": {
      "text/html": [
       "<div>\n",
       "<style scoped>\n",
       "    .dataframe tbody tr th:only-of-type {\n",
       "        vertical-align: middle;\n",
       "    }\n",
       "\n",
       "    .dataframe tbody tr th {\n",
       "        vertical-align: top;\n",
       "    }\n",
       "\n",
       "    .dataframe thead th {\n",
       "        text-align: right;\n",
       "    }\n",
       "</style>\n",
       "<table border=\"1\" class=\"dataframe\">\n",
       "  <thead>\n",
       "    <tr style=\"text-align: right;\">\n",
       "      <th></th>\n",
       "      <th>TP</th>\n",
       "      <th>TN</th>\n",
       "      <th>FP</th>\n",
       "      <th>FN</th>\n",
       "      <th>Recall</th>\n",
       "    </tr>\n",
       "  </thead>\n",
       "  <tbody>\n",
       "    <tr>\n",
       "      <th>0</th>\n",
       "      <td>471.0</td>\n",
       "      <td>147.0</td>\n",
       "      <td>12.0</td>\n",
       "      <td>28.0</td>\n",
       "      <td>0.943888</td>\n",
       "    </tr>\n",
       "    <tr>\n",
       "      <th>1</th>\n",
       "      <td>478.0</td>\n",
       "      <td>147.0</td>\n",
       "      <td>12.0</td>\n",
       "      <td>21.0</td>\n",
       "      <td>0.957916</td>\n",
       "    </tr>\n",
       "    <tr>\n",
       "      <th>2</th>\n",
       "      <td>473.0</td>\n",
       "      <td>147.0</td>\n",
       "      <td>12.0</td>\n",
       "      <td>26.0</td>\n",
       "      <td>0.947896</td>\n",
       "    </tr>\n",
       "    <tr>\n",
       "      <th>3</th>\n",
       "      <td>476.0</td>\n",
       "      <td>147.0</td>\n",
       "      <td>12.0</td>\n",
       "      <td>23.0</td>\n",
       "      <td>0.953908</td>\n",
       "    </tr>\n",
       "    <tr>\n",
       "      <th>4</th>\n",
       "      <td>475.0</td>\n",
       "      <td>149.0</td>\n",
       "      <td>10.0</td>\n",
       "      <td>24.0</td>\n",
       "      <td>0.951904</td>\n",
       "    </tr>\n",
       "  </tbody>\n",
       "</table>\n",
       "</div>"
      ],
      "text/plain": [
       "      TP     TN    FP    FN    Recall\n",
       "0  471.0  147.0  12.0  28.0  0.943888\n",
       "1  478.0  147.0  12.0  21.0  0.957916\n",
       "2  473.0  147.0  12.0  26.0  0.947896\n",
       "3  476.0  147.0  12.0  23.0  0.953908\n",
       "4  475.0  149.0  10.0  24.0  0.951904"
      ]
     },
     "execution_count": 38,
     "metadata": {},
     "output_type": "execute_result"
    }
   ],
   "source": [
    "#dfTest.head()\n",
    "#Outcomes.loc[:,0]\n",
    "Scores.head()"
   ]
  },
  {
   "cell_type": "code",
   "execution_count": 63,
   "id": "99dd19ca-2208-47e3-affc-d7973724464c",
   "metadata": {},
   "outputs": [
    {
     "data": {
      "text/html": [
       "<div>\n",
       "<style scoped>\n",
       "    .dataframe tbody tr th:only-of-type {\n",
       "        vertical-align: middle;\n",
       "    }\n",
       "\n",
       "    .dataframe tbody tr th {\n",
       "        vertical-align: top;\n",
       "    }\n",
       "\n",
       "    .dataframe thead th {\n",
       "        text-align: right;\n",
       "    }\n",
       "</style>\n",
       "<table border=\"1\" class=\"dataframe\">\n",
       "  <thead>\n",
       "    <tr style=\"text-align: right;\">\n",
       "      <th></th>\n",
       "      <th>TP</th>\n",
       "      <th>TN</th>\n",
       "      <th>FP</th>\n",
       "      <th>FN</th>\n",
       "      <th>Recall</th>\n",
       "    </tr>\n",
       "  </thead>\n",
       "  <tbody>\n",
       "    <tr>\n",
       "      <th>1550</th>\n",
       "      <td>458.0</td>\n",
       "      <td>147.0</td>\n",
       "      <td>12.0</td>\n",
       "      <td>41.0</td>\n",
       "      <td>0.917836</td>\n",
       "    </tr>\n",
       "    <tr>\n",
       "      <th>267</th>\n",
       "      <td>460.0</td>\n",
       "      <td>147.0</td>\n",
       "      <td>12.0</td>\n",
       "      <td>39.0</td>\n",
       "      <td>0.921844</td>\n",
       "    </tr>\n",
       "    <tr>\n",
       "      <th>385</th>\n",
       "      <td>462.0</td>\n",
       "      <td>149.0</td>\n",
       "      <td>10.0</td>\n",
       "      <td>37.0</td>\n",
       "      <td>0.925852</td>\n",
       "    </tr>\n",
       "    <tr>\n",
       "      <th>826</th>\n",
       "      <td>462.0</td>\n",
       "      <td>148.0</td>\n",
       "      <td>11.0</td>\n",
       "      <td>37.0</td>\n",
       "      <td>0.925852</td>\n",
       "    </tr>\n",
       "    <tr>\n",
       "      <th>1447</th>\n",
       "      <td>462.0</td>\n",
       "      <td>149.0</td>\n",
       "      <td>10.0</td>\n",
       "      <td>37.0</td>\n",
       "      <td>0.925852</td>\n",
       "    </tr>\n",
       "    <tr>\n",
       "      <th>...</th>\n",
       "      <td>...</td>\n",
       "      <td>...</td>\n",
       "      <td>...</td>\n",
       "      <td>...</td>\n",
       "      <td>...</td>\n",
       "    </tr>\n",
       "    <tr>\n",
       "      <th>2402</th>\n",
       "      <td>481.0</td>\n",
       "      <td>148.0</td>\n",
       "      <td>11.0</td>\n",
       "      <td>18.0</td>\n",
       "      <td>0.963928</td>\n",
       "    </tr>\n",
       "    <tr>\n",
       "      <th>2156</th>\n",
       "      <td>481.0</td>\n",
       "      <td>147.0</td>\n",
       "      <td>12.0</td>\n",
       "      <td>18.0</td>\n",
       "      <td>0.963928</td>\n",
       "    </tr>\n",
       "    <tr>\n",
       "      <th>1431</th>\n",
       "      <td>481.0</td>\n",
       "      <td>147.0</td>\n",
       "      <td>12.0</td>\n",
       "      <td>18.0</td>\n",
       "      <td>0.963928</td>\n",
       "    </tr>\n",
       "    <tr>\n",
       "      <th>1316</th>\n",
       "      <td>481.0</td>\n",
       "      <td>148.0</td>\n",
       "      <td>11.0</td>\n",
       "      <td>18.0</td>\n",
       "      <td>0.963928</td>\n",
       "    </tr>\n",
       "    <tr>\n",
       "      <th>447</th>\n",
       "      <td>482.0</td>\n",
       "      <td>147.0</td>\n",
       "      <td>12.0</td>\n",
       "      <td>17.0</td>\n",
       "      <td>0.965932</td>\n",
       "    </tr>\n",
       "  </tbody>\n",
       "</table>\n",
       "<p>2500 rows × 5 columns</p>\n",
       "</div>"
      ],
      "text/plain": [
       "         TP     TN    FP    FN    Recall\n",
       "1550  458.0  147.0  12.0  41.0  0.917836\n",
       "267   460.0  147.0  12.0  39.0  0.921844\n",
       "385   462.0  149.0  10.0  37.0  0.925852\n",
       "826   462.0  148.0  11.0  37.0  0.925852\n",
       "1447  462.0  149.0  10.0  37.0  0.925852\n",
       "...     ...    ...   ...   ...       ...\n",
       "2402  481.0  148.0  11.0  18.0  0.963928\n",
       "2156  481.0  147.0  12.0  18.0  0.963928\n",
       "1431  481.0  147.0  12.0  18.0  0.963928\n",
       "1316  481.0  148.0  11.0  18.0  0.963928\n",
       "447   482.0  147.0  12.0  17.0  0.965932\n",
       "\n",
       "[2500 rows x 5 columns]"
      ]
     },
     "execution_count": 63,
     "metadata": {},
     "output_type": "execute_result"
    }
   ],
   "source": [
    "Scores.sort_values(['FN'], ascending=False).sort_values(['Recall'])"
   ]
  },
  {
   "cell_type": "code",
   "execution_count": 77,
   "id": "28ffe511-8666-476b-9563-3c7fda627e29",
   "metadata": {},
   "outputs": [],
   "source": [
    "tmp = Outcomes.transpose()\n",
    "tmp1 = tmp.loc[[447,1316,1431,2156,2402]].transpose()\n",
    "idx_FN = tmp1[tmp1[447]=='FN'].index.tolist()\n",
    "sent_FN = dfTest.loc[idx_FN].sentence"
   ]
  },
  {
   "cell_type": "markdown",
   "id": "7fe65de5-7c39-4c66-a859-3f0ee9434ccf",
   "metadata": {},
   "source": [
    "No models correclty hit on the some of the setences."
   ]
  },
  {
   "cell_type": "code",
   "execution_count": null,
   "id": "2a86e91a-930d-4bd0-8a72-cc1cb36c37de",
   "metadata": {},
   "outputs": [],
   "source": [
    "print(f'Fraction of sentences that are very difficult to classify: {len(sent_FN)/dfTest.shape[0]} \\n')\n",
    "sent_FN.tolist()"
   ]
  },
  {
   "cell_type": "markdown",
   "id": "801ac42b-52fd-4296-80c0-aa15d0589fef",
   "metadata": {},
   "source": [
    "<br>"
   ]
  },
  {
   "cell_type": "markdown",
   "id": "2b70ce72-318e-415c-a11e-e9ee3f3df997",
   "metadata": {},
   "source": [
    "### Distribution of Recall score\n",
    "\n",
    "This is a HIGHLY conservative histogram of the Recall scores.  It is conservative because:\n",
    "\n",
    "* we are using the simplest NLP model available - FastText\n",
    "* the model is only trained on 25% of all labeled statements\n",
    "\n",
    "We are placing ourselves at this disadvantage to see how poor the results can be; however, they are still quite good.  We are also using the simple FastText model because the amount of time to train the production, Transformer model is prohibitively long."
   ]
  },
  {
   "cell_type": "code",
   "execution_count": 39,
   "id": "af8a91b8-2f6e-40a6-ae2f-6810166ede50",
   "metadata": {},
   "outputs": [],
   "source": [
    "from plotnine import *\n",
    "from plotnine.data import *\n",
    "\n",
    "%matplotlib inline"
   ]
  },
  {
   "cell_type": "code",
   "execution_count": 40,
   "id": "645ed3cb-3105-48cb-a0b2-d4c637ba274f",
   "metadata": {},
   "outputs": [
    {
     "data": {
      "image/png": "[encoded data removed]",
      "text/plain": [
       "<Figure size 640x480 with 1 Axes>"
      ]
     },
     "metadata": {},
     "output_type": "display_data"
    },
    {
     "data": {
      "text/plain": [
       "<ggplot: (8776360785195)>"
      ]
     },
     "execution_count": 40,
     "metadata": {},
     "output_type": "execute_result"
    }
   ],
   "source": [
    "(\n",
    "    ggplot(Scores, aes(x='Recall'))\n",
    "    + geom_histogram()\n",
    "    + scale_y_continuous(\n",
    "        trans = \"log10\"\n",
    "    )\n",
    "    + ggtitle('Distribution of the Recall score')\n",
    ")"
   ]
  },
  {
   "cell_type": "code",
   "execution_count": 41,
   "id": "4eda02ea-e64d-4123-90c8-724dc0661f82",
   "metadata": {},
   "outputs": [
    {
     "data": {
      "image/png": "[encoded data removed]",
      "text/plain": [
       "<Figure size 640x480 with 1 Axes>"
      ]
     },
     "metadata": {},
     "output_type": "display_data"
    },
    {
     "data": {
      "text/plain": [
       "<ggplot: (8776360674042)>"
      ]
     },
     "execution_count": 41,
     "metadata": {},
     "output_type": "execute_result"
    }
   ],
   "source": [
    "(\n",
    "    ggplot(Scores, aes(x='Recall'))\n",
    "    + geom_histogram()\n",
    "    + scale_y_continuous(\n",
    "        trans = \"log10\"\n",
    "    )\n",
    "    + xlim(0, 1)\n",
    "    + ggtitle('Distribution of the Recall score')\n",
    ")"
   ]
  },
  {
   "cell_type": "markdown",
   "id": "340e13ab-475f-4bcd-ad60-c072f3834cfb",
   "metadata": {},
   "source": [
    "We can say with 90% probability that the true Recall score will be higher than 0.94.  So, we will use 0.94 as our worst-case estimate for Recall.  Note, that all of this analysis is done very conservatively by using weaker models with only 25% (~1400 samples) of the training data.  If we had not been so conservative, then the distribution would have been too narrow to investigate.\n",
    "\n",
    "With a 0.94 Recall score, our worst-case scenario is that, out of 100 Death events, we would miss 6."
   ]
  },
  {
   "cell_type": "code",
   "execution_count": 59,
   "id": "81c31fa0-6424-4442-9cad-e39d234d23d2",
   "metadata": {},
   "outputs": [
    {
     "name": "stdout",
     "output_type": "stream",
     "text": [
      "samplings: 2500\n",
      "mean: 0.949211222444898\n",
      "median: 0.9498997995991983\n",
      "quantile - [0.05, 0.10]: [0.93787575 0.94188377]\n"
     ]
    }
   ],
   "source": [
    "print( f'samplings: {len(Scores.Recall) }')\n",
    "print( f'mean: {np.mean(Scores.Recall) }')\n",
    "print( f'median: {np.median(Scores.Recall) }')\n",
    "print( f'quantile - [0.05, 0.10]: {np.quantile(Scores.Recall, [0.05, 0.10]) }')"
   ]
  },
  {
   "cell_type": "code",
   "execution_count": 46,
   "id": "3d4d8005-c648-450a-a219-2fa9167e2e77",
   "metadata": {},
   "outputs": [
    {
     "data": {
      "text/plain": [
       "0.0964"
      ]
     },
     "execution_count": 46,
     "metadata": {},
     "output_type": "execute_result"
    }
   ],
   "source": [
    "Scores[Scores['Recall'] < .94].shape[0] / Scores.shape[0]"
   ]
  },
  {
   "cell_type": "code",
   "execution_count": 42,
   "id": "9d1687bc-dee0-4f35-ab58-65e00f968af3",
   "metadata": {},
   "outputs": [
    {
     "data": {
      "text/plain": [
       "0.0072"
      ]
     },
     "execution_count": 42,
     "metadata": {},
     "output_type": "execute_result"
    }
   ],
   "source": [
    "Scores[Scores['Recall'] < 0.93].shape[0] / Scores.shape[0]"
   ]
  }
 ],
 "metadata": {
  "kernelspec": {
   "display_name": "Python 3 (ipykernel)",
   "language": "python",
   "name": "python3"
  },
  "language_info": {
   "codemirror_mode": {
    "name": "ipython",
    "version": 3
   },
   "file_extension": ".py",
   "mimetype": "text/x-python",
   "name": "python",
   "nbconvert_exporter": "python",
   "pygments_lexer": "ipython3",
   "version": "3.9.10"
  }
 },
 "nbformat": 4,
 "nbformat_minor": 5
}
