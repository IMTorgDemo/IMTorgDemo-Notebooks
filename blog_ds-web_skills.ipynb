{
 "cells": [
  {
   "cell_type": "markdown",
   "id": "f28057a4-895b-4dd7-a68f-0b2dfd5d1cf2",
   "metadata": {},
   "source": [
    "# Why Data Scientists Need Some Fundamental Front End Skills\n",
    "\n",
    "Date: 2021-12-02  \n",
    "Author: Jason Beach  \n",
    "Categories: Web_Frontend, Data_Science\n",
    "Tags: skills, web\n",
    "\n",
    "<!--eofm-->"
   ]
  },
  {
   "cell_type": "markdown",
   "id": "08161dfd-8d0f-4bd1-bd54-3de180dd4ce2",
   "metadata": {},
   "source": [
    "Most data scientists are lucky to have a basic understanding of HTML, or web applications, in general.  However, this dearth of knowledge can be quite limiting as their career grows.  They will not be able to grow their skills more broadly to areas such as data visualization or web scraping.  They will also have difficulty leading mixed teams delivering complete solutions.  They can be easily relegated to creating models of simple reports.\n",
    "\n",
    "In grad school, statisticians are reminded: _There are no jobs for statisticians who can't code_.  However, this should be expanded for data scientists in that: _There are no sales for data scientists who can't distribute their solutions_.\n",
    "\n",
    "Some general advice for data scientists beginning this journey: \n",
    "\n",
    "* Alot of people are _wow'd_ by the frontend and especially visualizations - don't be.  Know where the data is maintained, where it has to go, and your requirements / constraints of the project.\n",
    "* Front End work gets complicated quickly because of lots of devices, lots of environments, lots of different versions of code.  Then, you have to package and deliver your project.  Now, make lots of functionality (components) on an SPA.  And, oh, yeah, Javascript as a language keeps changing.  That is too complicated for auxiliary skills you are not committing to completely.  Keep to a manageable set of tools that you will not forget.\n",
    "* Notice that Javascript is doing lots of things in the browser, at the same time.  But wait - the browser is only single-threaded?  You must learn the EventLoop.\n",
    "* You must learn both the IDE and the browser Dev Tools.  This is especially important for data scraping.\n"
   ]
  }
 ],
 "metadata": {
  "kernelspec": {
   "display_name": "Python 3 (ipykernel)",
   "language": "python",
   "name": "python3"
  },
  "language_info": {
   "codemirror_mode": {
    "name": "ipython",
    "version": 3
   },
   "file_extension": ".py",
   "mimetype": "text/x-python",
   "name": "python",
   "nbconvert_exporter": "python",
   "pygments_lexer": "ipython3",
   "version": "3.9.10"
  }
 },
 "nbformat": 4,
 "nbformat_minor": 5
}
