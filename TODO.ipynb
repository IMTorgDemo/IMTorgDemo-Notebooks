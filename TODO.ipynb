{
 "cells": [
  {
   "cell_type": "markdown",
   "id": "89688b96-37ab-4f57-8391-fa00efc5138c",
   "metadata": {},
   "source": [
    "# Try Streaming Stock Market Data"
   ]
  },
  {
   "cell_type": "markdown",
   "id": "36d21586-b91a-4a90-b45d-7c072fed2a7e",
   "metadata": {},
   "source": [
    "## Read the Python Std Lib\n",
    "\n",
    "https://docs.python.org/3/library/index.html"
   ]
  },
  {
   "cell_type": "markdown",
   "id": "8fe441f5-b1ad-4db6-90ee-584fae493dea",
   "metadata": {},
   "source": [
    "## Moving and Processing Data"
   ]
  },
  {
   "cell_type": "markdown",
   "id": "1369d380-be7a-4f42-aae4-168cc7fd44c8",
   "metadata": {},
   "source": [
    "Upload to DB\n",
    "\n",
    "pd_tosql\n",
    "https://ellisvalentiner.com/post/a-fast-method-to-insert-a-pandas-dataframe-into-postgres/\n",
    "\n",
    "bulk insert\n",
    "https://stackoverflow.com/questions/31997859/bulk-insert-a-pandas-dataframe-using-sqlalchemy\n",
    "\n",
    "download directly to memory\n",
    "* https://stackoverflow.com/questions/22340265/python-download-file-using-requests-directly-to-memory\n",
    "* https://stackoverflow.com/questions/16694907/download-large-file-in-python-with-requests\n",
    "* "
   ]
  },
  {
   "cell_type": "markdown",
   "id": "a7170208-fea0-4a16-853e-30d4fa35cb7b",
   "metadata": {},
   "source": [
    "### Streaming\n",
    "\n",
    "https://medium.com/dev-bits/ultimate-guide-for-working-with-i-o-streams-and-zip-archives-in-python-3-6f3cf96dca50\n",
    "\n",
    "https://stackoverflow.com/questions/11811404/wsgi-file-streaming-with-a-generator"
   ]
  },
  {
   "cell_type": "markdown",
   "id": "f319f49c-41a2-4d72-9c63-dc315420fef6",
   "metadata": {},
   "source": [
    "### mmap\n",
    "\n",
    "* https://stackoverflow.com/questions/2502596/python-http-post-a-large-file-with-streaming\n",
    "* https://realpython.com/python-mmap/"
   ]
  },
  {
   "cell_type": "markdown",
   "id": "4484d2a2-0846-4f2c-b11f-fcdcaf61e240",
   "metadata": {},
   "source": [
    "### Event-Driven\n",
    "\n",
    "https://www.dataquest.io/blog/streaming-data-python/\n",
    "\n",
    "https://www.nasdaq.com/market-activity/quotes/real-time"
   ]
  },
  {
   "cell_type": "code",
   "execution_count": null,
   "id": "9ccea2b0-f6a1-4ade-be84-13c1ae0bde71",
   "metadata": {},
   "outputs": [],
   "source": []
  },
  {
   "cell_type": "markdown",
   "id": "dda3a392-4ba6-4b29-b4d8-a98c86fd2491",
   "metadata": {},
   "source": [
    "## Evolution of an Analytics App  \n",
    "\n",
    "### Starting Structure: style and boilerplate\n",
    "\n",
    "* comments\n",
    "* typing: https://realpython.com/python-type-checking/#playing-with-python-types-part-2\n",
    "* tests: \n",
    "\n",
    "\n",
    "### Programming Paradigms\n",
    "\n",
    "* Scripting\n",
    "  - Imperative: Programming with an explicit sequence of commands that update state.\n",
    "  - Structured and Procedural: Imperative programming with logic and procedure calls.\n",
    "  - Declarative: Programming by specifying the result you want, not how to get it: SQL, HTML \n",
    "* Application \n",
    "  - Object-Oriented: Programming by defining objects that send messages to each other. \n",
    "  - Functional (Applicative): Programming with function calls that avoid any global state. \n",
    "  - Event-Driven: Programming with emitters and listeners of asynchronous actions. \n",
    "\n",
    "\n",
    "+ [programming paradigms](https://cs.lmu.edu/~ray/notes/paradigms/)"
   ]
  },
  {
   "cell_type": "code",
   "execution_count": null,
   "id": "39c5ea63-bdce-4c9f-8609-37115d902d09",
   "metadata": {},
   "outputs": [],
   "source": []
  },
  {
   "cell_type": "markdown",
   "id": "64b1d336-881d-4490-830a-85bc77abcf26",
   "metadata": {},
   "source": [
    "## Applying CS and Math Theory \n",
    "\n",
    "* PAC Learning: https://stats.stackexchange.com/questions/513757/why-sample-complexity-must-be-polynomial-for-pac-learning?rq=1"
   ]
  },
  {
   "cell_type": "code",
   "execution_count": null,
   "id": "717eeb9d-31ca-498b-ad5f-f3bf9b1be5f1",
   "metadata": {},
   "outputs": [],
   "source": []
  }
 ],
 "metadata": {
  "kernelspec": {
   "display_name": "Python 3 (ipykernel)",
   "language": "python",
   "name": "python3"
  },
  "language_info": {
   "codemirror_mode": {
    "name": "ipython",
    "version": 3
   },
   "file_extension": ".py",
   "mimetype": "text/x-python",
   "name": "python",
   "nbconvert_exporter": "python",
   "pygments_lexer": "ipython3",
   "version": "3.9.7"
  }
 },
 "nbformat": 4,
 "nbformat_minor": 5
}
