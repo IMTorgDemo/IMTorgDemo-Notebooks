{
 "cells": [
  {
   "cell_type": "markdown",
   "id": "74e97285-07c2-4cc4-b414-b6c2134b756b",
   "metadata": {},
   "source": [
    "# User Stories vs Data Stories\n",
    "\n",
    "Date: 2021-12-05  \n",
    "Author: Jason Beach  \n",
    "Categories: Comparison, Data_Science, Computer_Science_and_Programming\n",
    "Tags: project_management, user_stories, data_stories\n",
    "\n",
    "<!--eofm-->"
   ]
  },
  {
   "cell_type": "markdown",
   "id": "a70b5b5f-78d2-4484-bdf7-f9e63127083a",
   "metadata": {},
   "source": [
    "Agile is used to remove uncertainty from projects, so that the features for development are fairly clear, at least for the current iteration.  However, producing an analytics application creates many more tasks because it is focused on data.  To remove uncertainty from these data tasks, and the overall project, we keep it separate from development.  This ensures that we: i) understand the data, ii) have a clear methodology for addressing problems using the data.\n",
    "\n",
    "When the Data Stories are complete, we can be sure that software development using User Stories will proceed with minimal risk, as is typical of Agile projects.\n",
    "\n",
    "\n",
    "User Story (development)​\n",
    " - Smallest unit of work in Agile framework​\n",
    " - Strict format for describing a software feature: ​\n",
    " - “As a [persona], I [want to], [so that].”​\n",
    " - Focused on the user​\n",
    " - Open-ended problem for creativity and collaboration​\n",
    "\n",
    "​\n",
    "Data Story (pre-plan, data exploration)​\n",
    " - An independent unit of analysis that scopes the dataset explored​\n",
    " - Informal framework for exploring data​\n",
    " - More problem-focused than general EDA, but not part of app development​\n",
    " - Removes uncertainty from data and solution methodology​"
   ]
  }
 ],
 "metadata": {
  "kernelspec": {
   "display_name": "Python 3 (ipykernel)",
   "language": "python",
   "name": "python3"
  },
  "language_info": {
   "codemirror_mode": {
    "name": "ipython",
    "version": 3
   },
   "file_extension": ".py",
   "mimetype": "text/x-python",
   "name": "python",
   "nbconvert_exporter": "python",
   "pygments_lexer": "ipython3",
   "version": "3.9.10"
  }
 },
 "nbformat": 4,
 "nbformat_minor": 5
}
