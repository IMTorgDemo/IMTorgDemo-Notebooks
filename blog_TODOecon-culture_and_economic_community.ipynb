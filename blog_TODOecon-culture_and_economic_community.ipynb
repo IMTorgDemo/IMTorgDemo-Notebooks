{
 "cells": [
  {
   "cell_type": "markdown",
   "id": "b76a8b80-c275-4b04-b027-3c9af64a961f",
   "metadata": {},
   "source": [
    "# The Effects of Culture on Economic Communities within a MarketPlace\n",
    "\n",
    "Date: 2022-10-25  \n",
    "Author: Jason Beach  \n",
    "Categories: Category1, Category2  \n",
    "Tags: tag1, tag2 \n",
    "\n",
    "<!--eofm-->"
   ]
  },
  {
   "cell_type": "markdown",
   "id": "ef0f9c89-50d9-418b-9721-73e9e3e24b50",
   "metadata": {},
   "source": [
    "ABSTRACT GOES HERE"
   ]
  },
  {
   "cell_type": "markdown",
   "id": "ac0c4bd9-cdfc-4e4d-aab4-16b594b15d85",
   "metadata": {},
   "source": [
    "## Introduction\n",
    "\n",
    "A recent short video about [Hasidic Jews in Brooklyn](https://www.youtube.com/watch?v=UXXOGYqbK5o&list=PLWNquNil09IzMqShNLIY5D6WFKirOOjp1&index=33) shows people with little formal education, working in sometimes highly competitive fields, can still participate in the economy because of the informal rules of a communities' culture.  This is even more interesting when juxtaposed with the de-segregation of the 1960s and the integration of black americans into professional life.  While the former uses community members to inject wealth from a larger economy, the later had its most-capable members removed from the community and placed within the larger economy."
   ]
  },
  {
   "cell_type": "markdown",
   "id": "5739212b-4cea-4245-a5e5-bea604437571",
   "metadata": {},
   "source": []
  },
  {
   "cell_type": "markdown",
   "id": "ff97393d-dd79-44ef-98fc-03c0d17b22ac",
   "metadata": {},
   "source": []
  }
 ],
 "metadata": {
  "kernelspec": {
   "display_name": "Python 3 (ipykernel)",
   "language": "python",
   "name": "python3"
  },
  "language_info": {
   "codemirror_mode": {
    "name": "ipython",
    "version": 3
   },
   "file_extension": ".py",
   "mimetype": "text/x-python",
   "name": "python",
   "nbconvert_exporter": "python",
   "pygments_lexer": "ipython3",
   "version": "3.9.10"
  }
 },
 "nbformat": 4,
 "nbformat_minor": 5
}
