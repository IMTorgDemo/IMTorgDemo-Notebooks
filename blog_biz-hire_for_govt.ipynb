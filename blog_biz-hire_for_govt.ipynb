{
 "cells": [
  {
   "cell_type": "markdown",
   "id": "e8799760-2841-406e-8c24-58b5defc7a3a",
   "metadata": {},
   "source": [
    "# Public vs Private Sector Employment\n",
    "\n",
    "Date: 2021-12-01  \n",
    "Author: Jason Beach  \n",
    "Categories: Best_Practice, Business_and_Leadership\n",
    "Tags: project_management, create_team\n",
    "\n",
    "<!--eofm-->"
   ]
  },
  {
   "cell_type": "markdown",
   "id": "3defa100-3f38-4b54-876c-3332d1f8b1c7",
   "metadata": {},
   "source": [
    "Comparing offers between the federal government and private sector can be very difficult.  It is more akin to choosing between an academic career than it is a choice with another commercial employer.  Because of the benefits the government offers, it is very much an apples and oranges comparison.  \n",
    "\n",
    "Here are three huge benefits of working with the government:\n",
    "\n",
    "* Retirement - occaisionally, some very large, older firms (insurance or banking) will have a pension system.  But it is very rare.  The federal government has FERS.  This allows you to have TSP, which is essentially a 401k plan (but includes a Roth component), and also an actual retirement pension plan.  This essentially amounts to 1% of your salary for each year that you work.  Also, you can take it with you if you move employment to any of the other many agencies.  After 30 years, you can receive 30% of your total salary for the rest of your life.  There is also some inflation protection, which you definitely do not have from your personal portfolio.  This is a major incentive to live longer, as opposed to living off of savings where most people fear out-living their funds.\n",
    "\n",
    "* Career publicity - this is vey difficult to quatify, but similar to academia, you are encouraged to publish, present, and outreach.  This is really important when starting your career because it gets your name around your professional field.  Or, as business calls it: marketing.  This is also unheard of in the private sector.  Yes, private firms have processes for you to publish your work, but are they effective?  Try explaining your highly technical paper to a defensive and risk-averse executive.  Practically speaking, private firms do not publish.\n",
    "\n",
    "* Outside employment - this is completely unheard of in the private sector.  You can legally work in another employment, or your own business, outside of your working hours.  Yes, you can probably 'moonlight' in the private sector.  But, if your employer finds out, you most definitely will get fired.  Entrepreneurs who quit their job, lived off their savings, in order to start a business will stand slack-jawed if you tell them about this benefit.  Having a contract to legally work is amazing for capable people.\n",
    "\n",
    "\n",
    "There is one caveat to these benefits - you must be a capable person to take advantage of them:\n",
    "\n",
    "* your career and salary will start quite low.  If you are capable, you can rise in the ranks and salary will become more reasonable.  So, your retirement becomes a real asset.  But, if you languish at the bottom, 30% of very little, is still very little.\n",
    "* in order to publish and speak, you must have something interesting to say.  Without the training or skills to take advantage of this, you will never actually get any publicity.\n",
    "* running a side hustle is both rewarding and challenging.  It can be difficult to separate people from their money.  Also, you will have to do this work after-hours, meaning you will be tired and less-motivated.  In order to 'make money' and create additional revenue streams, there can be a large up-front investment.  More than likely, it will require several years of hard work to become cash flow positive."
   ]
  }
 ],
 "metadata": {
  "kernelspec": {
   "display_name": "Python 3 (ipykernel)",
   "language": "python",
   "name": "python3"
  },
  "language_info": {
   "codemirror_mode": {
    "name": "ipython",
    "version": 3
   },
   "file_extension": ".py",
   "mimetype": "text/x-python",
   "name": "python",
   "nbconvert_exporter": "python",
   "pygments_lexer": "ipython3",
   "version": "3.9.10"
  }
 },
 "nbformat": 4,
 "nbformat_minor": 5
}
