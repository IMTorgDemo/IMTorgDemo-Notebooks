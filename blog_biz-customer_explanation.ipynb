{
 "cells": [
  {
   "cell_type": "markdown",
   "id": "3cb70257-8145-4afb-bbe8-030eb6f9662a",
   "metadata": {},
   "source": [
    "# Three Levels of Customer Explanations for Data Science\n",
    "\n",
    "Date: 2021-12-10  \n",
    "Author: Jason Beach  \n",
    "Categories: Innovation, Data_Science, Business_and_Leadership\n",
    "Tags: sales, customer_engagement\n",
    "\n",
    "<!--eofm-->"
   ]
  },
  {
   "cell_type": "markdown",
   "id": "a4e2b509-b703-4f74-b8b4-984800124859",
   "metadata": {},
   "source": [
    "Every customer is different.  That seems obvious until they begin to ask you specific questions about your work - or they don't ask anything at all.  It is good to have a framework for providing information: starting general and moving to more specific.  Note that at no time are you at the math or calculation level.  I've never seen that go well.\n",
    "\n",
    "\n",
    "## Solution level: What you're doing\n",
    "\n",
    "Nothing special here, just input and output.  You may be in a competitive event where similar products will be in a race to perform.  Or maybe the customer doesn't have the time or inclination to really dive into your work.  What matters is that the product does work.  \n",
    "\n",
    "This is a good place for developers who care about quality and the art of their work because there isn't alot of salesmanship.  However, in a time-crunch, this may mean some long nights to get things running.  It is best to put in the long hours up-front then refine things near the end of the engagement.\n",
    "\n",
    "The input may include an Excel file similar to the columns of a database, or some other type of example data.  The output would be kept to the results.  For statistical analysis, results are the simple conclusions combined to tell a story.  If you are providing AI models, then the final scores (precision, recall, etc.) with examples should be good.  In a competitive situation the evaluators may simply look at a test file.\n",
    "\n",
    "\n",
    "## Analogy level: Why you're doing it\n",
    "\n",
    "After trying the first level, the customer states they want to understand what you're doing.  This may or may not be true.  Analogies and metaphors are useful, here.  They will almost certainly be inaccurate and total misnomers.  Don't try this if the customer has their SMEs in the room, or you will certainly be burned.  I once heard a bag-of-words neural net model described as a word cloud.  The customer liked the visualization, and there was no one with enough interest to dispute it.  Everyone walks away happy and none the wiser.\n",
    "\n",
    "\n",
    "## Conceptual level: How you're doing it\n",
    "\n",
    "Sometimes you are not going to get away with an analogy.  You perform some calculations and derive a number, say, for sample size.  How did you come up with that number (without using math)?  Perhaps one or two concepts will suffice, or maybe you need to take your steps and create a high-level understanding of what was done.\n",
    "\n",
    "\n",
    "## Useful Visualizations\n",
    "\n",
    "Graphs of actual data is a dangerous approach because they customer may to different conclusions.  Rather, representations of the feeling you get from the data can be more important than the actual data.  This is similar to how the movie 'Brave Heart' has no basis in William Wallace's historical reality, but it gives the audience a feeling of how the scottish people memorialize him.  Graphics and visuals can be very useful.  Consider the following:\n",
    "\n",
    "* set diagram\n",
    "* xy plot\n",
    "* quad chart"
   ]
  }
 ],
 "metadata": {
  "kernelspec": {
   "display_name": "Python 3 (ipykernel)",
   "language": "python",
   "name": "python3"
  },
  "language_info": {
   "codemirror_mode": {
    "name": "ipython",
    "version": 3
   },
   "file_extension": ".py",
   "mimetype": "text/x-python",
   "name": "python",
   "nbconvert_exporter": "python",
   "pygments_lexer": "ipython3",
   "version": "3.9.10"
  }
 },
 "nbformat": 4,
 "nbformat_minor": 5
}
