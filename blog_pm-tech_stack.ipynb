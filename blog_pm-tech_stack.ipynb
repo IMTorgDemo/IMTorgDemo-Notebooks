{
 "cells": [
  {
   "cell_type": "markdown",
   "id": "9e853dd4-a91a-420d-a2c7-67bd17e04ea0",
   "metadata": {},
   "source": [
    "# A Reasonable MVP Tech Stack\n",
    "\n",
    "Date: 2021-09-01  \n",
    "Author: Jason Beach  \n",
    "Categories: Best_Practice, Architecture_and_DevOps\n",
    "Tags: project_management, create_team\n",
    "\n",
    "<!--eofm-->"
   ]
  },
  {
   "cell_type": "markdown",
   "id": "05c615d5-d1fa-46b8-b7e7-cc269b1dad23",
   "metadata": {},
   "source": [
    "This is a quick summary of products needed to get a development team started.  We can manage accounts for code repositories.  GitLab is especially good because it is open-source, and it is highly customizable.  It is one of several Team ‘infrastructure’ projects necessary for effectively building software.\n",
    "\n",
    "This is a summary of code repository platforms with explanations:\n",
    "\n",
    "* Atlassian (firm)– the company with a suite of different project management tools, including Trello, Jira, BitBucket, and others.  Jira, I think you said, is typically used at FDA for managing developer tasks.\n",
    "* Bitbucket (SAAS product) – is owned by Atlassian.  It maintains your project code.\n",
    "* Github (SAAS product) – is owned by Microsoft.  It is the most popular product for maintaining open-source project code.  FDA has an account, here: https://github.com/fda.  Private accounts cost firms >$50,000 before GitLab.\n",
    "* GitLab (open source SAAS product) – is an open source copy of Github.  It can be deployed to an internal server and used freely for maintaining project code. \n",
    "\n",
    "\n",
    "\n",
    "Important Team infrastructure necessary for effectively developing and operating software:\n",
    "\n",
    "* version control system (git)\n",
    "* code repository management (gitlab)\n",
    "* CI /CD and Test suite (gitlab, kubernetes, aws-eks)\n",
    "* knowledge base / publishing: site, reporting, wiki, pdfs  (jupyter, hugo, pandoc, ??? )\n",
    "* project task and schedule management (jira)\n",
    "* project code-functionality accounting (scrumsaga)\n",
    "* container environment system (docker)\n",
    "* container deployment system (kubernetes)\n",
    "* cloud infrastructure: IAAS, SAAS, FAAS (aws)\n",
    "* site and infrastructure monitoring\n"
   ]
  }
 ],
 "metadata": {
  "kernelspec": {
   "display_name": "Python 3 (ipykernel)",
   "language": "python",
   "name": "python3"
  },
  "language_info": {
   "codemirror_mode": {
    "name": "ipython",
    "version": 3
   },
   "file_extension": ".py",
   "mimetype": "text/x-python",
   "name": "python",
   "nbconvert_exporter": "python",
   "pygments_lexer": "ipython3",
   "version": "3.9.10"
  }
 },
 "nbformat": 4,
 "nbformat_minor": 5
}
