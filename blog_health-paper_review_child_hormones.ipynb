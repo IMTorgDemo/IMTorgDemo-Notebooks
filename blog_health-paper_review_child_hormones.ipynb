{
 "cells": [
  {
   "cell_type": "markdown",
   "id": "79c54657-144a-4d06-aeaf-9026cb418dab",
   "metadata": {},
   "source": [
    "# Review of Research Paper: 'Pubertal Suppression for Transgender Youth and Risk of Suicidal Ideation'\n",
    "\n",
    "Date: 2022-09-08  \n",
    "Author: Jason Beach  \n",
    "Categories: Health, Category2  \n",
    "Tags: family, children \n",
    "\n",
    "<!--eofm-->"
   ]
  },
  {
   "cell_type": "markdown",
   "id": "c641c480-3081-47b9-abb7-8338429df282",
   "metadata": {},
   "source": [
    "This post reviews the paper ['Pubertal Suppression for Transgender Youth and Risk of Suicidal Ideation'](https://publications.aap.org/pediatrics/article/145/2/e20191725/68259/Pubertal-Suppression-for-Transgender-Youth-and?autologincheck=redirected?nfToken=00000000-0000-0000-0000-000000000000), one of the primary scientific papers supporting the use of drugs to inhibit the progress of puberty in children.  This research is winner of the American Academy of Pediatrics 'Paper of the Year' award, 2020, and is cited [104 times](https://www.webofscience.com/wos/woscc/summary/54efb111-8b19-4663-8e20-5bc099a0c3ba-60394a85/date-descending/1); thereby, lending large credence to its conclusions.  The review focuses on the paper's quality of data, arguments made by the authors, and statistical results used to support the arguments.  Despite the many plaudits, the paper greatly exagerates the definitiveness of its conclusions.  It appears to suffer from large bias in the dataset and completely disregards statistical power.  This is similar to many other papers that drive the 'replication crisis' across scientific disciplines.  While the data is not publicly available, a research team with strong statistical skills could deliver much needed clarity on the topic by a thorough review of similar papers."
   ]
  },
  {
   "cell_type": "markdown",
   "id": "6e3f843c-d0c7-441c-974b-3aa6670b8fa1",
   "metadata": {},
   "source": [
    "## Introduction\n",
    "\n",
    "I was perusing NPR when I came upon the article: ['Most teens who start puberty suppression continue gender-affirming care, study finds'](https://www.npr.org/2022/10/26/1131398960/gender-affirming-care-trans-puberty-suppression-teens).  Most of the article seems to flow reasonably enough.  But, as a parent, I was particularly taken aback by the paragraph:\n",
    "\n",
    "> the American Academy of Child and Adolescent Psychiatry has stated that it \"supports the use of current evidence-based clinical care with minors. ... Blocking access to timely care has been shown to increase youths' risk for suicidal ideation and other negative mental health outcomes.\"\n",
    "\n",
    "This and accompanying paragraphs seems like quite the 'call for action' - children with such symptoms are ticking time-bombs if they do not get gender-affirming care.  I'm only a layperson on the subject, but gender-affirming care appears to be a loose sequence of increasingly invasive actions applied to children by healthcare providers: i) introduction of preferred pronoun, ii) change of clothes and appearance, iii) treatment of puberty-blocking hormones, and iv) cosmetic surgery (such as double mastectomy).  The article references similar posts, such as in [Scientific American](https://www.scientificamerican.com/article/what-the-science-on-gender-affirming-care-for-transgender-kids-really-shows/), which themselves list a number of articles, including [The Evidence for Trans Youth Gender-Affirming Medical Care](https://www.psychologytoday.com/us/blog/political-minds/202201/the-evidence-trans-youth-gender-affirming-medical-care) which lists a number of scientific papers.  The largest and probably most well-publicisized study supporting gender-affirming care is the subject of this post, and involves a purported 30,000 individuals.  This study won American Academy of Pediatrics's \"Paper of the Year\" for 2020.  So, it should be exceptionally strong in its methodology and analysis."
   ]
  },
  {
   "cell_type": "markdown",
   "id": "0c91f2c7-86aa-4910-856d-cf2e77905da6",
   "metadata": {},
   "source": [
    "## Data Available\n",
    "\n",
    "The data used includes the large group of participants from the 2015 US Transgender Survey (USTS), which focused on 27,715 US transgender adults.  The data can be found, [here](https://www.icpsr.umich.edu/web/RCMD/studies/37229/summary), but is not publicly available.  While seemingly strong, comments to the paper concerning issues with how the survey was conducted (Patrick H Clarke, University of Adelaide) are disconcerting.  They include conclusions from the [UK High Court that found](https://www.judiciary.uk/wp-content/uploads/2020/12/Bell-v-Tavistock-Judgment.pdf) USTS 'employed a non representative, biased convenience sample' and 'Over 70% of the USTS respondents demonstrably did not know what puberty blockers were, claiming to have commenced treatment after age 18.'  Other issues exist, but we can give the survey the benefit of the doubt.\n",
    "\n",
    "There is a large amount of conditions placed on the data.  While these seem to be reasonable, they do add to the number of assumptions and the complexity of the study.  Because pubertal suppression was only available to adults age 17 or younger in 1998, older participants are excluded.  In addition, the data is filtered to those who selected “puberty blocking hormones (usually used by youth ages 9–16)” in response to the question “Have you ever wanted any of the health care listed below for your gender identity or gender transition? (Mark all that apply).”  This leaves 3,494 individuals between the ages of 18 and 36 who ever wanted pubertal suppression as part of their gender-affirming medical care.  Finally, participants who reported beginning treatment at age 17, the final stage of puberty, would be removed because hormone blockers would have no effect on them; however, there were none.  This is a large subtraction from the abstract-touted number, which seems to be a little disingenuous. \n",
    "\n",
    "The exposure group is made from those who have ever had puberty blockers, selected from: 'the question “Have you ever had any of the health care listed below for your gender identity or gender transition? (Mark all that apply).”'  The responses include '“counseling/therapy,” “hormone treatment/HRT,” “puberty blocking hormones (usually used by youth ages 9–16),” or “none of the above.”'  Four responses exist; however, the three non-“puberty blocking hormones\" are rolled into one 'No' response for analysis.  This muddies the waters quite a bit because of possible conflation among the levels, especially hormone treatment and puberty-blocking hormones.  Let's move on, anyhow.\n",
    "\n",
    "Of those who wanted pubertal suppression, only 89 (2.5%) had received this treatment.  This is a big statistical red flag!  Only 2.5% of the sample will be the treatment group, versus the other 3,405 participants.  Any analysis used will have to address this discrepancy because of challenges in some statistical methods associated with unbalanced data.  Even more concerning, using over one thousand subjects can lead to over-powered tests.  The survey also has quite a few independent variables, 14, many being factors with multiple levels.  So, the small, 89 person, treatment group with large number of control variables will need to be used carefully to ensure a reasonable number of degrees of freedom in any statistical tests.\n",
    "\n",
    "In addition to the original comments that the survey is not a random sample.  This leads to the major flaw in this dataset that it only includes 'transgender adults'.  It does not include adults who may have had gender-dysphoric traits when younger, but did not have these symptoms, later.  This is important because a hundred years of data show that about 90% of youth with such characteristics lose them shortly after teenage years.  It also completely removes from the analysis medical consequences associated with children treated with gender-affirming care, then not identifying as transgender as adults.  This bias is very hard to overlook."
   ]
  },
  {
   "cell_type": "markdown",
   "id": "db71293f-2aed-42f9-bdca-de8f3eb83edf",
   "metadata": {},
   "source": [
    "## Analysis Conducted\n",
    "\n",
    "The ultimate research question can feel a bit convoluted because of all the conditioning in the data, and the wording of the survey, so I will try to simplify it.  I also align the question using the [Pearson (1900) chi-square framework](https://www.tandfonline.com/doi/abs/10.1080/14786440009463897?journalCode=tphm16) for contingency table analysis.  \n",
    "\n",
    "Is there a difference in suicidal tendencies based on puberty-blocking treatment?  It is important to keep in-mind: \n",
    "\n",
    "* the scenario has many conditions described in the section above\n",
    "* the treatment is determined by the survey question: 'Have you ever had puberty blocker treatment: Yes, or No'\n",
    "* the response is suicidal ideation (health outcomes):  Suicidality (past 12 mo), Suicidality (lifetime), or Mental health and substance use\n",
    "\n",
    "The paper states: 'There is a significant inverse association between treatment with pubertal suppression during adolescence and lifetime suicidal ideation among transgender adults who ever wanted this treatment.'  This strong statement is not tempered by statistical results.\n",
    "\n",
    "Looking at 'TABLE 3 Raw Frequencies of Outcome Variables', we see the treatment group has suicide ideation 75.3%, versus 90.2% for the control.  These raw proportions come without using the logisitic regression model to account for external factors.  But, intuitively, this is not a large difference considering all the before-mentioned weaknesses in the data.  What should be noted is that both of these groups suffer from severe emotional conditions.  Yet, there is no documentation of therapy - only social conditioning factors.  \n",
    "\n",
    "Continuing with this argument, the 0.3 odds ratio between the outcomes is rather trivial.  We can convert the odds ratio to Cohen's _d_ in order to get a relative idea of the magnitude.  This uses the equation `𝑑=LogOR × √3/𝜋` from [Effect-Size Indices for Dichotomized Outcomes\n",
    "in Meta-Analysis](https://www.um.es/metaanalysis/pdf/7078.pdf).  "
   ]
  },
  {
   "cell_type": "code",
   "execution_count": 1,
   "id": "1de537b8-85f2-4a7f-9345-efd76090f1a1",
   "metadata": {},
   "outputs": [
    {
     "data": {
      "text/html": [
       "-0.66"
      ],
      "text/latex": [
       "-0.66"
      ],
      "text/markdown": [
       "-0.66"
      ],
      "text/plain": [
       "[1] -0.66"
      ]
     },
     "metadata": {},
     "output_type": "display_data"
    }
   ],
   "source": [
    "d = log(0.3)*(sqrt(3)/pi)\n",
    "round( d, 2)"
   ]
  },
  {
   "cell_type": "markdown",
   "id": "4b45b2d8-ed58-4016-a892-a7851c824e8f",
   "metadata": {},
   "source": [
    "This number does not even register as `small` using Cohen's t-shirt size of 2 as a cut-off value.  Even more misleading, we can interpret the statement as the odds of suicidal ideation are 30% higher for transgender adults who ever wanted the treatment, but didn't receive it.  This is not a useful statement because the odds references the alternative group, not the total number of participants."
   ]
  },
  {
   "cell_type": "markdown",
   "id": "3b25416d-fcff-479d-863b-96ab658e3fbf",
   "metadata": {},
   "source": [
    "   Typically, we want the [relative risk](https://www.ncbi.nlm.nih.gov/pmc/articles/PMC4640017/), the ratio of risk of an event in one group (given puberty blocker treatment) versus the risk of the event in the other group (not given puberty blocker treatment).  In fact, the odds ratio is often [misleading](https://www.bmj.com/content/316/7136/989) in that it does not approximate well to the relative risk when the initial risk (the prevalence of suicidal ideation) is high.  Worse still, this odds ratio is only compared to transgender who did not receive the desired treatment, which wholly omits the possibility of non-transgender who wanted the treatment, but later decided they were not transgender.\n",
    "\n",
    "Remarkably, the most damning mistake is using over-powered tests that are so sensitive as to always result in a significant p-value.  With a treatment group of 89 and a control group of 3,405 subjects, statistical tests cannot be expected to perform reasonably.  This scenario is often called 'p-value hacking' in order to get positive results for publication.  The subjects denominator will ensure that any difference will be significant.  Unfortunately we don't have the data.  But taking random samples of 100 subjects, and performing the similar tests would provide a distribution of the p-value which could be used.\n",
    "\n",
    "Beyond these indescretions, this is really a complex problem, with many control variables, performed on survey data about events that may have happened many years in the past.  No medical records are used to confirm any of this!  This revelation alone should make readers skeptical.  Add the fact that only 89 participants fit the treatment group, in a purported 30,000 subject survey.  Finally, the severe emotional issues being a conflated variable between both groups means that very few results the study can be considered useful."
   ]
  },
  {
   "cell_type": "markdown",
   "id": "9663d17b-9238-49b5-bde0-9482f41868d0",
   "metadata": {},
   "source": [
    "## Additional Context\n",
    "\n",
    "I'm skeptical of research that claims to 'prove' that gender-dysphoria in older adolescents is actually occurring for several reasons.  First, the primary researchers of this disorder, [Kenneth Zucker](https://www.youtube.com/watch?v=ZyGZnU_6tj4) and [Pat Blanchard](https://www.youtube.com/watch?v=NSAKHSj5m1U), who wrote the definition in the Diagnostics and Statistical Manual (DSM), are vocal in the lack of research and politicalization of this issue.  Dr Zucker became one of the first victims of the LGBT activist movement when his clinic was closed by government activists who felt his therapy practice was not 'in step with the latest thinking' by not being aggressive with 'transition' to a new gender.  The accusers were forced to pay half a million dollars in restitution and provide an apology after a lawsuit found [wrongful accusations](https://www.thestar.com/news/gta/2018/10/07/camh-reaches-settlement-with-former-head-of-gender-identity-clinic.html).\n",
    "\n",
    "Second, a large amount of marketing is now spent targeting children for LGBT influence.  Personally, I've seen multiple ads on YouTube questioning, 'How gay are you?  Take our test!' as well as similar approaches on Facebook and TicToc.  The [Heritage Foundation](https://www.heritage.org/marriage-and-family/commentary/young-children-are-being-targeted-sexual-content-the-equality-act) took note of many campaigns aimed at children across multiple ages.  Regardless of the content, gender-dysphoria is an important diagnosis that should be discussed with a psychiatrist - not social media.\n",
    "\n",
    "Third, the increase in advertising has coincided with the increase in a new phenomenon, loosely named 'rapid onset gender dysphoria'.  This name characterizes the fact that one subset of the developed world population, middle-class teenage white females, has seen a [4,400% increase](https://www.telegraph.co.uk/politics/2018/09/16/minister-orders-inquiry-4000-per-cent-rise-children-wanting/) in the incidence of gender dysphoria, in the last ten years.  From an epidemiological perspective, such an incidence would be considered a major health crisis.  Certainly, the rise of [endocrine disrupters](https://www.youtube.com/watch?v=uLxFazLK2Mg) in our environment may be a major contributor to these new gender phenomena.\n",
    "\n",
    "Fourth, there is now a large financial interest in generating diversity across multiple industries.  Newly minted chief diversity officers need to produce results.  This can be quite difficult in some communities that may take decades to reach parity in skills with others.  This is playing-out in the [lack of results](https://www.nber.org/papers/w24969) despite major resources pushing this aggressive agenda.  To demonstrate how aggressive it is, colleges now require faith-based statements committing new faculty to [diversity pledges](https://www.insidehighered.com/views/2022/05/23/diversity-statements-are-new-faith-statements-opinion) similar to religious-backed programs.  Unfortuantely, faith is usurping science.  One of the arguments used by proponents of transition is that it is reversible.  However, there are countless [personal interviews](https://www.youtube.com/watch?v=p90K88EdOXs) of people who transitioned with hormones, then attempted to de-transition, who are quite open that many of the effects are permanent.  With medical centers now offering ['Top Surgery'](https://www.hopkinsmedicine.org/health/treatment-tests-and-therapies/top-surgery#:~:text=What%20is%20top%20surgery%3F,nipples%20for%20an%20affirming%20look.) a cute sobriquet for double mastectomey, medical malpractice, one of the primary culprits behind the opioid epidemic, has found a new revenue source.  With so much hype, money is sure to follow.\n",
    "\n",
    "Lastly, the scientific industry has had a history of experimenting with gender reassignment.  The book ['As Nature Made Him'](https://www.amazon.com/As-Nature-Made-Him-Raised/dp/0061120561) is one outcome from the standard practice by medical industry called 'normalizing surgery' attempting to [correct children born with abnormal genitals](https://www.pbs.org/wgbh/nova/transcripts/2813gender.html).  That particular story does not end well, and the paper, ['What Are We Doing to These Children? Response to Drescher, Clayton, and Balon Commentaries on Levine et al., 2022'](https://www.tandfonline.com/doi/full/10.1080/0092623X.2022.2136117?scroll=top&needAccess=true), should give any parent cause for questioning the decisions of doctors in these types of situations."
   ]
  },
  {
   "cell_type": "markdown",
   "id": "a8b0d0ad-c805-4b60-afc1-af1e3d5621f3",
   "metadata": {},
   "source": [
    "## Conclusion\n",
    "\n",
    "The paper 'Pubertal Suppression for Transgender Youth and Risk of Suicidal Ideation' is one of the most influential and popular in the transgender movement.  By winning a 'paper of the year' award and touting the results of a massive survey of thirty thousand applicants, a superficial glance gives the appearance of grave importance that is now being celebrated by mainstream news media.  However, this cursory review of the paper's methodology and analysis shows the lack of substance in its conclusions.  That is unfortunate not only for the unwitting readers of publications such as NPR, but it also shows the degradation of scientific journals and the research institutions that contribute to them."
   ]
  }
 ],
 "metadata": {
  "kernelspec": {
   "display_name": "R",
   "language": "R",
   "name": "ir"
  },
  "language_info": {
   "codemirror_mode": "r",
   "file_extension": ".r",
   "mimetype": "text/x-r-source",
   "name": "R",
   "pygments_lexer": "r",
   "version": "4.1.2"
  }
 },
 "nbformat": 4,
 "nbformat_minor": 5
}
